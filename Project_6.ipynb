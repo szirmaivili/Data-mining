{
  "cells": [
    {
      "cell_type": "markdown",
      "metadata": {
        "id": "5nZhKcvPAXIr"
      },
      "source": [
        "# Adatbányászat gyakorlat 6.\n",
        "***\n",
        "Időpont: péntek, 8\\:30–10\\:00 és 10\\:15–11\\:45<br/>\n",
        "Helyszín: 3-107 / 3-111<br/>\n",
        "Elérhetőségek: TEAMS chat, csoport"
      ]
    },
    {
      "cell_type": "markdown",
      "metadata": {
        "id": "wPZfsO-uAaEz"
      },
      "source": [
        "## Követelmények\n",
        "***\n",
        "### Röpzh\n",
        "Minden óra végén fel lesz adva néhány egyszerű, lényegretörő kérdés az adott óra anyagából.\n",
        "\n",
        "#### Értékelés\n",
        "Minden feladat **1 pontot** ér a végső elszámolásban. Röpzh-kból összesen **10 pont** szerezhető majd.\n",
        "\n",
        "### Házi feladat\n",
        "A házi feladatok elkészítésére mindig **3 hetetek** lesz, beküldés után pedig még van lehetőség javítani a visszaküldött feladatokon. Az első változatot azonban a feladástól számított **két héten belül** várjuk, javítani csak ekkor lehet a visszaküldött feladatokon. <br/>\n",
        "A notebookoknak hozzatok létre egy saját Google Drive mappát, és állítsátok be, hogy ezt a megosztó link birtokában bárki megtekinthesse. A notebookhoz tartozó linket és a html fájlt az óra Teams csoportjába kell majd feltölteni.\n",
        "\n",
        "#### Értékelés\n",
        "Az összesen 6 db házi feladatból **4 db hibátlan visszaküldése feltétele az elégséges jegynek**. Minden további visszaküldött házi feladat feladatonként **1-1 pontot** ad a végső elszámoláshoz.\n",
        "\n",
        "### Projektmunka\n",
        "A félév második felében két-háromfős csoportokban adatbányászati feladatokat fogtok megoldani. Erről a félév végén le kell adni egy legalább ötoldalas **dokumentációt**, valamint az utolsó héten **prezentálnotok** kell 7-10 percben az eredményeket. A 8. héten lesz egy bevezető pár perces előadásotok, ahol a bemutatjátok az adathalmazt, megfogalmazzátok a hipotéziseitek.\n",
        "\n",
        "#### Értékelés\n",
        "A projektmunkát az elvégzett munka, a leadott dokumentáció és a prezentáció minősége alapján értékelni fogjuk. A szerezhető összpontszám **30 pont**. A pozitív eredmény (hipotézis beigazolása, jó teljesítmény elérése) **nem** feltétele a jó jegynek. Az egész csapat ugyanazt az értékelést kapja, kivéve, ha ezt külön kéritek.\n",
        "\n",
        "### Összpontszám:\n",
        "Összesen tehát **40 pont** szerezhető. A jegyek a következőképp alakulnak majd:\n",
        "- Ha legalább 4 házi feladat el lett fogadva, akkor:\n",
        "  - 20 pont alatt: elégtelen\n",
        "  - 20-24 pont: elégséges\n",
        "  - 25-29 pont: közepes\n",
        "  - 30-34 pont: jó\n",
        "  - 35 pont felett: kiváló\n",
        "- Ha 4-nél kevesebb házi feladatot küldtetek be, akkor a végső jegy elégtelen."
      ]
    },
    {
      "cell_type": "code",
      "source": [
        "def whats_my_final_grade(projekt_pontszam, ropz_pontszam, elvegzett_hazifeladatok):\n",
        "  if elvegzett_hazifeladatok < 4:\n",
        "    return 1\n",
        "  else:\n",
        "    pontszam = projekt_pontszam + ropzh + (elvegzett_hazifeladatok - 4)\n",
        "    jegy = (pontszam - 15) // 5 + 1\n",
        "    jegy = max([ min(jegy,5), 1 ])\n",
        "    return jegy\n",
        "\n",
        "projektmunka = 30 # (pont)\n",
        "ropzh = 10 # (pont)\n",
        "hazifeladatok = 6 # (db)\n",
        "\n",
        "print(\"Végső jegy: \", whats_my_final_grade(projektmunka, ropzh, hazifeladatok))"
      ],
      "metadata": {
        "id": "6dBbGGrkivMY"
      },
      "execution_count": null,
      "outputs": []
    },
    {
      "cell_type": "markdown",
      "source": [
        "# 6. Gyakorlat: Gradient boosting és kiegyensúlyozatlan adatok\n",
        "\n",
        "Mi a *boosting* alapgondolata?<br/>\n",
        "Válasz: erős modell építése gyenge modellek szekvenciális hozzáadásával, melyek az előzőek hibáit próbálják javítani.\n",
        "\n",
        "Hozzávalók:\n",
        "1. Egy veszteségfüggvény, amit minimalizálni szeretnénk;\n",
        "1. Gyenge modellek egy családja gyenge hipotézisek (predikciók) megadására;\n",
        "1. Egy additív (erős) modell séma a végső predikciókhoz, mely a veszteség függvényt kívánja minimalizálni.\n",
        "\n",
        "Formálisan:\n",
        "\n",
        "A végső modellt\n",
        "$$\n",
        "F = \\sum_{i=1}^{m} \\gamma_i h_i\n",
        "$$\n",
        "alakban keressük, ahol\n",
        "* $h_i$ az $i$-edik gyenge modell, általában egy döntési fa,\n",
        "* $\\gamma_i$ pedig ezen gyenge modell súlya a végső predikcióban (a súly meghatározása algoritmusonként változó, de jellemzően szigorúan monoton csökken -> a későbbi tanulók súlya csökken).\n",
        "\n",
        "Ez lesz a végső modell _sémája_.\n",
        "\n",
        "A cél, hogy ezen végső $F$ minimalizálja az $L$ veszteség függvényünket:\n",
        "$$\n",
        "F = \\text{argmin}_\\mathcal{F} L(y,F).\n",
        "$$\n",
        "A gyenge modellek $\\mathcal{F}$ osztálya általában döntési fák egy részcsaládja (pl. adott mélységű döntési fák).\n",
        "\n",
        "$F$-et additív, mohó sémában bővítjük a gyenge tanulókkal (modellekkel), mégpedig úgy, hogy a következő modell az előzőleg felépített modell _hibáit javítsa_, a jóság megtartása mellett.\n",
        "\n",
        "Konkrétan ha az $i$-dik iterációban felépített erős tanulót $F_i$-vel jelöljük, akkor a cél azon $h_i$ megtalálása, amely minimalizálja a lenti kifejezés jobb oldalát:\n",
        "$$\n",
        "F_i = F_{i-1} + \\text{argmin}_\\mathcal{F} \\big(L(y,F_{i-1} + h_i) \\big).\n",
        "$$\n",
        "\n",
        "A _gradiens_ boosting során a gradiens keresés módszerét (_gradient descent_) szokás használni, mivel a fenti minimum keresés megvalósítása nehézségekbe ütközik. Szemléletesen a gradiens _irányában teszünk egy kis lépést_ (lásd még: hogyan guruljunk le a hegyről?).\n",
        "\n",
        "Formálisan ezt\n",
        "$$\n",
        "F_i = F_{i-1} + \\eta \\cdot \\nabla L(y,F_{i-1})\n",
        "$$\n",
        "alakba írhatjuk, ahol $\\eta$ a _learning rate_ (találóan _bátorsági tényező_). Azt szabályozza, hogy a gradiens irányában mekkora lépést teszünk.\n",
        "\n",
        "Következmény: minden gradiens boosting algoritmus (séma) az alábbi kérdésekre kell mindenképp választ adjon:\n",
        "1. $\\gamma_i$: Hogyan történik a gyenge modellek súlyozása?\n",
        "2. $\\eta$: Mekkora legyen a learning rate?\n",
        "\n",
        "\n",
        "Részletekért lásd még például:\n",
        "* https://en.wikipedia.org/wiki/Gradient_boosting\n",
        "* https://scikit-learn.org/stable/modules/ensemble.html#bagging-meta-estimator\n",
        "* https://machinelearningmastery.com/gentle-introduction-gradient-boosting-algorithm-machine-learning/\n",
        "\n",
        "***\n",
        "## Catboost\n",
        "\n",
        "Az általános vélemény szerint jelenleg az egyik legjobb gradiens boosting algoritmus a [`catboost`](https://catboost.ai/en/docs/concepts/python-reference_catboostclassifier) könyvtárban található.\n",
        "\n",
        "A gyakorlat első felében mi is ezzel ismerkedünk meg.\n",
        "\n",
        "Megjegyzés: akit a konkrét implementáció (séma) érdekel, az erről tájékozódhat az oldalon: https://catboost.ai/en/docs/concepts/algorithm-main-stages\n"
      ],
      "metadata": {
        "id": "bdPkRkQQwUHt"
      }
    },
    {
      "cell_type": "code",
      "source": [
        "!pip install catboost"
      ],
      "metadata": {
        "id": "FWjPJhSxELg7",
        "outputId": "10fd166b-795a-4bea-e291-9808548e310f",
        "colab": {
          "base_uri": "https://localhost:8080/"
        }
      },
      "execution_count": null,
      "outputs": [
        {
          "output_type": "stream",
          "name": "stdout",
          "text": [
            "Looking in indexes: https://pypi.org/simple, https://us-python.pkg.dev/colab-wheels/public/simple/\n",
            "Collecting catboost\n",
            "  Downloading catboost-1.1.1-cp39-none-manylinux1_x86_64.whl (76.6 MB)\n",
            "\u001b[2K     \u001b[90m━━━━━━━━━━━━━━━━━━━━━━━━━━━━━━━━━━━━━━━━\u001b[0m \u001b[32m76.6/76.6 MB\u001b[0m \u001b[31m8.2 MB/s\u001b[0m eta \u001b[36m0:00:00\u001b[0m\n",
            "\u001b[?25hRequirement already satisfied: graphviz in /usr/local/lib/python3.9/dist-packages (from catboost) (0.20.1)\n",
            "Requirement already satisfied: six in /usr/local/lib/python3.9/dist-packages (from catboost) (1.16.0)\n",
            "Requirement already satisfied: plotly in /usr/local/lib/python3.9/dist-packages (from catboost) (5.13.1)\n",
            "Requirement already satisfied: scipy in /usr/local/lib/python3.9/dist-packages (from catboost) (1.10.1)\n",
            "Requirement already satisfied: pandas>=0.24.0 in /usr/local/lib/python3.9/dist-packages (from catboost) (1.5.3)\n",
            "Requirement already satisfied: matplotlib in /usr/local/lib/python3.9/dist-packages (from catboost) (3.7.1)\n",
            "Requirement already satisfied: numpy>=1.16.0 in /usr/local/lib/python3.9/dist-packages (from catboost) (1.22.4)\n",
            "Requirement already satisfied: pytz>=2020.1 in /usr/local/lib/python3.9/dist-packages (from pandas>=0.24.0->catboost) (2022.7.1)\n",
            "Requirement already satisfied: python-dateutil>=2.8.1 in /usr/local/lib/python3.9/dist-packages (from pandas>=0.24.0->catboost) (2.8.2)\n",
            "Requirement already satisfied: pillow>=6.2.0 in /usr/local/lib/python3.9/dist-packages (from matplotlib->catboost) (8.4.0)\n",
            "Requirement already satisfied: fonttools>=4.22.0 in /usr/local/lib/python3.9/dist-packages (from matplotlib->catboost) (4.39.3)\n",
            "Requirement already satisfied: importlib-resources>=3.2.0 in /usr/local/lib/python3.9/dist-packages (from matplotlib->catboost) (5.12.0)\n",
            "Requirement already satisfied: cycler>=0.10 in /usr/local/lib/python3.9/dist-packages (from matplotlib->catboost) (0.11.0)\n",
            "Requirement already satisfied: kiwisolver>=1.0.1 in /usr/local/lib/python3.9/dist-packages (from matplotlib->catboost) (1.4.4)\n",
            "Requirement already satisfied: pyparsing>=2.3.1 in /usr/local/lib/python3.9/dist-packages (from matplotlib->catboost) (3.0.9)\n",
            "Requirement already satisfied: packaging>=20.0 in /usr/local/lib/python3.9/dist-packages (from matplotlib->catboost) (23.0)\n",
            "Requirement already satisfied: contourpy>=1.0.1 in /usr/local/lib/python3.9/dist-packages (from matplotlib->catboost) (1.0.7)\n",
            "Requirement already satisfied: tenacity>=6.2.0 in /usr/local/lib/python3.9/dist-packages (from plotly->catboost) (8.2.2)\n",
            "Requirement already satisfied: zipp>=3.1.0 in /usr/local/lib/python3.9/dist-packages (from importlib-resources>=3.2.0->matplotlib->catboost) (3.15.0)\n",
            "Installing collected packages: catboost\n",
            "Successfully installed catboost-1.1.1\n"
          ]
        }
      ]
    },
    {
      "cell_type": "code",
      "source": [
        "import numpy as np\n",
        "import pandas as pd\n",
        "\n",
        "from catboost import CatBoostClassifier\n",
        "\n",
        "from sklearn.datasets import make_blobs\n",
        "from sklearn.model_selection import train_test_split\n",
        "\n",
        "import matplotlib.pyplot as plt\n",
        "from sklearn.metrics import roc_auc_score\n",
        "from imblearn.over_sampling import RandomOverSampler\n",
        "\n",
        "from google.colab import drive\n",
        "drive.mount('/content/drive')"
      ],
      "metadata": {
        "id": "IiVIR_s8eTwW",
        "outputId": "6f2f900e-049b-4328-f6c2-04eefcd78c93",
        "colab": {
          "base_uri": "https://localhost:8080/"
        }
      },
      "execution_count": null,
      "outputs": [
        {
          "output_type": "stream",
          "name": "stdout",
          "text": [
            "Drive already mounted at /content/drive; to attempt to forcibly remount, call drive.mount(\"/content/drive\", force_remount=True).\n"
          ]
        }
      ]
    },
    {
      "cell_type": "code",
      "source": [
        "# Data preparation\n",
        "X, y = make_blobs(n_samples=10000,\n",
        "                  n_features=100,\n",
        "                  centers=2,\n",
        "                  center_box=(0,1),\n",
        "                  cluster_std=3.0,\n",
        "                  random_state=0)\n",
        "\n",
        "# Make imbalanced data\n",
        "idxs = [True for _ in range(len(y))]\n",
        "for i in range(len(y)):\n",
        "  if y[i] > 0 and np.random.rand() > 0.2:\n",
        "    idxs[i] = False\n",
        "\n",
        "X = pd.DataFrame(X[idxs])\n",
        "y = y[idxs]\n",
        "\n",
        "ros = RandomOverSampler(random_state=0)\n",
        "X_resampled, y_resampled = ros.fit_resample(X, y)\n",
        "\n",
        "print(\"Class ratio: \", y.sum() / len(y))\n",
        "\n",
        "\n",
        "# Cross validation\n",
        "X_train, X_test, y_train, y_test = train_test_split(X_resampled,y_resampled, test_size=0.25, random_state=42)\n",
        "\n",
        "print(\"Train-test split: \", X_train.shape, X_test.shape, sep='\\t')"
      ],
      "metadata": {
        "id": "dlQYKdwgYXQv",
        "colab": {
          "base_uri": "https://localhost:8080/"
        },
        "outputId": "e8e2a320-b1af-4ef7-839b-f0713f586083"
      },
      "execution_count": null,
      "outputs": [
        {
          "output_type": "stream",
          "name": "stdout",
          "text": [
            "Class ratio:  0.16694435188270576\n",
            "Train-test split: \t(7500, 100)\t(2500, 100)\n"
          ]
        }
      ]
    },
    {
      "cell_type": "code",
      "source": [
        "model = CatBoostClassifier(\n",
        "    iterations = 100,\n",
        "    objective = \"Logloss\",\n",
        "    scale_pos_weight = 4.9,\n",
        "    verbose=True\n",
        ")"
      ],
      "metadata": {
        "id": "Cjt11B3TEKyu"
      },
      "execution_count": null,
      "outputs": []
    },
    {
      "cell_type": "code",
      "source": [
        "model.fit(X_train, y_train, verbose=10)"
      ],
      "metadata": {
        "id": "tKEBFNlZEKv5",
        "colab": {
          "base_uri": "https://localhost:8080/"
        },
        "outputId": "0e8d5748-2ad4-4e26-dffe-a75b7e8d6047"
      },
      "execution_count": null,
      "outputs": [
        {
          "output_type": "stream",
          "name": "stdout",
          "text": [
            "Learning rate set to 0.20118\n",
            "0:\tlearn: 0.5913293\ttotal: 49.3ms\tremaining: 4.88s\n",
            "10:\tlearn: 0.3855848\ttotal: 327ms\tremaining: 2.64s\n",
            "20:\tlearn: 0.3321440\ttotal: 620ms\tremaining: 2.33s\n",
            "30:\tlearn: 0.2908113\ttotal: 889ms\tremaining: 1.98s\n",
            "40:\tlearn: 0.2633209\ttotal: 1.15s\tremaining: 1.66s\n",
            "50:\tlearn: 0.2352596\ttotal: 1.42s\tremaining: 1.36s\n",
            "60:\tlearn: 0.2087422\ttotal: 1.7s\tremaining: 1.08s\n",
            "70:\tlearn: 0.1860633\ttotal: 1.98s\tremaining: 807ms\n",
            "80:\tlearn: 0.1664458\ttotal: 2.23s\tremaining: 524ms\n",
            "90:\tlearn: 0.1517667\ttotal: 2.5s\tremaining: 248ms\n",
            "99:\tlearn: 0.1395469\ttotal: 2.75s\tremaining: 0us\n"
          ]
        },
        {
          "output_type": "execute_result",
          "data": {
            "text/plain": [
              "<catboost.core.CatBoostClassifier at 0x7f1ab27c0880>"
            ]
          },
          "metadata": {},
          "execution_count": 57
        }
      ]
    },
    {
      "cell_type": "code",
      "source": [
        "probas = model.predict_proba(X_test)[:,1]\n",
        "roc_auc_score(y_test, probas)"
      ],
      "metadata": {
        "id": "ndLxHqqFEKtd",
        "colab": {
          "base_uri": "https://localhost:8080/"
        },
        "outputId": "244f6541-77c5-46ba-f11b-2c69136f1249"
      },
      "execution_count": null,
      "outputs": [
        {
          "output_type": "execute_result",
          "data": {
            "text/plain": [
              "0.9730508644026086"
            ]
          },
          "metadata": {},
          "execution_count": 58
        }
      ]
    },
    {
      "cell_type": "code",
      "source": [
        "plot_args = {\"alpha\": 0.5, \"density\": True}\n",
        "plt.hist(probas[y_test==0], label = \"N\", color=\"r\", **plot_args)\n",
        "plt.hist(probas[y_test==1], label = \"P\", color=\"g\", **plot_args)\n",
        "plt.title(f\"Predictions at class ratio: {y.sum() / len(y):.4f}\")\n",
        "plt.legend()\n",
        "plt.show()"
      ],
      "metadata": {
        "id": "7cCcDgsX4scM",
        "colab": {
          "base_uri": "https://localhost:8080/",
          "height": 452
        },
        "outputId": "a3a9e4b2-b24f-4068-ab01-64f6300e2774"
      },
      "execution_count": null,
      "outputs": [
        {
          "output_type": "display_data",
          "data": {
            "text/plain": [
              "<Figure size 640x480 with 1 Axes>"
            ],
            "image/png": "[encoded data removed]"
          },
          "metadata": {}
        }
      ]
    },
    {
      "cell_type": "markdown",
      "source": [
        "## Túltanulás elkerülése: early stopping\n",
        "\n",
        "Képzeljük el, hogy élőben követjük a boosting folyamatát, tehát az egyes fák hozzáadását. Ha tanítás leválasztunk egy _belső validációs_ halmazt, és azon követjük az épülő modell teljesítményét, akkor elkerülhetjük a túltanulást azáltal, ha egy idő után leállítjuk a tanítást, mikor a teljesítmény a belső adathalmazon túl sokáig csökkent (nem javult).\n",
        "\n",
        "Ezt a módszert hívjuk _early stopping_-nak. A `catboost` rendelkezik ezen funkcióval is."
      ],
      "metadata": {
        "id": "k85ljZmNtNhu"
      }
    },
    {
      "cell_type": "code",
      "source": [
        "X_train, X_inner, y_train, y_inner = train_test_split(X_train, y_train, test_size=0.33, random_state=42) # válasszuk le a belső validációs halmazt\n",
        "\n",
        "model = CatBoostClassifier(\n",
        "    iterations = 500,\n",
        "    objective = \"Logloss\",\n",
        "    eval_metric = \"AUC\",\n",
        "    early_stopping_rounds = 10, # ha 10 lépésig nem javul az eval_set-en, állítsuk le a tanítást\n",
        "    verbose=True\n",
        ")\n",
        "\n",
        "model.fit(X_train, y_train, eval_set=[(X_inner,y_inner)], verbose=10) # itt adjuk meg a belső validációs halmazt (ekkor a verbose már az ezen mért teljesítményt írja ki)\n",
        "\n",
        "probas = model.predict_proba(X_test)[:,1]\n",
        "print(\"ROC-AUC\", roc_auc_score(y_test, probas))\n",
        "\n",
        "plot_args = {\"alpha\": 0.5, \"density\": True}\n",
        "plt.hist(probas[y_test==0], label = \"N\", color=\"r\", **plot_args)\n",
        "plt.hist(probas[y_test==1], label = \"P\", color=\"g\", **plot_args)\n",
        "plt.title(f\"Predictions with early stopping rounds: 10\\n(max 500 boosting iterations)\")\n",
        "plt.legend()\n",
        "plt.show()"
      ],
      "metadata": {
        "id": "eddzv-L_tQOU",
        "colab": {
          "base_uri": "https://localhost:8080/",
          "height": 855
        },
        "outputId": "7574f1a3-2f28-4f68-8fb2-c1eab37ddb65"
      },
      "execution_count": null,
      "outputs": [
        {
          "output_type": "stream",
          "name": "stdout",
          "text": [
            "Learning rate set to 0.056334\n",
            "0:\ttest: 0.5738447\tbest: 0.5738447 (0)\ttotal: 31.2ms\tremaining: 15.6s\n",
            "10:\ttest: 0.6701599\tbest: 0.6701599 (10)\ttotal: 273ms\tremaining: 12.1s\n",
            "20:\ttest: 0.6992513\tbest: 0.6992513 (20)\ttotal: 534ms\tremaining: 12.2s\n",
            "30:\ttest: 0.7291831\tbest: 0.7294750 (29)\ttotal: 795ms\tremaining: 12s\n",
            "40:\ttest: 0.7424152\tbest: 0.7424152 (40)\ttotal: 1.04s\tremaining: 11.6s\n",
            "50:\ttest: 0.7587556\tbest: 0.7587556 (50)\ttotal: 1.28s\tremaining: 11.2s\n",
            "60:\ttest: 0.7628071\tbest: 0.7639587 (59)\ttotal: 1.56s\tremaining: 11.2s\n",
            "70:\ttest: 0.7661817\tbest: 0.7670991 (68)\ttotal: 1.8s\tremaining: 10.9s\n",
            "80:\ttest: 0.7702074\tbest: 0.7702074 (80)\ttotal: 2.06s\tremaining: 10.7s\n",
            "90:\ttest: 0.7721353\tbest: 0.7745411 (88)\ttotal: 2.3s\tremaining: 10.4s\n",
            "100:\ttest: 0.7764465\tbest: 0.7764465 (100)\ttotal: 2.56s\tremaining: 10.1s\n",
            "110:\ttest: 0.7789133\tbest: 0.7789133 (110)\ttotal: 2.81s\tremaining: 9.84s\n",
            "120:\ttest: 0.7824515\tbest: 0.7824515 (120)\ttotal: 3.05s\tremaining: 9.54s\n",
            "130:\ttest: 0.7799430\tbest: 0.7831829 (121)\ttotal: 3.29s\tremaining: 9.27s\n",
            "Stopped by overfitting detector  (10 iterations wait)\n",
            "\n",
            "bestTest = 0.7831828884\n",
            "bestIteration = 121\n",
            "\n",
            "Shrink model to first 122 iterations.\n",
            "ROC-AUC 0.7990932232290754\n"
          ]
        },
        {
          "output_type": "display_data",
          "data": {
            "text/plain": [
              "<Figure size 640x480 with 1 Axes>"
            ],
            "image/png": "[encoded data removed]"
          },
          "metadata": {}
        }
      ]
    },
    {
      "cell_type": "code",
      "source": [],
      "metadata": {
        "id": "SNqSXYJLBaD4"
      },
      "execution_count": null,
      "outputs": []
    },
    {
      "cell_type": "markdown",
      "source": [
        "# Kiegészítés: Pipeline\n",
        "\n",
        "Gyakran egy adaton ugyanazon változásokat hajtjuk végre. Ezeket zárhatjuk egy, jól kezelhető egységbe (ún. _pipeline_-ba) a scikit-learn pipeline modulja segítségével.\n",
        "\n",
        "Részletek a scikit-learn idetartozó User guide-jában:\n",
        "https://scikit-learn.org/stable/modules/compose.html#combining-estimators\n",
        "\n",
        "Ennek bemutatásához a scikit-learnből is elérhető gradiens boosting klasszfikálót fogjuk használni:\n",
        "https://scikit-learn.org/stable/modules/generated/sklearn.ensemble.GradientBoostingClassifier.html\n",
        "\n"
      ],
      "metadata": {
        "id": "4u3OvX325iTm"
      }
    },
    {
      "cell_type": "code",
      "source": [
        "from sklearn.pipeline import Pipeline\n",
        "from sklearn.preprocessing import Normalizer\n",
        "from sklearn.ensemble import GradientBoostingClassifier"
      ],
      "metadata": {
        "id": "bjau7NHu6x7Z"
      },
      "execution_count": null,
      "outputs": []
    },
    {
      "cell_type": "code",
      "source": [
        "pipe = Pipeline([\n",
        "    (\"preproc\", Normalizer()),\n",
        "    (\"clf\", GradientBoostingClassifier())\n",
        "])"
      ],
      "metadata": {
        "id": "069AjnVg8dLn"
      },
      "execution_count": null,
      "outputs": []
    },
    {
      "cell_type": "code",
      "source": [
        "pipe.fit(X_train, y_train)"
      ],
      "metadata": {
        "id": "LiejUkZS8gah",
        "colab": {
          "base_uri": "https://localhost:8080/",
          "height": 126
        },
        "outputId": "1384ed16-52de-4d39-9a5e-000e7ff6eef5"
      },
      "execution_count": null,
      "outputs": [
        {
          "output_type": "execute_result",
          "data": {
            "text/plain": [
              "Pipeline(steps=[('preproc', Normalizer()),\n",
              "                ('clf', GradientBoostingClassifier())])"
            ],
            "text/html": [
              "<style>#sk-container-id-1 {color: black;background-color: white;}#sk-container-id-1 pre{padding: 0;}#sk-container-id-1 div.sk-toggleable {background-color: white;}#sk-container-id-1 label.sk-toggleable__label {cursor: pointer;display: block;width: 100%;margin-bottom: 0;padding: 0.3em;box-sizing: border-box;text-align: center;}#sk-container-id-1 label.sk-toggleable__label-arrow:before {content: \"▸\";float: left;margin-right: 0.25em;color: #696969;}#sk-container-id-1 label.sk-toggleable__label-arrow:hover:before {color: black;}#sk-container-id-1 div.sk-estimator:hover label.sk-toggleable__label-arrow:before {color: black;}#sk-container-id-1 div.sk-toggleable__content {max-height: 0;max-width: 0;overflow: hidden;text-align: left;background-color: #f0f8ff;}#sk-container-id-1 div.sk-toggleable__content pre {margin: 0.2em;color: black;border-radius: 0.25em;background-color: #f0f8ff;}#sk-container-id-1 input.sk-toggleable__control:checked~div.sk-toggleable__content {max-height: 200px;max-width: 100%;overflow: auto;}#sk-container-id-1 input.sk-toggleable__control:checked~label.sk-toggleable__label-arrow:before {content: \"▾\";}#sk-container-id-1 div.sk-estimator input.sk-toggleable__control:checked~label.sk-toggleable__label {background-color: #d4ebff;}#sk-container-id-1 div.sk-label input.sk-toggleable__control:checked~label.sk-toggleable__label {background-color: #d4ebff;}#sk-container-id-1 input.sk-hidden--visually {border: 0;clip: rect(1px 1px 1px 1px);clip: rect(1px, 1px, 1px, 1px);height: 1px;margin: -1px;overflow: hidden;padding: 0;position: absolute;width: 1px;}#sk-container-id-1 div.sk-estimator {font-family: monospace;background-color: #f0f8ff;border: 1px dotted black;border-radius: 0.25em;box-sizing: border-box;margin-bottom: 0.5em;}#sk-container-id-1 div.sk-estimator:hover {background-color: #d4ebff;}#sk-container-id-1 div.sk-parallel-item::after {content: \"\";width: 100%;border-bottom: 1px solid gray;flex-grow: 1;}#sk-container-id-1 div.sk-label:hover label.sk-toggleable__label {background-color: #d4ebff;}#sk-container-id-1 div.sk-serial::before {content: \"\";position: absolute;border-left: 1px solid gray;box-sizing: border-box;top: 0;bottom: 0;left: 50%;z-index: 0;}#sk-container-id-1 div.sk-serial {display: flex;flex-direction: column;align-items: center;background-color: white;padding-right: 0.2em;padding-left: 0.2em;position: relative;}#sk-container-id-1 div.sk-item {position: relative;z-index: 1;}#sk-container-id-1 div.sk-parallel {display: flex;align-items: stretch;justify-content: center;background-color: white;position: relative;}#sk-container-id-1 div.sk-item::before, #sk-container-id-1 div.sk-parallel-item::before {content: \"\";position: absolute;border-left: 1px solid gray;box-sizing: border-box;top: 0;bottom: 0;left: 50%;z-index: -1;}#sk-container-id-1 div.sk-parallel-item {display: flex;flex-direction: column;z-index: 1;position: relative;background-color: white;}#sk-container-id-1 div.sk-parallel-item:first-child::after {align-self: flex-end;width: 50%;}#sk-container-id-1 div.sk-parallel-item:last-child::after {align-self: flex-start;width: 50%;}#sk-container-id-1 div.sk-parallel-item:only-child::after {width: 0;}#sk-container-id-1 div.sk-dashed-wrapped {border: 1px dashed gray;margin: 0 0.4em 0.5em 0.4em;box-sizing: border-box;padding-bottom: 0.4em;background-color: white;}#sk-container-id-1 div.sk-label label {font-family: monospace;font-weight: bold;display: inline-block;line-height: 1.2em;}#sk-container-id-1 div.sk-label-container {text-align: center;}#sk-container-id-1 div.sk-container {/* jupyter's `normalize.less` sets `[hidden] { display: none; }` but bootstrap.min.css set `[hidden] { display: none !important; }` so we also need the `!important` here to be able to override the default hidden behavior on the sphinx rendered scikit-learn.org. See: https://github.com/scikit-learn/scikit-learn/issues/21755 */display: inline-block !important;position: relative;}#sk-container-id-1 div.sk-text-repr-fallback {display: none;}</style><div id=\"sk-container-id-1\" class=\"sk-top-container\"><div class=\"sk-text-repr-fallback\"><pre>Pipeline(steps=[(&#x27;preproc&#x27;, Normalizer()),\n",
              "                (&#x27;clf&#x27;, GradientBoostingClassifier())])</pre><b>In a Jupyter environment, please rerun this cell to show the HTML representation or trust the notebook. <br />On GitHub, the HTML representation is unable to render, please try loading this page with nbviewer.org.</b></div><div class=\"sk-container\" hidden><div class=\"sk-item sk-dashed-wrapped\"><div class=\"sk-label-container\"><div class=\"sk-label sk-toggleable\"><input class=\"sk-toggleable__control sk-hidden--visually\" id=\"sk-estimator-id-1\" type=\"checkbox\" ><label for=\"sk-estimator-id-1\" class=\"sk-toggleable__label sk-toggleable__label-arrow\">Pipeline</label><div class=\"sk-toggleable__content\"><pre>Pipeline(steps=[(&#x27;preproc&#x27;, Normalizer()),\n",
              "                (&#x27;clf&#x27;, GradientBoostingClassifier())])</pre></div></div></div><div class=\"sk-serial\"><div class=\"sk-item\"><div class=\"sk-estimator sk-toggleable\"><input class=\"sk-toggleable__control sk-hidden--visually\" id=\"sk-estimator-id-2\" type=\"checkbox\" ><label for=\"sk-estimator-id-2\" class=\"sk-toggleable__label sk-toggleable__label-arrow\">Normalizer</label><div class=\"sk-toggleable__content\"><pre>Normalizer()</pre></div></div></div><div class=\"sk-item\"><div class=\"sk-estimator sk-toggleable\"><input class=\"sk-toggleable__control sk-hidden--visually\" id=\"sk-estimator-id-3\" type=\"checkbox\" ><label for=\"sk-estimator-id-3\" class=\"sk-toggleable__label sk-toggleable__label-arrow\">GradientBoostingClassifier</label><div class=\"sk-toggleable__content\"><pre>GradientBoostingClassifier()</pre></div></div></div></div></div></div></div>"
            ]
          },
          "metadata": {},
          "execution_count": 49
        }
      ]
    },
    {
      "cell_type": "code",
      "source": [
        "probas = pipe.predict_proba(X_test)[:,1]\n",
        "roc_auc_score(y_test, probas)"
      ],
      "metadata": {
        "id": "-l3CXX-c8hAa",
        "colab": {
          "base_uri": "https://localhost:8080/"
        },
        "outputId": "f410abaa-d792-4e83-d1c5-6b73bfb5ba68"
      },
      "execution_count": null,
      "outputs": [
        {
          "output_type": "execute_result",
          "data": {
            "text/plain": [
              "0.7523560904384763"
            ]
          },
          "metadata": {},
          "execution_count": 50
        }
      ]
    },
    {
      "cell_type": "markdown",
      "source": [
        "## Set parameters inside pipelines"
      ],
      "metadata": {
        "id": "T7XnSlW29lIo"
      }
    },
    {
      "cell_type": "code",
      "source": [
        "from tqdm import tqdm"
      ],
      "metadata": {
        "id": "9iUeWNsXyxZD"
      },
      "execution_count": null,
      "outputs": []
    },
    {
      "cell_type": "code",
      "source": [
        "pipe = Pipeline([\n",
        "    (\"preproc\", Normalizer(norm=\"l2\")),\n",
        "    (\"clf\", GradientBoostingClassifier(n_estimators=10))\n",
        "])\n",
        "\n",
        "results = []\n",
        "\n",
        "for depth in tqdm(range(1,10)):\n",
        "  #print(f\"Max depth: {depth}\", end='\\r')\n",
        "\n",
        "  pipe.set_params(clf__max_depth=depth) # szintaxis: <\"name_in_pipe\"__\"param\">\n",
        "  pipe.fit(X_train, y_train)\n",
        "\n",
        "  probas = pipe.predict_proba(X_test)[:,1]\n",
        "  auc = roc_auc_score(y_test, probas)\n",
        "\n",
        "  results.append({\"max_depth\": depth, \"auc\": auc})\n",
        "\n",
        "pd.DataFrame.from_records(results)"
      ],
      "metadata": {
        "id": "qmxppECN63hw",
        "colab": {
          "base_uri": "https://localhost:8080/",
          "height": 349
        },
        "outputId": "c2d1f608-6a55-41c5-f595-f36b3d62f06f"
      },
      "execution_count": null,
      "outputs": [
        {
          "output_type": "stream",
          "name": "stderr",
          "text": [
            "100%|██████████| 9/9 [00:26<00:00,  2.89s/it]\n"
          ]
        },
        {
          "output_type": "execute_result",
          "data": {
            "text/plain": [
              "   max_depth       auc\n",
              "0          1  0.617047\n",
              "1          2  0.658523\n",
              "2          3  0.683270\n",
              "3          4  0.686384\n",
              "4          5  0.691338\n",
              "5          6  0.699564\n",
              "6          7  0.667976\n",
              "7          8  0.636292\n",
              "8          9  0.634706"
            ],
            "text/html": [
              "\n",
              "  <div id=\"df-055ee1c3-62e3-44bb-b4d1-ee60b34ae288\">\n",
              "    <div class=\"colab-df-container\">\n",
              "      <div>\n",
              "<style scoped>\n",
              "    .dataframe tbody tr th:only-of-type {\n",
              "        vertical-align: middle;\n",
              "    }\n",
              "\n",
              "    .dataframe tbody tr th {\n",
              "        vertical-align: top;\n",
              "    }\n",
              "\n",
              "    .dataframe thead th {\n",
              "        text-align: right;\n",
              "    }\n",
              "</style>\n",
              "<table border=\"1\" class=\"dataframe\">\n",
              "  <thead>\n",
              "    <tr style=\"text-align: right;\">\n",
              "      <th></th>\n",
              "      <th>max_depth</th>\n",
              "      <th>auc</th>\n",
              "    </tr>\n",
              "  </thead>\n",
              "  <tbody>\n",
              "    <tr>\n",
              "      <th>0</th>\n",
              "      <td>1</td>\n",
              "      <td>0.617047</td>\n",
              "    </tr>\n",
              "    <tr>\n",
              "      <th>1</th>\n",
              "      <td>2</td>\n",
              "      <td>0.658523</td>\n",
              "    </tr>\n",
              "    <tr>\n",
              "      <th>2</th>\n",
              "      <td>3</td>\n",
              "      <td>0.683270</td>\n",
              "    </tr>\n",
              "    <tr>\n",
              "      <th>3</th>\n",
              "      <td>4</td>\n",
              "      <td>0.686384</td>\n",
              "    </tr>\n",
              "    <tr>\n",
              "      <th>4</th>\n",
              "      <td>5</td>\n",
              "      <td>0.691338</td>\n",
              "    </tr>\n",
              "    <tr>\n",
              "      <th>5</th>\n",
              "      <td>6</td>\n",
              "      <td>0.699564</td>\n",
              "    </tr>\n",
              "    <tr>\n",
              "      <th>6</th>\n",
              "      <td>7</td>\n",
              "      <td>0.667976</td>\n",
              "    </tr>\n",
              "    <tr>\n",
              "      <th>7</th>\n",
              "      <td>8</td>\n",
              "      <td>0.636292</td>\n",
              "    </tr>\n",
              "    <tr>\n",
              "      <th>8</th>\n",
              "      <td>9</td>\n",
              "      <td>0.634706</td>\n",
              "    </tr>\n",
              "  </tbody>\n",
              "</table>\n",
              "</div>\n",
              "      <button class=\"colab-df-convert\" onclick=\"convertToInteractive('df-055ee1c3-62e3-44bb-b4d1-ee60b34ae288')\"\n",
              "              title=\"Convert this dataframe to an interactive table.\"\n",
              "              style=\"display:none;\">\n",
              "        \n",
              "  <svg xmlns=\"http://www.w3.org/2000/svg\" height=\"24px\"viewBox=\"0 0 24 24\"\n",
              "       width=\"24px\">\n",
              "    <path d=\"M0 0h24v24H0V0z\" fill=\"none\"/>\n",
              "    <path d=\"M18.56 5.44l.94 2.06.94-2.06 2.06-.94-2.06-.94-.94-2.06-.94 2.06-2.06.94zm-11 1L8.5 8.5l.94-2.06 2.06-.94-2.06-.94L8.5 2.5l-.94 2.06-2.06.94zm10 10l.94 2.06.94-2.06 2.06-.94-2.06-.94-.94-2.06-.94 2.06-2.06.94z\"/><path d=\"M17.41 7.96l-1.37-1.37c-.4-.4-.92-.59-1.43-.59-.52 0-1.04.2-1.43.59L10.3 9.45l-7.72 7.72c-.78.78-.78 2.05 0 2.83L4 21.41c.39.39.9.59 1.41.59.51 0 1.02-.2 1.41-.59l7.78-7.78 2.81-2.81c.8-.78.8-2.07 0-2.86zM5.41 20L4 18.59l7.72-7.72 1.47 1.35L5.41 20z\"/>\n",
              "  </svg>\n",
              "      </button>\n",
              "      \n",
              "  <style>\n",
              "    .colab-df-container {\n",
              "      display:flex;\n",
              "      flex-wrap:wrap;\n",
              "      gap: 12px;\n",
              "    }\n",
              "\n",
              "    .colab-df-convert {\n",
              "      background-color: #E8F0FE;\n",
              "      border: none;\n",
              "      border-radius: 50%;\n",
              "      cursor: pointer;\n",
              "      display: none;\n",
              "      fill: #1967D2;\n",
              "      height: 32px;\n",
              "      padding: 0 0 0 0;\n",
              "      width: 32px;\n",
              "    }\n",
              "\n",
              "    .colab-df-convert:hover {\n",
              "      background-color: #E2EBFA;\n",
              "      box-shadow: 0px 1px 2px rgba(60, 64, 67, 0.3), 0px 1px 3px 1px rgba(60, 64, 67, 0.15);\n",
              "      fill: #174EA6;\n",
              "    }\n",
              "\n",
              "    [theme=dark] .colab-df-convert {\n",
              "      background-color: #3B4455;\n",
              "      fill: #D2E3FC;\n",
              "    }\n",
              "\n",
              "    [theme=dark] .colab-df-convert:hover {\n",
              "      background-color: #434B5C;\n",
              "      box-shadow: 0px 1px 3px 1px rgba(0, 0, 0, 0.15);\n",
              "      filter: drop-shadow(0px 1px 2px rgba(0, 0, 0, 0.3));\n",
              "      fill: #FFFFFF;\n",
              "    }\n",
              "  </style>\n",
              "\n",
              "      <script>\n",
              "        const buttonEl =\n",
              "          document.querySelector('#df-055ee1c3-62e3-44bb-b4d1-ee60b34ae288 button.colab-df-convert');\n",
              "        buttonEl.style.display =\n",
              "          google.colab.kernel.accessAllowed ? 'block' : 'none';\n",
              "\n",
              "        async function convertToInteractive(key) {\n",
              "          const element = document.querySelector('#df-055ee1c3-62e3-44bb-b4d1-ee60b34ae288');\n",
              "          const dataTable =\n",
              "            await google.colab.kernel.invokeFunction('convertToInteractive',\n",
              "                                                     [key], {});\n",
              "          if (!dataTable) return;\n",
              "\n",
              "          const docLinkHtml = 'Like what you see? Visit the ' +\n",
              "            '<a target=\"_blank\" href=https://colab.research.google.com/notebooks/data_table.ipynb>data table notebook</a>'\n",
              "            + ' to learn more about interactive tables.';\n",
              "          element.innerHTML = '';\n",
              "          dataTable['output_type'] = 'display_data';\n",
              "          await google.colab.output.renderOutput(dataTable, element);\n",
              "          const docLink = document.createElement('div');\n",
              "          docLink.innerHTML = docLinkHtml;\n",
              "          element.appendChild(docLink);\n",
              "        }\n",
              "      </script>\n",
              "    </div>\n",
              "  </div>\n",
              "  "
            ]
          },
          "metadata": {},
          "execution_count": 52
        }
      ]
    },
    {
      "cell_type": "markdown",
      "source": [
        "# Gyakorlás: Kiegyensúlyozatlan adatok\n",
        "\n",
        "[XKCD, 1739](https://www.explainxkcd.com/wiki/index.php/1739:_Fixing_Problems): Fixing problems\n",
        "\n",
        "## Elmélet\n",
        "Egy adathalmaz kiegyensúlyozatlanságának egy lehetséges (és gyakori) mérőszáma az $N/P$ arány, tehát a negatív osztály elemszáma osztva a pozitívéval. Ha ez az aránya $1/2$ alá csökken, vagy $2$ fölé nő, akkor kiegyensúlyozatlan adatról szokás már beszélni. (Gondoljunk bele, hogy ekkor az egyik osztály már legalább kétszer akkora, mint a másik.)\n",
        "\n",
        "Kiegyensúlyozatlan adatokkal dolgozni nagy kihívás elé állíthat minket. Képzeljük el, hogy 10-szeres eltérés esetén és kis mintaszám mellett a pozitív osztályba olyan kevés elem tartozik, hogy nem nyerhető ki már értelmes minta, ami alapján osztályozni lehetne. Ezen nehézség áthidalására többféle módszer született, közös jellemzőjük, hogy általában a pozitív osztály _átsúlyozásával_ érik el az adatok ,,egyensúlyozását''. (Természetesen a súlyozás több helyütt is történhet, megvalósítás szerint: a hibák (FN,FP) átsúlyozásával, a mintavételezéskor a pozitív osztály preferálása).\n",
        "\n",
        "Egy másik gyakori megoldás az _over_- vagy _undersampling_. Első esetben (oversampling) a kis osztályt (_minority_) ,,felfújjuk'' azáltal, hogy visszatételesen húzunk belőle (mesterségesen megnöveljük a méretét duplikációkkal); utóbbi esetén a nagy osztály(ok) (_majority_) random részhalmazát használjuk csak.\n",
        "\n",
        "\n",
        "1. Mennyi egy teljesen kiegyensúlyozott adathalmaz ezen mérőszáma?\n",
        "1. Milyen metrikákat érdemes használni, és melyeket nem, kiegyensúlyozatlan adatok esetén? Melyik torzít, és melyik nem érzékeny a kiegyensúlyozatlanságra?\n",
        "1. Hogyan fejeznéd ki az $N/P$ arányt a $P$ és a $n$ (adathossz) ismeretében?\n",
        "1. Mi az előnye és mi a hátránya az under- és oversamplingnek?\n",
        "\n",
        "## Modellezés\n",
        "1. Kísérletezz CatBoostClassifier-rel! Variáld meg egy kicsit az első klasszfikálást és futtasd újra a modell úgy, hogy néhány hiperparamétert a default-tól eltérő értékre állítottál. Javított vagy rontott az eredeti eredményen?\n",
        "1. Kiegyensúlyozatlan adatok: a `catboost` egyik opciója, amivel a kiegyensúlyozatlan adatokat kezeli a `scale_pos_weight`. Ez, a nevének megfelelően, a pozitív osztály súlyát növeli meg a tanítás során. A szokásos értéke $N/P$. Megadni a következő módon lehet:\n",
        "```\n",
        "model = CatBoostClassifier(\n",
        "    iterations = 100,\n",
        "    objective = \"Logloss\",\n",
        "    scale_pos_weight = 2.0, # N/P\n",
        "    verbose=True\n",
        ")\n",
        "```\n",
        "Csavargasd ezen hiperparméter értékét és nézd meg a hisztogramon a predikciók eloszlását! Mit tapasztalsz? Milyen érték mellett tetszik a legjobban az ábra? Szemmel hova raknád ott a thresholdot? Az $N/P$ arány jelen esetben mennyivel egyenlő?\n",
        "1. A Colab környezete tartalmazza a scikit-learn egy kiegészítő csomagját is, az [`imblearn`](https://imbalanced-learn.org/stable/index.html), azaz imbalanced learning modult (Ha mégsem, akkor `!pip install -U imbalanced-learn\n",
        "`). Bevezető feladatként készíts egy erősen kiegyensúlyozatlan adatot úgy, hogy az óra elején látott adat generáláskor a `if y[i] > 0 and np.random.rand() > 0.5:` sorban a 0.5 értékét felnöveled 0.2-re. Ezután oversamplinggel növeld meg a minoritás osztály méretét és végezz az adatokon klasszfikálást. Ábrázold az eredményeket, és nézd meg, hogy az oversampling során hány duplikát sorod keletkezett! Megjegyzés: a szintaxis a megszokott módon egyszerű:\n",
        "```\n",
        "from imblearn.over_sampling import RandomOverSampler\n",
        "ros = RandomOverSampler(random_state=0)\n",
        "X_resampled, y_resampled = ros.fit_resample(X, y)\n",
        "```\n",
        "további részletek [itt](https://imbalanced-learn.org/stable/over_sampling.html) találhatóak.\n",
        "1. Hasonlítsd össze az előző eredményt, ha undersamplinggel csökkented a majority osztály méretét! Ehhez akár használhatod a már jól ismert `train_test_split` függvényt is (megfelelő `train_size` mellett):\n",
        "```\n",
        "X_resampled, _, y_resampled, _ = train_test_split(X[y==0],y[y==0], train_size=0.2)\n",
        "X = np.concatenate([X_resampled,X[y==1]], axis=0)\n",
        "y = np.concatenate([y_resampled,y[y==1]], axis=0)\n",
        "```\n",
        "Az `_` használata egy Python konvenció, arra utal, hogy az adott változóz a későbbiekben nem kívánjuk használni (de ettől függetlenül `_` egy valid változó, aminek értékét meg lehet nézni). Arra figyelj, hogy azért értelmes mennyiségű adat maradjon, ha kell, növeld az `n_samples` értékét!\n",
        "1. Természetsen tovább lehet fejleszteni a fenti két módszert, ha mintavételezés helyett _prototípusokat_ generálunk, azaz pl. triviális undersampling helyett új adatokat adunk meg, de az eddig látottak alapján (reprezentatív, prototipikus adatokat. A [User guide] erről bővebben beszél. Ha érdekel, próbálj ki néhányat a Prototype generation módszerek közül is, és nézd meg, hogy túlteljesíti-e a hagyományos megközelítést!\n",
        "\n",
        "# Gyakorlás: Pipeline\n",
        "1. Pipeline-ba még hiperparaméter optimalizálást is lehet tenni. Ha adott például egy `pipe`, aminek a vége egy klasszifikáló (vagy regresszor), akkor a `GridSearchCV(pipe, param_grid=params)` paranccsal egy grid search-be tettük az _egész_ pipe-ot. A `params` megadása trükkös: mivel egy pipe-ban többféle modell is helyet foglal, meg kell mondanunk melyik modell hiperparaméterét adjuk meg. Erre szolgál, hogy a pipe konstruálásakor az egyes lépéseknek nevet adtunk. Ha pl. a pipe-ban van egy `(\"logreg\", LogisticRegression())` elem, akkor a logisztikus regesszió penalty paraméterét `logreg__penalty` (dupla aláhúzás!) módon adjuk meg. A gyakorlat során használt pipe egy lehetséges param_grid-je:\n",
        "```\n",
        "params = {\n",
        "    \"preproc__norm\": [\"l1\",\"l2\",\"max\"],\n",
        "    \"clf__n_estimators\": [5,10,50,100]\n",
        "}\n",
        "```\n",
        "Végezz hiperparaméter optimalizálást egy pipeline-on! Tetszőleges scikit-learn modellt és optimalizálási sémát (random vagy grid) használhatsz! CatBoostClassifiert sajnos nem lehet, a catboost fejlesztőinek egy érthető, de önkényes lépése miatt.\n",
        "\n",
        "1. Nézegesd a scikit-learn GradientBoostingClassifiert, állítgasd a hiperparamétereit, tedd egy hiperparaméter optimalizálóba, helyezd pipeline-ba!\n",
        "\n",
        "\n",
        "***\n",
        "Ha bármikor elakadsz: Tech Support Cheat Sheet ([XKCD, 627](https://xkcd.com/627/))\n",
        "\n"
      ],
      "metadata": {
        "id": "IAclw6SxZ0-m"
      }
    },
    {
      "cell_type": "markdown",
      "source": [
        "# Házi feladat\n",
        "\n",
        "Beküldési határidő:\n",
        "\n",
        "- Első változat: április 27. 23:59:59\n",
        "- Utolsó változat: május 4. 23:59:59\n",
        "\n",
        "Beküldési útmutató:\n",
        "\n",
        "- Mikor végeztél, mindig futtasd le az újra a kódod, hogy biztos nem maradt-e benne hiba (olyan kódot, ami nem fut le, sajnos nem tudunk elfogadni). Ezt a következőképp teheted meg:\n",
        "1. Runtime / Restart and run all: újraindítja a sessiont, ha nincs bug a kódban, rendben lefut a végéig.\n",
        "2. A kimenetekkel együtt töltsd le a notebookot `.ipynb` formátumban a gépedre.\n",
        "3. A keletkezett `.ipnyb` fájlt töltsd fel a Teams megfelelő feladatához!"
      ],
      "metadata": {
        "id": "Bg65OOr-N7zC"
      }
    },
    {
      "cell_type": "markdown",
      "source": [
        "## Feladat\n",
        "\n",
        "Mivel ez az utolsó házi feladat, lehet választani, hogy melyiket készíti el az ember, illetve akinek két házi feladat is hiányzik a kötelező 4-ből, az ezzel pótolhatja. Mindkét feladatot más esetben nem adhatjátok be, azonban továbbra is él a kötelező 4-en felül beküldött háziért járó +1 pont.*\n",
        "\n",
        "1. A scikit-learn [`datasets`](https://scikit-learn.org/stable/modules/classes.html#module-sklearn.datasets) modulból válassz egy adathalmazt (akár a Loaders-ből, akár a Samples generatorból) és egy hozzá tartozó scikit-learn modellt (klasszfikációhoz klasszifikátort, regresszióhoz regresszort). Egy Pipeline-ban a predikció előtt végezz az adaton előfeldolgozást is ([`preprocessing`](https://scikit-learn.org/stable/modules/classes.html#module-sklearn.preprocessing) modul, Normalizer vagy Scaler). Ezután a Pipeline-t rakd RandomSearchCV-be, és válassz minimum 3 hiperparamétert, de pipe elemenként legalább egyet. Végezd el a hiperparaméter optimalizálást tetszőleges keresztvalidálással. A predikciókat értékeld ki egy megfelelő metrikával és ábrázold a predikciókat egy megfelelő ábrán (pl klasszifikáció esetén hisztogram, regresszió esetén prediction display plot). A jó metrika választására külön figyelj, multilabel klasszifikálás esetén pl. az AUC nem jó! A scikit-learn [`metrics`](https://scikit-learn.org/stable/modules/classes.html#module-sklearn.metrics) modul ebben is a segítségedre lehet.\n",
        "\n",
        "1. Az imblearn [`datasets`](https://imbalanced-learn.org/stable/references/generated/imblearn.datasets.fetch_datasets.html#imblearn.datasets.fetch_datasets) modulból válassz egy kiegyensúlyozatlan adathalmazt, és egy tetszőleges scikit-learn modellt, amivel a modellezést el szeretnéd végezni. Válassz egy metrikát, amelyik a feladathoz illik. Hasonlítsd össze, hogy oversampling vagy undersampling esetén jobb a modell teljesítménye! Modellnek vagy használj gradiens boostert, ekkor nézd meg a scale_pos_weight paraméter állításával is a modell teljesítmény változását; vagy használhatsz egyszerű modellt is, de ekkor tegyél rá valami alapvető hiperparaméter optimalizálást néhány, tetszőlegesen választott hiperparaméterrel.\n",
        "\n",
        "*_(Másként szólva most beküldött 2 háziért nem jár +2 pont, de akinek hiányzik, annak mindkettő el lesz fogadva -- jó megoldások esetén, természetesen.)_"
      ],
      "metadata": {
        "id": "MIL-FV66XJcF"
      }
    },
    {
      "cell_type": "code",
      "source": [
        "# te kódod"
      ],
      "metadata": {
        "id": "znJMMrlLSBL0"
      },
      "execution_count": null,
      "outputs": []
    },
    {
      "cell_type": "code",
      "source": [],
      "metadata": {
        "id": "-cDNVtlGQoiL"
      },
      "execution_count": null,
      "outputs": []
    }
  ],
  "metadata": {
    "colab": {
      "provenance": []
    },
    "kernelspec": {
      "display_name": "Python 3 (ipykernel)",
      "language": "python",
      "name": "python3"
    },
    "language_info": {
      "codemirror_mode": {
        "name": "ipython",
        "version": 3
      },
      "file_extension": ".py",
      "mimetype": "text/x-python",
      "name": "python",
      "nbconvert_exporter": "python",
      "pygments_lexer": "ipython3",
      "version": "3.9.7"
    }
  },
  "nbformat": 4,
  "nbformat_minor": 0
}