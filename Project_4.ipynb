{
  "cells": [
    {
      "cell_type": "markdown",
      "metadata": {
        "id": "wPZfsO-uAaEz"
      },
      "source": [
        "## Követelmények\n",
        "***\n",
        "### Röpzh\n",
        "Minden óra végén fel lesz adva néhány egyszerű, lényegretörő kérdés az adott óra anyagából.\n",
        "\n",
        "#### Értékelés\n",
        "Minden feladat **1 pontot** ér a végső elszámolásban. Röpzh-kból összesen **10 pont** szerezhető majd.\n",
        "\n",
        "### Házi feladat\n",
        "A házi feladatok elkészítésére mindig **3 hetetek** lesz, beküldés után pedig még van lehetőség javítani a visszaküldött feladatokon. Az első változatot azonban a feladástól számított **két héten belül** várjuk, javítani csak ekkor lehet a visszaküldött feladatokon. <br/>\n",
        "A notebookoknak hozzatok létre egy saját Google Drive mappát, és állítsátok be, hogy ezt a megosztó link birtokában bárki megtekinthesse. A notebookhoz tartozó linket és a html fájlt az óra Teams csoportjába kell majd feltölteni.\n",
        "\n",
        "#### Értékelés\n",
        "Az összesen 6 db házi feladatból **4 db hibátlan visszaküldése feltétele az elégséges jegynek**. Minden további visszaküldött házi feladat feladatonként **1-1 pontot** ad a végső elszámoláshoz.\n",
        "\n",
        "### Projektmunka\n",
        "A félév második felében két-háromfős csoportokban adatbányászati feladatokat fogtok megoldani. Erről a félév végén le kell adni egy legalább ötoldalas **dokumentációt**, valamint az utolsó héten **prezentálnotok** kell 7-10 percben az eredményeket. A 8. héten lesz egy bevezető pár perces előadásotok, ahol a bemutatjátok az adathalmazt, megfogalmazzátok a hipotéziseitek.\n",
        "\n",
        "#### Értékelés\n",
        "A projektmunkát az elvégzett munka, a leadott dokumentáció és a prezentáció minősége alapján értékelni fogjuk. A szerezhető összpontszám **30 pont**. A pozitív eredmény (hipotézis beigazolása, jó teljesítmény elérése) **nem** feltétele a jó jegynek. Az egész csapat ugyanazt az értékelést kapja, kivéve, ha ezt külön kéritek.\n",
        "\n",
        "### Összpontszám:\n",
        "Összesen tehát **40 pont** szerezhető. A jegyek a következőképp alakulnak majd:\n",
        "- Ha legalább 4 házi feladat el lett fogadva, akkor:\n",
        "  - 20 pont alatt: elégtelen\n",
        "  - 20-24 pont: elégséges\n",
        "  - 25-29 pont: közepes\n",
        "  - 30-34 pont: jó\n",
        "  - 35 pont felett: kiváló\n",
        "- Ha 4-nél kevesebb házi feladatot küldtetek be, akkor a végső jegy elégtelen."
      ]
    },
    {
      "cell_type": "code",
      "source": [
        "def whats_my_final_grade(projekt_pontszam, ropz_pontszam, elvegzett_hazifeladatok):\n",
        "  if elvegzett_hazifeladatok < 4:\n",
        "    return 1\n",
        "  else:\n",
        "    pontszam = projekt_pontszam + ropzh + (elvegzett_hazifeladatok - 4)\n",
        "    jegy = (pontszam - 15) // 5 + 1\n",
        "    jegy = max([ min(jegy,5), 1 ])\n",
        "    return jegy\n",
        "\n",
        "projektmunka = 30 # (pont)\n",
        "ropzh = 10 # (pont)\n",
        "hazifeladatok = 6 # (db)\n",
        "\n",
        "print(\"Végső jegy: \", whats_my_final_grade(projektmunka, ropzh, hazifeladatok))"
      ],
      "metadata": {
        "id": "6dBbGGrkivMY",
        "colab": {
          "base_uri": "https://localhost:8080/"
        },
        "outputId": "5b17bc2e-5756-40cd-c260-401c5ee665e9"
      },
      "execution_count": 1,
      "outputs": [
        {
          "output_type": "stream",
          "name": "stdout",
          "text": [
            "Végső jegy:  5\n"
          ]
        }
      ]
    },
    {
      "cell_type": "markdown",
      "metadata": {
        "id": "5nZhKcvPAXIr"
      },
      "source": [
        "# Adatbányászat gyakorlat 3.\n",
        "***\n",
        "Időpont: péntek, 8\\:30–10\\:00 és 10\\:15–11\\:45<br/>\n",
        "Helyszín: 3-107 / 3-111<br/>\n",
        "Elérhetőségek: TEAMS chat, csoport"
      ]
    },
    {
      "cell_type": "markdown",
      "source": [
        "# Adatelőkészítés\n",
        "\n",
        "1. Modellezésben részt nem vevő oszlopok törlése\n",
        "1. Hiányzó értékek kezelése, sorok elhagyása\n",
        "1. Megfelelő oszlopok elkódolása\n",
        "1. Adattáblázat elmentése későbbi használatra\n",
        "\n"
      ],
      "metadata": {
        "id": "WMwzGSQwxAmr"
      }
    },
    {
      "cell_type": "markdown",
      "source": [
        "Ha nincs meg a `titanic.csv`:\n",
        "\n",
        "```\n",
        "from google.colab import files\n",
        "\n",
        "uploaded = files.upload()\n",
        "\n",
        "for fn in uploaded.keys():\n",
        "  print('User uploaded file \"{name}\" with length {length} bytes'.format(\n",
        "      name=fn, length=len(uploaded[fn])))\n",
        "  \n",
        "# Then move kaggle.json into the folder where the API expects to find it.\n",
        "!mkdir -p ~/.kaggle/ && mv kaggle.json ~/.kaggle/ && chmod 600 ~/.kaggle/kaggle.json\n",
        "\n",
        "!kaggle datasets download -d yasserh/titanic-dataset\n",
        "!unzip titanic-dataset.zip\n",
        "\n",
        "df = pd.read_csv(\"Titanic-Dataset.csv\")\n",
        "df.to_csv(\"drive/MyDrive/titanic.csv\", index=False)\n",
        "```"
      ],
      "metadata": {
        "id": "Enqwd_s-Fk1Z"
      }
    },
    {
      "cell_type": "code",
      "source": [
        "import pandas as pd\n",
        "pd.__version__"
      ],
      "metadata": {
        "id": "__KaLbQ6Gcgj",
        "outputId": "0cfa2fab-ca16-4174-f39f-f8f8877941c8",
        "colab": {
          "base_uri": "https://localhost:8080/",
          "height": 35
        }
      },
      "execution_count": null,
      "outputs": [
        {
          "output_type": "execute_result",
          "data": {
            "text/plain": [
              "'1.4.4'"
            ],
            "application/vnd.google.colaboratory.intrinsic+json": {
              "type": "string"
            }
          },
          "metadata": {},
          "execution_count": 1
        }
      ]
    },
    {
      "cell_type": "code",
      "source": [
        "from google.colab import drive\n",
        "drive.mount('/content/drive')"
      ],
      "metadata": {
        "id": "NRBTFWQLxSuD",
        "outputId": "e7b33f22-9094-471d-b7d9-81b172d451e4",
        "colab": {
          "base_uri": "https://localhost:8080/"
        }
      },
      "execution_count": null,
      "outputs": [
        {
          "output_type": "stream",
          "name": "stdout",
          "text": [
            "Mounted at /content/drive\n"
          ]
        }
      ]
    },
    {
      "cell_type": "code",
      "source": [
        "df = pd.read_csv(\"drive/MyDrive/titanic.csv\")"
      ],
      "metadata": {
        "id": "Y9d8cSz3xSHK"
      },
      "execution_count": null,
      "outputs": []
    },
    {
      "cell_type": "code",
      "source": [
        "df.columns"
      ],
      "metadata": {
        "colab": {
          "base_uri": "https://localhost:8080/"
        },
        "id": "X9nzm01LH3Tm",
        "outputId": "5a34f626-d25e-4935-efd5-476db10e6375"
      },
      "execution_count": null,
      "outputs": [
        {
          "output_type": "execute_result",
          "data": {
            "text/plain": [
              "Index(['PassengerId', 'Survived', 'Pclass', 'Name', 'Sex', 'Age', 'SibSp',\n",
              "       'ParCh', 'Ticket', 'Fare', 'Cabin', 'Embarked'],\n",
              "      dtype='object')"
            ]
          },
          "metadata": {},
          "execution_count": 5
        }
      ]
    },
    {
      "cell_type": "code",
      "source": [
        "#df.drop(columns=\"Unnamed: 0\").to_csv(\"drive/MyDrive/titanic.csv\", index=False)"
      ],
      "metadata": {
        "id": "g6-I-pyZH0YQ"
      },
      "execution_count": null,
      "outputs": []
    },
    {
      "cell_type": "code",
      "source": [
        "df.sample(5)"
      ],
      "metadata": {
        "id": "lbp7b7A1xbos",
        "outputId": "75530ab6-943c-46c6-f903-5cece955ff67",
        "colab": {
          "base_uri": "https://localhost:8080/",
          "height": 206
        }
      },
      "execution_count": null,
      "outputs": [
        {
          "output_type": "execute_result",
          "data": {
            "text/plain": [
              "     PassengerId  Survived  Pclass  \\\n",
              "565          566         0       3   \n",
              "209          210         1       1   \n",
              "227          228         0       3   \n",
              "475          476         0       1   \n",
              "809          810         1       1   \n",
              "\n",
              "                                               Name     Sex   Age  SibSp  \\\n",
              "565                            Davies, Mr. Alfred J    male  24.0      2   \n",
              "209                                Blank, Mr. Henry    male  40.0      0   \n",
              "227                 Lovell, Mr. John Hall (\"Henry\")    male  20.5      0   \n",
              "475                     Clifford, Mr. George Quincy    male   NaN      0   \n",
              "809  Chambers, Mrs. Norman Campbell (Bertha Griggs)  female  33.0      1   \n",
              "\n",
              "     ParCh     Ticket   Fare Cabin Embarked  \n",
              "565      0  A/4 48871  24.15   NaN        S  \n",
              "209      0     112277  31.00   A31        C  \n",
              "227      0  A/5 21173   7.25   NaN        S  \n",
              "475      0     110465  52.00   A14        S  \n",
              "809      0     113806  53.10    E8        S  "
            ],
            "text/html": [
              "\n",
              "  <div id=\"df-d770c55b-6075-409c-bd1e-4bc7ac04b58d\">\n",
              "    <div class=\"colab-df-container\">\n",
              "      <div>\n",
              "<style scoped>\n",
              "    .dataframe tbody tr th:only-of-type {\n",
              "        vertical-align: middle;\n",
              "    }\n",
              "\n",
              "    .dataframe tbody tr th {\n",
              "        vertical-align: top;\n",
              "    }\n",
              "\n",
              "    .dataframe thead th {\n",
              "        text-align: right;\n",
              "    }\n",
              "</style>\n",
              "<table border=\"1\" class=\"dataframe\">\n",
              "  <thead>\n",
              "    <tr style=\"text-align: right;\">\n",
              "      <th></th>\n",
              "      <th>PassengerId</th>\n",
              "      <th>Survived</th>\n",
              "      <th>Pclass</th>\n",
              "      <th>Name</th>\n",
              "      <th>Sex</th>\n",
              "      <th>Age</th>\n",
              "      <th>SibSp</th>\n",
              "      <th>ParCh</th>\n",
              "      <th>Ticket</th>\n",
              "      <th>Fare</th>\n",
              "      <th>Cabin</th>\n",
              "      <th>Embarked</th>\n",
              "    </tr>\n",
              "  </thead>\n",
              "  <tbody>\n",
              "    <tr>\n",
              "      <th>565</th>\n",
              "      <td>566</td>\n",
              "      <td>0</td>\n",
              "      <td>3</td>\n",
              "      <td>Davies, Mr. Alfred J</td>\n",
              "      <td>male</td>\n",
              "      <td>24.0</td>\n",
              "      <td>2</td>\n",
              "      <td>0</td>\n",
              "      <td>A/4 48871</td>\n",
              "      <td>24.15</td>\n",
              "      <td>NaN</td>\n",
              "      <td>S</td>\n",
              "    </tr>\n",
              "    <tr>\n",
              "      <th>209</th>\n",
              "      <td>210</td>\n",
              "      <td>1</td>\n",
              "      <td>1</td>\n",
              "      <td>Blank, Mr. Henry</td>\n",
              "      <td>male</td>\n",
              "      <td>40.0</td>\n",
              "      <td>0</td>\n",
              "      <td>0</td>\n",
              "      <td>112277</td>\n",
              "      <td>31.00</td>\n",
              "      <td>A31</td>\n",
              "      <td>C</td>\n",
              "    </tr>\n",
              "    <tr>\n",
              "      <th>227</th>\n",
              "      <td>228</td>\n",
              "      <td>0</td>\n",
              "      <td>3</td>\n",
              "      <td>Lovell, Mr. John Hall (\"Henry\")</td>\n",
              "      <td>male</td>\n",
              "      <td>20.5</td>\n",
              "      <td>0</td>\n",
              "      <td>0</td>\n",
              "      <td>A/5 21173</td>\n",
              "      <td>7.25</td>\n",
              "      <td>NaN</td>\n",
              "      <td>S</td>\n",
              "    </tr>\n",
              "    <tr>\n",
              "      <th>475</th>\n",
              "      <td>476</td>\n",
              "      <td>0</td>\n",
              "      <td>1</td>\n",
              "      <td>Clifford, Mr. George Quincy</td>\n",
              "      <td>male</td>\n",
              "      <td>NaN</td>\n",
              "      <td>0</td>\n",
              "      <td>0</td>\n",
              "      <td>110465</td>\n",
              "      <td>52.00</td>\n",
              "      <td>A14</td>\n",
              "      <td>S</td>\n",
              "    </tr>\n",
              "    <tr>\n",
              "      <th>809</th>\n",
              "      <td>810</td>\n",
              "      <td>1</td>\n",
              "      <td>1</td>\n",
              "      <td>Chambers, Mrs. Norman Campbell (Bertha Griggs)</td>\n",
              "      <td>female</td>\n",
              "      <td>33.0</td>\n",
              "      <td>1</td>\n",
              "      <td>0</td>\n",
              "      <td>113806</td>\n",
              "      <td>53.10</td>\n",
              "      <td>E8</td>\n",
              "      <td>S</td>\n",
              "    </tr>\n",
              "  </tbody>\n",
              "</table>\n",
              "</div>\n",
              "      <button class=\"colab-df-convert\" onclick=\"convertToInteractive('df-d770c55b-6075-409c-bd1e-4bc7ac04b58d')\"\n",
              "              title=\"Convert this dataframe to an interactive table.\"\n",
              "              style=\"display:none;\">\n",
              "        \n",
              "  <svg xmlns=\"http://www.w3.org/2000/svg\" height=\"24px\"viewBox=\"0 0 24 24\"\n",
              "       width=\"24px\">\n",
              "    <path d=\"M0 0h24v24H0V0z\" fill=\"none\"/>\n",
              "    <path d=\"M18.56 5.44l.94 2.06.94-2.06 2.06-.94-2.06-.94-.94-2.06-.94 2.06-2.06.94zm-11 1L8.5 8.5l.94-2.06 2.06-.94-2.06-.94L8.5 2.5l-.94 2.06-2.06.94zm10 10l.94 2.06.94-2.06 2.06-.94-2.06-.94-.94-2.06-.94 2.06-2.06.94z\"/><path d=\"M17.41 7.96l-1.37-1.37c-.4-.4-.92-.59-1.43-.59-.52 0-1.04.2-1.43.59L10.3 9.45l-7.72 7.72c-.78.78-.78 2.05 0 2.83L4 21.41c.39.39.9.59 1.41.59.51 0 1.02-.2 1.41-.59l7.78-7.78 2.81-2.81c.8-.78.8-2.07 0-2.86zM5.41 20L4 18.59l7.72-7.72 1.47 1.35L5.41 20z\"/>\n",
              "  </svg>\n",
              "      </button>\n",
              "      \n",
              "  <style>\n",
              "    .colab-df-container {\n",
              "      display:flex;\n",
              "      flex-wrap:wrap;\n",
              "      gap: 12px;\n",
              "    }\n",
              "\n",
              "    .colab-df-convert {\n",
              "      background-color: #E8F0FE;\n",
              "      border: none;\n",
              "      border-radius: 50%;\n",
              "      cursor: pointer;\n",
              "      display: none;\n",
              "      fill: #1967D2;\n",
              "      height: 32px;\n",
              "      padding: 0 0 0 0;\n",
              "      width: 32px;\n",
              "    }\n",
              "\n",
              "    .colab-df-convert:hover {\n",
              "      background-color: #E2EBFA;\n",
              "      box-shadow: 0px 1px 2px rgba(60, 64, 67, 0.3), 0px 1px 3px 1px rgba(60, 64, 67, 0.15);\n",
              "      fill: #174EA6;\n",
              "    }\n",
              "\n",
              "    [theme=dark] .colab-df-convert {\n",
              "      background-color: #3B4455;\n",
              "      fill: #D2E3FC;\n",
              "    }\n",
              "\n",
              "    [theme=dark] .colab-df-convert:hover {\n",
              "      background-color: #434B5C;\n",
              "      box-shadow: 0px 1px 3px 1px rgba(0, 0, 0, 0.15);\n",
              "      filter: drop-shadow(0px 1px 2px rgba(0, 0, 0, 0.3));\n",
              "      fill: #FFFFFF;\n",
              "    }\n",
              "  </style>\n",
              "\n",
              "      <script>\n",
              "        const buttonEl =\n",
              "          document.querySelector('#df-d770c55b-6075-409c-bd1e-4bc7ac04b58d button.colab-df-convert');\n",
              "        buttonEl.style.display =\n",
              "          google.colab.kernel.accessAllowed ? 'block' : 'none';\n",
              "\n",
              "        async function convertToInteractive(key) {\n",
              "          const element = document.querySelector('#df-d770c55b-6075-409c-bd1e-4bc7ac04b58d');\n",
              "          const dataTable =\n",
              "            await google.colab.kernel.invokeFunction('convertToInteractive',\n",
              "                                                     [key], {});\n",
              "          if (!dataTable) return;\n",
              "\n",
              "          const docLinkHtml = 'Like what you see? Visit the ' +\n",
              "            '<a target=\"_blank\" href=https://colab.research.google.com/notebooks/data_table.ipynb>data table notebook</a>'\n",
              "            + ' to learn more about interactive tables.';\n",
              "          element.innerHTML = '';\n",
              "          dataTable['output_type'] = 'display_data';\n",
              "          await google.colab.output.renderOutput(dataTable, element);\n",
              "          const docLink = document.createElement('div');\n",
              "          docLink.innerHTML = docLinkHtml;\n",
              "          element.appendChild(docLink);\n",
              "        }\n",
              "      </script>\n",
              "    </div>\n",
              "  </div>\n",
              "  "
            ]
          },
          "metadata": {},
          "execution_count": 7
        }
      ]
    },
    {
      "cell_type": "code",
      "source": [
        "df.info()\n"
      ],
      "metadata": {
        "id": "ihvGdSVkV04D",
        "outputId": "e347a5a2-7134-41f7-f78a-aec78fb644d5",
        "colab": {
          "base_uri": "https://localhost:8080/"
        }
      },
      "execution_count": null,
      "outputs": [
        {
          "output_type": "stream",
          "name": "stdout",
          "text": [
            "<class 'pandas.core.frame.DataFrame'>\n",
            "RangeIndex: 891 entries, 0 to 890\n",
            "Data columns (total 12 columns):\n",
            " #   Column       Non-Null Count  Dtype  \n",
            "---  ------       --------------  -----  \n",
            " 0   PassengerId  891 non-null    int64  \n",
            " 1   Survived     891 non-null    int64  \n",
            " 2   Pclass       891 non-null    int64  \n",
            " 3   Name         891 non-null    object \n",
            " 4   Sex          891 non-null    object \n",
            " 5   Age          714 non-null    float64\n",
            " 6   SibSp        891 non-null    int64  \n",
            " 7   ParCh        891 non-null    int64  \n",
            " 8   Ticket       891 non-null    object \n",
            " 9   Fare         891 non-null    float64\n",
            " 10  Cabin        204 non-null    object \n",
            " 11  Embarked     889 non-null    object \n",
            "dtypes: float64(2), int64(5), object(5)\n",
            "memory usage: 83.7+ KB\n"
          ]
        }
      ]
    },
    {
      "cell_type": "code",
      "source": [
        "df = df.drop(columns = [\"PassengerId\", \"Name\", \"Ticket\", \"Cabin\"])"
      ],
      "metadata": {
        "id": "etIKzQ_5uowe"
      },
      "execution_count": null,
      "outputs": []
    },
    {
      "cell_type": "code",
      "source": [
        "df.isna().sum() #Itt összeszámoljuk a hiányos adatokat, kettő is van belőle, mint látjuk"
      ],
      "metadata": {
        "id": "qVsX8M7RBv3D",
        "outputId": "02455611-2899-4328-f89e-d4b55ad45ace",
        "colab": {
          "base_uri": "https://localhost:8080/"
        }
      },
      "execution_count": null,
      "outputs": [
        {
          "output_type": "execute_result",
          "data": {
            "text/plain": [
              "Survived      0\n",
              "Pclass        0\n",
              "Sex           0\n",
              "Age         177\n",
              "SibSp         0\n",
              "ParCh         0\n",
              "Fare          0\n",
              "Embarked      2\n",
              "dtype: int64"
            ]
          },
          "metadata": {},
          "execution_count": 10
        }
      ]
    },
    {
      "cell_type": "code",
      "source": [
        "df = df.dropna().reset_index(drop=True) #Itt kitöröltük azokat a sorokat, amikben hiányos adatok voltak\n",
        "df.columns"
      ],
      "metadata": {
        "id": "b5Rq18ZUvzOe",
        "outputId": "3aa6e9a7-b428-470c-e4ae-bcbecd06bf0e",
        "colab": {
          "base_uri": "https://localhost:8080/"
        }
      },
      "execution_count": null,
      "outputs": [
        {
          "output_type": "execute_result",
          "data": {
            "text/plain": [
              "Index(['Survived', 'Pclass', 'Sex', 'Age', 'SibSp', 'ParCh', 'Fare',\n",
              "       'Embarked'],\n",
              "      dtype='object')"
            ]
          },
          "metadata": {},
          "execution_count": 5
        }
      ]
    },
    {
      "cell_type": "code",
      "source": [
        "from sklearn.preprocessing import OneHotEncoder\n",
        "\n",
        "onehot = OneHotEncoder()\n",
        "\n",
        "values = onehot.fit_transform(df[[\"Embarked\"]]).toarray()\n",
        "categories = onehot.categories_ #Ez itt pusztán csak kigyűjti nekünk egy tömbbe azt, hogy milyen kategóriái vannak az Embarked-nak\n",
        "\n",
        "print(categories) #Itt ki is írja\n",
        "\n",
        "df = df.join(\n",
        "    pd.DataFrame(\n",
        "        values,\n",
        "        columns = [\"is_\" + cat for cat in categories[0]]\n",
        "    )\n",
        ") #Ezzel hozzárakjuk azt a három plusz oszlopot, amit az outputban is látunk: is_C, is_Q és is_S\n",
        "\n",
        "print(df.columns)"
      ],
      "metadata": {
        "id": "B_jcSZ6zvrYT",
        "outputId": "80334538-0de7-4420-aac0-ea04c736b9ef",
        "colab": {
          "base_uri": "https://localhost:8080/"
        }
      },
      "execution_count": null,
      "outputs": [
        {
          "output_type": "stream",
          "name": "stdout",
          "text": [
            "[array(['C', 'Q', 'S'], dtype=object)]\n",
            "Index(['Survived', 'Pclass', 'Sex', 'Age', 'SibSp', 'ParCh', 'Fare',\n",
            "       'Embarked', 'is_C', 'is_Q', 'is_S'],\n",
            "      dtype='object')\n"
          ]
        }
      ]
    },
    {
      "cell_type": "markdown",
      "source": [
        "```\n",
        "print(df[\"Embarked\"].unique())\n",
        "for city in df[\"Embarked\"].unique():\n",
        "  if pd.notna(city): # nézd meg mi történik, ha ezt a feltételt kihagyod\n",
        "    df[f\"is_Embarked_{city}\"] = (df[\"Embarked\"] == city).astype(\"int\")\n",
        "```"
      ],
      "metadata": {
        "id": "ykyPtrS00Ssl"
      }
    },
    {
      "cell_type": "code",
      "source": [
        "sex2int = {\"male\": 0, \"female\": 1}\n",
        "\n",
        "df = df.replace({\n",
        "    \"Sex\": sex2int\n",
        "})"
      ],
      "metadata": {
        "id": "Z06FTEejvCTF"
      },
      "execution_count": null,
      "outputs": []
    },
    {
      "cell_type": "code",
      "source": [
        "#df = df.drop(columns=\"Embarked\")"
      ],
      "metadata": {
        "id": "Aiu3tXdwCc0f"
      },
      "execution_count": null,
      "outputs": []
    },
    {
      "cell_type": "code",
      "source": [
        "df.info()"
      ],
      "metadata": {
        "id": "4fgsdBJ3vfux",
        "colab": {
          "base_uri": "https://localhost:8080/"
        },
        "outputId": "21ab62a4-cd0e-464f-f1c9-3e90cf223d21"
      },
      "execution_count": null,
      "outputs": [
        {
          "output_type": "stream",
          "name": "stdout",
          "text": [
            "<class 'pandas.core.frame.DataFrame'>\n",
            "RangeIndex: 712 entries, 0 to 711\n",
            "Data columns (total 11 columns):\n",
            " #   Column    Non-Null Count  Dtype  \n",
            "---  ------    --------------  -----  \n",
            " 0   Survived  712 non-null    int64  \n",
            " 1   Pclass    712 non-null    int64  \n",
            " 2   Sex       712 non-null    int64  \n",
            " 3   Age       712 non-null    float64\n",
            " 4   SibSp     712 non-null    int64  \n",
            " 5   ParCh     712 non-null    int64  \n",
            " 6   Fare      712 non-null    float64\n",
            " 7   Embarked  712 non-null    object \n",
            " 8   is_C      712 non-null    float64\n",
            " 9   is_Q      712 non-null    float64\n",
            " 10  is_S      712 non-null    float64\n",
            "dtypes: float64(5), int64(5), object(1)\n",
            "memory usage: 61.3+ KB\n"
          ]
        }
      ]
    },
    {
      "cell_type": "code",
      "source": [
        "df"
      ],
      "metadata": {
        "id": "P1f-NZc22jm5",
        "colab": {
          "base_uri": "https://localhost:8080/",
          "height": 424
        },
        "outputId": "271a3387-5f36-47f9-f3e6-ad0a461afe1d"
      },
      "execution_count": null,
      "outputs": [
        {
          "output_type": "execute_result",
          "data": {
            "text/plain": [
              "     Survived  Pclass  Sex   Age  SibSp  ParCh     Fare Embarked  is_C  is_Q  \\\n",
              "0           0       3    0  22.0      1      0   7.2500        S   0.0   0.0   \n",
              "1           1       1    1  38.0      1      0  71.2833        C   1.0   0.0   \n",
              "2           1       3    1  26.0      0      0   7.9250        S   0.0   0.0   \n",
              "3           1       1    1  35.0      1      0  53.1000        S   0.0   0.0   \n",
              "4           0       3    0  35.0      0      0   8.0500        S   0.0   0.0   \n",
              "..        ...     ...  ...   ...    ...    ...      ...      ...   ...   ...   \n",
              "707         0       3    1  39.0      0      5  29.1250        Q   0.0   1.0   \n",
              "708         0       2    0  27.0      0      0  13.0000        S   0.0   0.0   \n",
              "709         1       1    1  19.0      0      0  30.0000        S   0.0   0.0   \n",
              "710         1       1    0  26.0      0      0  30.0000        C   1.0   0.0   \n",
              "711         0       3    0  32.0      0      0   7.7500        Q   0.0   1.0   \n",
              "\n",
              "     is_S  \n",
              "0     1.0  \n",
              "1     0.0  \n",
              "2     1.0  \n",
              "3     1.0  \n",
              "4     1.0  \n",
              "..    ...  \n",
              "707   0.0  \n",
              "708   1.0  \n",
              "709   1.0  \n",
              "710   0.0  \n",
              "711   0.0  \n",
              "\n",
              "[712 rows x 11 columns]"
            ],
            "text/html": [
              "\n",
              "  <div id=\"df-a4f4eaf4-1062-4ae8-a38a-f936a4181b27\">\n",
              "    <div class=\"colab-df-container\">\n",
              "      <div>\n",
              "<style scoped>\n",
              "    .dataframe tbody tr th:only-of-type {\n",
              "        vertical-align: middle;\n",
              "    }\n",
              "\n",
              "    .dataframe tbody tr th {\n",
              "        vertical-align: top;\n",
              "    }\n",
              "\n",
              "    .dataframe thead th {\n",
              "        text-align: right;\n",
              "    }\n",
              "</style>\n",
              "<table border=\"1\" class=\"dataframe\">\n",
              "  <thead>\n",
              "    <tr style=\"text-align: right;\">\n",
              "      <th></th>\n",
              "      <th>Survived</th>\n",
              "      <th>Pclass</th>\n",
              "      <th>Sex</th>\n",
              "      <th>Age</th>\n",
              "      <th>SibSp</th>\n",
              "      <th>ParCh</th>\n",
              "      <th>Fare</th>\n",
              "      <th>Embarked</th>\n",
              "      <th>is_C</th>\n",
              "      <th>is_Q</th>\n",
              "      <th>is_S</th>\n",
              "    </tr>\n",
              "  </thead>\n",
              "  <tbody>\n",
              "    <tr>\n",
              "      <th>0</th>\n",
              "      <td>0</td>\n",
              "      <td>3</td>\n",
              "      <td>0</td>\n",
              "      <td>22.0</td>\n",
              "      <td>1</td>\n",
              "      <td>0</td>\n",
              "      <td>7.2500</td>\n",
              "      <td>S</td>\n",
              "      <td>0.0</td>\n",
              "      <td>0.0</td>\n",
              "      <td>1.0</td>\n",
              "    </tr>\n",
              "    <tr>\n",
              "      <th>1</th>\n",
              "      <td>1</td>\n",
              "      <td>1</td>\n",
              "      <td>1</td>\n",
              "      <td>38.0</td>\n",
              "      <td>1</td>\n",
              "      <td>0</td>\n",
              "      <td>71.2833</td>\n",
              "      <td>C</td>\n",
              "      <td>1.0</td>\n",
              "      <td>0.0</td>\n",
              "      <td>0.0</td>\n",
              "    </tr>\n",
              "    <tr>\n",
              "      <th>2</th>\n",
              "      <td>1</td>\n",
              "      <td>3</td>\n",
              "      <td>1</td>\n",
              "      <td>26.0</td>\n",
              "      <td>0</td>\n",
              "      <td>0</td>\n",
              "      <td>7.9250</td>\n",
              "      <td>S</td>\n",
              "      <td>0.0</td>\n",
              "      <td>0.0</td>\n",
              "      <td>1.0</td>\n",
              "    </tr>\n",
              "    <tr>\n",
              "      <th>3</th>\n",
              "      <td>1</td>\n",
              "      <td>1</td>\n",
              "      <td>1</td>\n",
              "      <td>35.0</td>\n",
              "      <td>1</td>\n",
              "      <td>0</td>\n",
              "      <td>53.1000</td>\n",
              "      <td>S</td>\n",
              "      <td>0.0</td>\n",
              "      <td>0.0</td>\n",
              "      <td>1.0</td>\n",
              "    </tr>\n",
              "    <tr>\n",
              "      <th>4</th>\n",
              "      <td>0</td>\n",
              "      <td>3</td>\n",
              "      <td>0</td>\n",
              "      <td>35.0</td>\n",
              "      <td>0</td>\n",
              "      <td>0</td>\n",
              "      <td>8.0500</td>\n",
              "      <td>S</td>\n",
              "      <td>0.0</td>\n",
              "      <td>0.0</td>\n",
              "      <td>1.0</td>\n",
              "    </tr>\n",
              "    <tr>\n",
              "      <th>...</th>\n",
              "      <td>...</td>\n",
              "      <td>...</td>\n",
              "      <td>...</td>\n",
              "      <td>...</td>\n",
              "      <td>...</td>\n",
              "      <td>...</td>\n",
              "      <td>...</td>\n",
              "      <td>...</td>\n",
              "      <td>...</td>\n",
              "      <td>...</td>\n",
              "      <td>...</td>\n",
              "    </tr>\n",
              "    <tr>\n",
              "      <th>707</th>\n",
              "      <td>0</td>\n",
              "      <td>3</td>\n",
              "      <td>1</td>\n",
              "      <td>39.0</td>\n",
              "      <td>0</td>\n",
              "      <td>5</td>\n",
              "      <td>29.1250</td>\n",
              "      <td>Q</td>\n",
              "      <td>0.0</td>\n",
              "      <td>1.0</td>\n",
              "      <td>0.0</td>\n",
              "    </tr>\n",
              "    <tr>\n",
              "      <th>708</th>\n",
              "      <td>0</td>\n",
              "      <td>2</td>\n",
              "      <td>0</td>\n",
              "      <td>27.0</td>\n",
              "      <td>0</td>\n",
              "      <td>0</td>\n",
              "      <td>13.0000</td>\n",
              "      <td>S</td>\n",
              "      <td>0.0</td>\n",
              "      <td>0.0</td>\n",
              "      <td>1.0</td>\n",
              "    </tr>\n",
              "    <tr>\n",
              "      <th>709</th>\n",
              "      <td>1</td>\n",
              "      <td>1</td>\n",
              "      <td>1</td>\n",
              "      <td>19.0</td>\n",
              "      <td>0</td>\n",
              "      <td>0</td>\n",
              "      <td>30.0000</td>\n",
              "      <td>S</td>\n",
              "      <td>0.0</td>\n",
              "      <td>0.0</td>\n",
              "      <td>1.0</td>\n",
              "    </tr>\n",
              "    <tr>\n",
              "      <th>710</th>\n",
              "      <td>1</td>\n",
              "      <td>1</td>\n",
              "      <td>0</td>\n",
              "      <td>26.0</td>\n",
              "      <td>0</td>\n",
              "      <td>0</td>\n",
              "      <td>30.0000</td>\n",
              "      <td>C</td>\n",
              "      <td>1.0</td>\n",
              "      <td>0.0</td>\n",
              "      <td>0.0</td>\n",
              "    </tr>\n",
              "    <tr>\n",
              "      <th>711</th>\n",
              "      <td>0</td>\n",
              "      <td>3</td>\n",
              "      <td>0</td>\n",
              "      <td>32.0</td>\n",
              "      <td>0</td>\n",
              "      <td>0</td>\n",
              "      <td>7.7500</td>\n",
              "      <td>Q</td>\n",
              "      <td>0.0</td>\n",
              "      <td>1.0</td>\n",
              "      <td>0.0</td>\n",
              "    </tr>\n",
              "  </tbody>\n",
              "</table>\n",
              "<p>712 rows × 11 columns</p>\n",
              "</div>\n",
              "      <button class=\"colab-df-convert\" onclick=\"convertToInteractive('df-a4f4eaf4-1062-4ae8-a38a-f936a4181b27')\"\n",
              "              title=\"Convert this dataframe to an interactive table.\"\n",
              "              style=\"display:none;\">\n",
              "        \n",
              "  <svg xmlns=\"http://www.w3.org/2000/svg\" height=\"24px\"viewBox=\"0 0 24 24\"\n",
              "       width=\"24px\">\n",
              "    <path d=\"M0 0h24v24H0V0z\" fill=\"none\"/>\n",
              "    <path d=\"M18.56 5.44l.94 2.06.94-2.06 2.06-.94-2.06-.94-.94-2.06-.94 2.06-2.06.94zm-11 1L8.5 8.5l.94-2.06 2.06-.94-2.06-.94L8.5 2.5l-.94 2.06-2.06.94zm10 10l.94 2.06.94-2.06 2.06-.94-2.06-.94-.94-2.06-.94 2.06-2.06.94z\"/><path d=\"M17.41 7.96l-1.37-1.37c-.4-.4-.92-.59-1.43-.59-.52 0-1.04.2-1.43.59L10.3 9.45l-7.72 7.72c-.78.78-.78 2.05 0 2.83L4 21.41c.39.39.9.59 1.41.59.51 0 1.02-.2 1.41-.59l7.78-7.78 2.81-2.81c.8-.78.8-2.07 0-2.86zM5.41 20L4 18.59l7.72-7.72 1.47 1.35L5.41 20z\"/>\n",
              "  </svg>\n",
              "      </button>\n",
              "      \n",
              "  <style>\n",
              "    .colab-df-container {\n",
              "      display:flex;\n",
              "      flex-wrap:wrap;\n",
              "      gap: 12px;\n",
              "    }\n",
              "\n",
              "    .colab-df-convert {\n",
              "      background-color: #E8F0FE;\n",
              "      border: none;\n",
              "      border-radius: 50%;\n",
              "      cursor: pointer;\n",
              "      display: none;\n",
              "      fill: #1967D2;\n",
              "      height: 32px;\n",
              "      padding: 0 0 0 0;\n",
              "      width: 32px;\n",
              "    }\n",
              "\n",
              "    .colab-df-convert:hover {\n",
              "      background-color: #E2EBFA;\n",
              "      box-shadow: 0px 1px 2px rgba(60, 64, 67, 0.3), 0px 1px 3px 1px rgba(60, 64, 67, 0.15);\n",
              "      fill: #174EA6;\n",
              "    }\n",
              "\n",
              "    [theme=dark] .colab-df-convert {\n",
              "      background-color: #3B4455;\n",
              "      fill: #D2E3FC;\n",
              "    }\n",
              "\n",
              "    [theme=dark] .colab-df-convert:hover {\n",
              "      background-color: #434B5C;\n",
              "      box-shadow: 0px 1px 3px 1px rgba(0, 0, 0, 0.15);\n",
              "      filter: drop-shadow(0px 1px 2px rgba(0, 0, 0, 0.3));\n",
              "      fill: #FFFFFF;\n",
              "    }\n",
              "  </style>\n",
              "\n",
              "      <script>\n",
              "        const buttonEl =\n",
              "          document.querySelector('#df-a4f4eaf4-1062-4ae8-a38a-f936a4181b27 button.colab-df-convert');\n",
              "        buttonEl.style.display =\n",
              "          google.colab.kernel.accessAllowed ? 'block' : 'none';\n",
              "\n",
              "        async function convertToInteractive(key) {\n",
              "          const element = document.querySelector('#df-a4f4eaf4-1062-4ae8-a38a-f936a4181b27');\n",
              "          const dataTable =\n",
              "            await google.colab.kernel.invokeFunction('convertToInteractive',\n",
              "                                                     [key], {});\n",
              "          if (!dataTable) return;\n",
              "\n",
              "          const docLinkHtml = 'Like what you see? Visit the ' +\n",
              "            '<a target=\"_blank\" href=https://colab.research.google.com/notebooks/data_table.ipynb>data table notebook</a>'\n",
              "            + ' to learn more about interactive tables.';\n",
              "          element.innerHTML = '';\n",
              "          dataTable['output_type'] = 'display_data';\n",
              "          await google.colab.output.renderOutput(dataTable, element);\n",
              "          const docLink = document.createElement('div');\n",
              "          docLink.innerHTML = docLinkHtml;\n",
              "          element.appendChild(docLink);\n",
              "        }\n",
              "      </script>\n",
              "    </div>\n",
              "  </div>\n",
              "  "
            ]
          },
          "metadata": {},
          "execution_count": 16
        }
      ]
    },
    {
      "cell_type": "code",
      "source": [
        "df.to_csv(\"drive/MyDrive/titanic_preprocessed.csv\", index=False)"
      ],
      "metadata": {
        "id": "Q5l4uCBQ5R_V"
      },
      "execution_count": null,
      "outputs": []
    },
    {
      "cell_type": "markdown",
      "source": [
        "# 4. gyakorlat: Modellezés\n",
        "\n",
        "Szeretnénk az adatok alapján megjósolni, hogy egy utas vajon túlélte-e a katasztrófát vagy sem. Ehhez az előző órákon nézegettünk már statisztikákat. Láttuk, hogy a nők és elsőosztályon utazók nagyobb eséllyel élik túl.\n",
        "\n",
        "Modellezés mindezen megfigyelések észrevételét átadjuk egy klasszifikálónak, tanulja meg ő az észlelhető mintázatokat. Az órán a döntési fákat fogjuk vizsgálni.\n",
        "\n",
        "**Elmélet**:\n",
        "Adott egy $X\\in\\mathbf{R}^{n\\times k}$ $n$ mintaméretű, $k$ featuret tartalmazó adathalmazod, és egy $y\\in \\{0,1\\}^{n}$ célváltozó. Célunk olyan $f\\in\\mathcal{F}$ függvény (modell) találása, amely valamely $\\mathcal{L}$ veszteségfüggvényt minimalizál, vagyis egy $p=f(X)$ predikcióra az $\\mathcal{L}(y,p)$ veszteség minimális:\n",
        "$$ f\\in\\mathcal{F}: \\mathcal{L}(y,f(X)) → min! $$\n",
        "A lehetséges modellek tere jellemzően szűk, ezen az órán például a $\\mathcal{F}$ = döntési fák halmaza.\n",
        "\n",
        "Forrás:\n",
        "* [sklearn.tree.DecisionTreeClassifier](https://scikit-learn.org/stable/modules/generated/sklearn.tree.DecisionTreeClassifier.html#sklearn.tree.DecisionTreeClassifier)\n"
      ],
      "metadata": {
        "id": "o-O5_xbeFfF7"
      }
    },
    {
      "cell_type": "code",
      "source": [
        "from sklearn.tree import DecisionTreeClassifier\n",
        "from sklearn.metrics import confusion_matrix\n",
        "from sklearn.metrics import accuracy_score\n",
        "from sklearn.metrics import confusion_matrix\n",
        "from sklearn.model_selection import train_test_split\n",
        "from sklearn.linear_model import LinearRegression"
      ],
      "metadata": {
        "id": "inslVDajyJRv"
      },
      "execution_count": null,
      "outputs": []
    },
    {
      "cell_type": "code",
      "source": [
        "DecisionTreeClassifier?"
      ],
      "metadata": {
        "id": "2sVzwfrP2_ps"
      },
      "execution_count": null,
      "outputs": []
    },
    {
      "cell_type": "code",
      "source": [
        "df = pd.read_csv(\"drive/MyDrive/titanic_preprocessed.csv\")\n",
        "df = df.drop(columns = [\"Embarked\", \"Fare\", \"is_C\", \"is_Q\", \"is_S\"])\n",
        "df"
      ],
      "metadata": {
        "id": "_EqnCXRO5aKt",
        "colab": {
          "base_uri": "https://localhost:8080/",
          "height": 424
        },
        "outputId": "50e685b3-1d99-4c88-b6c6-bcfe2062bff6"
      },
      "execution_count": null,
      "outputs": [
        {
          "output_type": "execute_result",
          "data": {
            "text/plain": [
              "     Survived  Pclass  Sex   Age  SibSp  ParCh\n",
              "0           0       3    0  22.0      1      0\n",
              "1           1       1    1  38.0      1      0\n",
              "2           1       3    1  26.0      0      0\n",
              "3           1       1    1  35.0      1      0\n",
              "4           0       3    0  35.0      0      0\n",
              "..        ...     ...  ...   ...    ...    ...\n",
              "707         0       3    1  39.0      0      5\n",
              "708         0       2    0  27.0      0      0\n",
              "709         1       1    1  19.0      0      0\n",
              "710         1       1    0  26.0      0      0\n",
              "711         0       3    0  32.0      0      0\n",
              "\n",
              "[712 rows x 6 columns]"
            ],
            "text/html": [
              "\n",
              "  <div id=\"df-470c6f86-ac14-49cc-bd7e-4a09490b219b\">\n",
              "    <div class=\"colab-df-container\">\n",
              "      <div>\n",
              "<style scoped>\n",
              "    .dataframe tbody tr th:only-of-type {\n",
              "        vertical-align: middle;\n",
              "    }\n",
              "\n",
              "    .dataframe tbody tr th {\n",
              "        vertical-align: top;\n",
              "    }\n",
              "\n",
              "    .dataframe thead th {\n",
              "        text-align: right;\n",
              "    }\n",
              "</style>\n",
              "<table border=\"1\" class=\"dataframe\">\n",
              "  <thead>\n",
              "    <tr style=\"text-align: right;\">\n",
              "      <th></th>\n",
              "      <th>Survived</th>\n",
              "      <th>Pclass</th>\n",
              "      <th>Sex</th>\n",
              "      <th>Age</th>\n",
              "      <th>SibSp</th>\n",
              "      <th>ParCh</th>\n",
              "    </tr>\n",
              "  </thead>\n",
              "  <tbody>\n",
              "    <tr>\n",
              "      <th>0</th>\n",
              "      <td>0</td>\n",
              "      <td>3</td>\n",
              "      <td>0</td>\n",
              "      <td>22.0</td>\n",
              "      <td>1</td>\n",
              "      <td>0</td>\n",
              "    </tr>\n",
              "    <tr>\n",
              "      <th>1</th>\n",
              "      <td>1</td>\n",
              "      <td>1</td>\n",
              "      <td>1</td>\n",
              "      <td>38.0</td>\n",
              "      <td>1</td>\n",
              "      <td>0</td>\n",
              "    </tr>\n",
              "    <tr>\n",
              "      <th>2</th>\n",
              "      <td>1</td>\n",
              "      <td>3</td>\n",
              "      <td>1</td>\n",
              "      <td>26.0</td>\n",
              "      <td>0</td>\n",
              "      <td>0</td>\n",
              "    </tr>\n",
              "    <tr>\n",
              "      <th>3</th>\n",
              "      <td>1</td>\n",
              "      <td>1</td>\n",
              "      <td>1</td>\n",
              "      <td>35.0</td>\n",
              "      <td>1</td>\n",
              "      <td>0</td>\n",
              "    </tr>\n",
              "    <tr>\n",
              "      <th>4</th>\n",
              "      <td>0</td>\n",
              "      <td>3</td>\n",
              "      <td>0</td>\n",
              "      <td>35.0</td>\n",
              "      <td>0</td>\n",
              "      <td>0</td>\n",
              "    </tr>\n",
              "    <tr>\n",
              "      <th>...</th>\n",
              "      <td>...</td>\n",
              "      <td>...</td>\n",
              "      <td>...</td>\n",
              "      <td>...</td>\n",
              "      <td>...</td>\n",
              "      <td>...</td>\n",
              "    </tr>\n",
              "    <tr>\n",
              "      <th>707</th>\n",
              "      <td>0</td>\n",
              "      <td>3</td>\n",
              "      <td>1</td>\n",
              "      <td>39.0</td>\n",
              "      <td>0</td>\n",
              "      <td>5</td>\n",
              "    </tr>\n",
              "    <tr>\n",
              "      <th>708</th>\n",
              "      <td>0</td>\n",
              "      <td>2</td>\n",
              "      <td>0</td>\n",
              "      <td>27.0</td>\n",
              "      <td>0</td>\n",
              "      <td>0</td>\n",
              "    </tr>\n",
              "    <tr>\n",
              "      <th>709</th>\n",
              "      <td>1</td>\n",
              "      <td>1</td>\n",
              "      <td>1</td>\n",
              "      <td>19.0</td>\n",
              "      <td>0</td>\n",
              "      <td>0</td>\n",
              "    </tr>\n",
              "    <tr>\n",
              "      <th>710</th>\n",
              "      <td>1</td>\n",
              "      <td>1</td>\n",
              "      <td>0</td>\n",
              "      <td>26.0</td>\n",
              "      <td>0</td>\n",
              "      <td>0</td>\n",
              "    </tr>\n",
              "    <tr>\n",
              "      <th>711</th>\n",
              "      <td>0</td>\n",
              "      <td>3</td>\n",
              "      <td>0</td>\n",
              "      <td>32.0</td>\n",
              "      <td>0</td>\n",
              "      <td>0</td>\n",
              "    </tr>\n",
              "  </tbody>\n",
              "</table>\n",
              "<p>712 rows × 6 columns</p>\n",
              "</div>\n",
              "      <button class=\"colab-df-convert\" onclick=\"convertToInteractive('df-470c6f86-ac14-49cc-bd7e-4a09490b219b')\"\n",
              "              title=\"Convert this dataframe to an interactive table.\"\n",
              "              style=\"display:none;\">\n",
              "        \n",
              "  <svg xmlns=\"http://www.w3.org/2000/svg\" height=\"24px\"viewBox=\"0 0 24 24\"\n",
              "       width=\"24px\">\n",
              "    <path d=\"M0 0h24v24H0V0z\" fill=\"none\"/>\n",
              "    <path d=\"M18.56 5.44l.94 2.06.94-2.06 2.06-.94-2.06-.94-.94-2.06-.94 2.06-2.06.94zm-11 1L8.5 8.5l.94-2.06 2.06-.94-2.06-.94L8.5 2.5l-.94 2.06-2.06.94zm10 10l.94 2.06.94-2.06 2.06-.94-2.06-.94-.94-2.06-.94 2.06-2.06.94z\"/><path d=\"M17.41 7.96l-1.37-1.37c-.4-.4-.92-.59-1.43-.59-.52 0-1.04.2-1.43.59L10.3 9.45l-7.72 7.72c-.78.78-.78 2.05 0 2.83L4 21.41c.39.39.9.59 1.41.59.51 0 1.02-.2 1.41-.59l7.78-7.78 2.81-2.81c.8-.78.8-2.07 0-2.86zM5.41 20L4 18.59l7.72-7.72 1.47 1.35L5.41 20z\"/>\n",
              "  </svg>\n",
              "      </button>\n",
              "      \n",
              "  <style>\n",
              "    .colab-df-container {\n",
              "      display:flex;\n",
              "      flex-wrap:wrap;\n",
              "      gap: 12px;\n",
              "    }\n",
              "\n",
              "    .colab-df-convert {\n",
              "      background-color: #E8F0FE;\n",
              "      border: none;\n",
              "      border-radius: 50%;\n",
              "      cursor: pointer;\n",
              "      display: none;\n",
              "      fill: #1967D2;\n",
              "      height: 32px;\n",
              "      padding: 0 0 0 0;\n",
              "      width: 32px;\n",
              "    }\n",
              "\n",
              "    .colab-df-convert:hover {\n",
              "      background-color: #E2EBFA;\n",
              "      box-shadow: 0px 1px 2px rgba(60, 64, 67, 0.3), 0px 1px 3px 1px rgba(60, 64, 67, 0.15);\n",
              "      fill: #174EA6;\n",
              "    }\n",
              "\n",
              "    [theme=dark] .colab-df-convert {\n",
              "      background-color: #3B4455;\n",
              "      fill: #D2E3FC;\n",
              "    }\n",
              "\n",
              "    [theme=dark] .colab-df-convert:hover {\n",
              "      background-color: #434B5C;\n",
              "      box-shadow: 0px 1px 3px 1px rgba(0, 0, 0, 0.15);\n",
              "      filter: drop-shadow(0px 1px 2px rgba(0, 0, 0, 0.3));\n",
              "      fill: #FFFFFF;\n",
              "    }\n",
              "  </style>\n",
              "\n",
              "      <script>\n",
              "        const buttonEl =\n",
              "          document.querySelector('#df-470c6f86-ac14-49cc-bd7e-4a09490b219b button.colab-df-convert');\n",
              "        buttonEl.style.display =\n",
              "          google.colab.kernel.accessAllowed ? 'block' : 'none';\n",
              "\n",
              "        async function convertToInteractive(key) {\n",
              "          const element = document.querySelector('#df-470c6f86-ac14-49cc-bd7e-4a09490b219b');\n",
              "          const dataTable =\n",
              "            await google.colab.kernel.invokeFunction('convertToInteractive',\n",
              "                                                     [key], {});\n",
              "          if (!dataTable) return;\n",
              "\n",
              "          const docLinkHtml = 'Like what you see? Visit the ' +\n",
              "            '<a target=\"_blank\" href=https://colab.research.google.com/notebooks/data_table.ipynb>data table notebook</a>'\n",
              "            + ' to learn more about interactive tables.';\n",
              "          element.innerHTML = '';\n",
              "          dataTable['output_type'] = 'display_data';\n",
              "          await google.colab.output.renderOutput(dataTable, element);\n",
              "          const docLink = document.createElement('div');\n",
              "          docLink.innerHTML = docLinkHtml;\n",
              "          element.appendChild(docLink);\n",
              "        }\n",
              "      </script>\n",
              "    </div>\n",
              "  </div>\n",
              "  "
            ]
          },
          "metadata": {},
          "execution_count": 17
        }
      ]
    },
    {
      "cell_type": "code",
      "source": [
        "df.columns\n",
        "df[\"Age\"] = df[\"Age\"].astype(int)\n",
        "df"
      ],
      "metadata": {
        "id": "DstHg4xU5TF7",
        "colab": {
          "base_uri": "https://localhost:8080/",
          "height": 424
        },
        "outputId": "50f47a5c-da03-4b72-fbb6-0dc2cdeefdd9"
      },
      "execution_count": null,
      "outputs": [
        {
          "output_type": "execute_result",
          "data": {
            "text/plain": [
              "     Survived  Pclass  Sex  Age  SibSp  ParCh\n",
              "0           0       3    0   22      1      0\n",
              "1           1       1    1   38      1      0\n",
              "2           1       3    1   26      0      0\n",
              "3           1       1    1   35      1      0\n",
              "4           0       3    0   35      0      0\n",
              "..        ...     ...  ...  ...    ...    ...\n",
              "707         0       3    1   39      0      5\n",
              "708         0       2    0   27      0      0\n",
              "709         1       1    1   19      0      0\n",
              "710         1       1    0   26      0      0\n",
              "711         0       3    0   32      0      0\n",
              "\n",
              "[712 rows x 6 columns]"
            ],
            "text/html": [
              "\n",
              "  <div id=\"df-8a69e096-3332-4baa-95e5-22ccdc03a36a\">\n",
              "    <div class=\"colab-df-container\">\n",
              "      <div>\n",
              "<style scoped>\n",
              "    .dataframe tbody tr th:only-of-type {\n",
              "        vertical-align: middle;\n",
              "    }\n",
              "\n",
              "    .dataframe tbody tr th {\n",
              "        vertical-align: top;\n",
              "    }\n",
              "\n",
              "    .dataframe thead th {\n",
              "        text-align: right;\n",
              "    }\n",
              "</style>\n",
              "<table border=\"1\" class=\"dataframe\">\n",
              "  <thead>\n",
              "    <tr style=\"text-align: right;\">\n",
              "      <th></th>\n",
              "      <th>Survived</th>\n",
              "      <th>Pclass</th>\n",
              "      <th>Sex</th>\n",
              "      <th>Age</th>\n",
              "      <th>SibSp</th>\n",
              "      <th>ParCh</th>\n",
              "    </tr>\n",
              "  </thead>\n",
              "  <tbody>\n",
              "    <tr>\n",
              "      <th>0</th>\n",
              "      <td>0</td>\n",
              "      <td>3</td>\n",
              "      <td>0</td>\n",
              "      <td>22</td>\n",
              "      <td>1</td>\n",
              "      <td>0</td>\n",
              "    </tr>\n",
              "    <tr>\n",
              "      <th>1</th>\n",
              "      <td>1</td>\n",
              "      <td>1</td>\n",
              "      <td>1</td>\n",
              "      <td>38</td>\n",
              "      <td>1</td>\n",
              "      <td>0</td>\n",
              "    </tr>\n",
              "    <tr>\n",
              "      <th>2</th>\n",
              "      <td>1</td>\n",
              "      <td>3</td>\n",
              "      <td>1</td>\n",
              "      <td>26</td>\n",
              "      <td>0</td>\n",
              "      <td>0</td>\n",
              "    </tr>\n",
              "    <tr>\n",
              "      <th>3</th>\n",
              "      <td>1</td>\n",
              "      <td>1</td>\n",
              "      <td>1</td>\n",
              "      <td>35</td>\n",
              "      <td>1</td>\n",
              "      <td>0</td>\n",
              "    </tr>\n",
              "    <tr>\n",
              "      <th>4</th>\n",
              "      <td>0</td>\n",
              "      <td>3</td>\n",
              "      <td>0</td>\n",
              "      <td>35</td>\n",
              "      <td>0</td>\n",
              "      <td>0</td>\n",
              "    </tr>\n",
              "    <tr>\n",
              "      <th>...</th>\n",
              "      <td>...</td>\n",
              "      <td>...</td>\n",
              "      <td>...</td>\n",
              "      <td>...</td>\n",
              "      <td>...</td>\n",
              "      <td>...</td>\n",
              "    </tr>\n",
              "    <tr>\n",
              "      <th>707</th>\n",
              "      <td>0</td>\n",
              "      <td>3</td>\n",
              "      <td>1</td>\n",
              "      <td>39</td>\n",
              "      <td>0</td>\n",
              "      <td>5</td>\n",
              "    </tr>\n",
              "    <tr>\n",
              "      <th>708</th>\n",
              "      <td>0</td>\n",
              "      <td>2</td>\n",
              "      <td>0</td>\n",
              "      <td>27</td>\n",
              "      <td>0</td>\n",
              "      <td>0</td>\n",
              "    </tr>\n",
              "    <tr>\n",
              "      <th>709</th>\n",
              "      <td>1</td>\n",
              "      <td>1</td>\n",
              "      <td>1</td>\n",
              "      <td>19</td>\n",
              "      <td>0</td>\n",
              "      <td>0</td>\n",
              "    </tr>\n",
              "    <tr>\n",
              "      <th>710</th>\n",
              "      <td>1</td>\n",
              "      <td>1</td>\n",
              "      <td>0</td>\n",
              "      <td>26</td>\n",
              "      <td>0</td>\n",
              "      <td>0</td>\n",
              "    </tr>\n",
              "    <tr>\n",
              "      <th>711</th>\n",
              "      <td>0</td>\n",
              "      <td>3</td>\n",
              "      <td>0</td>\n",
              "      <td>32</td>\n",
              "      <td>0</td>\n",
              "      <td>0</td>\n",
              "    </tr>\n",
              "  </tbody>\n",
              "</table>\n",
              "<p>712 rows × 6 columns</p>\n",
              "</div>\n",
              "      <button class=\"colab-df-convert\" onclick=\"convertToInteractive('df-8a69e096-3332-4baa-95e5-22ccdc03a36a')\"\n",
              "              title=\"Convert this dataframe to an interactive table.\"\n",
              "              style=\"display:none;\">\n",
              "        \n",
              "  <svg xmlns=\"http://www.w3.org/2000/svg\" height=\"24px\"viewBox=\"0 0 24 24\"\n",
              "       width=\"24px\">\n",
              "    <path d=\"M0 0h24v24H0V0z\" fill=\"none\"/>\n",
              "    <path d=\"M18.56 5.44l.94 2.06.94-2.06 2.06-.94-2.06-.94-.94-2.06-.94 2.06-2.06.94zm-11 1L8.5 8.5l.94-2.06 2.06-.94-2.06-.94L8.5 2.5l-.94 2.06-2.06.94zm10 10l.94 2.06.94-2.06 2.06-.94-2.06-.94-.94-2.06-.94 2.06-2.06.94z\"/><path d=\"M17.41 7.96l-1.37-1.37c-.4-.4-.92-.59-1.43-.59-.52 0-1.04.2-1.43.59L10.3 9.45l-7.72 7.72c-.78.78-.78 2.05 0 2.83L4 21.41c.39.39.9.59 1.41.59.51 0 1.02-.2 1.41-.59l7.78-7.78 2.81-2.81c.8-.78.8-2.07 0-2.86zM5.41 20L4 18.59l7.72-7.72 1.47 1.35L5.41 20z\"/>\n",
              "  </svg>\n",
              "      </button>\n",
              "      \n",
              "  <style>\n",
              "    .colab-df-container {\n",
              "      display:flex;\n",
              "      flex-wrap:wrap;\n",
              "      gap: 12px;\n",
              "    }\n",
              "\n",
              "    .colab-df-convert {\n",
              "      background-color: #E8F0FE;\n",
              "      border: none;\n",
              "      border-radius: 50%;\n",
              "      cursor: pointer;\n",
              "      display: none;\n",
              "      fill: #1967D2;\n",
              "      height: 32px;\n",
              "      padding: 0 0 0 0;\n",
              "      width: 32px;\n",
              "    }\n",
              "\n",
              "    .colab-df-convert:hover {\n",
              "      background-color: #E2EBFA;\n",
              "      box-shadow: 0px 1px 2px rgba(60, 64, 67, 0.3), 0px 1px 3px 1px rgba(60, 64, 67, 0.15);\n",
              "      fill: #174EA6;\n",
              "    }\n",
              "\n",
              "    [theme=dark] .colab-df-convert {\n",
              "      background-color: #3B4455;\n",
              "      fill: #D2E3FC;\n",
              "    }\n",
              "\n",
              "    [theme=dark] .colab-df-convert:hover {\n",
              "      background-color: #434B5C;\n",
              "      box-shadow: 0px 1px 3px 1px rgba(0, 0, 0, 0.15);\n",
              "      filter: drop-shadow(0px 1px 2px rgba(0, 0, 0, 0.3));\n",
              "      fill: #FFFFFF;\n",
              "    }\n",
              "  </style>\n",
              "\n",
              "      <script>\n",
              "        const buttonEl =\n",
              "          document.querySelector('#df-8a69e096-3332-4baa-95e5-22ccdc03a36a button.colab-df-convert');\n",
              "        buttonEl.style.display =\n",
              "          google.colab.kernel.accessAllowed ? 'block' : 'none';\n",
              "\n",
              "        async function convertToInteractive(key) {\n",
              "          const element = document.querySelector('#df-8a69e096-3332-4baa-95e5-22ccdc03a36a');\n",
              "          const dataTable =\n",
              "            await google.colab.kernel.invokeFunction('convertToInteractive',\n",
              "                                                     [key], {});\n",
              "          if (!dataTable) return;\n",
              "\n",
              "          const docLinkHtml = 'Like what you see? Visit the ' +\n",
              "            '<a target=\"_blank\" href=https://colab.research.google.com/notebooks/data_table.ipynb>data table notebook</a>'\n",
              "            + ' to learn more about interactive tables.';\n",
              "          element.innerHTML = '';\n",
              "          dataTable['output_type'] = 'display_data';\n",
              "          await google.colab.output.renderOutput(dataTable, element);\n",
              "          const docLink = document.createElement('div');\n",
              "          docLink.innerHTML = docLinkHtml;\n",
              "          element.appendChild(docLink);\n",
              "        }\n",
              "      </script>\n",
              "    </div>\n",
              "  </div>\n",
              "  "
            ]
          },
          "metadata": {},
          "execution_count": 22
        }
      ]
    },
    {
      "cell_type": "code",
      "source": [
        "df[\"Survived\"].value_counts()"
      ],
      "metadata": {
        "id": "9aBOlYd85Zfs",
        "colab": {
          "base_uri": "https://localhost:8080/"
        },
        "outputId": "631b36e1-5924-4597-f3df-47b8d284a67c"
      },
      "execution_count": null,
      "outputs": [
        {
          "output_type": "execute_result",
          "data": {
            "text/plain": [
              "0    424\n",
              "1    288\n",
              "Name: Survived, dtype: int64"
            ]
          },
          "metadata": {},
          "execution_count": 22
        }
      ]
    },
    {
      "cell_type": "code",
      "source": [
        "X, y = df.drop(columns=\"Survived\"), df[\"Survived\"]"
      ],
      "metadata": {
        "id": "A1fg-exN5Nkz"
      },
      "execution_count": null,
      "outputs": []
    },
    {
      "cell_type": "code",
      "source": [
        "# Itt most rátanulok lineáris regresszióval is, hogy lássam, hogy annak mekkora az accuracy score-ja\n",
        "\n",
        "X_train, X_test, y_train, y_test = train_test_split(X,y, test_size=0.2, random_state=42)\n",
        "model = LinearRegression()\n",
        "model.fit(X_train, y_train)\n",
        "preds = model.predict(X_test)\n",
        "\n",
        "confusion_matrix(y_test, preds)"
      ],
      "metadata": {
        "colab": {
          "base_uri": "https://localhost:8080/",
          "height": 345
        },
        "id": "oEc30G51CePC",
        "outputId": "ba496a13-1490-4b02-e5d4-d48ca800a8a3"
      },
      "execution_count": null,
      "outputs": [
        {
          "output_type": "error",
          "ename": "ValueError",
          "evalue": "ignored",
          "traceback": [
            "\u001b[0;31m---------------------------------------------------------------------------\u001b[0m",
            "\u001b[0;31mValueError\u001b[0m                                Traceback (most recent call last)",
            "\u001b[0;32m<ipython-input-25-ce448d6b7a8a>\u001b[0m in \u001b[0;36m<cell line: 8>\u001b[0;34m()\u001b[0m\n\u001b[1;32m      6\u001b[0m \u001b[0mpreds\u001b[0m \u001b[0;34m=\u001b[0m \u001b[0mmodel\u001b[0m\u001b[0;34m.\u001b[0m\u001b[0mpredict\u001b[0m\u001b[0;34m(\u001b[0m\u001b[0mX_test\u001b[0m\u001b[0;34m)\u001b[0m\u001b[0;34m\u001b[0m\u001b[0;34m\u001b[0m\u001b[0m\n\u001b[1;32m      7\u001b[0m \u001b[0;34m\u001b[0m\u001b[0m\n\u001b[0;32m----> 8\u001b[0;31m \u001b[0mconfusion_matrix\u001b[0m\u001b[0;34m(\u001b[0m\u001b[0my_test\u001b[0m\u001b[0;34m,\u001b[0m \u001b[0mpreds\u001b[0m\u001b[0;34m)\u001b[0m\u001b[0;34m\u001b[0m\u001b[0;34m\u001b[0m\u001b[0m\n\u001b[0m",
            "\u001b[0;32m/usr/local/lib/python3.9/dist-packages/sklearn/metrics/_classification.py\u001b[0m in \u001b[0;36mconfusion_matrix\u001b[0;34m(y_true, y_pred, labels, sample_weight, normalize)\u001b[0m\n\u001b[1;32m    315\u001b[0m     \u001b[0;34m(\u001b[0m\u001b[0;36m0\u001b[0m\u001b[0;34m,\u001b[0m \u001b[0;36m2\u001b[0m\u001b[0;34m,\u001b[0m \u001b[0;36m1\u001b[0m\u001b[0;34m,\u001b[0m \u001b[0;36m1\u001b[0m\u001b[0;34m)\u001b[0m\u001b[0;34m\u001b[0m\u001b[0;34m\u001b[0m\u001b[0m\n\u001b[1;32m    316\u001b[0m     \"\"\"\n\u001b[0;32m--> 317\u001b[0;31m     \u001b[0my_type\u001b[0m\u001b[0;34m,\u001b[0m \u001b[0my_true\u001b[0m\u001b[0;34m,\u001b[0m \u001b[0my_pred\u001b[0m \u001b[0;34m=\u001b[0m \u001b[0m_check_targets\u001b[0m\u001b[0;34m(\u001b[0m\u001b[0my_true\u001b[0m\u001b[0;34m,\u001b[0m \u001b[0my_pred\u001b[0m\u001b[0;34m)\u001b[0m\u001b[0;34m\u001b[0m\u001b[0;34m\u001b[0m\u001b[0m\n\u001b[0m\u001b[1;32m    318\u001b[0m     \u001b[0;32mif\u001b[0m \u001b[0my_type\u001b[0m \u001b[0;32mnot\u001b[0m \u001b[0;32min\u001b[0m \u001b[0;34m(\u001b[0m\u001b[0;34m\"binary\"\u001b[0m\u001b[0;34m,\u001b[0m \u001b[0;34m\"multiclass\"\u001b[0m\u001b[0;34m)\u001b[0m\u001b[0;34m:\u001b[0m\u001b[0;34m\u001b[0m\u001b[0;34m\u001b[0m\u001b[0m\n\u001b[1;32m    319\u001b[0m         \u001b[0;32mraise\u001b[0m \u001b[0mValueError\u001b[0m\u001b[0;34m(\u001b[0m\u001b[0;34m\"%s is not supported\"\u001b[0m \u001b[0;34m%\u001b[0m \u001b[0my_type\u001b[0m\u001b[0;34m)\u001b[0m\u001b[0;34m\u001b[0m\u001b[0;34m\u001b[0m\u001b[0m\n",
            "\u001b[0;32m/usr/local/lib/python3.9/dist-packages/sklearn/metrics/_classification.py\u001b[0m in \u001b[0;36m_check_targets\u001b[0;34m(y_true, y_pred)\u001b[0m\n\u001b[1;32m     93\u001b[0m \u001b[0;34m\u001b[0m\u001b[0m\n\u001b[1;32m     94\u001b[0m     \u001b[0;32mif\u001b[0m \u001b[0mlen\u001b[0m\u001b[0;34m(\u001b[0m\u001b[0my_type\u001b[0m\u001b[0;34m)\u001b[0m \u001b[0;34m>\u001b[0m \u001b[0;36m1\u001b[0m\u001b[0;34m:\u001b[0m\u001b[0;34m\u001b[0m\u001b[0;34m\u001b[0m\u001b[0m\n\u001b[0;32m---> 95\u001b[0;31m         raise ValueError(\n\u001b[0m\u001b[1;32m     96\u001b[0m             \"Classification metrics can't handle a mix of {0} and {1} targets\".format(\n\u001b[1;32m     97\u001b[0m                 \u001b[0mtype_true\u001b[0m\u001b[0;34m,\u001b[0m \u001b[0mtype_pred\u001b[0m\u001b[0;34m\u001b[0m\u001b[0;34m\u001b[0m\u001b[0m\n",
            "\u001b[0;31mValueError\u001b[0m: Classification metrics can't handle a mix of binary and continuous targets"
          ]
        }
      ]
    },
    {
      "cell_type": "code",
      "source": [
        "model = DecisionTreeClassifier()\n",
        "model.fit(X,y)"
      ],
      "metadata": {
        "id": "qN24ZcqL2_nY"
      },
      "execution_count": null,
      "outputs": []
    },
    {
      "cell_type": "code",
      "source": [
        "preds = model.predict(X)\n",
        "sum(abs(y-preds))"
      ],
      "metadata": {
        "id": "ur237U3UC5C6"
      },
      "execution_count": null,
      "outputs": []
    },
    {
      "cell_type": "code",
      "source": [
        "confusion_matrix(y,preds)"
      ],
      "metadata": {
        "id": "vYrU4tjHDHmY"
      },
      "execution_count": null,
      "outputs": []
    },
    {
      "cell_type": "code",
      "source": [
        "import matplotlib.pyplot as plt\n",
        "from sklearn.tree import plot_tree"
      ],
      "metadata": {
        "id": "bGkit-aY50E8"
      },
      "execution_count": null,
      "outputs": []
    },
    {
      "cell_type": "code",
      "source": [
        "plot_tree(model)\n",
        "plt.show()"
      ],
      "metadata": {
        "id": "DntimL0M6KrJ"
      },
      "execution_count": null,
      "outputs": []
    },
    {
      "cell_type": "code",
      "source": [
        "tree = model.tree_\n",
        "tree.max_depth, len(X)"
      ],
      "metadata": {
        "id": "ZpEcrfRK6cTl"
      },
      "execution_count": null,
      "outputs": []
    },
    {
      "cell_type": "markdown",
      "source": [
        "A $n$ mély döntési fa  leveleinek maximális száma (*kapacitása*) $2^{n-1}$, jelen esetben $2^{19} = 524288$. Ez *jóval* nagyobb mint a $712$-es mintanagyság. Következésképp a modell (ha más faktorok nem szólnának közbe) akár az *egész adathalmazt* megtanulhatná.\n",
        "Mi azonban nem ezt szeretnénk!"
      ],
      "metadata": {
        "id": "h4giTAYn6sqX"
      }
    },
    {
      "cell_type": "markdown",
      "source": [
        "# Keresztvalidáció\n",
        "\n",
        "Keresztvalidáció (cross validation - CV) alkalmazásával megengedjük a modell kis mértékű _romlását_ annak érdekében, hogy az _általánosítási képessége_ nőjön (ne az adatokra tanuljon rá, hanem egy áltlános _mintát_ találjon meg).\n",
        "\n",
        "Többféle létezik, de két alapvetőt ismertetünk:\n",
        "- Holdout method: train-test vágásnak is nevezik, ez a legegyszerűbb. Az adatokból véletlenszerűen leválasztunk egy _teszt_ halmazt, ami nem vesz részt a tanításban. A tanítást a maradék _train_ adathalmazon végezzük el, de a betanított modell kiértékelését a félretett teszt halmazon. A két halmazon nézett performancia különbség (a trainen kell a nagyobb legyen) mutatja a _túltanulás_ mértékét.\n",
        "  - Előny: gyors, egyszerű\n",
        "  - Hátrány: biztosítani kell, hogy a két halmaz eloszlása megegyezzen, azaz hasonlítson\n",
        "- KFold: $k$-rétegű keresztvalidáció során az adatokat $k$ egyenlő részre vágjuk, és a tanítást $k$-szor ismételjük, váltogatva, hogy melyik részt _hagyjuk ki_ a tanításból.\n",
        "  - Előny: megbízhatóbb eredmény, a performanciának szórása is lesz (mutatja az eredmény megbízhatóságát)\n",
        "  - Hátrány: lassabb, a $k$ meghatározása önkényes (általában 3 vagy 5)\n",
        "\n",
        "Források:\n",
        "- [wikipédia: cross validation](https://en.wikipedia.org/wiki/Cross-validation_(statistics)\n",
        "- [sklearn: cross validation methods](https://scikit-learn.org/stable/modules/cross_validation.html)"
      ],
      "metadata": {
        "id": "YPYlW_qJ5qzL"
      }
    },
    {
      "cell_type": "code",
      "source": [
        "from sklearn.model_selection import train_test_split"
      ],
      "metadata": {
        "id": "yC_fxbgv5Cib"
      },
      "execution_count": null,
      "outputs": []
    },
    {
      "cell_type": "code",
      "source": [
        "train_test_split?"
      ],
      "metadata": {
        "id": "gl_5kYAB8IFL"
      },
      "execution_count": null,
      "outputs": []
    },
    {
      "cell_type": "code",
      "source": [
        "X_train, X_test, y_train, y_test = train_test_split(X,y, test_size=0.25, random_state=42)"
      ],
      "metadata": {
        "id": "KvNXartZ8Js8"
      },
      "execution_count": null,
      "outputs": []
    },
    {
      "cell_type": "code",
      "source": [
        "len(X_train), len(y_train), len(X_test), len(y_test)"
      ],
      "metadata": {
        "id": "5XD4SEdq8Jqr"
      },
      "execution_count": null,
      "outputs": []
    },
    {
      "cell_type": "code",
      "source": [
        "y_train.mean(), y_test.mean() # mennyire hasonló az eloszlásuk"
      ],
      "metadata": {
        "id": "4Hqe4fYP8JoD"
      },
      "execution_count": null,
      "outputs": []
    },
    {
      "cell_type": "markdown",
      "source": [
        "# Klasszifikáció"
      ],
      "metadata": {
        "id": "cC3Q2eq17-Lq"
      }
    },
    {
      "cell_type": "code",
      "source": [
        "model = DecisionTreeClassifier(\n",
        "    max_depth = 3,\n",
        "    min_samples_split = 5,\n",
        "    random_state=42\n",
        ")"
      ],
      "metadata": {
        "id": "IdvY56HW8BPi"
      },
      "execution_count": null,
      "outputs": []
    },
    {
      "cell_type": "code",
      "source": [
        "model.fit(X_train, y_train)"
      ],
      "metadata": {
        "id": "BytApP-g89ch"
      },
      "execution_count": null,
      "outputs": []
    },
    {
      "cell_type": "code",
      "source": [
        "preds = model.predict(X_test)\n",
        "confusion_matrix(y_test, preds) #Ez azt mutatja meg, hogy hány embert jósoltunk meg helyesen. A(1,1): kik azok akik valóban meghaltak és így továb"
      ],
      "metadata": {
        "id": "NPsNgr7m89Vc"
      },
      "execution_count": null,
      "outputs": []
    },
    {
      "cell_type": "code",
      "source": [
        "plt.figure(figsize=(12,6))\n",
        "plot_tree(model)\n",
        "plt.show()"
      ],
      "metadata": {
        "id": "SNzRYHeBH1Km"
      },
      "execution_count": null,
      "outputs": []
    },
    {
      "cell_type": "markdown",
      "source": [
        "# Teljesítmény mérés\n",
        "\n",
        "Legyen $C$ a tévesztési mátrix. $C_{ij}$ jelöli ($i,j\\in {1,2}$ azon $i$ csoportbeli sorok számát, amikre $j$-t prediktáltunk.  Ezt a követlezőképp szoktunk ábrázolni: N jelöli a negatív osztályt (halottak), P a pozitívat (túlélő); PN a negatívnak prediktáltakat (halottnak várjuk), PP  a pozitívnak prediktáltakat (túlélőnek hisszük). Ezen adatokat az alábbi táblázatba szokás rendelni:\n",
        "\n",
        "Valós \\ Prediktált | Meghaltnak prediktáljuk (PN) | Túlélőnek hisszük (PP) |\n",
        "--- | :---: | :---: |\n",
        "Valóban belehalt (N) | TN | FP\n",
        "Valódi túlélők (P) | FN | TP\n",
        "\n",
        "Nyilván\n",
        "- $N+P = PN+PP = n$ az összes adat\n",
        "- $N=TN+FP$\n",
        "- $P=FN+TN$\n",
        "- $PN = TN + FN$\n",
        "- $PP = FP+TP$.\n",
        "\n",
        "\n",
        "Az egyes mezők arányai adják a lehetséges metrikák listáját (lásd [wiki: confusion matrix](https://en.wikipedia.org/wiki/Confusion_matrix)).\n",
        "\n",
        "Az alábbi metrikákat szokás használni:\n",
        "- accuracy (pontosság): teljes találati arány\n",
        "$$ (TN+TP) / (N+P) $$\n",
        "- precision: a pozitívnak prediktáltak hány százaléka helyes\n",
        "$$ TP / PP = TP / (FP+PP) $$\n",
        "- recall: a pozitív osztály hány százalékát találjuk el\n",
        "$$ TP / P = TP / (FN+TP) $$\n",
        "- f1 score:  a precision és recall harmonikus közepe\n",
        "$$ 1 / F1 = \\frac{1/PREC + 1/REC}{2} $$"
      ],
      "metadata": {
        "id": "x9YkXyoI5oHo"
      }
    },
    {
      "cell_type": "code",
      "source": [
        "from sklearn.metrics import f1_score, precision_score, recall_score\n",
        "from sklearn.metrics import accuracy_score"
      ],
      "metadata": {
        "id": "Kyx_pkT65CgA"
      },
      "execution_count": null,
      "outputs": []
    },
    {
      "cell_type": "code",
      "source": [
        "preds = model.predict(X_test)"
      ],
      "metadata": {
        "id": "IW-Ojmir9hTX"
      },
      "execution_count": null,
      "outputs": []
    },
    {
      "cell_type": "code",
      "source": [
        "display(y_test.values, preds)"
      ],
      "metadata": {
        "id": "YsWnybtd91UH"
      },
      "execution_count": null,
      "outputs": []
    },
    {
      "cell_type": "code",
      "source": [
        "confusion_matrix(y_test, preds)"
      ],
      "metadata": {
        "id": "A3AHgwjd9hQj"
      },
      "execution_count": null,
      "outputs": []
    },
    {
      "cell_type": "code",
      "source": [
        "accuracy_score(y_test, preds)"
      ],
      "metadata": {
        "id": "Nz5i0NUo9hN0"
      },
      "execution_count": null,
      "outputs": []
    },
    {
      "cell_type": "code",
      "source": [
        "f1_score(y_test, preds)"
      ],
      "metadata": {
        "id": "6NxWlBM3-J3c"
      },
      "execution_count": null,
      "outputs": []
    },
    {
      "cell_type": "code",
      "source": [
        "precision_score(y_test, preds), recall_score(y_test, preds)"
      ],
      "metadata": {
        "id": "ghFuY3Zy-JrJ"
      },
      "execution_count": null,
      "outputs": []
    },
    {
      "cell_type": "markdown",
      "source": [
        "Az eredményeket el is lehet menteni természetesen egy dict-be."
      ],
      "metadata": {
        "id": "OhdInP73MDGP"
      }
    },
    {
      "cell_type": "code",
      "source": [
        "metrics = {\n",
        "    \"clf\": \"DecisionTree\",\n",
        "    \"params\": {\n",
        "        \"max_depth\": 3,\n",
        "        \"min_samples_split\": 5,\n",
        "    },\n",
        "    \"acc\": accuracy_score(y_test, preds),\n",
        "    \"f1\": f1_score(y_test, preds),\n",
        "    \"prec\": precision_score(y_test, preds),\n",
        "    \"rec\": recall_score(y_test, preds),\n",
        "}\n",
        "\n",
        "metrics"
      ],
      "metadata": {
        "id": "-gpwi-Rw9re1"
      },
      "execution_count": null,
      "outputs": []
    },
    {
      "cell_type": "markdown",
      "source": [
        "# Kidolgozott példák"
      ],
      "metadata": {
        "id": "25afX4yKMOCx"
      }
    },
    {
      "cell_type": "markdown",
      "source": [
        "## Túltanulás\n",
        "\n",
        "Ha a performancia a train halmazon sokkal nagyobb, mint a teszt halmazon. Ekkor a modell elveszti általánosítási képességét.\n",
        "\n",
        "Nézük meg, hogyan változik a train-test performancia a mélység növelésével!"
      ],
      "metadata": {
        "id": "uFbzM4LJJNH3"
      }
    },
    {
      "cell_type": "code",
      "source": [
        "records = []\n",
        "\n",
        "for depth in range(1,10):\n",
        "  print(\"depth: \", depth, end='\\r')\n",
        "\n",
        "  model = DecisionTreeClassifier(\n",
        "      max_depth = depth,\n",
        "      random_state = 42\n",
        "  )\n",
        "  model.fit(X_train,y_train)\n",
        "\n",
        "  preds_test = model.predict(X_test)\n",
        "  preds_train = model.predict(X_train)\n",
        "\n",
        "  record = {\n",
        "      \"depth\": depth,\n",
        "      \"test_acc\": accuracy_score(y_test, preds_test),\n",
        "      \"train_acc\": accuracy_score(y_train, preds_train),\n",
        "      \"test_f1\": f1_score(y_test,preds_test),\n",
        "      \"train_f1\": f1_score(y_train,preds_train),\n",
        "  }\n",
        "  records.append(record)\n",
        "\n",
        "metrics = pd.DataFrame().from_records(records)\n",
        "metrics"
      ],
      "metadata": {
        "id": "0LNE1n6QJJUY"
      },
      "execution_count": null,
      "outputs": []
    },
    {
      "cell_type": "code",
      "source": [
        "plt.title(\"Test vs Train metrics\")\n",
        "\n",
        "x = metrics[\"depth\"]\n",
        "\n",
        "plt.plot(x, metrics[\"test_acc\"], \"g:\", label=\"test_acc\")\n",
        "plt.plot(x, metrics[\"test_f1\"], \"r:\", label=\"test_f1\")\n",
        "plt.plot(x, metrics[\"train_acc\"], \"g-\", label=\"train_acc\")\n",
        "plt.plot(x, metrics[\"train_f1\"], \"r-\", label=\"train_f1\")\n",
        "\n",
        "plt.xlabel(\"depth\")\n",
        "plt.ylabel(\"score\")\n",
        "\n",
        "plt.legend()\n",
        "plt.show()"
      ],
      "metadata": {
        "id": "IFRrrXisM_Tj"
      },
      "execution_count": null,
      "outputs": []
    },
    {
      "cell_type": "markdown",
      "source": [
        "Lusták megoldása az oszlopnevek alapján:\n",
        "\n",
        "```\n",
        "for col in metrics.columns:\n",
        "  if \"_\" not in col: # skip depth column\n",
        "    continue\n",
        "    \n",
        "  if \"test\" in col:\n",
        "    line = \":\"\n",
        "  else:\n",
        "    line = \"-\"\n",
        "  \n",
        "  if \"acc\" in col:\n",
        "    color = \"r\"\n",
        "  else:\n",
        "    color = \"g\"\n",
        "  \n",
        "  style = color+line\n",
        "  \n",
        "  plt.plot(metrics[col], style, label=col)\n",
        "\n",
        "plt.legend()\n",
        "plt.show()\n",
        "```\n",
        "\n"
      ],
      "metadata": {
        "id": "LNxqbiX4M1sb"
      }
    },
    {
      "cell_type": "markdown",
      "source": [
        "## Paraméter keresés\n",
        "\n",
        "Általában nem világos előre, hogy melyik paramétert milyen értékre érdemes állítani. Ilyenkor (különböző stratégiákkal) ki szokás próbálni néhány beállítást.\n",
        "\n",
        "Most nézzük meg, hogy milyen függvénnyel érdemes mérni egy vágás jóságát!\n",
        "\n",
        "Legyen $\\mathbb{P}(y = y_i) = p_i$: egy adott csúcsba jutó adatpontok hányadrésze $y_i$ címkéjű.\n",
        "* Gini-index:\n",
        "    $$G(y) = \\sum_{i=1}^C p_i (1-p_i)$$\n",
        "* entrópia vagy logloss:\n",
        "    $$H(y) = -\\sum_{i=1}^C p_i\\log p_i$$\n",
        "\n",
        "Ebben a példában egy 5Fold keresztvalidálást is kidolgozunk.\n"
      ],
      "metadata": {
        "id": "xkD3_8TvGuSw"
      }
    },
    {
      "cell_type": "code",
      "source": [
        "from sklearn.model_selection import KFold"
      ],
      "metadata": {
        "id": "e7tCqEtGlRoI"
      },
      "execution_count": null,
      "outputs": []
    },
    {
      "cell_type": "code",
      "source": [
        "records = []\n",
        "\n",
        "params = {\n",
        "    \"max_depth\" : 3,\n",
        "    \"min_samples_split\": 5,\n",
        "    \"random_state\" : 42\n",
        "}\n",
        "\n",
        "for criterion in [\"gini\", \"log_loss\"]:\n",
        "  cv = KFold(n_splits=5, shuffle=True, random_state=42)\n",
        "\n",
        "  for fold, (train_index, test_index) in enumerate(cv.split(X)):\n",
        "\n",
        "    model = DecisionTreeClassifier(\n",
        "        criterion = criterion,\n",
        "        **params\n",
        "    )\n",
        "\n",
        "    X_tr, y_tr = X.loc[train_index], y[train_index]\n",
        "    X_te, y_te = X.loc[test_index], y[test_index]\n",
        "\n",
        "    model.fit(X_tr,y_tr)\n",
        "    preds = model.predict(X_te)\n",
        "    score = f1_score(y_te,preds)\n",
        "\n",
        "    record = {\n",
        "        \"crit\": criterion,\n",
        "        \"fold\": fold,\n",
        "        \"score\": score\n",
        "    }\n",
        "    records.append(record)\n",
        "\n",
        "records"
      ],
      "metadata": {
        "id": "uy8aZSScGpE4"
      },
      "execution_count": null,
      "outputs": []
    },
    {
      "cell_type": "code",
      "source": [
        "metrics = pd.DataFrame().from_records(records)\n",
        "metrics"
      ],
      "metadata": {
        "id": "_51MshMLGpBy"
      },
      "execution_count": null,
      "outputs": []
    },
    {
      "cell_type": "code",
      "source": [
        "metrics.groupby(\"crit\")[\"score\"].agg([\"mean\",\"std\"])"
      ],
      "metadata": {
        "id": "ViQcAZj0gxWH"
      },
      "execution_count": null,
      "outputs": []
    },
    {
      "cell_type": "code",
      "source": [
        "metrics.groupby(\"crit\")[\"score\"].agg([\"mean\",\"std\"]).plot.bar(y=\"mean\", yerr=\"std\", grid=True, ylim=(0.5,1.0))"
      ],
      "metadata": {
        "id": "GaApMBWtg3Fl"
      },
      "execution_count": null,
      "outputs": []
    },
    {
      "cell_type": "markdown",
      "source": [
        "## Lineáris regresszió\n",
        "\n",
        "Végezz lineáris regressziót a `Fare` oszlop prediktálására! Az eredményt értékeld ki és ábrázold is valahogy!"
      ],
      "metadata": {
        "id": "yU4VJZw5Xeo8"
      }
    },
    {
      "cell_type": "code",
      "source": [
        "from sklearn.linear_model import LinearRegression"
      ],
      "metadata": {
        "id": "9X8si9afGM3l"
      },
      "execution_count": null,
      "outputs": []
    },
    {
      "cell_type": "code",
      "source": [
        "df[\"Fare\"].agg([\"min\",\"max\",\"mean\",\"std\"])"
      ],
      "metadata": {
        "id": "24zkfz53WuXd"
      },
      "execution_count": null,
      "outputs": []
    },
    {
      "cell_type": "code",
      "source": [
        "X = df.drop(columns=[\"Fare\",\"Survived\"])\n",
        "y = df[\"Fare\"]"
      ],
      "metadata": {
        "id": "-vN3Xmv8GM00"
      },
      "execution_count": null,
      "outputs": []
    },
    {
      "cell_type": "code",
      "source": [
        "X.columns"
      ],
      "metadata": {
        "id": "pgexaUlYGMwV"
      },
      "execution_count": null,
      "outputs": []
    },
    {
      "cell_type": "code",
      "source": [
        "X_train, X_test, y_train, y_test = train_test_split(X,y, test_size=0.20, random_state=42)"
      ],
      "metadata": {
        "id": "kKDz4kdpNsBz"
      },
      "execution_count": null,
      "outputs": []
    },
    {
      "cell_type": "code",
      "source": [
        "model = LinearRegression().fit(X_train, y_train)"
      ],
      "metadata": {
        "id": "kepbhl_3NoH9"
      },
      "execution_count": null,
      "outputs": []
    },
    {
      "cell_type": "code",
      "source": [
        "from sklearn.metrics import r2_score, mean_absolute_error"
      ],
      "metadata": {
        "id": "BN1SodMPNoEX"
      },
      "execution_count": null,
      "outputs": []
    },
    {
      "cell_type": "code",
      "source": [
        "preds = model.predict(X_test)\n",
        "print(r2_score(y_test,preds), mean_absolute_error(y_test,preds))"
      ],
      "metadata": {
        "id": "OeozNz-hGMtq"
      },
      "execution_count": null,
      "outputs": []
    },
    {
      "cell_type": "code",
      "source": [
        "preds = model.predict(X_test)\n",
        "\n",
        "plt.figure(figsize=(12,5))\n",
        "plt.scatter(y_test, preds)\n",
        "\n",
        "plt.title(\"Prediction display\")\n",
        "plt.xlabel(\"actual value\")\n",
        "plt.ylabel(\"predicted value\")\n",
        "\n",
        "plt.legend([\"Fare\"])\n",
        "\n",
        "plt.gca().set_aspect(\"equal\", adjustable=\"box\")\n",
        "plt.show()"
      ],
      "metadata": {
        "id": "VfZdGmRkT9sl"
      },
      "execution_count": null,
      "outputs": []
    },
    {
      "cell_type": "markdown",
      "source": [
        "# Feladatok\n",
        "\n",
        "0. Vizsgáld és értsd meg az előző két kódot.\n",
        "\n",
        "Döntési fa\n",
        "\n",
        "1. Hasonlítsd össze a one-hot encode-olt `Embark` modell teljesítményét a label encode-oltéval! Várható-e különbség, ha pl. a `Sex` oszlopot kódolod fordítva?\n",
        "1. Válassz egy kedvenc numerikus paramétert a `DecisionTreeClassifier` API-jából! Egy ciklusban nézd meg, hogy a paraméter változtatásával (növelésével vagy csökkentésével) hogyan változik az accuracy és f1 score a train és test halmazokon!\n",
        "1. Próbálj meg 0.9-es accuracyt elérni a test halmazon (`test_size=0.2`)! A kísérleteidet mentsd is el valahogy, hogy visszakereshető legyen (listába, DataFrame-be, stb)! Ha van időd, ábrázold is az eredményeidet! Melyik tűnik a legfontosabb paraméternek a tanítás során?\n",
        "\n",
        "Bayes-i háló\n",
        "1. Végezz bináris klasszifikációt a túlélésre [Bayes-i hálóval](https://scikit-learn.org/stable/modules/generated/sklearn.naive_bayes.BernoulliNB.html#sklearn.naive_bayes.BernoulliNB)! Keresztvalidációt először holdout methoddal nézd meg, majd utána vizsgáld meg [KFoldCV](https://scikit-learn.org/stable/modules/generated/sklearn.model_selection.KFold.html#sklearn.model_selection.KFold)-vel is! Melyik hozott jobb eredményt?\n",
        "\n",
        "Lineáris regresszió\n",
        "1. Végezz regularizált regressziót hasonlóan a `Fare` oszlopra! Használhatsz Ridge regressziót, SGDRegressort, ElasticNetet, stb. Értsd meg egy kicsit, miben különbözik a klasszikus regressziótól, majd hasonlítsd össze az eredményeket!\n",
        "1. A kidolgozott példában azt látod, hogy a valódi értékeket ábrázoljuk a prediktáltakkal szemben. Létezik az ún. predikció error ábrázolás, ahol a valódi értékekkel szemben a predikció hibáját ábrázoljuk. Vagyis ha $p$ a predikció és $y$ a valódi érték, akkor ez az ábrázolás a\n",
        "$$\\phi: y ↦ (p-y). $$\n",
        "Ekkor a tökéletes modell természetesen nem a 45˚-s egyenesre illeszkedik, hanem a konstans 0-ra. Ábrázold a kapott eredményeket egy ilyen ábrán!\n",
        "\n",
        "\n",
        "\n",
        "\n",
        "## Otthoni gyakorlás\n",
        "\n",
        "Ha szeretnél még gyakorolni, ismételd meg ...\n",
        "\n",
        "1. ... bármely klasszifikációs feladatot  a sklearn [KNN](https://scikit-learn.org/stable/modules/generated/sklearn.neighbors.KNeighborsClassifier.html#sklearn.neighbors.KNeighborsClassifier) modelljével!\n",
        "1. ... bármely regressziós feladatot egy szabadon választott modellel a `sklearn.linear_model` modulból!\n",
        "\n",
        "\n",
        "Ha bármikor elakadsz: Tech Support Cheat Sheet ([XKCD, 627](https://xkcd.com/627/))\n",
        "\n"
      ],
      "metadata": {
        "id": "IAclw6SxZ0-m"
      }
    },
    {
      "cell_type": "code",
      "source": [],
      "metadata": {
        "id": "EFMop7rSb17T"
      },
      "execution_count": null,
      "outputs": []
    },
    {
      "cell_type": "markdown",
      "source": [
        "# Összefoglalás\n",
        "\n",
        "Mikor gyakoroltál eleget? Ha egy adott modellezési feladat során magabiztosan látod, hogy az adott kérdés\n",
        "* klasszifikáció vagy regresszió;\n",
        "* milyen célváltozót kell használj és mely oszlopokat, milyen elkódolással;\n",
        "* az adatok alapján el tudod dönteni, hogy milyen kerezstvalidációt használj;\n",
        "* a használt modellt az sklearn API segítségével bármikor meg tudod hívni és betanítani;\n",
        "* tudod milyen metrikák szerint érdemes kiértékelni a modellt;\n",
        "* ha szükséges, ábrázolni is tudod."
      ],
      "metadata": {
        "id": "vQnoOTZM4Vwf"
      }
    },
    {
      "cell_type": "markdown",
      "source": [
        "# Házi feladat\n",
        "\n",
        "Beküldési határidő:\n",
        "\n",
        "- Első változat: április 6. 23:59:59\n",
        "- Utolsó változat: április 13. 23:59:59\n",
        "\n",
        "Beküldési útmutató:\n",
        "\n",
        "- Mikor végeztél, mindig futtasd le az újra a kódod, hogy biztos nem maradt-e benne hiba (olyan kódot, ami nem fut le, sajnos nem tudunk elfogadni). Ezt a következőképp teheted meg:\n",
        "1. Runtime / Restart and run all: újraindítja a sessiont, ha nincs bug a kódban, rendben lefut a végéig.\n",
        "2. A kimenetekkel együtt töltsd le a notebookot `.ipynb` formátumban a gépedre.\n",
        "3. A keletkezett `.ipnyb` fájlt töltsd fel a Teams megfelelő feladatához!"
      ],
      "metadata": {
        "id": "Bg65OOr-N7zC"
      }
    },
    {
      "cell_type": "markdown",
      "source": [
        "## Feladat\n",
        "\n",
        "**Logisztikus regresszió és hibakeresés**\n",
        "\n",
        "Logisztikus regresszióval tanuljunk rá a `Survived` oszlopra! Gondold végig, melyik oszlopokat tartod meg, és a megtartottak közül melyiket hogyan kódolod el. Keresztvalidációra holdout módszert használj, 0.2-es test_size-zal.\n",
        "\n",
        "1. A betanítást először az alapértelmezett értékekkel végezd el. Kapsz egy ConvergenceWarningot. Ha elolvasod, a tábla normalizálását javasolja. Használd a múlt órán tanult modulból az `sklearn.preprocessing.Normalizer`t!\n",
        "2. Most állítsd át a `penalty`-t elasticnetre, az `l1_ratio` paramétert 0.5-re. Megint hibára futsz. Próbáld kijavítani. Használhatod az API-t és a hibaüzenetet. Kérdés: csak az API elolvasása után már tudtál volna egy működő modellt használni?\n",
        "3. Próbálgass néhány paraméter beállítást, az eredményeid ábrázold egy oszlopdiagramon. Kiértékelésre használd a kedvenc klasszifikációs metrikádat! Sikerült különböző megoldásokat kapnod?\n"
      ],
      "metadata": {
        "id": "MIL-FV66XJcF"
      }
    },
    {
      "cell_type": "code",
      "source": [
        "# Itt most meghívunk mindent, hogy egyben lássuk a dolgokat\n",
        "df = pd.read_csv(\"drive/MyDrive/titanic.csv\")\n",
        "df.columns"
      ],
      "metadata": {
        "id": "znJMMrlLSBL0",
        "colab": {
          "base_uri": "https://localhost:8080/"
        },
        "outputId": "bd0767ac-1b35-449a-83ad-455cc997b691"
      },
      "execution_count": null,
      "outputs": [
        {
          "output_type": "execute_result",
          "data": {
            "text/plain": [
              "Index(['PassengerId', 'Survived', 'Pclass', 'Name', 'Sex', 'Age', 'SibSp',\n",
              "       'ParCh', 'Ticket', 'Fare', 'Cabin', 'Embarked'],\n",
              "      dtype='object')"
            ]
          },
          "metadata": {},
          "execution_count": 3
        }
      ]
    },
    {
      "cell_type": "code",
      "source": [
        "df = df.drop(columns = [\"PassengerId\", \"Name\", \"Ticket\", \"Fare\", \"Embarked\", \"Cabin\"]) #Kidobjuk azokat az oszlopokat, amik nem annyira érdekesek a túlélés szempontjából\n",
        "df.columns"
      ],
      "metadata": {
        "id": "Hrr1PSxHeScu",
        "colab": {
          "base_uri": "https://localhost:8080/"
        },
        "outputId": "f2f43823-8ec6-472b-dad7-fc29e1bb8da2"
      },
      "execution_count": null,
      "outputs": [
        {
          "output_type": "execute_result",
          "data": {
            "text/plain": [
              "Index(['Survived', 'Pclass', 'Sex', 'Age', 'SibSp', 'ParCh'], dtype='object')"
            ]
          },
          "metadata": {},
          "execution_count": 4
        }
      ]
    },
    {
      "cell_type": "code",
      "source": [
        "df.info()"
      ],
      "metadata": {
        "colab": {
          "base_uri": "https://localhost:8080/"
        },
        "id": "FmU_1WNAxlKg",
        "outputId": "23921b6b-aadd-4055-82c4-587739b31a32"
      },
      "execution_count": null,
      "outputs": [
        {
          "output_type": "stream",
          "name": "stdout",
          "text": [
            "<class 'pandas.core.frame.DataFrame'>\n",
            "RangeIndex: 891 entries, 0 to 890\n",
            "Data columns (total 6 columns):\n",
            " #   Column    Non-Null Count  Dtype  \n",
            "---  ------    --------------  -----  \n",
            " 0   Survived  891 non-null    int64  \n",
            " 1   Pclass    891 non-null    int64  \n",
            " 2   Sex       891 non-null    object \n",
            " 3   Age       714 non-null    float64\n",
            " 4   SibSp     891 non-null    int64  \n",
            " 5   ParCh     891 non-null    int64  \n",
            "dtypes: float64(1), int64(4), object(1)\n",
            "memory usage: 41.9+ KB\n"
          ]
        }
      ]
    },
    {
      "cell_type": "code",
      "source": [
        "# Az óraihoz hasonlóan kitöröljük a hiányos sorokat\n",
        "df = df.dropna().reset_index(drop=True)\n",
        "df.info()"
      ],
      "metadata": {
        "colab": {
          "base_uri": "https://localhost:8080/"
        },
        "id": "2rJDG20GyMoZ",
        "outputId": "d0d0b106-b541-4288-add5-928733c393f5"
      },
      "execution_count": null,
      "outputs": [
        {
          "output_type": "stream",
          "name": "stdout",
          "text": [
            "<class 'pandas.core.frame.DataFrame'>\n",
            "RangeIndex: 714 entries, 0 to 713\n",
            "Data columns (total 6 columns):\n",
            " #   Column    Non-Null Count  Dtype  \n",
            "---  ------    --------------  -----  \n",
            " 0   Survived  714 non-null    int64  \n",
            " 1   Pclass    714 non-null    int64  \n",
            " 2   Sex       714 non-null    object \n",
            " 3   Age       714 non-null    float64\n",
            " 4   SibSp     714 non-null    int64  \n",
            " 5   ParCh     714 non-null    int64  \n",
            "dtypes: float64(1), int64(4), object(1)\n",
            "memory usage: 33.6+ KB\n"
          ]
        }
      ]
    },
    {
      "cell_type": "code",
      "source": [
        "df.info() # Ahogy azt vártuk, itt már mindenhol egységes az adatok száma"
      ],
      "metadata": {
        "colab": {
          "base_uri": "https://localhost:8080/"
        },
        "id": "DpDbfAvk1bGf",
        "outputId": "bc5b393e-565a-4089-eaf5-fd2fe02eeabe"
      },
      "execution_count": null,
      "outputs": [
        {
          "output_type": "stream",
          "name": "stdout",
          "text": [
            "<class 'pandas.core.frame.DataFrame'>\n",
            "RangeIndex: 714 entries, 0 to 713\n",
            "Data columns (total 6 columns):\n",
            " #   Column    Non-Null Count  Dtype  \n",
            "---  ------    --------------  -----  \n",
            " 0   Survived  714 non-null    int64  \n",
            " 1   Pclass    714 non-null    int64  \n",
            " 2   Sex       714 non-null    object \n",
            " 3   Age       714 non-null    float64\n",
            " 4   SibSp     714 non-null    int64  \n",
            " 5   ParCh     714 non-null    int64  \n",
            "dtypes: float64(1), int64(4), object(1)\n",
            "memory usage: 33.6+ KB\n"
          ]
        }
      ]
    },
    {
      "cell_type": "code",
      "source": [
        "encoded_sex = pd.get_dummies(df['Sex']) # Itt elkódoljuk a \"Sex\" oszlopokat 0-kra és 1-esekre, és két új oszlop lesz belőle, ahogyan azt a dummy változóknál megtanultuk\n",
        "\n",
        "df = pd.concat([df, encoded_sex], axis=1).drop('Sex', axis=1)"
      ],
      "metadata": {
        "id": "6j_C1W12_m7i"
      },
      "execution_count": null,
      "outputs": []
    },
    {
      "cell_type": "code",
      "source": [
        "# Beimportáljuk a megfelelő eszközöket\n",
        "\n",
        "from sklearn.linear_model import LogisticRegression\n",
        "from sklearn.model_selection import train_test_split\n",
        "from sklearn.preprocessing import Normalizer\n",
        "from sklearn.preprocessing import StandardScaler\n",
        "from sklearn.metrics import confusion_matrix\n",
        "from sklearn.metrics import accuracy_score\n",
        "from sklearn.metrics import precision_score\n",
        "\n",
        "import matplotlib.pyplot as plt\n",
        "import numpy as np"
      ],
      "metadata": {
        "id": "GAMqIXt72lsg"
      },
      "execution_count": null,
      "outputs": []
    },
    {
      "cell_type": "code",
      "source": [
        "# Az óraihoz hasonlóan megadjuk neki a tanuló és a teszt adathalmazokat\n",
        "\n",
        "X, y = df.drop(columns = \"Survived\"), df[\"Survived\"]\n",
        "X_train, X_test, y_train, y_test = train_test_split(X, y, test_size=0.2, random_state=42)\n",
        "X.info()"
      ],
      "metadata": {
        "colab": {
          "base_uri": "https://localhost:8080/"
        },
        "id": "yZpuMXuf7Mfy",
        "outputId": "23e9e3be-ab6b-4f5a-f125-0c123ce408bf"
      },
      "execution_count": null,
      "outputs": [
        {
          "output_type": "stream",
          "name": "stdout",
          "text": [
            "<class 'pandas.core.frame.DataFrame'>\n",
            "RangeIndex: 714 entries, 0 to 713\n",
            "Data columns (total 6 columns):\n",
            " #   Column  Non-Null Count  Dtype  \n",
            "---  ------  --------------  -----  \n",
            " 0   Pclass  714 non-null    int64  \n",
            " 1   Age     714 non-null    float64\n",
            " 2   SibSp   714 non-null    int64  \n",
            " 3   ParCh   714 non-null    int64  \n",
            " 4   female  714 non-null    uint8  \n",
            " 5   male    714 non-null    uint8  \n",
            "dtypes: float64(1), int64(3), uint8(2)\n",
            "memory usage: 23.8 KB\n"
          ]
        }
      ]
    },
    {
      "cell_type": "code",
      "source": [
        "X.isna().sum() # Itt csak ellenőriztem, hogy biztosan nincsenek-e hiányos adataim"
      ],
      "metadata": {
        "colab": {
          "base_uri": "https://localhost:8080/"
        },
        "id": "yVxYGp84ANNQ",
        "outputId": "27ffb183-6e2e-477d-c768-bffc3ccd43f9"
      },
      "execution_count": null,
      "outputs": [
        {
          "output_type": "execute_result",
          "data": {
            "text/plain": [
              "Pclass    0\n",
              "Age       0\n",
              "SibSp     0\n",
              "ParCh     0\n",
              "female    0\n",
              "male      0\n",
              "dtype: int64"
            ]
          },
          "metadata": {},
          "execution_count": 11
        }
      ]
    },
    {
      "cell_type": "code",
      "source": [
        "model = LogisticRegression()\n",
        "model.fit(X_train, y_train)"
      ],
      "metadata": {
        "colab": {
          "base_uri": "https://localhost:8080/",
          "height": 75
        },
        "id": "wUyxVWCc9Czg",
        "outputId": "ada75fd9-c8a2-4ad4-b9e5-54b1d0d52680"
      },
      "execution_count": null,
      "outputs": [
        {
          "output_type": "execute_result",
          "data": {
            "text/plain": [
              "LogisticRegression()"
            ],
            "text/html": [
              "<style>#sk-container-id-1 {color: black;background-color: white;}#sk-container-id-1 pre{padding: 0;}#sk-container-id-1 div.sk-toggleable {background-color: white;}#sk-container-id-1 label.sk-toggleable__label {cursor: pointer;display: block;width: 100%;margin-bottom: 0;padding: 0.3em;box-sizing: border-box;text-align: center;}#sk-container-id-1 label.sk-toggleable__label-arrow:before {content: \"▸\";float: left;margin-right: 0.25em;color: #696969;}#sk-container-id-1 label.sk-toggleable__label-arrow:hover:before {color: black;}#sk-container-id-1 div.sk-estimator:hover label.sk-toggleable__label-arrow:before {color: black;}#sk-container-id-1 div.sk-toggleable__content {max-height: 0;max-width: 0;overflow: hidden;text-align: left;background-color: #f0f8ff;}#sk-container-id-1 div.sk-toggleable__content pre {margin: 0.2em;color: black;border-radius: 0.25em;background-color: #f0f8ff;}#sk-container-id-1 input.sk-toggleable__control:checked~div.sk-toggleable__content {max-height: 200px;max-width: 100%;overflow: auto;}#sk-container-id-1 input.sk-toggleable__control:checked~label.sk-toggleable__label-arrow:before {content: \"▾\";}#sk-container-id-1 div.sk-estimator input.sk-toggleable__control:checked~label.sk-toggleable__label {background-color: #d4ebff;}#sk-container-id-1 div.sk-label input.sk-toggleable__control:checked~label.sk-toggleable__label {background-color: #d4ebff;}#sk-container-id-1 input.sk-hidden--visually {border: 0;clip: rect(1px 1px 1px 1px);clip: rect(1px, 1px, 1px, 1px);height: 1px;margin: -1px;overflow: hidden;padding: 0;position: absolute;width: 1px;}#sk-container-id-1 div.sk-estimator {font-family: monospace;background-color: #f0f8ff;border: 1px dotted black;border-radius: 0.25em;box-sizing: border-box;margin-bottom: 0.5em;}#sk-container-id-1 div.sk-estimator:hover {background-color: #d4ebff;}#sk-container-id-1 div.sk-parallel-item::after {content: \"\";width: 100%;border-bottom: 1px solid gray;flex-grow: 1;}#sk-container-id-1 div.sk-label:hover label.sk-toggleable__label {background-color: #d4ebff;}#sk-container-id-1 div.sk-serial::before {content: \"\";position: absolute;border-left: 1px solid gray;box-sizing: border-box;top: 0;bottom: 0;left: 50%;z-index: 0;}#sk-container-id-1 div.sk-serial {display: flex;flex-direction: column;align-items: center;background-color: white;padding-right: 0.2em;padding-left: 0.2em;position: relative;}#sk-container-id-1 div.sk-item {position: relative;z-index: 1;}#sk-container-id-1 div.sk-parallel {display: flex;align-items: stretch;justify-content: center;background-color: white;position: relative;}#sk-container-id-1 div.sk-item::before, #sk-container-id-1 div.sk-parallel-item::before {content: \"\";position: absolute;border-left: 1px solid gray;box-sizing: border-box;top: 0;bottom: 0;left: 50%;z-index: -1;}#sk-container-id-1 div.sk-parallel-item {display: flex;flex-direction: column;z-index: 1;position: relative;background-color: white;}#sk-container-id-1 div.sk-parallel-item:first-child::after {align-self: flex-end;width: 50%;}#sk-container-id-1 div.sk-parallel-item:last-child::after {align-self: flex-start;width: 50%;}#sk-container-id-1 div.sk-parallel-item:only-child::after {width: 0;}#sk-container-id-1 div.sk-dashed-wrapped {border: 1px dashed gray;margin: 0 0.4em 0.5em 0.4em;box-sizing: border-box;padding-bottom: 0.4em;background-color: white;}#sk-container-id-1 div.sk-label label {font-family: monospace;font-weight: bold;display: inline-block;line-height: 1.2em;}#sk-container-id-1 div.sk-label-container {text-align: center;}#sk-container-id-1 div.sk-container {/* jupyter's `normalize.less` sets `[hidden] { display: none; }` but bootstrap.min.css set `[hidden] { display: none !important; }` so we also need the `!important` here to be able to override the default hidden behavior on the sphinx rendered scikit-learn.org. See: https://github.com/scikit-learn/scikit-learn/issues/21755 */display: inline-block !important;position: relative;}#sk-container-id-1 div.sk-text-repr-fallback {display: none;}</style><div id=\"sk-container-id-1\" class=\"sk-top-container\"><div class=\"sk-text-repr-fallback\"><pre>LogisticRegression()</pre><b>In a Jupyter environment, please rerun this cell to show the HTML representation or trust the notebook. <br />On GitHub, the HTML representation is unable to render, please try loading this page with nbviewer.org.</b></div><div class=\"sk-container\" hidden><div class=\"sk-item\"><div class=\"sk-estimator sk-toggleable\"><input class=\"sk-toggleable__control sk-hidden--visually\" id=\"sk-estimator-id-1\" type=\"checkbox\" checked><label for=\"sk-estimator-id-1\" class=\"sk-toggleable__label sk-toggleable__label-arrow\">LogisticRegression</label><div class=\"sk-toggleable__content\"><pre>LogisticRegression()</pre></div></div></div></div></div>"
            ]
          },
          "metadata": {},
          "execution_count": 12
        }
      ]
    },
    {
      "cell_type": "code",
      "source": [
        "y_train.mean(), y_test.mean() #Itt megnéztük, hogy mennyire hasonló az eloszlásuk, ez stimmel"
      ],
      "metadata": {
        "colab": {
          "base_uri": "https://localhost:8080/"
        },
        "id": "u3D7fEo2DDdf",
        "outputId": "9e1f631b-c729-42d6-a926-708911169495"
      },
      "execution_count": null,
      "outputs": [
        {
          "output_type": "execute_result",
          "data": {
            "text/plain": [
              "(0.4098073555166375, 0.3916083916083916)"
            ]
          },
          "metadata": {},
          "execution_count": 13
        }
      ]
    },
    {
      "cell_type": "code",
      "source": [
        "preds = model.predict(X_test)\n",
        "confusion_matrix(y_test, preds)"
      ],
      "metadata": {
        "id": "bAdTFX8WDvsf",
        "colab": {
          "base_uri": "https://localhost:8080/"
        },
        "outputId": "21399cbf-a04a-4719-b271-f5cf7c19305a"
      },
      "execution_count": null,
      "outputs": [
        {
          "output_type": "execute_result",
          "data": {
            "text/plain": [
              "array([[71, 16],\n",
              "       [19, 37]])"
            ]
          },
          "metadata": {},
          "execution_count": 14
        }
      ]
    },
    {
      "cell_type": "code",
      "source": [
        "#model = LogisticRegression(penalty = 'elasticnet', l1_ratio = 0.5)\n",
        "#model.fit(X_train, y_train) # Valóban hibára futunk, de megoldásnak azt javasolja, hogy állítsuk át a solvert, így tegyük ezt meg a következőkben"
      ],
      "metadata": {
        "id": "5i7IFFQR1BUr"
      },
      "execution_count": null,
      "outputs": []
    },
    {
      "cell_type": "code",
      "source": [
        "model = LogisticRegression(solver = 'saga', penalty = 'elasticnet', l1_ratio = 0.5)\n",
        "model.fit(X_train, y_train)"
      ],
      "metadata": {
        "colab": {
          "base_uri": "https://localhost:8080/",
          "height": 109
        },
        "id": "OowobbXk5I6G",
        "outputId": "873004a6-7b9a-42de-d54b-00057cdefda6"
      },
      "execution_count": null,
      "outputs": [
        {
          "output_type": "stream",
          "name": "stderr",
          "text": [
            "/usr/local/lib/python3.9/dist-packages/sklearn/linear_model/_sag.py:350: ConvergenceWarning: The max_iter was reached which means the coef_ did not converge\n",
            "  warnings.warn(\n"
          ]
        },
        {
          "output_type": "execute_result",
          "data": {
            "text/plain": [
              "LogisticRegression(l1_ratio=0.5, penalty='elasticnet', solver='saga')"
            ],
            "text/html": [
              "<style>#sk-container-id-2 {color: black;background-color: white;}#sk-container-id-2 pre{padding: 0;}#sk-container-id-2 div.sk-toggleable {background-color: white;}#sk-container-id-2 label.sk-toggleable__label {cursor: pointer;display: block;width: 100%;margin-bottom: 0;padding: 0.3em;box-sizing: border-box;text-align: center;}#sk-container-id-2 label.sk-toggleable__label-arrow:before {content: \"▸\";float: left;margin-right: 0.25em;color: #696969;}#sk-container-id-2 label.sk-toggleable__label-arrow:hover:before {color: black;}#sk-container-id-2 div.sk-estimator:hover label.sk-toggleable__label-arrow:before {color: black;}#sk-container-id-2 div.sk-toggleable__content {max-height: 0;max-width: 0;overflow: hidden;text-align: left;background-color: #f0f8ff;}#sk-container-id-2 div.sk-toggleable__content pre {margin: 0.2em;color: black;border-radius: 0.25em;background-color: #f0f8ff;}#sk-container-id-2 input.sk-toggleable__control:checked~div.sk-toggleable__content {max-height: 200px;max-width: 100%;overflow: auto;}#sk-container-id-2 input.sk-toggleable__control:checked~label.sk-toggleable__label-arrow:before {content: \"▾\";}#sk-container-id-2 div.sk-estimator input.sk-toggleable__control:checked~label.sk-toggleable__label {background-color: #d4ebff;}#sk-container-id-2 div.sk-label input.sk-toggleable__control:checked~label.sk-toggleable__label {background-color: #d4ebff;}#sk-container-id-2 input.sk-hidden--visually {border: 0;clip: rect(1px 1px 1px 1px);clip: rect(1px, 1px, 1px, 1px);height: 1px;margin: -1px;overflow: hidden;padding: 0;position: absolute;width: 1px;}#sk-container-id-2 div.sk-estimator {font-family: monospace;background-color: #f0f8ff;border: 1px dotted black;border-radius: 0.25em;box-sizing: border-box;margin-bottom: 0.5em;}#sk-container-id-2 div.sk-estimator:hover {background-color: #d4ebff;}#sk-container-id-2 div.sk-parallel-item::after {content: \"\";width: 100%;border-bottom: 1px solid gray;flex-grow: 1;}#sk-container-id-2 div.sk-label:hover label.sk-toggleable__label {background-color: #d4ebff;}#sk-container-id-2 div.sk-serial::before {content: \"\";position: absolute;border-left: 1px solid gray;box-sizing: border-box;top: 0;bottom: 0;left: 50%;z-index: 0;}#sk-container-id-2 div.sk-serial {display: flex;flex-direction: column;align-items: center;background-color: white;padding-right: 0.2em;padding-left: 0.2em;position: relative;}#sk-container-id-2 div.sk-item {position: relative;z-index: 1;}#sk-container-id-2 div.sk-parallel {display: flex;align-items: stretch;justify-content: center;background-color: white;position: relative;}#sk-container-id-2 div.sk-item::before, #sk-container-id-2 div.sk-parallel-item::before {content: \"\";position: absolute;border-left: 1px solid gray;box-sizing: border-box;top: 0;bottom: 0;left: 50%;z-index: -1;}#sk-container-id-2 div.sk-parallel-item {display: flex;flex-direction: column;z-index: 1;position: relative;background-color: white;}#sk-container-id-2 div.sk-parallel-item:first-child::after {align-self: flex-end;width: 50%;}#sk-container-id-2 div.sk-parallel-item:last-child::after {align-self: flex-start;width: 50%;}#sk-container-id-2 div.sk-parallel-item:only-child::after {width: 0;}#sk-container-id-2 div.sk-dashed-wrapped {border: 1px dashed gray;margin: 0 0.4em 0.5em 0.4em;box-sizing: border-box;padding-bottom: 0.4em;background-color: white;}#sk-container-id-2 div.sk-label label {font-family: monospace;font-weight: bold;display: inline-block;line-height: 1.2em;}#sk-container-id-2 div.sk-label-container {text-align: center;}#sk-container-id-2 div.sk-container {/* jupyter's `normalize.less` sets `[hidden] { display: none; }` but bootstrap.min.css set `[hidden] { display: none !important; }` so we also need the `!important` here to be able to override the default hidden behavior on the sphinx rendered scikit-learn.org. See: https://github.com/scikit-learn/scikit-learn/issues/21755 */display: inline-block !important;position: relative;}#sk-container-id-2 div.sk-text-repr-fallback {display: none;}</style><div id=\"sk-container-id-2\" class=\"sk-top-container\"><div class=\"sk-text-repr-fallback\"><pre>LogisticRegression(l1_ratio=0.5, penalty=&#x27;elasticnet&#x27;, solver=&#x27;saga&#x27;)</pre><b>In a Jupyter environment, please rerun this cell to show the HTML representation or trust the notebook. <br />On GitHub, the HTML representation is unable to render, please try loading this page with nbviewer.org.</b></div><div class=\"sk-container\" hidden><div class=\"sk-item\"><div class=\"sk-estimator sk-toggleable\"><input class=\"sk-toggleable__control sk-hidden--visually\" id=\"sk-estimator-id-2\" type=\"checkbox\" checked><label for=\"sk-estimator-id-2\" class=\"sk-toggleable__label sk-toggleable__label-arrow\">LogisticRegression</label><div class=\"sk-toggleable__content\"><pre>LogisticRegression(l1_ratio=0.5, penalty=&#x27;elasticnet&#x27;, solver=&#x27;saga&#x27;)</pre></div></div></div></div></div>"
            ]
          },
          "metadata": {},
          "execution_count": 16
        }
      ]
    },
    {
      "cell_type": "code",
      "source": [
        "accuracy_score(y_test, preds) # Itt láthajuk, hogy nagyjából 75%-ban jósolta meg jól, hogy egy utas túléli-e a katasztrófát vagy sem"
      ],
      "metadata": {
        "colab": {
          "base_uri": "https://localhost:8080/"
        },
        "id": "HAXFNriwfKVr",
        "outputId": "53f275e3-8c44-45b0-8b66-a6e09bbaa36e"
      },
      "execution_count": null,
      "outputs": [
        {
          "output_type": "execute_result",
          "data": {
            "text/plain": [
              "0.7552447552447552"
            ]
          },
          "metadata": {},
          "execution_count": 17
        }
      ]
    },
    {
      "cell_type": "code",
      "source": [
        "# Normalizáljuk a táblát\n",
        "\n",
        "normalizer = Normalizer(norm = 'l2')\n",
        "normalized_values = normalizer.fit_transform(df)\n",
        "normalized_df = pd.DataFrame(normalized_values, columns = df.columns) # Ezzel csinálunk egy új Dataframe-et a normalizált adatokból\n",
        "normalized_df"
      ],
      "metadata": {
        "colab": {
          "base_uri": "https://localhost:8080/",
          "height": 424
        },
        "id": "gc_EMmclOvM9",
        "outputId": "cb1b3573-7fa4-4d66-a7d3-ce64493339a9"
      },
      "execution_count": null,
      "outputs": [
        {
          "output_type": "execute_result",
          "data": {
            "text/plain": [
              "     Survived    Pclass       Age     SibSp     ParCh    female      male\n",
              "0    0.000000  0.134840  0.988826  0.044947  0.000000  0.000000  0.044947\n",
              "1    0.026279  0.026279  0.998618  0.026279  0.000000  0.026279  0.000000\n",
              "2    0.038152  0.114457  0.991962  0.000000  0.000000  0.038152  0.000000\n",
              "3    0.028525  0.028525  0.998371  0.028525  0.000000  0.028525  0.000000\n",
              "4    0.000000  0.085367  0.995943  0.000000  0.000000  0.000000  0.028456\n",
              "..        ...       ...       ...       ...       ...       ...       ...\n",
              "709  0.000000  0.076053  0.988689  0.000000  0.126755  0.025351  0.000000\n",
              "710  0.000000  0.073821  0.996588  0.000000  0.000000  0.000000  0.036911\n",
              "711  0.052414  0.052414  0.995871  0.000000  0.000000  0.052414  0.000000\n",
              "712  0.038376  0.038376  0.997788  0.000000  0.000000  0.000000  0.038376\n",
              "713  0.000000  0.093296  0.995153  0.000000  0.000000  0.000000  0.031099\n",
              "\n",
              "[714 rows x 7 columns]"
            ],
            "text/html": [
              "\n",
              "  <div id=\"df-5c7e686c-25eb-44aa-88a7-0f27714b6250\">\n",
              "    <div class=\"colab-df-container\">\n",
              "      <div>\n",
              "<style scoped>\n",
              "    .dataframe tbody tr th:only-of-type {\n",
              "        vertical-align: middle;\n",
              "    }\n",
              "\n",
              "    .dataframe tbody tr th {\n",
              "        vertical-align: top;\n",
              "    }\n",
              "\n",
              "    .dataframe thead th {\n",
              "        text-align: right;\n",
              "    }\n",
              "</style>\n",
              "<table border=\"1\" class=\"dataframe\">\n",
              "  <thead>\n",
              "    <tr style=\"text-align: right;\">\n",
              "      <th></th>\n",
              "      <th>Survived</th>\n",
              "      <th>Pclass</th>\n",
              "      <th>Age</th>\n",
              "      <th>SibSp</th>\n",
              "      <th>ParCh</th>\n",
              "      <th>female</th>\n",
              "      <th>male</th>\n",
              "    </tr>\n",
              "  </thead>\n",
              "  <tbody>\n",
              "    <tr>\n",
              "      <th>0</th>\n",
              "      <td>0.000000</td>\n",
              "      <td>0.134840</td>\n",
              "      <td>0.988826</td>\n",
              "      <td>0.044947</td>\n",
              "      <td>0.000000</td>\n",
              "      <td>0.000000</td>\n",
              "      <td>0.044947</td>\n",
              "    </tr>\n",
              "    <tr>\n",
              "      <th>1</th>\n",
              "      <td>0.026279</td>\n",
              "      <td>0.026279</td>\n",
              "      <td>0.998618</td>\n",
              "      <td>0.026279</td>\n",
              "      <td>0.000000</td>\n",
              "      <td>0.026279</td>\n",
              "      <td>0.000000</td>\n",
              "    </tr>\n",
              "    <tr>\n",
              "      <th>2</th>\n",
              "      <td>0.038152</td>\n",
              "      <td>0.114457</td>\n",
              "      <td>0.991962</td>\n",
              "      <td>0.000000</td>\n",
              "      <td>0.000000</td>\n",
              "      <td>0.038152</td>\n",
              "      <td>0.000000</td>\n",
              "    </tr>\n",
              "    <tr>\n",
              "      <th>3</th>\n",
              "      <td>0.028525</td>\n",
              "      <td>0.028525</td>\n",
              "      <td>0.998371</td>\n",
              "      <td>0.028525</td>\n",
              "      <td>0.000000</td>\n",
              "      <td>0.028525</td>\n",
              "      <td>0.000000</td>\n",
              "    </tr>\n",
              "    <tr>\n",
              "      <th>4</th>\n",
              "      <td>0.000000</td>\n",
              "      <td>0.085367</td>\n",
              "      <td>0.995943</td>\n",
              "      <td>0.000000</td>\n",
              "      <td>0.000000</td>\n",
              "      <td>0.000000</td>\n",
              "      <td>0.028456</td>\n",
              "    </tr>\n",
              "    <tr>\n",
              "      <th>...</th>\n",
              "      <td>...</td>\n",
              "      <td>...</td>\n",
              "      <td>...</td>\n",
              "      <td>...</td>\n",
              "      <td>...</td>\n",
              "      <td>...</td>\n",
              "      <td>...</td>\n",
              "    </tr>\n",
              "    <tr>\n",
              "      <th>709</th>\n",
              "      <td>0.000000</td>\n",
              "      <td>0.076053</td>\n",
              "      <td>0.988689</td>\n",
              "      <td>0.000000</td>\n",
              "      <td>0.126755</td>\n",
              "      <td>0.025351</td>\n",
              "      <td>0.000000</td>\n",
              "    </tr>\n",
              "    <tr>\n",
              "      <th>710</th>\n",
              "      <td>0.000000</td>\n",
              "      <td>0.073821</td>\n",
              "      <td>0.996588</td>\n",
              "      <td>0.000000</td>\n",
              "      <td>0.000000</td>\n",
              "      <td>0.000000</td>\n",
              "      <td>0.036911</td>\n",
              "    </tr>\n",
              "    <tr>\n",
              "      <th>711</th>\n",
              "      <td>0.052414</td>\n",
              "      <td>0.052414</td>\n",
              "      <td>0.995871</td>\n",
              "      <td>0.000000</td>\n",
              "      <td>0.000000</td>\n",
              "      <td>0.052414</td>\n",
              "      <td>0.000000</td>\n",
              "    </tr>\n",
              "    <tr>\n",
              "      <th>712</th>\n",
              "      <td>0.038376</td>\n",
              "      <td>0.038376</td>\n",
              "      <td>0.997788</td>\n",
              "      <td>0.000000</td>\n",
              "      <td>0.000000</td>\n",
              "      <td>0.000000</td>\n",
              "      <td>0.038376</td>\n",
              "    </tr>\n",
              "    <tr>\n",
              "      <th>713</th>\n",
              "      <td>0.000000</td>\n",
              "      <td>0.093296</td>\n",
              "      <td>0.995153</td>\n",
              "      <td>0.000000</td>\n",
              "      <td>0.000000</td>\n",
              "      <td>0.000000</td>\n",
              "      <td>0.031099</td>\n",
              "    </tr>\n",
              "  </tbody>\n",
              "</table>\n",
              "<p>714 rows × 7 columns</p>\n",
              "</div>\n",
              "      <button class=\"colab-df-convert\" onclick=\"convertToInteractive('df-5c7e686c-25eb-44aa-88a7-0f27714b6250')\"\n",
              "              title=\"Convert this dataframe to an interactive table.\"\n",
              "              style=\"display:none;\">\n",
              "        \n",
              "  <svg xmlns=\"http://www.w3.org/2000/svg\" height=\"24px\"viewBox=\"0 0 24 24\"\n",
              "       width=\"24px\">\n",
              "    <path d=\"M0 0h24v24H0V0z\" fill=\"none\"/>\n",
              "    <path d=\"M18.56 5.44l.94 2.06.94-2.06 2.06-.94-2.06-.94-.94-2.06-.94 2.06-2.06.94zm-11 1L8.5 8.5l.94-2.06 2.06-.94-2.06-.94L8.5 2.5l-.94 2.06-2.06.94zm10 10l.94 2.06.94-2.06 2.06-.94-2.06-.94-.94-2.06-.94 2.06-2.06.94z\"/><path d=\"M17.41 7.96l-1.37-1.37c-.4-.4-.92-.59-1.43-.59-.52 0-1.04.2-1.43.59L10.3 9.45l-7.72 7.72c-.78.78-.78 2.05 0 2.83L4 21.41c.39.39.9.59 1.41.59.51 0 1.02-.2 1.41-.59l7.78-7.78 2.81-2.81c.8-.78.8-2.07 0-2.86zM5.41 20L4 18.59l7.72-7.72 1.47 1.35L5.41 20z\"/>\n",
              "  </svg>\n",
              "      </button>\n",
              "      \n",
              "  <style>\n",
              "    .colab-df-container {\n",
              "      display:flex;\n",
              "      flex-wrap:wrap;\n",
              "      gap: 12px;\n",
              "    }\n",
              "\n",
              "    .colab-df-convert {\n",
              "      background-color: #E8F0FE;\n",
              "      border: none;\n",
              "      border-radius: 50%;\n",
              "      cursor: pointer;\n",
              "      display: none;\n",
              "      fill: #1967D2;\n",
              "      height: 32px;\n",
              "      padding: 0 0 0 0;\n",
              "      width: 32px;\n",
              "    }\n",
              "\n",
              "    .colab-df-convert:hover {\n",
              "      background-color: #E2EBFA;\n",
              "      box-shadow: 0px 1px 2px rgba(60, 64, 67, 0.3), 0px 1px 3px 1px rgba(60, 64, 67, 0.15);\n",
              "      fill: #174EA6;\n",
              "    }\n",
              "\n",
              "    [theme=dark] .colab-df-convert {\n",
              "      background-color: #3B4455;\n",
              "      fill: #D2E3FC;\n",
              "    }\n",
              "\n",
              "    [theme=dark] .colab-df-convert:hover {\n",
              "      background-color: #434B5C;\n",
              "      box-shadow: 0px 1px 3px 1px rgba(0, 0, 0, 0.15);\n",
              "      filter: drop-shadow(0px 1px 2px rgba(0, 0, 0, 0.3));\n",
              "      fill: #FFFFFF;\n",
              "    }\n",
              "  </style>\n",
              "\n",
              "      <script>\n",
              "        const buttonEl =\n",
              "          document.querySelector('#df-5c7e686c-25eb-44aa-88a7-0f27714b6250 button.colab-df-convert');\n",
              "        buttonEl.style.display =\n",
              "          google.colab.kernel.accessAllowed ? 'block' : 'none';\n",
              "\n",
              "        async function convertToInteractive(key) {\n",
              "          const element = document.querySelector('#df-5c7e686c-25eb-44aa-88a7-0f27714b6250');\n",
              "          const dataTable =\n",
              "            await google.colab.kernel.invokeFunction('convertToInteractive',\n",
              "                                                     [key], {});\n",
              "          if (!dataTable) return;\n",
              "\n",
              "          const docLinkHtml = 'Like what you see? Visit the ' +\n",
              "            '<a target=\"_blank\" href=https://colab.research.google.com/notebooks/data_table.ipynb>data table notebook</a>'\n",
              "            + ' to learn more about interactive tables.';\n",
              "          element.innerHTML = '';\n",
              "          dataTable['output_type'] = 'display_data';\n",
              "          await google.colab.output.renderOutput(dataTable, element);\n",
              "          const docLink = document.createElement('div');\n",
              "          docLink.innerHTML = docLinkHtml;\n",
              "          element.appendChild(docLink);\n",
              "        }\n",
              "      </script>\n",
              "    </div>\n",
              "  </div>\n",
              "  "
            ]
          },
          "metadata": {},
          "execution_count": 18
        }
      ]
    },
    {
      "cell_type": "code",
      "source": [
        "# Most tanuljunk rá erre az új adathalmazra\n",
        "\n",
        "X, y = normalized_df.drop(columns = [\"Survived\"]), df[\"Survived\"] # Ha a Survived oszlopot is a normalizált táblából vennénk, akkor folytonosnak minősülne, és nem lehetne rá logisztikus regressziót alkalmazni\n",
        "X_train, X_test, y_train, y_test = train_test_split(X, y, test_size = 0.2, random_state = 42)\n",
        "\n",
        "model.fit(X_train, y_train)"
      ],
      "metadata": {
        "colab": {
          "base_uri": "https://localhost:8080/",
          "height": 75
        },
        "id": "RynUC4H5XCNL",
        "outputId": "300c7e8f-f68c-40a7-a07d-136526e4b256"
      },
      "execution_count": null,
      "outputs": [
        {
          "output_type": "execute_result",
          "data": {
            "text/plain": [
              "LogisticRegression(l1_ratio=0.5, penalty='elasticnet', solver='saga')"
            ],
            "text/html": [
              "<style>#sk-container-id-3 {color: black;background-color: white;}#sk-container-id-3 pre{padding: 0;}#sk-container-id-3 div.sk-toggleable {background-color: white;}#sk-container-id-3 label.sk-toggleable__label {cursor: pointer;display: block;width: 100%;margin-bottom: 0;padding: 0.3em;box-sizing: border-box;text-align: center;}#sk-container-id-3 label.sk-toggleable__label-arrow:before {content: \"▸\";float: left;margin-right: 0.25em;color: #696969;}#sk-container-id-3 label.sk-toggleable__label-arrow:hover:before {color: black;}#sk-container-id-3 div.sk-estimator:hover label.sk-toggleable__label-arrow:before {color: black;}#sk-container-id-3 div.sk-toggleable__content {max-height: 0;max-width: 0;overflow: hidden;text-align: left;background-color: #f0f8ff;}#sk-container-id-3 div.sk-toggleable__content pre {margin: 0.2em;color: black;border-radius: 0.25em;background-color: #f0f8ff;}#sk-container-id-3 input.sk-toggleable__control:checked~div.sk-toggleable__content {max-height: 200px;max-width: 100%;overflow: auto;}#sk-container-id-3 input.sk-toggleable__control:checked~label.sk-toggleable__label-arrow:before {content: \"▾\";}#sk-container-id-3 div.sk-estimator input.sk-toggleable__control:checked~label.sk-toggleable__label {background-color: #d4ebff;}#sk-container-id-3 div.sk-label input.sk-toggleable__control:checked~label.sk-toggleable__label {background-color: #d4ebff;}#sk-container-id-3 input.sk-hidden--visually {border: 0;clip: rect(1px 1px 1px 1px);clip: rect(1px, 1px, 1px, 1px);height: 1px;margin: -1px;overflow: hidden;padding: 0;position: absolute;width: 1px;}#sk-container-id-3 div.sk-estimator {font-family: monospace;background-color: #f0f8ff;border: 1px dotted black;border-radius: 0.25em;box-sizing: border-box;margin-bottom: 0.5em;}#sk-container-id-3 div.sk-estimator:hover {background-color: #d4ebff;}#sk-container-id-3 div.sk-parallel-item::after {content: \"\";width: 100%;border-bottom: 1px solid gray;flex-grow: 1;}#sk-container-id-3 div.sk-label:hover label.sk-toggleable__label {background-color: #d4ebff;}#sk-container-id-3 div.sk-serial::before {content: \"\";position: absolute;border-left: 1px solid gray;box-sizing: border-box;top: 0;bottom: 0;left: 50%;z-index: 0;}#sk-container-id-3 div.sk-serial {display: flex;flex-direction: column;align-items: center;background-color: white;padding-right: 0.2em;padding-left: 0.2em;position: relative;}#sk-container-id-3 div.sk-item {position: relative;z-index: 1;}#sk-container-id-3 div.sk-parallel {display: flex;align-items: stretch;justify-content: center;background-color: white;position: relative;}#sk-container-id-3 div.sk-item::before, #sk-container-id-3 div.sk-parallel-item::before {content: \"\";position: absolute;border-left: 1px solid gray;box-sizing: border-box;top: 0;bottom: 0;left: 50%;z-index: -1;}#sk-container-id-3 div.sk-parallel-item {display: flex;flex-direction: column;z-index: 1;position: relative;background-color: white;}#sk-container-id-3 div.sk-parallel-item:first-child::after {align-self: flex-end;width: 50%;}#sk-container-id-3 div.sk-parallel-item:last-child::after {align-self: flex-start;width: 50%;}#sk-container-id-3 div.sk-parallel-item:only-child::after {width: 0;}#sk-container-id-3 div.sk-dashed-wrapped {border: 1px dashed gray;margin: 0 0.4em 0.5em 0.4em;box-sizing: border-box;padding-bottom: 0.4em;background-color: white;}#sk-container-id-3 div.sk-label label {font-family: monospace;font-weight: bold;display: inline-block;line-height: 1.2em;}#sk-container-id-3 div.sk-label-container {text-align: center;}#sk-container-id-3 div.sk-container {/* jupyter's `normalize.less` sets `[hidden] { display: none; }` but bootstrap.min.css set `[hidden] { display: none !important; }` so we also need the `!important` here to be able to override the default hidden behavior on the sphinx rendered scikit-learn.org. See: https://github.com/scikit-learn/scikit-learn/issues/21755 */display: inline-block !important;position: relative;}#sk-container-id-3 div.sk-text-repr-fallback {display: none;}</style><div id=\"sk-container-id-3\" class=\"sk-top-container\"><div class=\"sk-text-repr-fallback\"><pre>LogisticRegression(l1_ratio=0.5, penalty=&#x27;elasticnet&#x27;, solver=&#x27;saga&#x27;)</pre><b>In a Jupyter environment, please rerun this cell to show the HTML representation or trust the notebook. <br />On GitHub, the HTML representation is unable to render, please try loading this page with nbviewer.org.</b></div><div class=\"sk-container\" hidden><div class=\"sk-item\"><div class=\"sk-estimator sk-toggleable\"><input class=\"sk-toggleable__control sk-hidden--visually\" id=\"sk-estimator-id-3\" type=\"checkbox\" checked><label for=\"sk-estimator-id-3\" class=\"sk-toggleable__label sk-toggleable__label-arrow\">LogisticRegression</label><div class=\"sk-toggleable__content\"><pre>LogisticRegression(l1_ratio=0.5, penalty=&#x27;elasticnet&#x27;, solver=&#x27;saga&#x27;)</pre></div></div></div></div></div>"
            ]
          },
          "metadata": {},
          "execution_count": 19
        }
      ]
    },
    {
      "cell_type": "code",
      "source": [
        "# Változtassuk kicsit a paramétereket\n",
        "\n",
        "prec_scores = []\n",
        "\n",
        "for i in range(1, 10): # Itt először az l1_ratio értékét fogjuk változtatni egy tizedenként, és a precision score-t fogjuk vizsgálni ennek függvényében\n",
        "\n",
        "  X, y = normalized_df.drop(columns = [\"Survived\"]), df[\"Survived\"]\n",
        "  X_train, X_test, y_train, y_test = train_test_split(X, y, test_size = 0.2, random_state = 42)\n",
        "\n",
        "  model = LogisticRegression(solver = 'saga', penalty = 'elasticnet', l1_ratio = i/10)\n",
        "  model.fit(X_train, y_train)\n",
        "  preds = model.predict(X_test)\n",
        "  prec_scores.append(precision_score(y_test, preds))\n",
        "\n",
        "x = np.arange(0.1, 1, 0.1)\n",
        "fig, ax = plt.subplots(figsize=(10,6))\n",
        "ax.bar(x, prec_scores, width=0.05, edgecolor = 'black', linewidth = 0.7, color='mediumaquamarine', align='center')\n",
        "\n",
        "ax.set_xlabel(\"l1ratio\", fontsize = 14)\n",
        "ax.set_ylabel(\"Precision score\", fontsize = 14)\n",
        "ax.set_xticks(x)\n",
        "ax.set_title(\"Helyesen túlélőnek prediktáltak aránya az l1 ratio függvényében\")\n",
        "ax.set_xlim([0,1])\n",
        "ax.set_ylim([0, 0.5])\n",
        "\n",
        "for container in ax.containers:\n",
        "  ax.bar_label(container, label_type=\"edge\", fontsize = 10, padding = 10)"
      ],
      "metadata": {
        "colab": {
          "base_uri": "https://localhost:8080/",
          "height": 570
        },
        "id": "34xtMaXzYcvz",
        "outputId": "ccabcb32-e039-4208-d354-50f3e1b63c6c"
      },
      "execution_count": null,
      "outputs": [
        {
          "output_type": "display_data",
          "data": {
            "text/plain": [
              "<Figure size 1000x600 with 1 Axes>"
            ],
            "image/png": "[encoded data removed]"
          },
          "metadata": {}
        }
      ]
    },
    {
      "cell_type": "code",
      "source": [
        "# test_size változtatása\n",
        "prec = []\n",
        "for i in range(10, 100, 10):\n",
        "\n",
        "  X, y = normalized_df.drop(columns = [\"Survived\"]), df[\"Survived\"]\n",
        "  X_train, X_test, y_train, y_test = train_test_split(X, y, test_size = i/100, random_state = 42)\n",
        "  model = LogisticRegression(solver = 'saga', penalty = 'elasticnet', l1_ratio = 0.5)\n",
        "  model.fit(X_train, y_train)\n",
        "  preds = model.predict(X_test)\n",
        "  prec.append(precision_score(y_test, preds))\n",
        "\n",
        "fig, ax = plt.subplots(figsize=(14,6))\n",
        "ax.bar(x, prec, width=0.05, edgecolor = 'black', linewidth = 0.7, color='mediumaquamarine', align='center')\n",
        "\n",
        "ax.set_xlabel(\"Test size\", fontsize = 14)\n",
        "ax.set_ylabel(\"Precision score\", fontsize = 14)\n",
        "ax.set_xticks(np.arange(0.1, 1, 0.1))\n",
        "ax.set_title(\"Helyesen túlélőnek prediktáltak aránya a test_size függvényében\")\n",
        "ax.set_xlim([0,1])\n",
        "ax.set_ylim([0, 1])\n",
        "\n",
        "plt.yticks(np.arange(0, 1, 0.2))\n",
        "\n",
        "for container in ax.containers:\n",
        "  ax.bar_label(container, label_type=\"edge\", fontsize = 10, padding = 10)\n"
      ],
      "metadata": {
        "colab": {
          "base_uri": "https://localhost:8080/",
          "height": 570
        },
        "id": "h1GR6MWKaguF",
        "outputId": "a57c9aac-7a19-4ee6-c5d6-4b9e8cf6b7d1"
      },
      "execution_count": null,
      "outputs": [
        {
          "output_type": "display_data",
          "data": {
            "text/plain": [
              "<Figure size 1400x600 with 1 Axes>"
            ],
            "image/png": "[encoded data removed]"
          },
          "metadata": {}
        }
      ]
    }
  ],
  "metadata": {
    "colab": {
      "provenance": [],
      "collapsed_sections": [
        "5nZhKcvPAXIr",
        "uFbzM4LJJNH3",
        "xkD3_8TvGuSw"
      ]
    },
    "kernelspec": {
      "display_name": "Python 3 (ipykernel)",
      "language": "python",
      "name": "python3"
    },
    "language_info": {
      "codemirror_mode": {
        "name": "ipython",
        "version": 3
      },
      "file_extension": ".py",
      "mimetype": "text/x-python",
      "name": "python",
      "nbconvert_exporter": "python",
      "pygments_lexer": "ipython3",
      "version": "3.9.7"
    }
  },
  "nbformat": 4,
  "nbformat_minor": 0
}