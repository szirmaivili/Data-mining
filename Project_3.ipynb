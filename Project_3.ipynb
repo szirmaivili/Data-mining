{
  "cells": [
    {
      "cell_type": "markdown",
      "metadata": {
        "id": "5nZhKcvPAXIr"
      },
      "source": [
        "# Adatbányászat gyakorlat 3.\n",
        "***\n",
        "Időpont: péntek, 8\\:30–10\\:00 és 10\\:15–11\\:45<br/>\n",
        "Helyszín: 3-107 / 3-111<br/>\n",
        "Elérhetőségek: TEAMS chat, csoport"
      ]
    },
    {
      "cell_type": "markdown",
      "metadata": {
        "id": "wPZfsO-uAaEz"
      },
      "source": [
        "## Követelmények\n",
        "***\n",
        "### Röpzh\n",
        "Minden óra végén fel lesz adva néhány egyszerű, lényegretörő kérdés az adott óra anyagából.\n",
        "\n",
        "#### Értékelés\n",
        "Minden feladat **1 pontot** ér a végső elszámolásban. Röpzh-kból összesen **10 pont** szerezhető majd.\n",
        "\n",
        "### Házi feladat\n",
        "A házi feladatok elkészítésére mindig **3 hetetek** lesz, beküldés után pedig még van lehetőség javítani a visszaküldött feladatokon. Az első változatot azonban a feladástól számított **két héten belül** várjuk, javítani csak ekkor lehet a visszaküldött feladatokon. <br/>\n",
        "A notebookoknak hozzatok létre egy saját Google Drive mappát, és állítsátok be, hogy ezt a megosztó link birtokában bárki megtekinthesse. A notebookhoz tartozó linket és a html fájlt az óra Teams csoportjába kell majd feltölteni.\n",
        "\n",
        "#### Értékelés\n",
        "Az összesen 6 db házi feladatból **4 db hibátlan visszaküldése feltétele az elégséges jegynek**. Minden további visszaküldött házi feladat feladatonként **1-1 pontot** ad a végső elszámoláshoz.\n",
        "\n",
        "### Projektmunka\n",
        "A félév második felében két-háromfős csoportokban adatbányászati feladatokat fogtok megoldani. Erről a félév végén le kell adni egy legalább ötoldalas **dokumentációt**, valamint az utolsó héten **prezentálnotok** kell 7-10 percben az eredményeket. A 8. héten lesz egy bevezető pár perces előadásotok, ahol a bemutatjátok az adathalmazt, megfogalmazzátok a hipotéziseitek.\n",
        "\n",
        "#### Értékelés\n",
        "A projektmunkát az elvégzett munka, a leadott dokumentáció és a prezentáció minősége alapján értékelni fogjuk. A szerezhető összpontszám **30 pont**. A pozitív eredmény (hipotézis beigazolása, jó teljesítmény elérése) **nem** feltétele a jó jegynek. Az egész csapat ugyanazt az értékelést kapja, kivéve, ha ezt külön kéritek.\n",
        "\n",
        "### Összpontszám:\n",
        "Összesen tehát **40 pont** szerezhető. A jegyek a következőképp alakulnak majd:\n",
        "- Ha legalább 4 házi feladat el lett fogadva, akkor:\n",
        "  - 20 pont alatt: elégtelen\n",
        "  - 20-24 pont: elégséges\n",
        "  - 25-29 pont: közepes\n",
        "  - 30-34 pont: jó\n",
        "  - 35 pont felett: kiváló\n",
        "- Ha 4-nél kevesebb házi feladatot küldtetek be, akkor a végső jegy elégtelen."
      ]
    },
    {
      "cell_type": "code",
      "source": [
        "def whats_my_final_grade(projekt_pontszam, ropz_pontszam, elvegzett_hazifeladatok):\n",
        "  if elvegzett_hazifeladatok < 4:\n",
        "    return 1\n",
        "  else:\n",
        "    pontszam = projekt_pontszam + ropzh + (elvegzett_hazifeladatok - 4)\n",
        "    jegy = (pontszam - 15) // 5 + 1\n",
        "    jegy = max([ min(jegy,5), 1 ])\n",
        "    return jegy\n",
        "\n",
        "projektmunka = 30 # (pont)\n",
        "ropzh = 10 # (pont)\n",
        "hazifeladatok = 6 # (db)\n",
        "\n",
        "print(\"Végső jegy: \", whats_my_final_grade(projektmunka, ropzh, hazifeladatok))"
      ],
      "metadata": {
        "id": "6dBbGGrkivMY",
        "colab": {
          "base_uri": "https://localhost:8080/"
        },
        "outputId": "685d92cb-78af-4d29-d673-ad26cc1a7c2a"
      },
      "execution_count": null,
      "outputs": [
        {
          "output_type": "stream",
          "name": "stdout",
          "text": [
            "Végső jegy:  5\n"
          ]
        }
      ]
    },
    {
      "cell_type": "markdown",
      "source": [
        "# Adatbeolvasás"
      ],
      "metadata": {
        "id": "WMwzGSQwxAmr"
      }
    },
    {
      "cell_type": "code",
      "source": [
        "import pandas as pd\n",
        "pd.__version__"
      ],
      "metadata": {
        "id": "__KaLbQ6Gcgj",
        "outputId": "ee7ef2dc-bc7d-46ba-89aa-4dd3610e3033",
        "colab": {
          "base_uri": "https://localhost:8080/",
          "height": 35
        }
      },
      "execution_count": null,
      "outputs": [
        {
          "output_type": "execute_result",
          "data": {
            "text/plain": [
              "'1.4.4'"
            ],
            "application/vnd.google.colaboratory.intrinsic+json": {
              "type": "string"
            }
          },
          "metadata": {},
          "execution_count": 2
        }
      ]
    },
    {
      "cell_type": "code",
      "source": [
        "from google.colab import drive\n",
        "drive.mount('/content/drive')"
      ],
      "metadata": {
        "id": "NRBTFWQLxSuD",
        "outputId": "7c274f96-feac-4099-9aba-7916b21bdaaa",
        "colab": {
          "base_uri": "https://localhost:8080/"
        }
      },
      "execution_count": null,
      "outputs": [
        {
          "output_type": "stream",
          "name": "stdout",
          "text": [
            "Mounted at /content/drive\n"
          ]
        }
      ]
    },
    {
      "cell_type": "code",
      "source": [
        "df = pd.read_csv(\"drive/MyDrive/titanic.csv\")"
      ],
      "metadata": {
        "id": "Y9d8cSz3xSHK"
      },
      "execution_count": null,
      "outputs": []
    },
    {
      "cell_type": "code",
      "source": [
        "df.sample(5)"
      ],
      "metadata": {
        "colab": {
          "base_uri": "https://localhost:8080/",
          "height": 206
        },
        "id": "K6DY3gsLApVf",
        "outputId": "6d082fcd-15d3-4396-8d2e-26584c31d4a8"
      },
      "execution_count": null,
      "outputs": [
        {
          "output_type": "execute_result",
          "data": {
            "text/plain": [
              "     PassengerId  Survived  Pclass                                    Name  \\\n",
              "446          447         1       2       Mellinger, Miss. Madeleine Violet   \n",
              "351          352         0       1  Williams-Lambert, Mr. Fletcher Fellows   \n",
              "517          518         0       3                       Ryan, Mr. Patrick   \n",
              "10            11         1       3         Sandstrom, Miss. Marguerite Rut   \n",
              "239          240         0       2                  Hunt, Mr. George Henry   \n",
              "\n",
              "        Sex   Age  SibSp  ParCh      Ticket    Fare Cabin Embarked  \n",
              "446  female  13.0      0      1      250644  19.500   NaN        S  \n",
              "351    male   NaN      0      0      113510  35.000  C128        S  \n",
              "517    male   NaN      0      0      371110  24.150   NaN        Q  \n",
              "10   female   4.0      1      1     PP 9549  16.700    G6        S  \n",
              "239    male  33.0      0      0  SCO/W 1585  12.275   NaN        S  "
            ],
            "text/html": [
              "\n",
              "  <div id=\"df-5e96e391-d2f7-47c9-866f-6848ae36f23d\">\n",
              "    <div class=\"colab-df-container\">\n",
              "      <div>\n",
              "<style scoped>\n",
              "    .dataframe tbody tr th:only-of-type {\n",
              "        vertical-align: middle;\n",
              "    }\n",
              "\n",
              "    .dataframe tbody tr th {\n",
              "        vertical-align: top;\n",
              "    }\n",
              "\n",
              "    .dataframe thead th {\n",
              "        text-align: right;\n",
              "    }\n",
              "</style>\n",
              "<table border=\"1\" class=\"dataframe\">\n",
              "  <thead>\n",
              "    <tr style=\"text-align: right;\">\n",
              "      <th></th>\n",
              "      <th>PassengerId</th>\n",
              "      <th>Survived</th>\n",
              "      <th>Pclass</th>\n",
              "      <th>Name</th>\n",
              "      <th>Sex</th>\n",
              "      <th>Age</th>\n",
              "      <th>SibSp</th>\n",
              "      <th>ParCh</th>\n",
              "      <th>Ticket</th>\n",
              "      <th>Fare</th>\n",
              "      <th>Cabin</th>\n",
              "      <th>Embarked</th>\n",
              "    </tr>\n",
              "  </thead>\n",
              "  <tbody>\n",
              "    <tr>\n",
              "      <th>446</th>\n",
              "      <td>447</td>\n",
              "      <td>1</td>\n",
              "      <td>2</td>\n",
              "      <td>Mellinger, Miss. Madeleine Violet</td>\n",
              "      <td>female</td>\n",
              "      <td>13.0</td>\n",
              "      <td>0</td>\n",
              "      <td>1</td>\n",
              "      <td>250644</td>\n",
              "      <td>19.500</td>\n",
              "      <td>NaN</td>\n",
              "      <td>S</td>\n",
              "    </tr>\n",
              "    <tr>\n",
              "      <th>351</th>\n",
              "      <td>352</td>\n",
              "      <td>0</td>\n",
              "      <td>1</td>\n",
              "      <td>Williams-Lambert, Mr. Fletcher Fellows</td>\n",
              "      <td>male</td>\n",
              "      <td>NaN</td>\n",
              "      <td>0</td>\n",
              "      <td>0</td>\n",
              "      <td>113510</td>\n",
              "      <td>35.000</td>\n",
              "      <td>C128</td>\n",
              "      <td>S</td>\n",
              "    </tr>\n",
              "    <tr>\n",
              "      <th>517</th>\n",
              "      <td>518</td>\n",
              "      <td>0</td>\n",
              "      <td>3</td>\n",
              "      <td>Ryan, Mr. Patrick</td>\n",
              "      <td>male</td>\n",
              "      <td>NaN</td>\n",
              "      <td>0</td>\n",
              "      <td>0</td>\n",
              "      <td>371110</td>\n",
              "      <td>24.150</td>\n",
              "      <td>NaN</td>\n",
              "      <td>Q</td>\n",
              "    </tr>\n",
              "    <tr>\n",
              "      <th>10</th>\n",
              "      <td>11</td>\n",
              "      <td>1</td>\n",
              "      <td>3</td>\n",
              "      <td>Sandstrom, Miss. Marguerite Rut</td>\n",
              "      <td>female</td>\n",
              "      <td>4.0</td>\n",
              "      <td>1</td>\n",
              "      <td>1</td>\n",
              "      <td>PP 9549</td>\n",
              "      <td>16.700</td>\n",
              "      <td>G6</td>\n",
              "      <td>S</td>\n",
              "    </tr>\n",
              "    <tr>\n",
              "      <th>239</th>\n",
              "      <td>240</td>\n",
              "      <td>0</td>\n",
              "      <td>2</td>\n",
              "      <td>Hunt, Mr. George Henry</td>\n",
              "      <td>male</td>\n",
              "      <td>33.0</td>\n",
              "      <td>0</td>\n",
              "      <td>0</td>\n",
              "      <td>SCO/W 1585</td>\n",
              "      <td>12.275</td>\n",
              "      <td>NaN</td>\n",
              "      <td>S</td>\n",
              "    </tr>\n",
              "  </tbody>\n",
              "</table>\n",
              "</div>\n",
              "      <button class=\"colab-df-convert\" onclick=\"convertToInteractive('df-5e96e391-d2f7-47c9-866f-6848ae36f23d')\"\n",
              "              title=\"Convert this dataframe to an interactive table.\"\n",
              "              style=\"display:none;\">\n",
              "        \n",
              "  <svg xmlns=\"http://www.w3.org/2000/svg\" height=\"24px\"viewBox=\"0 0 24 24\"\n",
              "       width=\"24px\">\n",
              "    <path d=\"M0 0h24v24H0V0z\" fill=\"none\"/>\n",
              "    <path d=\"M18.56 5.44l.94 2.06.94-2.06 2.06-.94-2.06-.94-.94-2.06-.94 2.06-2.06.94zm-11 1L8.5 8.5l.94-2.06 2.06-.94-2.06-.94L8.5 2.5l-.94 2.06-2.06.94zm10 10l.94 2.06.94-2.06 2.06-.94-2.06-.94-.94-2.06-.94 2.06-2.06.94z\"/><path d=\"M17.41 7.96l-1.37-1.37c-.4-.4-.92-.59-1.43-.59-.52 0-1.04.2-1.43.59L10.3 9.45l-7.72 7.72c-.78.78-.78 2.05 0 2.83L4 21.41c.39.39.9.59 1.41.59.51 0 1.02-.2 1.41-.59l7.78-7.78 2.81-2.81c.8-.78.8-2.07 0-2.86zM5.41 20L4 18.59l7.72-7.72 1.47 1.35L5.41 20z\"/>\n",
              "  </svg>\n",
              "      </button>\n",
              "      \n",
              "  <style>\n",
              "    .colab-df-container {\n",
              "      display:flex;\n",
              "      flex-wrap:wrap;\n",
              "      gap: 12px;\n",
              "    }\n",
              "\n",
              "    .colab-df-convert {\n",
              "      background-color: #E8F0FE;\n",
              "      border: none;\n",
              "      border-radius: 50%;\n",
              "      cursor: pointer;\n",
              "      display: none;\n",
              "      fill: #1967D2;\n",
              "      height: 32px;\n",
              "      padding: 0 0 0 0;\n",
              "      width: 32px;\n",
              "    }\n",
              "\n",
              "    .colab-df-convert:hover {\n",
              "      background-color: #E2EBFA;\n",
              "      box-shadow: 0px 1px 2px rgba(60, 64, 67, 0.3), 0px 1px 3px 1px rgba(60, 64, 67, 0.15);\n",
              "      fill: #174EA6;\n",
              "    }\n",
              "\n",
              "    [theme=dark] .colab-df-convert {\n",
              "      background-color: #3B4455;\n",
              "      fill: #D2E3FC;\n",
              "    }\n",
              "\n",
              "    [theme=dark] .colab-df-convert:hover {\n",
              "      background-color: #434B5C;\n",
              "      box-shadow: 0px 1px 3px 1px rgba(0, 0, 0, 0.15);\n",
              "      filter: drop-shadow(0px 1px 2px rgba(0, 0, 0, 0.3));\n",
              "      fill: #FFFFFF;\n",
              "    }\n",
              "  </style>\n",
              "\n",
              "      <script>\n",
              "        const buttonEl =\n",
              "          document.querySelector('#df-5e96e391-d2f7-47c9-866f-6848ae36f23d button.colab-df-convert');\n",
              "        buttonEl.style.display =\n",
              "          google.colab.kernel.accessAllowed ? 'block' : 'none';\n",
              "\n",
              "        async function convertToInteractive(key) {\n",
              "          const element = document.querySelector('#df-5e96e391-d2f7-47c9-866f-6848ae36f23d');\n",
              "          const dataTable =\n",
              "            await google.colab.kernel.invokeFunction('convertToInteractive',\n",
              "                                                     [key], {});\n",
              "          if (!dataTable) return;\n",
              "\n",
              "          const docLinkHtml = 'Like what you see? Visit the ' +\n",
              "            '<a target=\"_blank\" href=https://colab.research.google.com/notebooks/data_table.ipynb>data table notebook</a>'\n",
              "            + ' to learn more about interactive tables.';\n",
              "          element.innerHTML = '';\n",
              "          dataTable['output_type'] = 'display_data';\n",
              "          await google.colab.output.renderOutput(dataTable, element);\n",
              "          const docLink = document.createElement('div');\n",
              "          docLink.innerHTML = docLinkHtml;\n",
              "          element.appendChild(docLink);\n",
              "        }\n",
              "      </script>\n",
              "    </div>\n",
              "  </div>\n",
              "  "
            ]
          },
          "metadata": {},
          "execution_count": 5
        }
      ]
    },
    {
      "cell_type": "markdown",
      "source": [
        "Ha nem sikerült:\n",
        "\n",
        "(Megjegyzés: a `ctrl + /` paranccsal rögtön lehet a kommentelést megszüntetni.)"
      ],
      "metadata": {
        "id": "Enqwd_s-Fk1Z"
      }
    },
    {
      "cell_type": "code",
      "source": [
        "# from google.colab import files\n",
        "\n",
        "# uploaded = files.upload()\n",
        "\n",
        "# for fn in uploaded.keys():\n",
        "#   print('User uploaded file \"{name}\" with length {length} bytes'.format(\n",
        "#       name=fn, length=len(uploaded[fn])))\n",
        "\n",
        "# # Then move kaggle.json into the folder where the API expects to find it.\n",
        "# !mkdir -p ~/.kaggle/ && mv kaggle.json ~/.kaggle/ && chmod 600 ~/.kaggle/kaggle.json\n",
        "\n",
        "# !kaggle datasets download -d yasserh/titanic-dataset\n",
        "# !unzip titanic-dataset.zip"
      ],
      "metadata": {
        "id": "_6apczTnGSUT"
      },
      "execution_count": null,
      "outputs": []
    },
    {
      "cell_type": "markdown",
      "source": [
        "# 3. gyakorlat: Adatelőkészítés, -feldologzás\n",
        "\n",
        "Kategorikus változók: https://en.wikipedia.org/wiki/Categorical_variable\n",
        "\n",
        "Scikit-learn, preprocessing: https://scikit-learn.org/stable/modules/classes.html#module-sklearn.preprocessing\n",
        "\n",
        "Towards Data Science: https://towardsdatascience.com/categorical-feature-encoding-547707acf4e5#1056"
      ],
      "metadata": {
        "id": "o-O5_xbeFfF7"
      }
    },
    {
      "cell_type": "code",
      "source": [
        "df.columns"
      ],
      "metadata": {
        "id": "inslVDajyJRv",
        "outputId": "1c1f960f-9ba9-401a-c594-363e3a296479",
        "colab": {
          "base_uri": "https://localhost:8080/"
        }
      },
      "execution_count": null,
      "outputs": [
        {
          "output_type": "execute_result",
          "data": {
            "text/plain": [
              "Index(['PassengerId', 'Survived', 'Pclass', 'Name', 'Sex', 'Age', 'SibSp',\n",
              "       'ParCh', 'Ticket', 'Fare', 'Cabin', 'Embarked'],\n",
              "      dtype='object')"
            ]
          },
          "metadata": {},
          "execution_count": 7
        }
      ]
    },
    {
      "cell_type": "code",
      "source": [
        "df.info() # az Age, Cabin és Embarked oszlopok hiányosak"
      ],
      "metadata": {
        "id": "medoXwVDHpWW",
        "outputId": "e27088e9-aa43-4fc0-d612-6341e46752c2",
        "colab": {
          "base_uri": "https://localhost:8080/"
        }
      },
      "execution_count": null,
      "outputs": [
        {
          "output_type": "stream",
          "name": "stdout",
          "text": [
            "<class 'pandas.core.frame.DataFrame'>\n",
            "RangeIndex: 891 entries, 0 to 890\n",
            "Data columns (total 12 columns):\n",
            " #   Column       Non-Null Count  Dtype  \n",
            "---  ------       --------------  -----  \n",
            " 0   PassengerId  891 non-null    int64  \n",
            " 1   Survived     891 non-null    int64  \n",
            " 2   Pclass       891 non-null    int64  \n",
            " 3   Name         891 non-null    object \n",
            " 4   Sex          891 non-null    object \n",
            " 5   Age          714 non-null    float64\n",
            " 6   SibSp        891 non-null    int64  \n",
            " 7   ParCh        891 non-null    int64  \n",
            " 8   Ticket       891 non-null    object \n",
            " 9   Fare         891 non-null    float64\n",
            " 10  Cabin        204 non-null    object \n",
            " 11  Embarked     889 non-null    object \n",
            "dtypes: float64(2), int64(5), object(5)\n",
            "memory usage: 83.7+ KB\n"
          ]
        }
      ]
    },
    {
      "cell_type": "markdown",
      "source": [
        "# Adat kódolás (Encoding)\n",
        "\n",
        "[XKCD, 221](https://www.explainxkcd.com/wiki/index.php/221:_Random_Number): Random Number\n",
        "\n",
        "A modellek többsége numerikus adatokat tud csak befogadni. A nem-numerikus változók elkódolása (numerikus értékké alakítása) ezért szükséges feladat."
      ],
      "metadata": {
        "id": "G0N0MsOsUT-Q"
      }
    },
    {
      "cell_type": "markdown",
      "source": [
        "## Numerikus változók\n",
        "\n",
        "- Binning: folytonos eloszlás diszkrétté tétele\n",
        "- Binary: egy küszöbértékhez viszonyított érték alapján"
      ],
      "metadata": {
        "id": "vCoRlZ27n8gg"
      }
    },
    {
      "cell_type": "markdown",
      "source": [
        "### Binning\n",
        "\n",
        "Folytonos változót *vödrökbe* rakjuk. Hívják ezért *grouping*nek és *bucketing*nek is.\n",
        "\n",
        "Google search: *apply a function to a pandas column*"
      ],
      "metadata": {
        "id": "NP7gCcfxyTOX"
      }
    },
    {
      "cell_type": "code",
      "source": [
        "df[\"Age\"].value_counts(bins=5)"
      ],
      "metadata": {
        "id": "1HZYkUgDivn9",
        "outputId": "eff6e986-6fae-4a14-e262-2c6dd2b0fad8",
        "colab": {
          "base_uri": "https://localhost:8080/"
        }
      },
      "execution_count": null,
      "outputs": [
        {
          "output_type": "execute_result",
          "data": {
            "text/plain": [
              "(16.336, 32.252]    346\n",
              "(32.252, 48.168]    188\n",
              "(0.339, 16.336]     100\n",
              "(48.168, 64.084]     69\n",
              "(64.084, 80.0]       11\n",
              "Name: Age, dtype: int64"
            ]
          },
          "metadata": {},
          "execution_count": 9
        }
      ]
    },
    {
      "cell_type": "code",
      "source": [
        "df[\"Age\"].value_counts(bins=12).sort_values() #Ezt csak saját magamnak próbálom ki. Ilyenkor a számlált éretékek szerint rendezi sorba, nem a \"vödrök\" szerint"
      ],
      "metadata": {
        "colab": {
          "base_uri": "https://localhost:8080/"
        },
        "id": "VekYOR1byKqx",
        "outputId": "cdc28ff6-8730-4144-8b90-86578ea1e75e"
      },
      "execution_count": null,
      "outputs": [
        {
          "output_type": "execute_result",
          "data": {
            "text/plain": [
              "(73.368, 80.0]        2\n",
              "(66.737, 73.368]      5\n",
              "(60.105, 66.737]     15\n",
              "(7.052, 13.683]      21\n",
              "(53.473, 60.105]     28\n",
              "(46.842, 53.473]     48\n",
              "(0.339, 7.052]       50\n",
              "(40.21, 46.842]      52\n",
              "(33.578, 40.21]     101\n",
              "(13.683, 20.315]    108\n",
              "(20.315, 26.947]    140\n",
              "(26.947, 33.578]    144\n",
              "Name: Age, dtype: int64"
            ]
          },
          "metadata": {},
          "execution_count": 10
        }
      ]
    },
    {
      "cell_type": "markdown",
      "source": [
        "Mi van, ha saját *vödröket* szeretnénk?"
      ],
      "metadata": {
        "id": "on6sdpXUi3Di"
      }
    },
    {
      "cell_type": "code",
      "source": [
        "def Age2AgeGroup(age: int):\n",
        "  if age < 2:\n",
        "    return \"baby\"\n",
        "  if 2 <= age<18:\n",
        "    return \"children\"\n",
        "  if 18 <= age < 30:\n",
        "    return \"youth\"\n",
        "  if 30 <= age < 50:\n",
        "    return \"adult\"\n",
        "  if 50 <= age:\n",
        "    return \"old\"\n",
        "  return None"
      ],
      "metadata": {
        "id": "u87Qp6qaIu-9"
      },
      "execution_count": null,
      "outputs": []
    },
    {
      "cell_type": "code",
      "source": [
        "df[\"Age\"].apply(Age2AgeGroup) # folytonos eloszlású változókat tömbösíthetjük (bucketing), diszkrét eloszlást csinálva belőlük"
      ],
      "metadata": {
        "id": "QeAjrQfu5Jhq",
        "outputId": "b408093d-c309-4b4e-e323-14323a144e2e",
        "colab": {
          "base_uri": "https://localhost:8080/"
        }
      },
      "execution_count": null,
      "outputs": [
        {
          "output_type": "execute_result",
          "data": {
            "text/plain": [
              "0      youth\n",
              "1      adult\n",
              "2      youth\n",
              "3      adult\n",
              "4      adult\n",
              "       ...  \n",
              "886    youth\n",
              "887    youth\n",
              "888     None\n",
              "889    youth\n",
              "890    adult\n",
              "Name: Age, Length: 891, dtype: object"
            ]
          },
          "metadata": {},
          "execution_count": 12
        }
      ]
    },
    {
      "cell_type": "code",
      "source": [
        "df[\"AgeGroup\"] = df[\"Age\"].apply(Age2AgeGroup) # és a táblához is illeszthetjük"
      ],
      "metadata": {
        "id": "2_EgIi30Iu8L"
      },
      "execution_count": null,
      "outputs": []
    },
    {
      "cell_type": "code",
      "source": [
        "df[\"AgeGroup\"].value_counts()"
      ],
      "metadata": {
        "id": "5yJLwfNMHG-v",
        "outputId": "8728f208-c42e-478c-b522-fa92bb77964e",
        "colab": {
          "base_uri": "https://localhost:8080/"
        }
      },
      "execution_count": null,
      "outputs": [
        {
          "output_type": "execute_result",
          "data": {
            "text/plain": [
              "youth       271\n",
              "adult       256\n",
              "children     99\n",
              "old          74\n",
              "baby         14\n",
              "Name: AgeGroup, dtype: int64"
            ]
          },
          "metadata": {},
          "execution_count": 14
        }
      ]
    },
    {
      "cell_type": "code",
      "source": [
        "df[\"AgeGroup\"].value_counts().plot.pie() # ábrázoljuk"
      ],
      "metadata": {
        "id": "nAao3ye8HAb0",
        "outputId": "ff2fd862-9388-43ee-9ec5-3e1801066c32",
        "colab": {
          "base_uri": "https://localhost:8080/",
          "height": 423
        }
      },
      "execution_count": null,
      "outputs": [
        {
          "output_type": "execute_result",
          "data": {
            "text/plain": [
              "<Axes: ylabel='AgeGroup'>"
            ]
          },
          "metadata": {},
          "execution_count": 15
        },
        {
          "output_type": "display_data",
          "data": {
            "text/plain": [
              "<Figure size 640x480 with 1 Axes>"
            ],
            "image/png": "[encoded data removed]"
          },
          "metadata": {}
        }
      ]
    },
    {
      "cell_type": "markdown",
      "source": [
        "Szép megoldás:\n",
        "\n",
        "- Sorrend: *pandas value counts order* / *pandas dataframe row order*\n",
        "- Színskála: *matplotlib sequential colors* (https://matplotlib.org/stable/tutorials/colors/colormaps.html)"
      ],
      "metadata": {
        "id": "9hxvgj6dLJAg"
      }
    },
    {
      "cell_type": "code",
      "source": [
        "df[\"AgeGroup\"].value_counts().reindex([\"baby\",\"children\",\"youth\",\"adult\",\"old\"])"
      ],
      "metadata": {
        "id": "AFp-5VYZIu5s",
        "outputId": "b77c2b4c-7084-4b61-8bc9-115d0f02c1f2",
        "colab": {
          "base_uri": "https://localhost:8080/"
        }
      },
      "execution_count": null,
      "outputs": [
        {
          "output_type": "execute_result",
          "data": {
            "text/plain": [
              "baby         14\n",
              "children     99\n",
              "youth       271\n",
              "adult       256\n",
              "old          74\n",
              "Name: AgeGroup, dtype: int64"
            ]
          },
          "metadata": {},
          "execution_count": 16
        }
      ]
    },
    {
      "cell_type": "code",
      "source": [
        "values = df[\"AgeGroup\"].value_counts().reindex([\"baby\",\"children\",\"youth\",\"adult\",\"old\"])\n",
        "values.plot.pie(autopct='%.2f%%', cmap=\"plasma\") # megfelelő sorrendben"
      ],
      "metadata": {
        "id": "vs38uDUdIu3c",
        "outputId": "390a56a7-9d95-43de-8283-0088b119da40",
        "colab": {
          "base_uri": "https://localhost:8080/",
          "height": 423
        }
      },
      "execution_count": null,
      "outputs": [
        {
          "output_type": "execute_result",
          "data": {
            "text/plain": [
              "<Axes: ylabel='AgeGroup'>"
            ]
          },
          "metadata": {},
          "execution_count": 17
        },
        {
          "output_type": "display_data",
          "data": {
            "text/plain": [
              "<Figure size 640x480 with 1 Axes>"
            ],
            "image/png": "[encoded data removed]"
          },
          "metadata": {}
        }
      ]
    },
    {
      "cell_type": "markdown",
      "source": [
        "### Binary encoding\n",
        "\n",
        "Ha egy folytonos, numerikus változót egy adott küszöbértékhez szeretnénk viszonyítani."
      ],
      "metadata": {
        "id": "nVi1P6b72q7r"
      }
    },
    {
      "cell_type": "code",
      "source": [
        "threshold = df[\"Fare\"].mean()\n",
        "threshold"
      ],
      "metadata": {
        "id": "S0j8XGtIys5j",
        "outputId": "6772ee35-9511-49fa-b173-9fa100c2ff58",
        "colab": {
          "base_uri": "https://localhost:8080/"
        }
      },
      "execution_count": null,
      "outputs": [
        {
          "output_type": "execute_result",
          "data": {
            "text/plain": [
              "32.204207968574636"
            ]
          },
          "metadata": {},
          "execution_count": 18
        }
      ]
    },
    {
      "cell_type": "code",
      "source": [
        "df[\"FareCheap\"] =  (df[\"Fare\"] < threshold).astype(\"int\")"
      ],
      "metadata": {
        "id": "W5rJ0Bdbys2t"
      },
      "execution_count": null,
      "outputs": []
    },
    {
      "cell_type": "code",
      "source": [
        "df.groupby(\"Pclass\")[\"FareCheap\"].value_counts(normalize=True).unstack()"
      ],
      "metadata": {
        "id": "hlxACpmByszt",
        "outputId": "e1d0af33-ac03-4e2a-c657-270d02a67a85",
        "colab": {
          "base_uri": "https://localhost:8080/",
          "height": 175
        }
      },
      "execution_count": null,
      "outputs": [
        {
          "output_type": "execute_result",
          "data": {
            "text/plain": [
              "FareCheap         0         1\n",
              "Pclass                       \n",
              "1          0.736111  0.263889\n",
              "2          0.119565  0.880435\n",
              "3          0.061100  0.938900"
            ],
            "text/html": [
              "\n",
              "  <div id=\"df-fc692504-aa6e-46a2-873a-2f6f743b7534\">\n",
              "    <div class=\"colab-df-container\">\n",
              "      <div>\n",
              "<style scoped>\n",
              "    .dataframe tbody tr th:only-of-type {\n",
              "        vertical-align: middle;\n",
              "    }\n",
              "\n",
              "    .dataframe tbody tr th {\n",
              "        vertical-align: top;\n",
              "    }\n",
              "\n",
              "    .dataframe thead th {\n",
              "        text-align: right;\n",
              "    }\n",
              "</style>\n",
              "<table border=\"1\" class=\"dataframe\">\n",
              "  <thead>\n",
              "    <tr style=\"text-align: right;\">\n",
              "      <th>FareCheap</th>\n",
              "      <th>0</th>\n",
              "      <th>1</th>\n",
              "    </tr>\n",
              "    <tr>\n",
              "      <th>Pclass</th>\n",
              "      <th></th>\n",
              "      <th></th>\n",
              "    </tr>\n",
              "  </thead>\n",
              "  <tbody>\n",
              "    <tr>\n",
              "      <th>1</th>\n",
              "      <td>0.736111</td>\n",
              "      <td>0.263889</td>\n",
              "    </tr>\n",
              "    <tr>\n",
              "      <th>2</th>\n",
              "      <td>0.119565</td>\n",
              "      <td>0.880435</td>\n",
              "    </tr>\n",
              "    <tr>\n",
              "      <th>3</th>\n",
              "      <td>0.061100</td>\n",
              "      <td>0.938900</td>\n",
              "    </tr>\n",
              "  </tbody>\n",
              "</table>\n",
              "</div>\n",
              "      <button class=\"colab-df-convert\" onclick=\"convertToInteractive('df-fc692504-aa6e-46a2-873a-2f6f743b7534')\"\n",
              "              title=\"Convert this dataframe to an interactive table.\"\n",
              "              style=\"display:none;\">\n",
              "        \n",
              "  <svg xmlns=\"http://www.w3.org/2000/svg\" height=\"24px\"viewBox=\"0 0 24 24\"\n",
              "       width=\"24px\">\n",
              "    <path d=\"M0 0h24v24H0V0z\" fill=\"none\"/>\n",
              "    <path d=\"M18.56 5.44l.94 2.06.94-2.06 2.06-.94-2.06-.94-.94-2.06-.94 2.06-2.06.94zm-11 1L8.5 8.5l.94-2.06 2.06-.94-2.06-.94L8.5 2.5l-.94 2.06-2.06.94zm10 10l.94 2.06.94-2.06 2.06-.94-2.06-.94-.94-2.06-.94 2.06-2.06.94z\"/><path d=\"M17.41 7.96l-1.37-1.37c-.4-.4-.92-.59-1.43-.59-.52 0-1.04.2-1.43.59L10.3 9.45l-7.72 7.72c-.78.78-.78 2.05 0 2.83L4 21.41c.39.39.9.59 1.41.59.51 0 1.02-.2 1.41-.59l7.78-7.78 2.81-2.81c.8-.78.8-2.07 0-2.86zM5.41 20L4 18.59l7.72-7.72 1.47 1.35L5.41 20z\"/>\n",
              "  </svg>\n",
              "      </button>\n",
              "      \n",
              "  <style>\n",
              "    .colab-df-container {\n",
              "      display:flex;\n",
              "      flex-wrap:wrap;\n",
              "      gap: 12px;\n",
              "    }\n",
              "\n",
              "    .colab-df-convert {\n",
              "      background-color: #E8F0FE;\n",
              "      border: none;\n",
              "      border-radius: 50%;\n",
              "      cursor: pointer;\n",
              "      display: none;\n",
              "      fill: #1967D2;\n",
              "      height: 32px;\n",
              "      padding: 0 0 0 0;\n",
              "      width: 32px;\n",
              "    }\n",
              "\n",
              "    .colab-df-convert:hover {\n",
              "      background-color: #E2EBFA;\n",
              "      box-shadow: 0px 1px 2px rgba(60, 64, 67, 0.3), 0px 1px 3px 1px rgba(60, 64, 67, 0.15);\n",
              "      fill: #174EA6;\n",
              "    }\n",
              "\n",
              "    [theme=dark] .colab-df-convert {\n",
              "      background-color: #3B4455;\n",
              "      fill: #D2E3FC;\n",
              "    }\n",
              "\n",
              "    [theme=dark] .colab-df-convert:hover {\n",
              "      background-color: #434B5C;\n",
              "      box-shadow: 0px 1px 3px 1px rgba(0, 0, 0, 0.15);\n",
              "      filter: drop-shadow(0px 1px 2px rgba(0, 0, 0, 0.3));\n",
              "      fill: #FFFFFF;\n",
              "    }\n",
              "  </style>\n",
              "\n",
              "      <script>\n",
              "        const buttonEl =\n",
              "          document.querySelector('#df-fc692504-aa6e-46a2-873a-2f6f743b7534 button.colab-df-convert');\n",
              "        buttonEl.style.display =\n",
              "          google.colab.kernel.accessAllowed ? 'block' : 'none';\n",
              "\n",
              "        async function convertToInteractive(key) {\n",
              "          const element = document.querySelector('#df-fc692504-aa6e-46a2-873a-2f6f743b7534');\n",
              "          const dataTable =\n",
              "            await google.colab.kernel.invokeFunction('convertToInteractive',\n",
              "                                                     [key], {});\n",
              "          if (!dataTable) return;\n",
              "\n",
              "          const docLinkHtml = 'Like what you see? Visit the ' +\n",
              "            '<a target=\"_blank\" href=https://colab.research.google.com/notebooks/data_table.ipynb>data table notebook</a>'\n",
              "            + ' to learn more about interactive tables.';\n",
              "          element.innerHTML = '';\n",
              "          dataTable['output_type'] = 'display_data';\n",
              "          await google.colab.output.renderOutput(dataTable, element);\n",
              "          const docLink = document.createElement('div');\n",
              "          docLink.innerHTML = docLinkHtml;\n",
              "          element.appendChild(docLink);\n",
              "        }\n",
              "      </script>\n",
              "    </div>\n",
              "  </div>\n",
              "  "
            ]
          },
          "metadata": {},
          "execution_count": 20
        }
      ]
    },
    {
      "cell_type": "code",
      "source": [
        "values = df.groupby(\"Pclass\")[\"FareCheap\"].value_counts(normalize=True).unstack()\n",
        "values.plot.bar(stacked=True)"
      ],
      "metadata": {
        "id": "l8gohrlALBjO",
        "outputId": "fc3fc5b6-299c-42df-cd6d-dac4ac02e178",
        "colab": {
          "base_uri": "https://localhost:8080/",
          "height": 461
        }
      },
      "execution_count": null,
      "outputs": [
        {
          "output_type": "execute_result",
          "data": {
            "text/plain": [
              "<Axes: xlabel='Pclass'>"
            ]
          },
          "metadata": {},
          "execution_count": 21
        },
        {
          "output_type": "display_data",
          "data": {
            "text/plain": [
              "<Figure size 640x480 with 1 Axes>"
            ],
            "image/png": "[encoded data removed]"
          },
          "metadata": {}
        }
      ]
    },
    {
      "cell_type": "markdown",
      "source": [
        "Szép megoldás\n",
        "\n",
        "- Vízszintes: *maptlotlib horizontal barplot*\n",
        "- Szín: *matplotlib colors* (https://matplotlib.org/stable/gallery/color/named_colors.html)\n",
        "- Értékek (autopct hibát ad!): *pandas bar plot show values* (https://stackoverflow.com/questions/43544694/using-pandas-crosstab-to-create-a-bar-plot)\n",
        "- Értékek formázása:\n",
        "  - matplotlib API: *bar label* (https://matplotlib.org/stable/gallery/lines_bars_and_markers/bar_label_demo.html#bar-label-demo)\n",
        "  - *python %-format strings*"
      ],
      "metadata": {
        "id": "2zh5URq3LLy8"
      }
    },
    {
      "cell_type": "code",
      "source": [
        "pd.crosstab(df[\"Pclass\"],df[\"FareCheap\"], normalize=\"index\")"
      ],
      "metadata": {
        "id": "FlwXRc8iJ2jH",
        "outputId": "3cb7e28f-e6a8-45fb-8168-f7ee05543133",
        "colab": {
          "base_uri": "https://localhost:8080/",
          "height": 175
        }
      },
      "execution_count": null,
      "outputs": [
        {
          "output_type": "execute_result",
          "data": {
            "text/plain": [
              "FareCheap         0         1\n",
              "Pclass                       \n",
              "1          0.736111  0.263889\n",
              "2          0.119565  0.880435\n",
              "3          0.061100  0.938900"
            ],
            "text/html": [
              "\n",
              "  <div id=\"df-8d988088-c6fe-40c7-9003-d32c38c9fb63\">\n",
              "    <div class=\"colab-df-container\">\n",
              "      <div>\n",
              "<style scoped>\n",
              "    .dataframe tbody tr th:only-of-type {\n",
              "        vertical-align: middle;\n",
              "    }\n",
              "\n",
              "    .dataframe tbody tr th {\n",
              "        vertical-align: top;\n",
              "    }\n",
              "\n",
              "    .dataframe thead th {\n",
              "        text-align: right;\n",
              "    }\n",
              "</style>\n",
              "<table border=\"1\" class=\"dataframe\">\n",
              "  <thead>\n",
              "    <tr style=\"text-align: right;\">\n",
              "      <th>FareCheap</th>\n",
              "      <th>0</th>\n",
              "      <th>1</th>\n",
              "    </tr>\n",
              "    <tr>\n",
              "      <th>Pclass</th>\n",
              "      <th></th>\n",
              "      <th></th>\n",
              "    </tr>\n",
              "  </thead>\n",
              "  <tbody>\n",
              "    <tr>\n",
              "      <th>1</th>\n",
              "      <td>0.736111</td>\n",
              "      <td>0.263889</td>\n",
              "    </tr>\n",
              "    <tr>\n",
              "      <th>2</th>\n",
              "      <td>0.119565</td>\n",
              "      <td>0.880435</td>\n",
              "    </tr>\n",
              "    <tr>\n",
              "      <th>3</th>\n",
              "      <td>0.061100</td>\n",
              "      <td>0.938900</td>\n",
              "    </tr>\n",
              "  </tbody>\n",
              "</table>\n",
              "</div>\n",
              "      <button class=\"colab-df-convert\" onclick=\"convertToInteractive('df-8d988088-c6fe-40c7-9003-d32c38c9fb63')\"\n",
              "              title=\"Convert this dataframe to an interactive table.\"\n",
              "              style=\"display:none;\">\n",
              "        \n",
              "  <svg xmlns=\"http://www.w3.org/2000/svg\" height=\"24px\"viewBox=\"0 0 24 24\"\n",
              "       width=\"24px\">\n",
              "    <path d=\"M0 0h24v24H0V0z\" fill=\"none\"/>\n",
              "    <path d=\"M18.56 5.44l.94 2.06.94-2.06 2.06-.94-2.06-.94-.94-2.06-.94 2.06-2.06.94zm-11 1L8.5 8.5l.94-2.06 2.06-.94-2.06-.94L8.5 2.5l-.94 2.06-2.06.94zm10 10l.94 2.06.94-2.06 2.06-.94-2.06-.94-.94-2.06-.94 2.06-2.06.94z\"/><path d=\"M17.41 7.96l-1.37-1.37c-.4-.4-.92-.59-1.43-.59-.52 0-1.04.2-1.43.59L10.3 9.45l-7.72 7.72c-.78.78-.78 2.05 0 2.83L4 21.41c.39.39.9.59 1.41.59.51 0 1.02-.2 1.41-.59l7.78-7.78 2.81-2.81c.8-.78.8-2.07 0-2.86zM5.41 20L4 18.59l7.72-7.72 1.47 1.35L5.41 20z\"/>\n",
              "  </svg>\n",
              "      </button>\n",
              "      \n",
              "  <style>\n",
              "    .colab-df-container {\n",
              "      display:flex;\n",
              "      flex-wrap:wrap;\n",
              "      gap: 12px;\n",
              "    }\n",
              "\n",
              "    .colab-df-convert {\n",
              "      background-color: #E8F0FE;\n",
              "      border: none;\n",
              "      border-radius: 50%;\n",
              "      cursor: pointer;\n",
              "      display: none;\n",
              "      fill: #1967D2;\n",
              "      height: 32px;\n",
              "      padding: 0 0 0 0;\n",
              "      width: 32px;\n",
              "    }\n",
              "\n",
              "    .colab-df-convert:hover {\n",
              "      background-color: #E2EBFA;\n",
              "      box-shadow: 0px 1px 2px rgba(60, 64, 67, 0.3), 0px 1px 3px 1px rgba(60, 64, 67, 0.15);\n",
              "      fill: #174EA6;\n",
              "    }\n",
              "\n",
              "    [theme=dark] .colab-df-convert {\n",
              "      background-color: #3B4455;\n",
              "      fill: #D2E3FC;\n",
              "    }\n",
              "\n",
              "    [theme=dark] .colab-df-convert:hover {\n",
              "      background-color: #434B5C;\n",
              "      box-shadow: 0px 1px 3px 1px rgba(0, 0, 0, 0.15);\n",
              "      filter: drop-shadow(0px 1px 2px rgba(0, 0, 0, 0.3));\n",
              "      fill: #FFFFFF;\n",
              "    }\n",
              "  </style>\n",
              "\n",
              "      <script>\n",
              "        const buttonEl =\n",
              "          document.querySelector('#df-8d988088-c6fe-40c7-9003-d32c38c9fb63 button.colab-df-convert');\n",
              "        buttonEl.style.display =\n",
              "          google.colab.kernel.accessAllowed ? 'block' : 'none';\n",
              "\n",
              "        async function convertToInteractive(key) {\n",
              "          const element = document.querySelector('#df-8d988088-c6fe-40c7-9003-d32c38c9fb63');\n",
              "          const dataTable =\n",
              "            await google.colab.kernel.invokeFunction('convertToInteractive',\n",
              "                                                     [key], {});\n",
              "          if (!dataTable) return;\n",
              "\n",
              "          const docLinkHtml = 'Like what you see? Visit the ' +\n",
              "            '<a target=\"_blank\" href=https://colab.research.google.com/notebooks/data_table.ipynb>data table notebook</a>'\n",
              "            + ' to learn more about interactive tables.';\n",
              "          element.innerHTML = '';\n",
              "          dataTable['output_type'] = 'display_data';\n",
              "          await google.colab.output.renderOutput(dataTable, element);\n",
              "          const docLink = document.createElement('div');\n",
              "          docLink.innerHTML = docLinkHtml;\n",
              "          element.appendChild(docLink);\n",
              "        }\n",
              "      </script>\n",
              "    </div>\n",
              "  </div>\n",
              "  "
            ]
          },
          "metadata": {},
          "execution_count": 22
        }
      ]
    },
    {
      "cell_type": "code",
      "source": [
        "values = pd.crosstab(df[\"Pclass\"],df[\"FareCheap\"], normalize=\"index\")\n",
        "ax = values.plot.barh(stacked=True, color=[\"r\",\"g\"]) # pandas horizontal bar plot\n",
        "\n",
        "ax.legend(title='Ticket price',\n",
        "          labels=[\"expensive\",\"cheap\"],\n",
        "          bbox_to_anchor=(1, 1.02),\n",
        "          loc='upper left')\n",
        "\n",
        "for container in ax.containers:\n",
        "  ax.bar_label(container, label_type=\"center\", fmt='%.2f') # nézd meg fmt='%.2f%%'-vel"
      ],
      "metadata": {
        "id": "soBTVhGj3eHj",
        "outputId": "52565391-7fc4-48d3-a42c-fe72a8498062",
        "colab": {
          "base_uri": "https://localhost:8080/",
          "height": 430
        }
      },
      "execution_count": null,
      "outputs": [
        {
          "output_type": "display_data",
          "data": {
            "text/plain": [
              "<Figure size 640x480 with 1 Axes>"
            ],
            "image/png": "[encoded data removed]"
          },
          "metadata": {}
        }
      ]
    },
    {
      "cell_type": "markdown",
      "source": [
        "## Kategorikus változók"
      ],
      "metadata": {
        "id": "sSDKCeKa_b6v"
      }
    },
    {
      "cell_type": "markdown",
      "source": [
        "### One hot encoding\n",
        "\n",
        "Dummy kódolásnak is nevezik. Nézzük az `Embarked` oszlopot! Három lehetséges értéke az `S,C,Q`. Vegyünk 3 indikátor változót, nevezzük őket `Embarked_S, Embarked_C, Embarked_Q`-nak. A szabály a következő: ha `X` városban szállt be valaki, akkor `Embarked_X` értéke legyen 1, a többié 0. Tehát például, ha valaki Southamptonban szállt fel, akkor `Embarked_S=1, Embarked_C=0, Embarked_Q=0`. Ezen indikátor változókat nevezzük dummy változóknak, a belőlük képzett vektort pedig dummy vektornak. Ez előző esetben például a dummy vektor a következő lenne: $[1,0,0]$. Az egyes oszlopok ekkor arra a kérdésre válaszolnak valójában, hogy az illető `X` városban szállt-e fel."
      ],
      "metadata": {
        "id": "_7b1uJBN4oul"
      }
    },
    {
      "cell_type": "code",
      "source": [
        "df[\"Embarked\"].unique() #Ezzel konkrétan azt kérdezem meg, hogy az \"Embarked\" oszlopban milyen értékek szerepelhetnek"
      ],
      "metadata": {
        "id": "-_dHw3fb4ocy",
        "outputId": "70a976b7-e1dd-4c4e-bc79-728ca98a5f90",
        "colab": {
          "base_uri": "https://localhost:8080/"
        }
      },
      "execution_count": null,
      "outputs": [
        {
          "output_type": "execute_result",
          "data": {
            "text/plain": [
              "array(['S', 'C', 'Q', nan], dtype=object)"
            ]
          },
          "metadata": {},
          "execution_count": 24
        }
      ]
    },
    {
      "cell_type": "code",
      "source": [
        "(df[\"Embarked\"] == \"S\").astype(\"int\") #Eredetileg úgy volt, hogy astype(\"int\"), de én kipróbáltam, hogy mi van, ha logikai értékkel kérdezek rá"
      ],
      "metadata": {
        "id": "yqzrjfQwmrMv",
        "outputId": "737af0e5-0c39-48f6-d9fb-86a5b60043e7",
        "colab": {
          "base_uri": "https://localhost:8080/"
        }
      },
      "execution_count": null,
      "outputs": [
        {
          "output_type": "execute_result",
          "data": {
            "text/plain": [
              "0      1\n",
              "1      0\n",
              "2      1\n",
              "3      1\n",
              "4      1\n",
              "      ..\n",
              "886    1\n",
              "887    1\n",
              "888    1\n",
              "889    0\n",
              "890    0\n",
              "Name: Embarked, Length: 891, dtype: int64"
            ]
          },
          "metadata": {},
          "execution_count": 25
        }
      ]
    },
    {
      "cell_type": "code",
      "source": [
        "for city in df[\"Embarked\"].unique():\n",
        "  if pd.notna(city): # nézd meg mi történik, ha ezt a feltételt kihagyod\n",
        "    df[f\"is_Embarked_{city}\"] = (df[\"Embarked\"] == city).astype(\"int\") #Itt az történik, hogy az is_Embarked_ szöveg mögé a city változó strinesített verziója kerül"
      ],
      "metadata": {
        "id": "HBYLzBTQ4oZ7"
      },
      "execution_count": null,
      "outputs": []
    },
    {
      "cell_type": "code",
      "source": [
        "list( filter(lambda col: \"Embarked\" in col, df.columns) )"
      ],
      "metadata": {
        "id": "I_rmyyXmOkYD",
        "outputId": "b9f9ea18-449c-420b-d460-2ce0eeaf38c7",
        "colab": {
          "base_uri": "https://localhost:8080/"
        }
      },
      "execution_count": null,
      "outputs": [
        {
          "output_type": "execute_result",
          "data": {
            "text/plain": [
              "['Embarked', 'is_Embarked_S', 'is_Embarked_C', 'is_Embarked_Q']"
            ]
          },
          "metadata": {},
          "execution_count": 27
        }
      ]
    },
    {
      "cell_type": "code",
      "source": [
        "df[ ['Embarked', 'is_Embarked_S','is_Embarked_C','is_Embarked_Q'] ] #Itt egyszerűen csak kikérjük az oszlopokat, amikbe beírtuk az új értékeket, meg persze a sima Embarked-ot is"
      ],
      "metadata": {
        "id": "xBXRB3px4oXa",
        "outputId": "ebd7aa76-bc40-457a-f252-9e4f56a2681c",
        "colab": {
          "base_uri": "https://localhost:8080/",
          "height": 424
        }
      },
      "execution_count": null,
      "outputs": [
        {
          "output_type": "execute_result",
          "data": {
            "text/plain": [
              "    Embarked  is_Embarked_S  is_Embarked_C  is_Embarked_Q\n",
              "0          S              1              0              0\n",
              "1          C              0              1              0\n",
              "2          S              1              0              0\n",
              "3          S              1              0              0\n",
              "4          S              1              0              0\n",
              "..       ...            ...            ...            ...\n",
              "886        S              1              0              0\n",
              "887        S              1              0              0\n",
              "888        S              1              0              0\n",
              "889        C              0              1              0\n",
              "890        Q              0              0              1\n",
              "\n",
              "[891 rows x 4 columns]"
            ],
            "text/html": [
              "\n",
              "  <div id=\"df-c1428e82-2811-4d04-ab8b-be45f5e8bade\">\n",
              "    <div class=\"colab-df-container\">\n",
              "      <div>\n",
              "<style scoped>\n",
              "    .dataframe tbody tr th:only-of-type {\n",
              "        vertical-align: middle;\n",
              "    }\n",
              "\n",
              "    .dataframe tbody tr th {\n",
              "        vertical-align: top;\n",
              "    }\n",
              "\n",
              "    .dataframe thead th {\n",
              "        text-align: right;\n",
              "    }\n",
              "</style>\n",
              "<table border=\"1\" class=\"dataframe\">\n",
              "  <thead>\n",
              "    <tr style=\"text-align: right;\">\n",
              "      <th></th>\n",
              "      <th>Embarked</th>\n",
              "      <th>is_Embarked_S</th>\n",
              "      <th>is_Embarked_C</th>\n",
              "      <th>is_Embarked_Q</th>\n",
              "    </tr>\n",
              "  </thead>\n",
              "  <tbody>\n",
              "    <tr>\n",
              "      <th>0</th>\n",
              "      <td>S</td>\n",
              "      <td>1</td>\n",
              "      <td>0</td>\n",
              "      <td>0</td>\n",
              "    </tr>\n",
              "    <tr>\n",
              "      <th>1</th>\n",
              "      <td>C</td>\n",
              "      <td>0</td>\n",
              "      <td>1</td>\n",
              "      <td>0</td>\n",
              "    </tr>\n",
              "    <tr>\n",
              "      <th>2</th>\n",
              "      <td>S</td>\n",
              "      <td>1</td>\n",
              "      <td>0</td>\n",
              "      <td>0</td>\n",
              "    </tr>\n",
              "    <tr>\n",
              "      <th>3</th>\n",
              "      <td>S</td>\n",
              "      <td>1</td>\n",
              "      <td>0</td>\n",
              "      <td>0</td>\n",
              "    </tr>\n",
              "    <tr>\n",
              "      <th>4</th>\n",
              "      <td>S</td>\n",
              "      <td>1</td>\n",
              "      <td>0</td>\n",
              "      <td>0</td>\n",
              "    </tr>\n",
              "    <tr>\n",
              "      <th>...</th>\n",
              "      <td>...</td>\n",
              "      <td>...</td>\n",
              "      <td>...</td>\n",
              "      <td>...</td>\n",
              "    </tr>\n",
              "    <tr>\n",
              "      <th>886</th>\n",
              "      <td>S</td>\n",
              "      <td>1</td>\n",
              "      <td>0</td>\n",
              "      <td>0</td>\n",
              "    </tr>\n",
              "    <tr>\n",
              "      <th>887</th>\n",
              "      <td>S</td>\n",
              "      <td>1</td>\n",
              "      <td>0</td>\n",
              "      <td>0</td>\n",
              "    </tr>\n",
              "    <tr>\n",
              "      <th>888</th>\n",
              "      <td>S</td>\n",
              "      <td>1</td>\n",
              "      <td>0</td>\n",
              "      <td>0</td>\n",
              "    </tr>\n",
              "    <tr>\n",
              "      <th>889</th>\n",
              "      <td>C</td>\n",
              "      <td>0</td>\n",
              "      <td>1</td>\n",
              "      <td>0</td>\n",
              "    </tr>\n",
              "    <tr>\n",
              "      <th>890</th>\n",
              "      <td>Q</td>\n",
              "      <td>0</td>\n",
              "      <td>0</td>\n",
              "      <td>1</td>\n",
              "    </tr>\n",
              "  </tbody>\n",
              "</table>\n",
              "<p>891 rows × 4 columns</p>\n",
              "</div>\n",
              "      <button class=\"colab-df-convert\" onclick=\"convertToInteractive('df-c1428e82-2811-4d04-ab8b-be45f5e8bade')\"\n",
              "              title=\"Convert this dataframe to an interactive table.\"\n",
              "              style=\"display:none;\">\n",
              "        \n",
              "  <svg xmlns=\"http://www.w3.org/2000/svg\" height=\"24px\"viewBox=\"0 0 24 24\"\n",
              "       width=\"24px\">\n",
              "    <path d=\"M0 0h24v24H0V0z\" fill=\"none\"/>\n",
              "    <path d=\"M18.56 5.44l.94 2.06.94-2.06 2.06-.94-2.06-.94-.94-2.06-.94 2.06-2.06.94zm-11 1L8.5 8.5l.94-2.06 2.06-.94-2.06-.94L8.5 2.5l-.94 2.06-2.06.94zm10 10l.94 2.06.94-2.06 2.06-.94-2.06-.94-.94-2.06-.94 2.06-2.06.94z\"/><path d=\"M17.41 7.96l-1.37-1.37c-.4-.4-.92-.59-1.43-.59-.52 0-1.04.2-1.43.59L10.3 9.45l-7.72 7.72c-.78.78-.78 2.05 0 2.83L4 21.41c.39.39.9.59 1.41.59.51 0 1.02-.2 1.41-.59l7.78-7.78 2.81-2.81c.8-.78.8-2.07 0-2.86zM5.41 20L4 18.59l7.72-7.72 1.47 1.35L5.41 20z\"/>\n",
              "  </svg>\n",
              "      </button>\n",
              "      \n",
              "  <style>\n",
              "    .colab-df-container {\n",
              "      display:flex;\n",
              "      flex-wrap:wrap;\n",
              "      gap: 12px;\n",
              "    }\n",
              "\n",
              "    .colab-df-convert {\n",
              "      background-color: #E8F0FE;\n",
              "      border: none;\n",
              "      border-radius: 50%;\n",
              "      cursor: pointer;\n",
              "      display: none;\n",
              "      fill: #1967D2;\n",
              "      height: 32px;\n",
              "      padding: 0 0 0 0;\n",
              "      width: 32px;\n",
              "    }\n",
              "\n",
              "    .colab-df-convert:hover {\n",
              "      background-color: #E2EBFA;\n",
              "      box-shadow: 0px 1px 2px rgba(60, 64, 67, 0.3), 0px 1px 3px 1px rgba(60, 64, 67, 0.15);\n",
              "      fill: #174EA6;\n",
              "    }\n",
              "\n",
              "    [theme=dark] .colab-df-convert {\n",
              "      background-color: #3B4455;\n",
              "      fill: #D2E3FC;\n",
              "    }\n",
              "\n",
              "    [theme=dark] .colab-df-convert:hover {\n",
              "      background-color: #434B5C;\n",
              "      box-shadow: 0px 1px 3px 1px rgba(0, 0, 0, 0.15);\n",
              "      filter: drop-shadow(0px 1px 2px rgba(0, 0, 0, 0.3));\n",
              "      fill: #FFFFFF;\n",
              "    }\n",
              "  </style>\n",
              "\n",
              "      <script>\n",
              "        const buttonEl =\n",
              "          document.querySelector('#df-c1428e82-2811-4d04-ab8b-be45f5e8bade button.colab-df-convert');\n",
              "        buttonEl.style.display =\n",
              "          google.colab.kernel.accessAllowed ? 'block' : 'none';\n",
              "\n",
              "        async function convertToInteractive(key) {\n",
              "          const element = document.querySelector('#df-c1428e82-2811-4d04-ab8b-be45f5e8bade');\n",
              "          const dataTable =\n",
              "            await google.colab.kernel.invokeFunction('convertToInteractive',\n",
              "                                                     [key], {});\n",
              "          if (!dataTable) return;\n",
              "\n",
              "          const docLinkHtml = 'Like what you see? Visit the ' +\n",
              "            '<a target=\"_blank\" href=https://colab.research.google.com/notebooks/data_table.ipynb>data table notebook</a>'\n",
              "            + ' to learn more about interactive tables.';\n",
              "          element.innerHTML = '';\n",
              "          dataTable['output_type'] = 'display_data';\n",
              "          await google.colab.output.renderOutput(dataTable, element);\n",
              "          const docLink = document.createElement('div');\n",
              "          docLink.innerHTML = docLinkHtml;\n",
              "          element.appendChild(docLink);\n",
              "        }\n",
              "      </script>\n",
              "    </div>\n",
              "  </div>\n",
              "  "
            ]
          },
          "metadata": {},
          "execution_count": 28
        }
      ]
    },
    {
      "cell_type": "markdown",
      "source": [
        "Mindenhol egy db 1-es van?"
      ],
      "metadata": {
        "id": "TXsY-sIFnIYO"
      }
    },
    {
      "cell_type": "code",
      "source": [
        "df[ ['is_Embarked_S','is_Embarked_C','is_Embarked_Q'] ].sum(axis=1)"
      ],
      "metadata": {
        "id": "fMXeLMX5nKuz",
        "outputId": "690dc661-7b06-4445-babe-106ca5cb507d",
        "colab": {
          "base_uri": "https://localhost:8080/"
        }
      },
      "execution_count": null,
      "outputs": [
        {
          "output_type": "execute_result",
          "data": {
            "text/plain": [
              "0      1\n",
              "1      1\n",
              "2      1\n",
              "3      1\n",
              "4      1\n",
              "      ..\n",
              "886    1\n",
              "887    1\n",
              "888    1\n",
              "889    1\n",
              "890    1\n",
              "Length: 891, dtype: int64"
            ]
          },
          "metadata": {},
          "execution_count": 29
        }
      ]
    },
    {
      "cell_type": "code",
      "source": [
        "all( df[ ['is_Embarked_S','is_Embarked_C','is_Embarked_Q'] ].sum(axis=1) == 1 )"
      ],
      "metadata": {
        "id": "CZmdeNDHnBlV",
        "outputId": "3b2af0a0-6edf-40aa-b270-ac7f69443529",
        "colab": {
          "base_uri": "https://localhost:8080/"
        }
      },
      "execution_count": null,
      "outputs": [
        {
          "output_type": "execute_result",
          "data": {
            "text/plain": [
              "False"
            ]
          },
          "metadata": {},
          "execution_count": 30
        }
      ]
    },
    {
      "cell_type": "markdown",
      "source": [
        "Ellenőrzés"
      ],
      "metadata": {
        "id": "yt-uEaZtnAGT"
      }
    },
    {
      "cell_type": "code",
      "source": [
        "df[ ['is_Embarked_S','is_Embarked_C','is_Embarked_Q'] ].sum()"
      ],
      "metadata": {
        "id": "Z2sL0Q2t9QE1",
        "outputId": "a2f08193-0ed5-4c09-973f-e1f864bc2642",
        "colab": {
          "base_uri": "https://localhost:8080/"
        }
      },
      "execution_count": null,
      "outputs": [
        {
          "output_type": "execute_result",
          "data": {
            "text/plain": [
              "is_Embarked_S    644\n",
              "is_Embarked_C    168\n",
              "is_Embarked_Q     77\n",
              "dtype: int64"
            ]
          },
          "metadata": {},
          "execution_count": 31
        }
      ]
    },
    {
      "cell_type": "code",
      "source": [
        "df[\"Embarked\"].value_counts()"
      ],
      "metadata": {
        "id": "Akw6zFq9Pljh",
        "outputId": "81b01c3a-08c5-4abb-b5f7-b6f202873b34",
        "colab": {
          "base_uri": "https://localhost:8080/"
        }
      },
      "execution_count": null,
      "outputs": [
        {
          "output_type": "execute_result",
          "data": {
            "text/plain": [
              "S    644\n",
              "C    168\n",
              "Q     77\n",
              "Name: Embarked, dtype: int64"
            ]
          },
          "metadata": {},
          "execution_count": 32
        }
      ]
    },
    {
      "cell_type": "markdown",
      "source": [
        "Vegyük észre, hogy az utolsó oszlopot akár el is lehet hagyni: `Embarked_Q` pontosan akkor 1, ha a többi 0. (Hiszen az első $n-1$ indikátor változó meghatározza az $n$-diket, ha a rendszer teljes.)"
      ],
      "metadata": {
        "id": "ec4paGfG64Ip"
      }
    },
    {
      "cell_type": "markdown",
      "source": [
        "### Label encoding\n",
        "\n",
        "Ha egy $n$ különböző értéket felvevő kategorikus változó értékeit 0-tól $n-1$-ig terjedő skálán reprezentáljuk"
      ],
      "metadata": {
        "id": "dhdXuVbpytUc"
      }
    },
    {
      "cell_type": "code",
      "source": [
        "embark2int = {\"S\": 0, \"C\": 1, \"Q\": 2}"
      ],
      "metadata": {
        "id": "zSicfug6njZu"
      },
      "execution_count": null,
      "outputs": []
    },
    {
      "cell_type": "code",
      "source": [
        "#df[\"Embarked\"].apply(embark2int) #Ez így nem működik, felesleges minden egyes alkalommal lefuttatni"
      ],
      "metadata": {
        "id": "QhWLO0rYnfxo"
      },
      "execution_count": null,
      "outputs": []
    },
    {
      "cell_type": "markdown",
      "source": [
        "Keresés: *apply dictionary to a pandas column*\n",
        "\n",
        "Megoldás: https://www.geeksforgeeks.org/using-dictionary-to-remap-values-in-pandas-dataframe-columns/\n",
        "- map: https://pandas.pydata.org/pandas-docs/stable/reference/api/pandas.Series.map.html?highlight=map#pandas.Series.map\n",
        "- replace: https://pandas.pydata.org/pandas-docs/stable/reference/api/pandas.DataFrame.replace.html?highlight=replace#pandas.DataFrame.replace"
      ],
      "metadata": {
        "id": "e5MT1Cp_nh8m"
      }
    },
    {
      "cell_type": "code",
      "source": [
        "df[\"Embarked\"].map(embark2int)"
      ],
      "metadata": {
        "id": "eQ6GCcN07ISr",
        "outputId": "0b5cc246-536c-4bf9-a504-9b67eecbeffd",
        "colab": {
          "base_uri": "https://localhost:8080/"
        }
      },
      "execution_count": null,
      "outputs": [
        {
          "output_type": "execute_result",
          "data": {
            "text/plain": [
              "0      0.0\n",
              "1      1.0\n",
              "2      0.0\n",
              "3      0.0\n",
              "4      0.0\n",
              "      ... \n",
              "886    0.0\n",
              "887    0.0\n",
              "888    0.0\n",
              "889    1.0\n",
              "890    2.0\n",
              "Name: Embarked, Length: 891, dtype: float64"
            ]
          },
          "metadata": {},
          "execution_count": 35
        }
      ]
    },
    {
      "cell_type": "code",
      "source": [
        "df[\"Embarked\"].map(embark2int).value_counts()"
      ],
      "metadata": {
        "id": "5X2KqoFaLWx3",
        "outputId": "2c0040ea-9ee9-4332-e7de-20107939c27d",
        "colab": {
          "base_uri": "https://localhost:8080/"
        }
      },
      "execution_count": null,
      "outputs": [
        {
          "output_type": "execute_result",
          "data": {
            "text/plain": [
              "0.0    644\n",
              "1.0    168\n",
              "2.0     77\n",
              "Name: Embarked, dtype: int64"
            ]
          },
          "metadata": {},
          "execution_count": 36
        }
      ]
    },
    {
      "cell_type": "code",
      "source": [
        "df.replace({\"Embarked\": embark2int})"
      ],
      "metadata": {
        "id": "D4g_gR3onz-Z",
        "colab": {
          "base_uri": "https://localhost:8080/",
          "height": 424
        },
        "outputId": "0de3eefb-bad3-47d1-cf7a-60c70e38b9ff"
      },
      "execution_count": null,
      "outputs": [
        {
          "output_type": "execute_result",
          "data": {
            "text/plain": [
              "     PassengerId  Survived  Pclass  \\\n",
              "0              1         0       3   \n",
              "1              2         1       1   \n",
              "2              3         1       3   \n",
              "3              4         1       1   \n",
              "4              5         0       3   \n",
              "..           ...       ...     ...   \n",
              "886          887         0       2   \n",
              "887          888         1       1   \n",
              "888          889         0       3   \n",
              "889          890         1       1   \n",
              "890          891         0       3   \n",
              "\n",
              "                                                  Name     Sex   Age  SibSp  \\\n",
              "0                              Braund, Mr. Owen Harris    male  22.0      1   \n",
              "1    Cumings, Mrs. John Bradley (Florence Briggs Th...  female  38.0      1   \n",
              "2                               Heikkinen, Miss. Laina  female  26.0      0   \n",
              "3         Futrelle, Mrs. Jacques Heath (Lily May Peel)  female  35.0      1   \n",
              "4                             Allen, Mr. William Henry    male  35.0      0   \n",
              "..                                                 ...     ...   ...    ...   \n",
              "886                              Montvila, Rev. Juozas    male  27.0      0   \n",
              "887                       Graham, Miss. Margaret Edith  female  19.0      0   \n",
              "888           Johnston, Miss. Catherine Helen \"Carrie\"  female   NaN      1   \n",
              "889                              Behr, Mr. Karl Howell    male  26.0      0   \n",
              "890                                Dooley, Mr. Patrick    male  32.0      0   \n",
              "\n",
              "     ParCh            Ticket     Fare Cabin  Embarked AgeGroup  FareCheap  \\\n",
              "0        0         A/5 21171   7.2500   NaN       0.0    youth          1   \n",
              "1        0          PC 17599  71.2833   C85       1.0    adult          0   \n",
              "2        0  STON/O2. 3101282   7.9250   NaN       0.0    youth          1   \n",
              "3        0            113803  53.1000  C123       0.0    adult          0   \n",
              "4        0            373450   8.0500   NaN       0.0    adult          1   \n",
              "..     ...               ...      ...   ...       ...      ...        ...   \n",
              "886      0            211536  13.0000   NaN       0.0    youth          1   \n",
              "887      0            112053  30.0000   B42       0.0    youth          1   \n",
              "888      2        W./C. 6607  23.4500   NaN       0.0     None          1   \n",
              "889      0            111369  30.0000  C148       1.0    youth          1   \n",
              "890      0            370376   7.7500   NaN       2.0    adult          1   \n",
              "\n",
              "     is_Embarked_S  is_Embarked_C  is_Embarked_Q  \n",
              "0                1              0              0  \n",
              "1                0              1              0  \n",
              "2                1              0              0  \n",
              "3                1              0              0  \n",
              "4                1              0              0  \n",
              "..             ...            ...            ...  \n",
              "886              1              0              0  \n",
              "887              1              0              0  \n",
              "888              1              0              0  \n",
              "889              0              1              0  \n",
              "890              0              0              1  \n",
              "\n",
              "[891 rows x 17 columns]"
            ],
            "text/html": [
              "\n",
              "  <div id=\"df-2645c924-98b4-4e11-93b7-baa5e8b67075\">\n",
              "    <div class=\"colab-df-container\">\n",
              "      <div>\n",
              "<style scoped>\n",
              "    .dataframe tbody tr th:only-of-type {\n",
              "        vertical-align: middle;\n",
              "    }\n",
              "\n",
              "    .dataframe tbody tr th {\n",
              "        vertical-align: top;\n",
              "    }\n",
              "\n",
              "    .dataframe thead th {\n",
              "        text-align: right;\n",
              "    }\n",
              "</style>\n",
              "<table border=\"1\" class=\"dataframe\">\n",
              "  <thead>\n",
              "    <tr style=\"text-align: right;\">\n",
              "      <th></th>\n",
              "      <th>PassengerId</th>\n",
              "      <th>Survived</th>\n",
              "      <th>Pclass</th>\n",
              "      <th>Name</th>\n",
              "      <th>Sex</th>\n",
              "      <th>Age</th>\n",
              "      <th>SibSp</th>\n",
              "      <th>ParCh</th>\n",
              "      <th>Ticket</th>\n",
              "      <th>Fare</th>\n",
              "      <th>Cabin</th>\n",
              "      <th>Embarked</th>\n",
              "      <th>AgeGroup</th>\n",
              "      <th>FareCheap</th>\n",
              "      <th>is_Embarked_S</th>\n",
              "      <th>is_Embarked_C</th>\n",
              "      <th>is_Embarked_Q</th>\n",
              "    </tr>\n",
              "  </thead>\n",
              "  <tbody>\n",
              "    <tr>\n",
              "      <th>0</th>\n",
              "      <td>1</td>\n",
              "      <td>0</td>\n",
              "      <td>3</td>\n",
              "      <td>Braund, Mr. Owen Harris</td>\n",
              "      <td>male</td>\n",
              "      <td>22.0</td>\n",
              "      <td>1</td>\n",
              "      <td>0</td>\n",
              "      <td>A/5 21171</td>\n",
              "      <td>7.2500</td>\n",
              "      <td>NaN</td>\n",
              "      <td>0.0</td>\n",
              "      <td>youth</td>\n",
              "      <td>1</td>\n",
              "      <td>1</td>\n",
              "      <td>0</td>\n",
              "      <td>0</td>\n",
              "    </tr>\n",
              "    <tr>\n",
              "      <th>1</th>\n",
              "      <td>2</td>\n",
              "      <td>1</td>\n",
              "      <td>1</td>\n",
              "      <td>Cumings, Mrs. John Bradley (Florence Briggs Th...</td>\n",
              "      <td>female</td>\n",
              "      <td>38.0</td>\n",
              "      <td>1</td>\n",
              "      <td>0</td>\n",
              "      <td>PC 17599</td>\n",
              "      <td>71.2833</td>\n",
              "      <td>C85</td>\n",
              "      <td>1.0</td>\n",
              "      <td>adult</td>\n",
              "      <td>0</td>\n",
              "      <td>0</td>\n",
              "      <td>1</td>\n",
              "      <td>0</td>\n",
              "    </tr>\n",
              "    <tr>\n",
              "      <th>2</th>\n",
              "      <td>3</td>\n",
              "      <td>1</td>\n",
              "      <td>3</td>\n",
              "      <td>Heikkinen, Miss. Laina</td>\n",
              "      <td>female</td>\n",
              "      <td>26.0</td>\n",
              "      <td>0</td>\n",
              "      <td>0</td>\n",
              "      <td>STON/O2. 3101282</td>\n",
              "      <td>7.9250</td>\n",
              "      <td>NaN</td>\n",
              "      <td>0.0</td>\n",
              "      <td>youth</td>\n",
              "      <td>1</td>\n",
              "      <td>1</td>\n",
              "      <td>0</td>\n",
              "      <td>0</td>\n",
              "    </tr>\n",
              "    <tr>\n",
              "      <th>3</th>\n",
              "      <td>4</td>\n",
              "      <td>1</td>\n",
              "      <td>1</td>\n",
              "      <td>Futrelle, Mrs. Jacques Heath (Lily May Peel)</td>\n",
              "      <td>female</td>\n",
              "      <td>35.0</td>\n",
              "      <td>1</td>\n",
              "      <td>0</td>\n",
              "      <td>113803</td>\n",
              "      <td>53.1000</td>\n",
              "      <td>C123</td>\n",
              "      <td>0.0</td>\n",
              "      <td>adult</td>\n",
              "      <td>0</td>\n",
              "      <td>1</td>\n",
              "      <td>0</td>\n",
              "      <td>0</td>\n",
              "    </tr>\n",
              "    <tr>\n",
              "      <th>4</th>\n",
              "      <td>5</td>\n",
              "      <td>0</td>\n",
              "      <td>3</td>\n",
              "      <td>Allen, Mr. William Henry</td>\n",
              "      <td>male</td>\n",
              "      <td>35.0</td>\n",
              "      <td>0</td>\n",
              "      <td>0</td>\n",
              "      <td>373450</td>\n",
              "      <td>8.0500</td>\n",
              "      <td>NaN</td>\n",
              "      <td>0.0</td>\n",
              "      <td>adult</td>\n",
              "      <td>1</td>\n",
              "      <td>1</td>\n",
              "      <td>0</td>\n",
              "      <td>0</td>\n",
              "    </tr>\n",
              "    <tr>\n",
              "      <th>...</th>\n",
              "      <td>...</td>\n",
              "      <td>...</td>\n",
              "      <td>...</td>\n",
              "      <td>...</td>\n",
              "      <td>...</td>\n",
              "      <td>...</td>\n",
              "      <td>...</td>\n",
              "      <td>...</td>\n",
              "      <td>...</td>\n",
              "      <td>...</td>\n",
              "      <td>...</td>\n",
              "      <td>...</td>\n",
              "      <td>...</td>\n",
              "      <td>...</td>\n",
              "      <td>...</td>\n",
              "      <td>...</td>\n",
              "      <td>...</td>\n",
              "    </tr>\n",
              "    <tr>\n",
              "      <th>886</th>\n",
              "      <td>887</td>\n",
              "      <td>0</td>\n",
              "      <td>2</td>\n",
              "      <td>Montvila, Rev. Juozas</td>\n",
              "      <td>male</td>\n",
              "      <td>27.0</td>\n",
              "      <td>0</td>\n",
              "      <td>0</td>\n",
              "      <td>211536</td>\n",
              "      <td>13.0000</td>\n",
              "      <td>NaN</td>\n",
              "      <td>0.0</td>\n",
              "      <td>youth</td>\n",
              "      <td>1</td>\n",
              "      <td>1</td>\n",
              "      <td>0</td>\n",
              "      <td>0</td>\n",
              "    </tr>\n",
              "    <tr>\n",
              "      <th>887</th>\n",
              "      <td>888</td>\n",
              "      <td>1</td>\n",
              "      <td>1</td>\n",
              "      <td>Graham, Miss. Margaret Edith</td>\n",
              "      <td>female</td>\n",
              "      <td>19.0</td>\n",
              "      <td>0</td>\n",
              "      <td>0</td>\n",
              "      <td>112053</td>\n",
              "      <td>30.0000</td>\n",
              "      <td>B42</td>\n",
              "      <td>0.0</td>\n",
              "      <td>youth</td>\n",
              "      <td>1</td>\n",
              "      <td>1</td>\n",
              "      <td>0</td>\n",
              "      <td>0</td>\n",
              "    </tr>\n",
              "    <tr>\n",
              "      <th>888</th>\n",
              "      <td>889</td>\n",
              "      <td>0</td>\n",
              "      <td>3</td>\n",
              "      <td>Johnston, Miss. Catherine Helen \"Carrie\"</td>\n",
              "      <td>female</td>\n",
              "      <td>NaN</td>\n",
              "      <td>1</td>\n",
              "      <td>2</td>\n",
              "      <td>W./C. 6607</td>\n",
              "      <td>23.4500</td>\n",
              "      <td>NaN</td>\n",
              "      <td>0.0</td>\n",
              "      <td>None</td>\n",
              "      <td>1</td>\n",
              "      <td>1</td>\n",
              "      <td>0</td>\n",
              "      <td>0</td>\n",
              "    </tr>\n",
              "    <tr>\n",
              "      <th>889</th>\n",
              "      <td>890</td>\n",
              "      <td>1</td>\n",
              "      <td>1</td>\n",
              "      <td>Behr, Mr. Karl Howell</td>\n",
              "      <td>male</td>\n",
              "      <td>26.0</td>\n",
              "      <td>0</td>\n",
              "      <td>0</td>\n",
              "      <td>111369</td>\n",
              "      <td>30.0000</td>\n",
              "      <td>C148</td>\n",
              "      <td>1.0</td>\n",
              "      <td>youth</td>\n",
              "      <td>1</td>\n",
              "      <td>0</td>\n",
              "      <td>1</td>\n",
              "      <td>0</td>\n",
              "    </tr>\n",
              "    <tr>\n",
              "      <th>890</th>\n",
              "      <td>891</td>\n",
              "      <td>0</td>\n",
              "      <td>3</td>\n",
              "      <td>Dooley, Mr. Patrick</td>\n",
              "      <td>male</td>\n",
              "      <td>32.0</td>\n",
              "      <td>0</td>\n",
              "      <td>0</td>\n",
              "      <td>370376</td>\n",
              "      <td>7.7500</td>\n",
              "      <td>NaN</td>\n",
              "      <td>2.0</td>\n",
              "      <td>adult</td>\n",
              "      <td>1</td>\n",
              "      <td>0</td>\n",
              "      <td>0</td>\n",
              "      <td>1</td>\n",
              "    </tr>\n",
              "  </tbody>\n",
              "</table>\n",
              "<p>891 rows × 17 columns</p>\n",
              "</div>\n",
              "      <button class=\"colab-df-convert\" onclick=\"convertToInteractive('df-2645c924-98b4-4e11-93b7-baa5e8b67075')\"\n",
              "              title=\"Convert this dataframe to an interactive table.\"\n",
              "              style=\"display:none;\">\n",
              "        \n",
              "  <svg xmlns=\"http://www.w3.org/2000/svg\" height=\"24px\"viewBox=\"0 0 24 24\"\n",
              "       width=\"24px\">\n",
              "    <path d=\"M0 0h24v24H0V0z\" fill=\"none\"/>\n",
              "    <path d=\"M18.56 5.44l.94 2.06.94-2.06 2.06-.94-2.06-.94-.94-2.06-.94 2.06-2.06.94zm-11 1L8.5 8.5l.94-2.06 2.06-.94-2.06-.94L8.5 2.5l-.94 2.06-2.06.94zm10 10l.94 2.06.94-2.06 2.06-.94-2.06-.94-.94-2.06-.94 2.06-2.06.94z\"/><path d=\"M17.41 7.96l-1.37-1.37c-.4-.4-.92-.59-1.43-.59-.52 0-1.04.2-1.43.59L10.3 9.45l-7.72 7.72c-.78.78-.78 2.05 0 2.83L4 21.41c.39.39.9.59 1.41.59.51 0 1.02-.2 1.41-.59l7.78-7.78 2.81-2.81c.8-.78.8-2.07 0-2.86zM5.41 20L4 18.59l7.72-7.72 1.47 1.35L5.41 20z\"/>\n",
              "  </svg>\n",
              "      </button>\n",
              "      \n",
              "  <style>\n",
              "    .colab-df-container {\n",
              "      display:flex;\n",
              "      flex-wrap:wrap;\n",
              "      gap: 12px;\n",
              "    }\n",
              "\n",
              "    .colab-df-convert {\n",
              "      background-color: #E8F0FE;\n",
              "      border: none;\n",
              "      border-radius: 50%;\n",
              "      cursor: pointer;\n",
              "      display: none;\n",
              "      fill: #1967D2;\n",
              "      height: 32px;\n",
              "      padding: 0 0 0 0;\n",
              "      width: 32px;\n",
              "    }\n",
              "\n",
              "    .colab-df-convert:hover {\n",
              "      background-color: #E2EBFA;\n",
              "      box-shadow: 0px 1px 2px rgba(60, 64, 67, 0.3), 0px 1px 3px 1px rgba(60, 64, 67, 0.15);\n",
              "      fill: #174EA6;\n",
              "    }\n",
              "\n",
              "    [theme=dark] .colab-df-convert {\n",
              "      background-color: #3B4455;\n",
              "      fill: #D2E3FC;\n",
              "    }\n",
              "\n",
              "    [theme=dark] .colab-df-convert:hover {\n",
              "      background-color: #434B5C;\n",
              "      box-shadow: 0px 1px 3px 1px rgba(0, 0, 0, 0.15);\n",
              "      filter: drop-shadow(0px 1px 2px rgba(0, 0, 0, 0.3));\n",
              "      fill: #FFFFFF;\n",
              "    }\n",
              "  </style>\n",
              "\n",
              "      <script>\n",
              "        const buttonEl =\n",
              "          document.querySelector('#df-2645c924-98b4-4e11-93b7-baa5e8b67075 button.colab-df-convert');\n",
              "        buttonEl.style.display =\n",
              "          google.colab.kernel.accessAllowed ? 'block' : 'none';\n",
              "\n",
              "        async function convertToInteractive(key) {\n",
              "          const element = document.querySelector('#df-2645c924-98b4-4e11-93b7-baa5e8b67075');\n",
              "          const dataTable =\n",
              "            await google.colab.kernel.invokeFunction('convertToInteractive',\n",
              "                                                     [key], {});\n",
              "          if (!dataTable) return;\n",
              "\n",
              "          const docLinkHtml = 'Like what you see? Visit the ' +\n",
              "            '<a target=\"_blank\" href=https://colab.research.google.com/notebooks/data_table.ipynb>data table notebook</a>'\n",
              "            + ' to learn more about interactive tables.';\n",
              "          element.innerHTML = '';\n",
              "          dataTable['output_type'] = 'display_data';\n",
              "          await google.colab.output.renderOutput(dataTable, element);\n",
              "          const docLink = document.createElement('div');\n",
              "          docLink.innerHTML = docLinkHtml;\n",
              "          element.appendChild(docLink);\n",
              "        }\n",
              "      </script>\n",
              "    </div>\n",
              "  </div>\n",
              "  "
            ]
          },
          "metadata": {},
          "execution_count": 37
        }
      ]
    },
    {
      "cell_type": "markdown",
      "source": [
        "Alternatív keresés:\n",
        "- Az API *See also* része: https://pandas.pydata.org/pandas-docs/stable/reference/api/pandas.Series.apply.html?highlight=apply#pandas.Series.apply"
      ],
      "metadata": {
        "id": "-JjuvoEtoPs2"
      }
    },
    {
      "cell_type": "markdown",
      "source": [
        "\n",
        "Megjegyzés: ha az ember otthonosan mozog a lambda függvények használatában, akkor az alábbi is egy jó megoldás:"
      ],
      "metadata": {
        "id": "a-wLYu5w0W0_"
      }
    },
    {
      "cell_type": "code",
      "source": [
        "df[\"Embarked\"].apply(lambda city: embark2int.get(city)) # Ez ugyanaz a fajta get() mint Javaban és C++-ban: most jelen esetben egy szótárból minden egyes hívásnál lekérünk egy adott kulcshoz tartozó értéket, és így kódoljuk el a városokat számokká"
      ],
      "metadata": {
        "id": "VJ0I-uDnLxB6",
        "outputId": "5f521ebb-adea-4a14-e70d-41fe70de7e97",
        "colab": {
          "base_uri": "https://localhost:8080/"
        }
      },
      "execution_count": null,
      "outputs": [
        {
          "output_type": "execute_result",
          "data": {
            "text/plain": [
              "0      0.0\n",
              "1      1.0\n",
              "2      0.0\n",
              "3      0.0\n",
              "4      0.0\n",
              "      ... \n",
              "886    0.0\n",
              "887    0.0\n",
              "888    0.0\n",
              "889    1.0\n",
              "890    2.0\n",
              "Name: Embarked, Length: 891, dtype: float64"
            ]
          },
          "metadata": {},
          "execution_count": 38
        }
      ]
    },
    {
      "cell_type": "markdown",
      "source": [
        "**Vigyázz!**\n",
        "Egy kategorikus változó numerikussá tétele után a df.corr() hívásban már ez a változó is szerepelni. Ez attól még **nem** jelenti azt, hogy az eredmény értelmes! Gondold csak végig! Ha egy kategorikus változó erősen korrelál (a szó köznapi értelmében) egy másikkal, akkor különböző leképezések során különböző értéket fogsz kapni! Erre mindig figyelj vizsgálódás során."
      ],
      "metadata": {
        "id": "loapNEryq20c"
      }
    },
    {
      "cell_type": "code",
      "source": [
        "for i in range(3):\n",
        "  embark2int = {\"S\": i%3, \"C\": (i+1)%3, \"Q\": (i+2)%3}\n",
        "  c = df[\"Embarked\"].map(embark2int).corr(df[\"Fare\"])\n",
        "  print(embark2int,c, sep='\\n', end='\\n\\n')"
      ],
      "metadata": {
        "id": "zX_L-GmXra6v",
        "outputId": "d428ee9a-99d9-4059-b52c-3f7577289f58",
        "colab": {
          "base_uri": "https://localhost:8080/"
        }
      },
      "execution_count": null,
      "outputs": [
        {
          "output_type": "stream",
          "name": "stdout",
          "text": [
            "{'S': 0, 'C': 1, 'Q': 2}\n",
            "0.06346234476922943\n",
            "\n",
            "{'S': 1, 'C': 2, 'Q': 0}\n",
            "0.2695875522775061\n",
            "\n",
            "{'S': 2, 'C': 0, 'Q': 1}\n",
            "-0.2263111836962685\n",
            "\n"
          ]
        }
      ]
    },
    {
      "cell_type": "markdown",
      "source": [
        "# Skálázás (Scaling)\n",
        "\n",
        "Néha a numerikus értékeket szeretnénk átskálázni is (ha pl. a konkrét érték helyett az egymáshoz viszonyított érték számít)."
      ],
      "metadata": {
        "id": "d3QINboPH5AS"
      }
    },
    {
      "cell_type": "markdown",
      "source": [
        "## Standarizálás\n",
        "\n",
        "Ha adott egy $N(m,\\sigma)$ normális eloszlású változó, érdemes standard normálissá transzformálni."
      ],
      "metadata": {
        "id": "tmV9UDvgIsdT"
      }
    },
    {
      "cell_type": "code",
      "source": [
        "df[\"Age\"].hist(grid=False)"
      ],
      "metadata": {
        "id": "ARtmMr1HI7vd",
        "colab": {
          "base_uri": "https://localhost:8080/",
          "height": 447
        },
        "outputId": "4290cc57-de04-48cd-ffae-577c20e9fce4"
      },
      "execution_count": null,
      "outputs": [
        {
          "output_type": "execute_result",
          "data": {
            "text/plain": [
              "<Axes: >"
            ]
          },
          "metadata": {},
          "execution_count": 40
        },
        {
          "output_type": "display_data",
          "data": {
            "text/plain": [
              "<Figure size 640x480 with 1 Axes>"
            ],
            "image/png": "[encoded data removed]"
          },
          "metadata": {}
        }
      ]
    },
    {
      "cell_type": "code",
      "source": [
        "m, std = df[\"Age\"].agg([\"mean\",\"std\"]) #m lesz az átlag (várható érték), std pedig a szórás\n",
        "print(m,std)"
      ],
      "metadata": {
        "id": "NQ2bbajKRW_x",
        "colab": {
          "base_uri": "https://localhost:8080/"
        },
        "outputId": "a7242686-08a6-4b82-c104-f5e818f4f65c"
      },
      "execution_count": null,
      "outputs": [
        {
          "output_type": "stream",
          "name": "stdout",
          "text": [
            "29.69911764705882 14.526497332334042\n"
          ]
        }
      ]
    },
    {
      "cell_type": "code",
      "source": [
        "df[\"NormAge\"] = (df[\"Age\"] - m) / std #Itt normalizáljuk"
      ],
      "metadata": {
        "id": "C_40G8UyRluU"
      },
      "execution_count": null,
      "outputs": []
    },
    {
      "cell_type": "code",
      "source": [
        "df[\"NormAge\"].hist(grid=False) #Így már körülbelül standard normális"
      ],
      "metadata": {
        "id": "QR7bR8_XSJTH",
        "colab": {
          "base_uri": "https://localhost:8080/",
          "height": 447
        },
        "outputId": "a2cf985f-0201-4f05-b640-fd4dd460cadc"
      },
      "execution_count": null,
      "outputs": [
        {
          "output_type": "execute_result",
          "data": {
            "text/plain": [
              "<Axes: >"
            ]
          },
          "metadata": {},
          "execution_count": 43
        },
        {
          "output_type": "display_data",
          "data": {
            "text/plain": [
              "<Figure size 640x480 with 1 Axes>"
            ],
            "image/png": "[encoded data removed]"
          },
          "metadata": {}
        }
      ]
    },
    {
      "cell_type": "code",
      "source": [
        "df[\"NormAge\"].agg([\"mean\",\"std\"]) #Láthatjuk, hogy nagyjából tényleg 0 az átlag, és tényleg 1 a szórás"
      ],
      "metadata": {
        "id": "7vQfTCgjRw95",
        "colab": {
          "base_uri": "https://localhost:8080/"
        },
        "outputId": "87950c84-e2b9-4ee4-ad95-81d610c2cc9d"
      },
      "execution_count": null,
      "outputs": [
        {
          "output_type": "execute_result",
          "data": {
            "text/plain": [
              "mean    2.338621e-16\n",
              "std     1.000000e+00\n",
              "Name: NormAge, dtype: float64"
            ]
          },
          "metadata": {},
          "execution_count": 44
        }
      ]
    },
    {
      "cell_type": "markdown",
      "source": [
        "## StandardScaler\n",
        "\n",
        "https://scikit-learn.org/stable/modules/generated/sklearn.preprocessing.StandardScaler.html#sklearn.preprocessing.StandardScaler"
      ],
      "metadata": {
        "id": "0FaIOLaJRbf1"
      }
    },
    {
      "cell_type": "code",
      "source": [
        "from sklearn.preprocessing import StandardScaler"
      ],
      "metadata": {
        "id": "0xQUnsFJIt50"
      },
      "execution_count": null,
      "outputs": []
    },
    {
      "cell_type": "code",
      "source": [
        "stan = StandardScaler().fit(df[[\"Age\"]])"
      ],
      "metadata": {
        "id": "o4ksMPtFIt3g"
      },
      "execution_count": null,
      "outputs": []
    },
    {
      "cell_type": "code",
      "source": [
        "stan.mean_, stan.scale_"
      ],
      "metadata": {
        "id": "a2DEFWLkJlmS",
        "colab": {
          "base_uri": "https://localhost:8080/"
        },
        "outputId": "d6a3ff21-4401-47e9-a09e-40c8614afc87"
      },
      "execution_count": null,
      "outputs": [
        {
          "output_type": "execute_result",
          "data": {
            "text/plain": [
              "(array([29.69911765]), array([14.51632115]))"
            ]
          },
          "metadata": {},
          "execution_count": 47
        }
      ]
    },
    {
      "cell_type": "code",
      "source": [
        "stan.transform(df[[\"Age\"]])"
      ],
      "metadata": {
        "id": "6i7XNWaWIt0y"
      },
      "execution_count": null,
      "outputs": []
    },
    {
      "cell_type": "code",
      "source": [
        "pd.DataFrame.from_records(\n",
        "     zip( stan.transform(df[[\"Age\"]]).ravel(), df[\"NormAge\"] ),\n",
        "    columns = [\"scaler\",\"byhand\"]\n",
        ")"
      ],
      "metadata": {
        "id": "dwx70g5xS8fm",
        "colab": {
          "base_uri": "https://localhost:8080/",
          "height": 424
        },
        "outputId": "b40ea690-2842-4ae0-a263-bea2159d69b5"
      },
      "execution_count": null,
      "outputs": [
        {
          "output_type": "execute_result",
          "data": {
            "text/plain": [
              "       scaler    byhand\n",
              "0   -0.530377 -0.530005\n",
              "1    0.571831  0.571430\n",
              "2   -0.254825 -0.254646\n",
              "3    0.365167  0.364911\n",
              "4    0.365167  0.364911\n",
              "..        ...       ...\n",
              "886 -0.185937 -0.185807\n",
              "887 -0.737041 -0.736524\n",
              "888       NaN       NaN\n",
              "889 -0.254825 -0.254646\n",
              "890  0.158503  0.158392\n",
              "\n",
              "[891 rows x 2 columns]"
            ],
            "text/html": [
              "\n",
              "  <div id=\"df-1f0e67ed-ef69-4936-aff9-5cccf4dc8e06\">\n",
              "    <div class=\"colab-df-container\">\n",
              "      <div>\n",
              "<style scoped>\n",
              "    .dataframe tbody tr th:only-of-type {\n",
              "        vertical-align: middle;\n",
              "    }\n",
              "\n",
              "    .dataframe tbody tr th {\n",
              "        vertical-align: top;\n",
              "    }\n",
              "\n",
              "    .dataframe thead th {\n",
              "        text-align: right;\n",
              "    }\n",
              "</style>\n",
              "<table border=\"1\" class=\"dataframe\">\n",
              "  <thead>\n",
              "    <tr style=\"text-align: right;\">\n",
              "      <th></th>\n",
              "      <th>scaler</th>\n",
              "      <th>byhand</th>\n",
              "    </tr>\n",
              "  </thead>\n",
              "  <tbody>\n",
              "    <tr>\n",
              "      <th>0</th>\n",
              "      <td>-0.530377</td>\n",
              "      <td>-0.530005</td>\n",
              "    </tr>\n",
              "    <tr>\n",
              "      <th>1</th>\n",
              "      <td>0.571831</td>\n",
              "      <td>0.571430</td>\n",
              "    </tr>\n",
              "    <tr>\n",
              "      <th>2</th>\n",
              "      <td>-0.254825</td>\n",
              "      <td>-0.254646</td>\n",
              "    </tr>\n",
              "    <tr>\n",
              "      <th>3</th>\n",
              "      <td>0.365167</td>\n",
              "      <td>0.364911</td>\n",
              "    </tr>\n",
              "    <tr>\n",
              "      <th>4</th>\n",
              "      <td>0.365167</td>\n",
              "      <td>0.364911</td>\n",
              "    </tr>\n",
              "    <tr>\n",
              "      <th>...</th>\n",
              "      <td>...</td>\n",
              "      <td>...</td>\n",
              "    </tr>\n",
              "    <tr>\n",
              "      <th>886</th>\n",
              "      <td>-0.185937</td>\n",
              "      <td>-0.185807</td>\n",
              "    </tr>\n",
              "    <tr>\n",
              "      <th>887</th>\n",
              "      <td>-0.737041</td>\n",
              "      <td>-0.736524</td>\n",
              "    </tr>\n",
              "    <tr>\n",
              "      <th>888</th>\n",
              "      <td>NaN</td>\n",
              "      <td>NaN</td>\n",
              "    </tr>\n",
              "    <tr>\n",
              "      <th>889</th>\n",
              "      <td>-0.254825</td>\n",
              "      <td>-0.254646</td>\n",
              "    </tr>\n",
              "    <tr>\n",
              "      <th>890</th>\n",
              "      <td>0.158503</td>\n",
              "      <td>0.158392</td>\n",
              "    </tr>\n",
              "  </tbody>\n",
              "</table>\n",
              "<p>891 rows × 2 columns</p>\n",
              "</div>\n",
              "      <button class=\"colab-df-convert\" onclick=\"convertToInteractive('df-1f0e67ed-ef69-4936-aff9-5cccf4dc8e06')\"\n",
              "              title=\"Convert this dataframe to an interactive table.\"\n",
              "              style=\"display:none;\">\n",
              "        \n",
              "  <svg xmlns=\"http://www.w3.org/2000/svg\" height=\"24px\"viewBox=\"0 0 24 24\"\n",
              "       width=\"24px\">\n",
              "    <path d=\"M0 0h24v24H0V0z\" fill=\"none\"/>\n",
              "    <path d=\"M18.56 5.44l.94 2.06.94-2.06 2.06-.94-2.06-.94-.94-2.06-.94 2.06-2.06.94zm-11 1L8.5 8.5l.94-2.06 2.06-.94-2.06-.94L8.5 2.5l-.94 2.06-2.06.94zm10 10l.94 2.06.94-2.06 2.06-.94-2.06-.94-.94-2.06-.94 2.06-2.06.94z\"/><path d=\"M17.41 7.96l-1.37-1.37c-.4-.4-.92-.59-1.43-.59-.52 0-1.04.2-1.43.59L10.3 9.45l-7.72 7.72c-.78.78-.78 2.05 0 2.83L4 21.41c.39.39.9.59 1.41.59.51 0 1.02-.2 1.41-.59l7.78-7.78 2.81-2.81c.8-.78.8-2.07 0-2.86zM5.41 20L4 18.59l7.72-7.72 1.47 1.35L5.41 20z\"/>\n",
              "  </svg>\n",
              "      </button>\n",
              "      \n",
              "  <style>\n",
              "    .colab-df-container {\n",
              "      display:flex;\n",
              "      flex-wrap:wrap;\n",
              "      gap: 12px;\n",
              "    }\n",
              "\n",
              "    .colab-df-convert {\n",
              "      background-color: #E8F0FE;\n",
              "      border: none;\n",
              "      border-radius: 50%;\n",
              "      cursor: pointer;\n",
              "      display: none;\n",
              "      fill: #1967D2;\n",
              "      height: 32px;\n",
              "      padding: 0 0 0 0;\n",
              "      width: 32px;\n",
              "    }\n",
              "\n",
              "    .colab-df-convert:hover {\n",
              "      background-color: #E2EBFA;\n",
              "      box-shadow: 0px 1px 2px rgba(60, 64, 67, 0.3), 0px 1px 3px 1px rgba(60, 64, 67, 0.15);\n",
              "      fill: #174EA6;\n",
              "    }\n",
              "\n",
              "    [theme=dark] .colab-df-convert {\n",
              "      background-color: #3B4455;\n",
              "      fill: #D2E3FC;\n",
              "    }\n",
              "\n",
              "    [theme=dark] .colab-df-convert:hover {\n",
              "      background-color: #434B5C;\n",
              "      box-shadow: 0px 1px 3px 1px rgba(0, 0, 0, 0.15);\n",
              "      filter: drop-shadow(0px 1px 2px rgba(0, 0, 0, 0.3));\n",
              "      fill: #FFFFFF;\n",
              "    }\n",
              "  </style>\n",
              "\n",
              "      <script>\n",
              "        const buttonEl =\n",
              "          document.querySelector('#df-1f0e67ed-ef69-4936-aff9-5cccf4dc8e06 button.colab-df-convert');\n",
              "        buttonEl.style.display =\n",
              "          google.colab.kernel.accessAllowed ? 'block' : 'none';\n",
              "\n",
              "        async function convertToInteractive(key) {\n",
              "          const element = document.querySelector('#df-1f0e67ed-ef69-4936-aff9-5cccf4dc8e06');\n",
              "          const dataTable =\n",
              "            await google.colab.kernel.invokeFunction('convertToInteractive',\n",
              "                                                     [key], {});\n",
              "          if (!dataTable) return;\n",
              "\n",
              "          const docLinkHtml = 'Like what you see? Visit the ' +\n",
              "            '<a target=\"_blank\" href=https://colab.research.google.com/notebooks/data_table.ipynb>data table notebook</a>'\n",
              "            + ' to learn more about interactive tables.';\n",
              "          element.innerHTML = '';\n",
              "          dataTable['output_type'] = 'display_data';\n",
              "          await google.colab.output.renderOutput(dataTable, element);\n",
              "          const docLink = document.createElement('div');\n",
              "          docLink.innerHTML = docLinkHtml;\n",
              "          element.appendChild(docLink);\n",
              "        }\n",
              "      </script>\n",
              "    </div>\n",
              "  </div>\n",
              "  "
            ]
          },
          "metadata": {},
          "execution_count": 49
        }
      ]
    },
    {
      "cell_type": "markdown",
      "source": [
        "# Feldolgozott adatok mentése"
      ],
      "metadata": {
        "id": "-h7oFdfJ5Ms-"
      }
    },
    {
      "cell_type": "code",
      "source": [
        "df.columns"
      ],
      "metadata": {
        "id": "wc8jjW6y5QE2",
        "colab": {
          "base_uri": "https://localhost:8080/"
        },
        "outputId": "94f22356-3df9-4abe-f444-95b0f28b5d55"
      },
      "execution_count": null,
      "outputs": [
        {
          "output_type": "execute_result",
          "data": {
            "text/plain": [
              "Index(['PassengerId', 'Survived', 'Pclass', 'Name', 'Sex', 'Age', 'SibSp',\n",
              "       'ParCh', 'Ticket', 'Fare', 'Cabin', 'Embarked', 'AgeGroup', 'FareCheap',\n",
              "       'is_Embarked_S', 'is_Embarked_C', 'is_Embarked_Q', 'NormAge'],\n",
              "      dtype='object')"
            ]
          },
          "metadata": {},
          "execution_count": 50
        }
      ]
    },
    {
      "cell_type": "code",
      "source": [
        "df.to_csv(\"drive/MyDrive/titanic_preprocessed.csv\", index=False)"
      ],
      "metadata": {
        "id": "Q5l4uCBQ5R_V"
      },
      "execution_count": null,
      "outputs": []
    },
    {
      "cell_type": "markdown",
      "source": [
        "# Gyakorlás\n",
        "\n",
        "Kódolás\n",
        "\n",
        "1. A `Sex` kategorikus változót kódold el numerikus értékké! Milyen kódolást használtál? Lehet-e mást?\n",
        "1. Az `Age` oszlopot az átlag helyett kódold el a *medián* szerint binárisan! Nézd meg, hogy az utasosztályok szerint milyen eloszlást kapsz!\n",
        "1. Az *ordinal encoding* során a transzformálni kívánt változónak van egy *természetes* sorrendje (pl. napok, hónapok). Ekkor a kódolás során ezt szeretnénk megtartani. Jelen esetben ilyen például az `AgeGroup` változó. Alakítsd át numerikus értékké a sorrend tiszteletben tartásával!\n",
        "1. A *scikit-learn.preprocessing* modul nem csak a skálázásra, de az elkódolásra is tartalmaz beépített függvényt. A [LabelEncoder](https://scikit-learn.org/stable/modules/generated/sklearn.preprocessing.LabelEncoder.html#sklearn.preprocessing.LabelEncoder) segítségével ismételd meg az `Embarked` oszlop órán látott Label encoding változatát!\n",
        "\n",
        "Skálázás\n",
        "1. A *minmax* skálázás során egy változót a $[0,1]$-be képezünk a minimum és maximum értékei segítségével. A `Fare` oszlopot skálázd át eszerint! A legkisebb érték legyen 0, a legnagyobb 1! Megjegyzés: ha $X$ minimuma $m$, maximuma $M$, akkor $$\\mathbf{X}_{minmax} = (\\mathbf{X} - m) / (M-m).$$\n",
        "Keresd meg, hogy a scikit-learn mely skálázója teszi ugyanezt és próbáld ki, hogy ugyanazt a transzformáltat kapod-e!\n",
        "\n",
        "\n",
        "## További feladatok otthoni gyakorlásra\n",
        "1. Készíts egy vezetéknév oszlopot és nézd nézd meg a leggyakoribb neveket! Használd a keresőt, ha nem tudod, milyen függvényt használj (pl \"pandas most common values in column\")! A vezetéknév kinyeréséhez figyeld meg, hogy mindenki vezetékneve vesszővel elválasztva szerepel a `string` elején. Ismered a megfelelő python parancsot erre? Ha nem, nézd meg, hogy mit csinál `.split(\",\")` parancs az oszlop egy tetszőleges elemén!\n",
        "1. Kódold el az `Age` oszlopot a kvartilisek alapján! (Emlékeztető: egy kvartilisbe esik az adatok 20%-a, és az első kvartilisbe a *első* ötöd esik). Használd a `quantile` vagy `percentile` függvényeket! Milyen típusú kódolás ez? Mit gondolsz, milyen modellek esetén érdemes így elkódolni egy adatot, és mikor felesleges, sőt, hátrányos?\n",
        "1. A *target encoding* során egy kategorikus változót aszerint kódolunk el, hogy a *célváltozónak mennyi az átlaga* a változó adott szintjén. Készítsd el az `Embarked` oszlop target encode-olt változatát! Mi ennek a kódolásnak a hátránya? Érdemes használni szerinted?\n",
        "\n",
        "\n",
        "## Gyakorló feladatok az előző óráról\n",
        "Adatmanipuláció\n",
        "\n",
        "1. Készíts egy `FamilyMember` nevű `pd.Series`-t, mely a `SibSp` és `ParCh` oszlopok összegével egyezzen meg! Nézd meg a korrelációját a többi oszloppal! Mit gondolsz, érdemes lenne mind a három feature-t használni majd később egy modellezés során (vagyis a táblázathoz új oszlopként illeszteni)? Ábrázold az új változó eloszlását egy megfelelő diagramon!\n",
        "\n",
        "Ha bármikor elakadsz: Tech Support Cheat Sheet ([XKCD, 627](https://xkcd.com/627/))\n"
      ],
      "metadata": {
        "id": "IAclw6SxZ0-m"
      }
    },
    {
      "cell_type": "code",
      "source": [
        "#1.\n",
        "df[\"Sex\"].value_counts()"
      ],
      "metadata": {
        "id": "QN9iJd2Cffa6",
        "colab": {
          "base_uri": "https://localhost:8080/"
        },
        "outputId": "ae5edbb1-20a0-4797-fa7c-769a175f54e9"
      },
      "execution_count": null,
      "outputs": [
        {
          "output_type": "execute_result",
          "data": {
            "text/plain": [
              "male      577\n",
              "female    314\n",
              "Name: Sex, dtype: int64"
            ]
          },
          "metadata": {},
          "execution_count": 52
        }
      ]
    },
    {
      "cell_type": "code",
      "source": [
        "sex2int = {\"male\": 0, \"female\": 1}"
      ],
      "metadata": {
        "id": "Pp_aFK7gffYI"
      },
      "execution_count": null,
      "outputs": []
    },
    {
      "cell_type": "code",
      "source": [
        "df[\"Sex\"].map(sex2int)"
      ],
      "metadata": {
        "id": "aYQwKFEuffV9",
        "colab": {
          "base_uri": "https://localhost:8080/"
        },
        "outputId": "6bd04d32-fb82-40b3-ada5-fc1837cd1a66"
      },
      "execution_count": null,
      "outputs": [
        {
          "output_type": "execute_result",
          "data": {
            "text/plain": [
              "0      0\n",
              "1      1\n",
              "2      1\n",
              "3      1\n",
              "4      0\n",
              "      ..\n",
              "886    0\n",
              "887    1\n",
              "888    1\n",
              "889    0\n",
              "890    0\n",
              "Name: Sex, Length: 891, dtype: int64"
            ]
          },
          "metadata": {},
          "execution_count": 54
        }
      ]
    },
    {
      "cell_type": "code",
      "source": [
        "#2.\n",
        "\n",
        "m = df[\"Age\"].median()\n",
        "m"
      ],
      "metadata": {
        "id": "IwCYfWAT54OL",
        "colab": {
          "base_uri": "https://localhost:8080/"
        },
        "outputId": "2e7544c4-73b0-4f98-d390-4626323f3fcf"
      },
      "execution_count": null,
      "outputs": [
        {
          "output_type": "execute_result",
          "data": {
            "text/plain": [
              "28.0"
            ]
          },
          "metadata": {},
          "execution_count": 55
        }
      ]
    },
    {
      "cell_type": "code",
      "source": [
        "df[\"Age_median\"] =  (df[\"Age\"] > m).astype(\"int\")\n",
        "df[\"Age_median\"].value_counts() #Nagyon fasza"
      ],
      "metadata": {
        "id": "mqPCakFX54Jy",
        "colab": {
          "base_uri": "https://localhost:8080/"
        },
        "outputId": "3ccd8575-4143-4b45-89fc-47fcf51cdf21"
      },
      "execution_count": null,
      "outputs": [
        {
          "output_type": "execute_result",
          "data": {
            "text/plain": [
              "0    539\n",
              "1    352\n",
              "Name: Age_median, dtype: int64"
            ]
          },
          "metadata": {},
          "execution_count": 56
        }
      ]
    },
    {
      "cell_type": "code",
      "source": [
        "pd.crosstab(df[\"Pclass\"],df[\"Age_median\"], normalize=\"index\") #Lehetséges magyarázat: az első osztályon utazók kisebb eséllyel vittek magukkal gyereket, mert vagy nem volt nekik, vagy terhes volt nekik ez az egész. És ott valószínűleg azért is több az idősebb (28 és feletti), mert addigra szerezték meg azt a vagyont, amiből ki tudtak fizetni egy első osztályú jegyet. Ezzel szemben a másod osztályon kiegyensúlyozottabb az eloszlás, a haramd osztályon pedig kifejezetten sok a 28 év alatti, mivel ott sok volt a feltörekvő, ambíciózus fiatal, akik valami hirtelen ötlettől vezérelve ki akartak vándorolni Amerikába\n",
        "\n",
        "#Szóval a crosstab helyes szintaxisa a következő: pd.crosstab(\"Sorok\", \"oszlopok\", esetleg normalizálás). A legvégső jóljöhet eloszlás kiolvasásánál"
      ],
      "metadata": {
        "colab": {
          "base_uri": "https://localhost:8080/",
          "height": 175
        },
        "id": "339URyQLK9oF",
        "outputId": "bce62f49-f404-45a9-d342-7c3ad0db16d1"
      },
      "execution_count": null,
      "outputs": [
        {
          "output_type": "execute_result",
          "data": {
            "text/plain": [
              "Age_median         0         1\n",
              "Pclass                        \n",
              "1           0.379630  0.620370\n",
              "2           0.505435  0.494565\n",
              "3           0.741344  0.258656"
            ],
            "text/html": [
              "\n",
              "  <div id=\"df-c25e24db-ad0f-4ca9-be0f-746a7601e6a7\">\n",
              "    <div class=\"colab-df-container\">\n",
              "      <div>\n",
              "<style scoped>\n",
              "    .dataframe tbody tr th:only-of-type {\n",
              "        vertical-align: middle;\n",
              "    }\n",
              "\n",
              "    .dataframe tbody tr th {\n",
              "        vertical-align: top;\n",
              "    }\n",
              "\n",
              "    .dataframe thead th {\n",
              "        text-align: right;\n",
              "    }\n",
              "</style>\n",
              "<table border=\"1\" class=\"dataframe\">\n",
              "  <thead>\n",
              "    <tr style=\"text-align: right;\">\n",
              "      <th>Age_median</th>\n",
              "      <th>0</th>\n",
              "      <th>1</th>\n",
              "    </tr>\n",
              "    <tr>\n",
              "      <th>Pclass</th>\n",
              "      <th></th>\n",
              "      <th></th>\n",
              "    </tr>\n",
              "  </thead>\n",
              "  <tbody>\n",
              "    <tr>\n",
              "      <th>1</th>\n",
              "      <td>0.379630</td>\n",
              "      <td>0.620370</td>\n",
              "    </tr>\n",
              "    <tr>\n",
              "      <th>2</th>\n",
              "      <td>0.505435</td>\n",
              "      <td>0.494565</td>\n",
              "    </tr>\n",
              "    <tr>\n",
              "      <th>3</th>\n",
              "      <td>0.741344</td>\n",
              "      <td>0.258656</td>\n",
              "    </tr>\n",
              "  </tbody>\n",
              "</table>\n",
              "</div>\n",
              "      <button class=\"colab-df-convert\" onclick=\"convertToInteractive('df-c25e24db-ad0f-4ca9-be0f-746a7601e6a7')\"\n",
              "              title=\"Convert this dataframe to an interactive table.\"\n",
              "              style=\"display:none;\">\n",
              "        \n",
              "  <svg xmlns=\"http://www.w3.org/2000/svg\" height=\"24px\"viewBox=\"0 0 24 24\"\n",
              "       width=\"24px\">\n",
              "    <path d=\"M0 0h24v24H0V0z\" fill=\"none\"/>\n",
              "    <path d=\"M18.56 5.44l.94 2.06.94-2.06 2.06-.94-2.06-.94-.94-2.06-.94 2.06-2.06.94zm-11 1L8.5 8.5l.94-2.06 2.06-.94-2.06-.94L8.5 2.5l-.94 2.06-2.06.94zm10 10l.94 2.06.94-2.06 2.06-.94-2.06-.94-.94-2.06-.94 2.06-2.06.94z\"/><path d=\"M17.41 7.96l-1.37-1.37c-.4-.4-.92-.59-1.43-.59-.52 0-1.04.2-1.43.59L10.3 9.45l-7.72 7.72c-.78.78-.78 2.05 0 2.83L4 21.41c.39.39.9.59 1.41.59.51 0 1.02-.2 1.41-.59l7.78-7.78 2.81-2.81c.8-.78.8-2.07 0-2.86zM5.41 20L4 18.59l7.72-7.72 1.47 1.35L5.41 20z\"/>\n",
              "  </svg>\n",
              "      </button>\n",
              "      \n",
              "  <style>\n",
              "    .colab-df-container {\n",
              "      display:flex;\n",
              "      flex-wrap:wrap;\n",
              "      gap: 12px;\n",
              "    }\n",
              "\n",
              "    .colab-df-convert {\n",
              "      background-color: #E8F0FE;\n",
              "      border: none;\n",
              "      border-radius: 50%;\n",
              "      cursor: pointer;\n",
              "      display: none;\n",
              "      fill: #1967D2;\n",
              "      height: 32px;\n",
              "      padding: 0 0 0 0;\n",
              "      width: 32px;\n",
              "    }\n",
              "\n",
              "    .colab-df-convert:hover {\n",
              "      background-color: #E2EBFA;\n",
              "      box-shadow: 0px 1px 2px rgba(60, 64, 67, 0.3), 0px 1px 3px 1px rgba(60, 64, 67, 0.15);\n",
              "      fill: #174EA6;\n",
              "    }\n",
              "\n",
              "    [theme=dark] .colab-df-convert {\n",
              "      background-color: #3B4455;\n",
              "      fill: #D2E3FC;\n",
              "    }\n",
              "\n",
              "    [theme=dark] .colab-df-convert:hover {\n",
              "      background-color: #434B5C;\n",
              "      box-shadow: 0px 1px 3px 1px rgba(0, 0, 0, 0.15);\n",
              "      filter: drop-shadow(0px 1px 2px rgba(0, 0, 0, 0.3));\n",
              "      fill: #FFFFFF;\n",
              "    }\n",
              "  </style>\n",
              "\n",
              "      <script>\n",
              "        const buttonEl =\n",
              "          document.querySelector('#df-c25e24db-ad0f-4ca9-be0f-746a7601e6a7 button.colab-df-convert');\n",
              "        buttonEl.style.display =\n",
              "          google.colab.kernel.accessAllowed ? 'block' : 'none';\n",
              "\n",
              "        async function convertToInteractive(key) {\n",
              "          const element = document.querySelector('#df-c25e24db-ad0f-4ca9-be0f-746a7601e6a7');\n",
              "          const dataTable =\n",
              "            await google.colab.kernel.invokeFunction('convertToInteractive',\n",
              "                                                     [key], {});\n",
              "          if (!dataTable) return;\n",
              "\n",
              "          const docLinkHtml = 'Like what you see? Visit the ' +\n",
              "            '<a target=\"_blank\" href=https://colab.research.google.com/notebooks/data_table.ipynb>data table notebook</a>'\n",
              "            + ' to learn more about interactive tables.';\n",
              "          element.innerHTML = '';\n",
              "          dataTable['output_type'] = 'display_data';\n",
              "          await google.colab.output.renderOutput(dataTable, element);\n",
              "          const docLink = document.createElement('div');\n",
              "          docLink.innerHTML = docLinkHtml;\n",
              "          element.appendChild(docLink);\n",
              "        }\n",
              "      </script>\n",
              "    </div>\n",
              "  </div>\n",
              "  "
            ]
          },
          "metadata": {},
          "execution_count": 57
        }
      ]
    },
    {
      "cell_type": "markdown",
      "source": [
        "# Házi feladat\n",
        "\n",
        "Beküldési határidő:\n",
        "\n",
        "- Első változat: március 30. 23:59:59\n",
        "- Utolsó változat: április 6. 23:59:59\n",
        "\n",
        "Beküldési útmutató:\n",
        "\n",
        "- Mikor végeztél, mindig futtasd le az újra a kódod, hogy biztos nem maradt-e benne hiba (olyan kódot, ami nem fut le, sajnos nem tudunk elfogadni). Ezt a következőképp [teheted meg](https://python.plainenglish.io/how-to-convert-google-colab-notebook-ipynb-to-html-ccfeda199246):\n",
        "1. Runtime / Restart and run all: újraindítja a sessiont, ha nincs bug a kódban, rendben lefut a végéig.\n",
        "2. A kimenetekkel együtt töltsd le a notebookot `.ipynb` formátumban a gépedre.\n",
        "3. A keletkezett `.ipnyb` fájlt töltsd fel a Teams megfelelő feladatához!"
      ],
      "metadata": {
        "id": "Bg65OOr-N7zC"
      }
    },
    {
      "cell_type": "markdown",
      "source": [
        "### Feladat\n",
        "\n",
        "Először alakítsd át a `Embarked` oszlopot úgy, hogy kiírod a városneveket! (Tehát S->\"Southampton\", stb). A kapott `pd.Series`-t illeszd a táblázathoz `EmbCity` néven! Hasonlóképp tedd ezt meg a `Pclass` oszloppal, ahol az 1 helyére \"first\"-öt írsz, stb.\n",
        "\n",
        "Ezután vizsgáljuk azt a kérdést, hogy az adott városban felszálltak hány százaléka élte túl a katasztrófát, utasosztály szerint bontva. A kérdéshez az alábbi diagramot készítettük ([elérhető](https://drive.google.com/file/d/16emBrG_DpFQcxpz5W7Mu8nB5CBmuwd-y/view?usp=share_link) az óra Drive-mappájában is):\n",
        "\n"
      ],
      "metadata": {
        "id": "MIL-FV66XJcF"
      }
    },
    {
      "cell_type": "markdown",
      "source": [
        "![hf3.png](data:image/png;base64,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)"
      ],
      "metadata": {
        "id": "286EhavMHA2a"
      }
    },
    {
      "cell_type": "markdown",
      "source": [
        "Rekonstruáld a fenti diagramot a lehető legpontosabban! A kapott ábrát a  \n",
        "```\n",
        "plt.savefig(\"drive/MyDrive/.../hf3_[NEVED].png\")\n",
        "```\n",
        "paranccsal mentsd el és csatold a házi feladathoz.\n",
        "\n",
        "### Pontozás\n",
        "\n",
        "Az alábbi részek **kötelezőek** a házi feladat elfogadásához:\n",
        "\n",
        "\n",
        "* Helyes diagram választása\n",
        "* Az ábrázolt adatok helyessége\n",
        "* Jelmagyarázat és annak neve, elhelyezkedése\n",
        "* Tengelyek és címkék helyes elnevezése\n",
        "* Diagram címe\n",
        "* Vízszintes tengely 0 és 1 közé tétele\n",
        "* Százalék kiírása a sávok mellé 4 tizedesjegy pontossággal (*bar labels*)\n",
        "* Ezen érték (*bar label*) a sávon kívül helyezkedjen el\n",
        "* Valamiféle (a példától akár különböző) színskála alkalmazása\n",
        "\n",
        "\n",
        "Ezenkívül az alábbi dolgok lettek módosítva az ábra készítése során. Ezek közül minden további **2 helyes beépítése** plusz 0.2 pontot jelent (a teljes ábra reprodukálása így összesen 1 pont).\n",
        "\n",
        "1. **Ábra méret növelése**\n",
        "1. **Sávok szélessége a nagyobb a default értéknél**\n",
        "1. **Sávok körül fekete keret van**\n",
        "1. **Jelmagyarázat el van távolítva néhány ponttal a saroktól**\n",
        "1. **Tengely elnevezések betűmérete megnövelt**\n",
        "1. **Tengely elnevezések távolabb vannak tolva az ábrától (nagyobb a rés)**\n",
        "1. **A városnevek el vannak forgatva**\n",
        "1. Elforgatott városnevek középre vannak igazítva\n",
        "1. **Az érték címkék is el vannak távolítva a sávoktól**\n",
        "1. Cím betűmérete maximális\n",
        "\n",
        "\n",
        "\n",
        "\n",
        "\n",
        "\n",
        "\n",
        "Kérlek, hogy azon részeket, amiket megcsináltál, emeld ki **vastaggal** a könnyebb javíthatóság érdekében!\n",
        "\n",
        "Ha elakadsz, nézelődj, keress az interneten. Kiindulásként kezdheted a barh API-ján: https://matplotlib.org/stable/api/_as_gen/matplotlib.axes.Axes.barh.html\n"
      ],
      "metadata": {
        "id": "Q3fXzY6XHHAk"
      }
    },
    {
      "cell_type": "code",
      "source": [
        "cities = []\n",
        "import matplotlib.pyplot as plt"
      ],
      "metadata": {
        "id": "znJMMrlLSBL0"
      },
      "execution_count": null,
      "outputs": []
    },
    {
      "cell_type": "code",
      "source": [
        "for value in df[\"Embarked\"]: #Átalakítjuk az Embarked oszlopot\n",
        "  if value == \"S\":\n",
        "    cities.append(\"Southampton\")\n",
        "  elif value == \"C\":\n",
        "    cities.append(\"Cherbourg\")\n",
        "  elif value == \"Q\":\n",
        "    cities.append(\"Queenstown\")\n",
        "  else:\n",
        "    cities.append(None)\n",
        "\n",
        "df[\"EmbCity\"] = cities"
      ],
      "metadata": {
        "id": "s6T51Brg6xDs"
      },
      "execution_count": null,
      "outputs": []
    },
    {
      "cell_type": "code",
      "source": [
        "for value in df[\"Pclass\"]:\n",
        "\n",
        "  if value == 1:\n",
        "    value = \"first\"\n",
        "  elif value == 2:\n",
        "    value = \"second\"\n",
        "  else:\n",
        "    value = \"third\""
      ],
      "metadata": {
        "id": "8BnCmBV66Qmu"
      },
      "execution_count": null,
      "outputs": []
    },
    {
      "cell_type": "code",
      "source": [
        "cols = df[[\"EmbCity\", \"Pclass\", \"Survived\"]] #Kiválasztjuk azokat az oszlopokat, amikre szükségünk lesz"
      ],
      "metadata": {
        "id": "JmjYtauz9SH0"
      },
      "execution_count": null,
      "outputs": []
    },
    {
      "cell_type": "code",
      "source": [
        "grouped = cols.groupby(['EmbCity', 'Pclass']).agg({'Survived': lambda x: x.mean()*100})  #Itt olyan alakra hozzuk az adatokat, amilyenre majd a grafikonon is szükség lesz, és még felszorozzuk 100-zal az átlagot, hogy stimmeljenek a számok\n",
        "\n",
        "pivot = grouped.pivot_table(index = 'EmbCity', columns = 'Pclass', values = 'Survived')"
      ],
      "metadata": {
        "id": "YY2uuAXYD2pZ"
      },
      "execution_count": null,
      "outputs": []
    },
    {
      "cell_type": "code",
      "source": [
        "\n",
        "fig, ax = plt.subplots(figsize=(13, 6)) #Itt beállítjuk az ábra méretét\n",
        "\n",
        "pivot.plot(kind='barh', stacked=False, color=[\"b\", \"mediumaquamarine\", \"lightgrey\"], ax=ax, edgecolor='black', linewidth=1, width=0.8) #Ezzel megcsináljuk magát a barplotot és beállítjuk, hogy az \"oszlopok\" (amik most fekvő helyzetben vannak) szegélyezve legyenek\n",
        "\n",
        "#Itt beállítjuk a grafikon adatait\n",
        "\n",
        "fs = 13 #Ez lesz az egységes betűméret\n",
        "\n",
        "ax.set_title('Who survived based on boarding place and ticket class', fontsize = fs, pad = 30) #A grafikon címe. A pad paranccsal tesszük messzebb a grafikontól itt is és máshol is\n",
        "\n",
        "ax.set_yticklabels(pivot.index, rotation=90, va = 'center') #Ezzel forgatjuk függőlegessé az y tengelyen szereplő városneveket\n",
        "\n",
        "ax.set_xlabel('Percent survived %', fontsize = fs)\n",
        "\n",
        "ax.set_ylabel('Cities passengers embarked in', fontsize = fs)\n",
        "\n",
        "ax.tick_params(axis='y', labelsize=12, pad = 20) #Az y-tick-ek méretének beállítása\n",
        "\n",
        "ax.tick_params(axis='x', labelsize=12)\n",
        "\n",
        "ax.legend(title='Ticket class',\n",
        "          labels=[\"first\",\"second\", \"third\"],\n",
        "          bbox_to_anchor=(0.85, 0.95),\n",
        "          loc='upper left', fontsize = 10) #Részben az órai kódból átemelt részlet, annyival kiegészítve, hogy be van benne állítva a magyarázat betűmérete\n",
        "\n",
        "ax.set_xlim([0,100]) #x-tengely beállítása 0 és 1 közé\n",
        "\n",
        "for container in ax.containers:\n",
        "  ax.bar_label(container, label_type=\"edge\", fmt='%.4f%%', fontsize = 10, padding = 10) #A padding paranccsal eltoljuk a barlabel-öket maguktól a bar-októl\n",
        "\n",
        "\n",
        "#plt.savefig(\"drive/MyDrive/hf3_Szirmai Vilmos.png\") #Ábra mentése\n",
        "\n"
      ],
      "metadata": {
        "colab": {
          "base_uri": "https://localhost:8080/",
          "height": 605
        },
        "id": "HK-d-TbKTnDK",
        "outputId": "02bde054-5ce7-4911-8fca-7305b8962499"
      },
      "execution_count": null,
      "outputs": [
        {
          "output_type": "display_data",
          "data": {
            "text/plain": [
              "<Figure size 1300x600 with 1 Axes>"
            ],
            "image/png": "[encoded data removed]"
          },
          "metadata": {}
        }
      ]
    },
    {
      "cell_type": "code",
      "source": [],
      "metadata": {
        "id": "OZqbTpgSUi4j"
      },
      "execution_count": null,
      "outputs": []
    },
    {
      "cell_type": "markdown",
      "source": [
        "# HTML konvertálás"
      ],
      "metadata": {
        "id": "4KbwNNR-K21J"
      }
    },
    {
      "cell_type": "code",
      "source": [
        "# alma # hibára fut, így nem fut le a következő cella a Run all alatt"
      ],
      "metadata": {
        "id": "XN4f6OxpLgUQ"
      },
      "execution_count": null,
      "outputs": []
    },
    {
      "cell_type": "code",
      "source": [
        "  # %%shell\n",
        "  # jupyter nbconvert --to html adatbanyaszat_2023_tavasz_gyak1.ipynb"
      ],
      "metadata": {
        "id": "tHYubHaNK4Um"
      },
      "execution_count": null,
      "outputs": []
    },
    {
      "cell_type": "code",
      "source": [],
      "metadata": {
        "id": "qkKBLEqFMzeo"
      },
      "execution_count": null,
      "outputs": []
    }
  ],
  "metadata": {
    "colab": {
      "provenance": [],
      "collapsed_sections": [
        "5nZhKcvPAXIr"
      ]
    },
    "kernelspec": {
      "display_name": "Python 3 (ipykernel)",
      "language": "python",
      "name": "python3"
    },
    "language_info": {
      "codemirror_mode": {
        "name": "ipython",
        "version": 3
      },
      "file_extension": ".py",
      "mimetype": "text/x-python",
      "name": "python",
      "nbconvert_exporter": "python",
      "pygments_lexer": "ipython3",
      "version": "3.9.7"
    }
  },
  "nbformat": 4,
  "nbformat_minor": 0
}