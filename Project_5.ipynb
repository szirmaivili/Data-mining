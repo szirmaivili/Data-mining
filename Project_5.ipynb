{
  "cells": [
    {
      "cell_type": "markdown",
      "metadata": {
        "id": "5nZhKcvPAXIr"
      },
      "source": [
        "# Adatbányászat gyakorlat 5.\n",
        "***\n",
        "Időpont: péntek, 8\\:30–10\\:00 és 10\\:15–11\\:45<br/>\n",
        "Helyszín: 3-107 / 3-111<br/>\n",
        "Elérhetőségek: TEAMS chat, csoport"
      ]
    },
    {
      "cell_type": "markdown",
      "metadata": {
        "id": "wPZfsO-uAaEz"
      },
      "source": [
        "## Követelmények\n",
        "***\n",
        "### Röpzh\n",
        "Minden óra végén fel lesz adva néhány egyszerű, lényegretörő kérdés az adott óra anyagából.\n",
        "\n",
        "#### Értékelés\n",
        "Minden feladat **1 pontot** ér a végső elszámolásban. Röpzh-kból összesen **10 pont** szerezhető majd.\n",
        "\n",
        "### Házi feladat\n",
        "A házi feladatok elkészítésére mindig **3 hetetek** lesz, beküldés után pedig még van lehetőség javítani a visszaküldött feladatokon. Az első változatot azonban a feladástól számított **két héten belül** várjuk, javítani csak ekkor lehet a visszaküldött feladatokon. <br/>\n",
        "A notebookoknak hozzatok létre egy saját Google Drive mappát, és állítsátok be, hogy ezt a megosztó link birtokában bárki megtekinthesse. A notebookhoz tartozó linket és a html fájlt az óra Teams csoportjába kell majd feltölteni.\n",
        "\n",
        "#### Értékelés\n",
        "Az összesen 6 db házi feladatból **4 db hibátlan visszaküldése feltétele az elégséges jegynek**. Minden további visszaküldött házi feladat feladatonként **1-1 pontot** ad a végső elszámoláshoz.\n",
        "\n",
        "### Projektmunka\n",
        "A félév második felében két-háromfős csoportokban adatbányászati feladatokat fogtok megoldani. Erről a félév végén le kell adni egy legalább ötoldalas **dokumentációt**, valamint az utolsó héten **prezentálnotok** kell 7-10 percben az eredményeket. A 8. héten lesz egy bevezető pár perces előadásotok, ahol a bemutatjátok az adathalmazt, megfogalmazzátok a hipotéziseitek.\n",
        "\n",
        "#### Értékelés\n",
        "A projektmunkát az elvégzett munka, a leadott dokumentáció és a prezentáció minősége alapján értékelni fogjuk. A szerezhető összpontszám **30 pont**. A pozitív eredmény (hipotézis beigazolása, jó teljesítmény elérése) **nem** feltétele a jó jegynek. Az egész csapat ugyanazt az értékelést kapja, kivéve, ha ezt külön kéritek.\n",
        "\n",
        "### Összpontszám:\n",
        "Összesen tehát **40 pont** szerezhető. A jegyek a következőképp alakulnak majd:\n",
        "- Ha legalább 4 házi feladat el lett fogadva, akkor:\n",
        "  - 20 pont alatt: elégtelen\n",
        "  - 20-24 pont: elégséges\n",
        "  - 25-29 pont: közepes\n",
        "  - 30-34 pont: jó\n",
        "  - 35 pont felett: kiváló\n",
        "- Ha 4-nél kevesebb házi feladatot küldtetek be, akkor a végső jegy elégtelen."
      ]
    },
    {
      "cell_type": "code",
      "source": [
        "def whats_my_final_grade(projekt_pontszam, ropz_pontszam, elvegzett_hazifeladatok):\n",
        "  if elvegzett_hazifeladatok < 4:\n",
        "    return 1\n",
        "  else:\n",
        "    pontszam = projekt_pontszam + ropzh + (elvegzett_hazifeladatok - 4)\n",
        "    jegy = (pontszam - 15) // 5 + 1\n",
        "    jegy = max([ min(jegy,5), 1 ])\n",
        "    return jegy\n",
        "\n",
        "projektmunka = 30 # (pont)\n",
        "ropzh = 10 # (pont)\n",
        "hazifeladatok = 6 # (db)\n",
        "\n",
        "print(\"Végső jegy: \", whats_my_final_grade(projektmunka, ropzh, hazifeladatok))"
      ],
      "metadata": {
        "id": "6dBbGGrkivMY"
      },
      "execution_count": null,
      "outputs": []
    },
    {
      "cell_type": "markdown",
      "source": [
        "# 5. Gyakorlat: Fine-tuning\n",
        "\n",
        "Hiperparaméter optimalizálás során az optimális modellt próbáljuk megtalálni.\n",
        "\n",
        "* Paraméter: a _betanított modell_ egy-egy jellemzője\n",
        "  * neurális háló súlyai\n",
        "  * döntési fa vágásai\n",
        "  * lineáris regresszió együtthatói\n",
        "* Hiperparaméter: a _betanítandó modell_ egy-egy jellemzője, amit tanítás előtt megadhatunk, ami módosítja a tanulást\n",
        "  * neurális háló szerkezete (rétegek száma)\n",
        "  * döntési fa maximális mélysége\n",
        "  * lineáris regresszió: regularizáció paraméterei\n",
        "\n",
        "**Vigyázat:** az egyszerűség kedvéért a scikit-learn API-ja a hiperparamétereket a paramétereknek nevezi (mert egy Python függvény argumentumait paramétereknek is nevezhetjük).\n",
        "\n",
        "**Ökölszabály:** mindazon paraméterek, amiket szabályozni lehet kívülről, hiperparamétereknek nevezzük, minden mást paraméternek.\n"
      ],
      "metadata": {
        "id": "bdPkRkQQwUHt"
      }
    },
    {
      "cell_type": "code",
      "source": [
        "import numpy as np\n",
        "import pandas as pd\n",
        "\n",
        "from sklearn.datasets import make_classification\n",
        "from sklearn.model_selection import train_test_split\n",
        "from sklearn.model_selection import RandomizedSearchCV\n",
        "from sklearn.ensemble import RandomForestClassifier\n",
        "\n",
        "from scipy.stats import uniform, loguniform\n",
        "\n",
        "import matplotlib.pyplot as plt\n",
        "from sklearn.metrics import roc_auc_score\n",
        "\n",
        "from google.colab import drive\n",
        "drive.mount('/content/drive')"
      ],
      "metadata": {
        "id": "IiVIR_s8eTwW",
        "colab": {
          "base_uri": "https://localhost:8080/"
        },
        "outputId": "f4fdcf9c-f742-4bfa-a61b-e3ff9915d449"
      },
      "execution_count": null,
      "outputs": [
        {
          "output_type": "stream",
          "name": "stdout",
          "text": [
            "Mounted at /content/drive\n"
          ]
        }
      ]
    },
    {
      "cell_type": "code",
      "source": [
        "# Data preparation\n",
        "X,y = make_classification(\n",
        "    n_samples = 5000, #5000 sor\n",
        "    n_features = 100, #100 feature\n",
        "    n_informative = 95, #Hányban van valódi adat\n",
        "    n_classes = 2\n",
        ")\n",
        "\n",
        "X = pd.DataFrame(X)\n",
        "\n",
        "print(\"Data shapes: \", X.shape, y.shape, sep=\"\\t\")\n",
        "\n",
        "X_modeling, X_test, y_modeling, y_test = train_test_split(X,y, test_size=0.25, random_state=42)\n",
        "\n",
        "print(\"Train-test split: \", X_modeling.shape, X_test.shape, sep='\\t')\n",
        "\n",
        "X_modeling = X_modeling.reset_index(drop=True)\n",
        "train_idxs, validation_idxs = train_test_split(X_modeling.index, test_size=0.33, random_state=42)\n",
        "print(\"Train-validation split: \", len(train_idxs), len(validation_idxs), sep='\\t')"
      ],
      "metadata": {
        "id": "dlQYKdwgYXQv",
        "colab": {
          "base_uri": "https://localhost:8080/"
        },
        "outputId": "21c39fda-d6e9-4641-a865-c8ec50dbc586"
      },
      "execution_count": null,
      "outputs": [
        {
          "output_type": "stream",
          "name": "stdout",
          "text": [
            "Data shapes: \t(5000, 100)\t(5000,)\n",
            "Train-test split: \t(3750, 100)\t(1250, 100)\n",
            "Train-validation split: \t2512\t1238\n"
          ]
        }
      ]
    },
    {
      "cell_type": "code",
      "source": [
        "# Modeling\n",
        "model = RandomForestClassifier(\n",
        "    n_estimators = 20,\n",
        "    verbose=0,\n",
        ")\n",
        "\n",
        "params = {\n",
        "    \"criterion\": [\"gini\", \"log_loss\"],\n",
        "    \"max_depth\": [3,4,5,6],\n",
        "    \"min_samples_split\": loguniform(0.01,1.0),\n",
        "    \"max_samples\": uniform(0.1, 0.9), #API-> uniform(a,b) egyenletes [a,a+b]-n\n",
        "}\n",
        "\n",
        "finder = RandomizedSearchCV(\n",
        "    estimator = model,\n",
        "    param_distributions=params,\n",
        "    n_iter = 10,\n",
        "    scoring=\"roc_auc\",\n",
        "    cv = [(train_idxs, validation_idxs)],\n",
        "    random_state=42,\n",
        "    verbose=3\n",
        ")\n",
        "\n",
        "finder.fit(X_modeling, y_modeling)"
      ],
      "metadata": {
        "id": "gixQ60EwYeYS",
        "colab": {
          "base_uri": "https://localhost:8080/",
          "height": 309
        },
        "outputId": "41a3ae85-007e-4a87-f6f2-ef7538545081"
      },
      "execution_count": null,
      "outputs": [
        {
          "output_type": "stream",
          "name": "stdout",
          "text": [
            "Fitting 1 folds for each of 10 candidates, totalling 10 fits\n",
            "[CV 1/1] END criterion=gini, max_depth=6, max_samples=0.9556428757689246, min_samples_split=0.2910635913133069;, score=0.803 total time=   0.2s\n",
            "[CV 1/1] END criterion=gini, max_depth=3, max_samples=0.24041677639819287, min_samples_split=0.020511104188433972;, score=0.801 total time=   0.1s\n",
            "[CV 1/1] END criterion=gini, max_depth=5, max_samples=0.8795585311974417, min_samples_split=0.15930522616241008;, score=0.815 total time=   0.2s\n",
            "[CV 1/1] END criterion=log_loss, max_depth=5, max_samples=0.1185260448662222, min_samples_split=0.870602087830485;, score=0.500 total time=   0.1s\n",
            "[CV 1/1] END criterion=log_loss, max_depth=4, max_samples=0.29110519961044856, min_samples_split=0.02310201887845293;, score=0.810 total time=   0.1s\n",
            "[CV 1/1] END criterion=gini, max_depth=3, max_samples=0.373818018663584, min_samples_split=0.11207606211860567;, score=0.785 total time=   0.1s\n",
            "[CV 1/1] END criterion=log_loss, max_depth=3, max_samples=0.36210622617823773, min_samples_split=0.16738085788752124;, score=0.739 total time=   0.1s\n",
            "[CV 1/1] END criterion=log_loss, max_depth=6, max_samples=0.3629301836816964, min_samples_split=0.054041038546473276;, score=0.826 total time=   0.2s\n",
            "[CV 1/1] END criterion=log_loss, max_depth=4, max_samples=0.8066583652537123, min_samples_split=0.025081156860452324;, score=0.840 total time=   0.3s\n",
            "[CV 1/1] END criterion=gini, max_depth=6, max_samples=0.6331731119758383, min_samples_split=0.012385137298860928;, score=0.861 total time=   0.3s\n"
          ]
        },
        {
          "output_type": "execute_result",
          "data": {
            "text/plain": [
              "RandomizedSearchCV(cv=[(Int64Index([ 994,  464, 3263, 2722, 3010, 2442, 1236, 3492, 3550,  212,\n",
              "            ...\n",
              "             466, 2169, 1638, 3092, 1095, 1130, 1294,  860, 3507, 3174],\n",
              "           dtype='int64', length=2512),\n",
              "                        Int64Index([2148, 1044, 3318,  439, 3515, 1849,   93, 1281, 3577, 1272,\n",
              "            ...\n",
              "            2860, 2474, 1258, 2984, 2273, 1702, 3657, 2015, 2715, 3150],\n",
              "           dtype='int64', length=1238))],\n",
              "                   estimator=RandomForestClassifier(n_estimators=20),\n",
              "                   param_distributions={'criterion': ['gini', 'log_loss'],\n",
              "                                        'max_depth': [3, 4, 5, 6],\n",
              "                                        'max_samples': <scipy.stats._distn_infrastructure.rv_continuous_frozen object at 0x7fbe142e4a90>,\n",
              "                                        'min_samples_split': <scipy.stats._distn_infrastructure.rv_continuous_frozen object at 0x7fbde2ec5c40>},\n",
              "                   random_state=42, scoring='roc_auc', verbose=3)"
            ],
            "text/html": [
              "<style>#sk-container-id-1 {color: black;background-color: white;}#sk-container-id-1 pre{padding: 0;}#sk-container-id-1 div.sk-toggleable {background-color: white;}#sk-container-id-1 label.sk-toggleable__label {cursor: pointer;display: block;width: 100%;margin-bottom: 0;padding: 0.3em;box-sizing: border-box;text-align: center;}#sk-container-id-1 label.sk-toggleable__label-arrow:before {content: \"▸\";float: left;margin-right: 0.25em;color: #696969;}#sk-container-id-1 label.sk-toggleable__label-arrow:hover:before {color: black;}#sk-container-id-1 div.sk-estimator:hover label.sk-toggleable__label-arrow:before {color: black;}#sk-container-id-1 div.sk-toggleable__content {max-height: 0;max-width: 0;overflow: hidden;text-align: left;background-color: #f0f8ff;}#sk-container-id-1 div.sk-toggleable__content pre {margin: 0.2em;color: black;border-radius: 0.25em;background-color: #f0f8ff;}#sk-container-id-1 input.sk-toggleable__control:checked~div.sk-toggleable__content {max-height: 200px;max-width: 100%;overflow: auto;}#sk-container-id-1 input.sk-toggleable__control:checked~label.sk-toggleable__label-arrow:before {content: \"▾\";}#sk-container-id-1 div.sk-estimator input.sk-toggleable__control:checked~label.sk-toggleable__label {background-color: #d4ebff;}#sk-container-id-1 div.sk-label input.sk-toggleable__control:checked~label.sk-toggleable__label {background-color: #d4ebff;}#sk-container-id-1 input.sk-hidden--visually {border: 0;clip: rect(1px 1px 1px 1px);clip: rect(1px, 1px, 1px, 1px);height: 1px;margin: -1px;overflow: hidden;padding: 0;position: absolute;width: 1px;}#sk-container-id-1 div.sk-estimator {font-family: monospace;background-color: #f0f8ff;border: 1px dotted black;border-radius: 0.25em;box-sizing: border-box;margin-bottom: 0.5em;}#sk-container-id-1 div.sk-estimator:hover {background-color: #d4ebff;}#sk-container-id-1 div.sk-parallel-item::after {content: \"\";width: 100%;border-bottom: 1px solid gray;flex-grow: 1;}#sk-container-id-1 div.sk-label:hover label.sk-toggleable__label {background-color: #d4ebff;}#sk-container-id-1 div.sk-serial::before {content: \"\";position: absolute;border-left: 1px solid gray;box-sizing: border-box;top: 0;bottom: 0;left: 50%;z-index: 0;}#sk-container-id-1 div.sk-serial {display: flex;flex-direction: column;align-items: center;background-color: white;padding-right: 0.2em;padding-left: 0.2em;position: relative;}#sk-container-id-1 div.sk-item {position: relative;z-index: 1;}#sk-container-id-1 div.sk-parallel {display: flex;align-items: stretch;justify-content: center;background-color: white;position: relative;}#sk-container-id-1 div.sk-item::before, #sk-container-id-1 div.sk-parallel-item::before {content: \"\";position: absolute;border-left: 1px solid gray;box-sizing: border-box;top: 0;bottom: 0;left: 50%;z-index: -1;}#sk-container-id-1 div.sk-parallel-item {display: flex;flex-direction: column;z-index: 1;position: relative;background-color: white;}#sk-container-id-1 div.sk-parallel-item:first-child::after {align-self: flex-end;width: 50%;}#sk-container-id-1 div.sk-parallel-item:last-child::after {align-self: flex-start;width: 50%;}#sk-container-id-1 div.sk-parallel-item:only-child::after {width: 0;}#sk-container-id-1 div.sk-dashed-wrapped {border: 1px dashed gray;margin: 0 0.4em 0.5em 0.4em;box-sizing: border-box;padding-bottom: 0.4em;background-color: white;}#sk-container-id-1 div.sk-label label {font-family: monospace;font-weight: bold;display: inline-block;line-height: 1.2em;}#sk-container-id-1 div.sk-label-container {text-align: center;}#sk-container-id-1 div.sk-container {/* jupyter's `normalize.less` sets `[hidden] { display: none; }` but bootstrap.min.css set `[hidden] { display: none !important; }` so we also need the `!important` here to be able to override the default hidden behavior on the sphinx rendered scikit-learn.org. See: https://github.com/scikit-learn/scikit-learn/issues/21755 */display: inline-block !important;position: relative;}#sk-container-id-1 div.sk-text-repr-fallback {display: none;}</style><div id=\"sk-container-id-1\" class=\"sk-top-container\"><div class=\"sk-text-repr-fallback\"><pre>RandomizedSearchCV(cv=[(Int64Index([ 994,  464, 3263, 2722, 3010, 2442, 1236, 3492, 3550,  212,\n",
              "            ...\n",
              "             466, 2169, 1638, 3092, 1095, 1130, 1294,  860, 3507, 3174],\n",
              "           dtype=&#x27;int64&#x27;, length=2512),\n",
              "                        Int64Index([2148, 1044, 3318,  439, 3515, 1849,   93, 1281, 3577, 1272,\n",
              "            ...\n",
              "            2860, 2474, 1258, 2984, 2273, 1702, 3657, 2015, 2715, 3150],\n",
              "           dtype=&#x27;int64&#x27;, length=1238))],\n",
              "                   estimator=RandomForestClassifier(n_estimators=20),\n",
              "                   param_distributions={&#x27;criterion&#x27;: [&#x27;gini&#x27;, &#x27;log_loss&#x27;],\n",
              "                                        &#x27;max_depth&#x27;: [3, 4, 5, 6],\n",
              "                                        &#x27;max_samples&#x27;: &lt;scipy.stats._distn_infrastructure.rv_continuous_frozen object at 0x7fbe142e4a90&gt;,\n",
              "                                        &#x27;min_samples_split&#x27;: &lt;scipy.stats._distn_infrastructure.rv_continuous_frozen object at 0x7fbde2ec5c40&gt;},\n",
              "                   random_state=42, scoring=&#x27;roc_auc&#x27;, verbose=3)</pre><b>In a Jupyter environment, please rerun this cell to show the HTML representation or trust the notebook. <br />On GitHub, the HTML representation is unable to render, please try loading this page with nbviewer.org.</b></div><div class=\"sk-container\" hidden><div class=\"sk-item sk-dashed-wrapped\"><div class=\"sk-label-container\"><div class=\"sk-label sk-toggleable\"><input class=\"sk-toggleable__control sk-hidden--visually\" id=\"sk-estimator-id-1\" type=\"checkbox\" ><label for=\"sk-estimator-id-1\" class=\"sk-toggleable__label sk-toggleable__label-arrow\">RandomizedSearchCV</label><div class=\"sk-toggleable__content\"><pre>RandomizedSearchCV(cv=[(Int64Index([ 994,  464, 3263, 2722, 3010, 2442, 1236, 3492, 3550,  212,\n",
              "            ...\n",
              "             466, 2169, 1638, 3092, 1095, 1130, 1294,  860, 3507, 3174],\n",
              "           dtype=&#x27;int64&#x27;, length=2512),\n",
              "                        Int64Index([2148, 1044, 3318,  439, 3515, 1849,   93, 1281, 3577, 1272,\n",
              "            ...\n",
              "            2860, 2474, 1258, 2984, 2273, 1702, 3657, 2015, 2715, 3150],\n",
              "           dtype=&#x27;int64&#x27;, length=1238))],\n",
              "                   estimator=RandomForestClassifier(n_estimators=20),\n",
              "                   param_distributions={&#x27;criterion&#x27;: [&#x27;gini&#x27;, &#x27;log_loss&#x27;],\n",
              "                                        &#x27;max_depth&#x27;: [3, 4, 5, 6],\n",
              "                                        &#x27;max_samples&#x27;: &lt;scipy.stats._distn_infrastructure.rv_continuous_frozen object at 0x7fbe142e4a90&gt;,\n",
              "                                        &#x27;min_samples_split&#x27;: &lt;scipy.stats._distn_infrastructure.rv_continuous_frozen object at 0x7fbde2ec5c40&gt;},\n",
              "                   random_state=42, scoring=&#x27;roc_auc&#x27;, verbose=3)</pre></div></div></div><div class=\"sk-parallel\"><div class=\"sk-parallel-item\"><div class=\"sk-item\"><div class=\"sk-label-container\"><div class=\"sk-label sk-toggleable\"><input class=\"sk-toggleable__control sk-hidden--visually\" id=\"sk-estimator-id-2\" type=\"checkbox\" ><label for=\"sk-estimator-id-2\" class=\"sk-toggleable__label sk-toggleable__label-arrow\">estimator: RandomForestClassifier</label><div class=\"sk-toggleable__content\"><pre>RandomForestClassifier(n_estimators=20)</pre></div></div></div><div class=\"sk-serial\"><div class=\"sk-item\"><div class=\"sk-estimator sk-toggleable\"><input class=\"sk-toggleable__control sk-hidden--visually\" id=\"sk-estimator-id-3\" type=\"checkbox\" ><label for=\"sk-estimator-id-3\" class=\"sk-toggleable__label sk-toggleable__label-arrow\">RandomForestClassifier</label><div class=\"sk-toggleable__content\"><pre>RandomForestClassifier(n_estimators=20)</pre></div></div></div></div></div></div></div></div></div></div>"
            ]
          },
          "metadata": {},
          "execution_count": 3
        }
      ]
    },
    {
      "cell_type": "code",
      "source": [
        "# Evaluation\n",
        "best_model = finder.best_estimator_\n",
        "print(f\"Best params:\\t\\t\\t{finder.best_params_}\",\n",
        "      f\"Best score (validation):\\t{finder.best_score_:.4f} AUC\",\n",
        "      sep='\\n')\n",
        "\n",
        "probas = best_model.predict_proba(X_test)[:,1]\n",
        "print(f\"ROC-AUC score (test):\\t\\t{roc_auc_score(y_test, probas):.4f} AUC\")"
      ],
      "metadata": {
        "id": "dQYtxCyRb6Mp",
        "colab": {
          "base_uri": "https://localhost:8080/"
        },
        "outputId": "1f79853e-ac84-4ff5-da9a-590dbd117ef0"
      },
      "execution_count": null,
      "outputs": [
        {
          "output_type": "stream",
          "name": "stdout",
          "text": [
            "Best params:\t\t\t{'criterion': 'gini', 'max_depth': 6, 'max_samples': 0.6331731119758383, 'min_samples_split': 0.012385137298860928}\n",
            "Best score (validation):\t0.8610 AUC\n",
            "ROC-AUC score (test):\t\t0.8917 AUC\n"
          ]
        }
      ]
    },
    {
      "cell_type": "code",
      "source": [
        "# Plotting\n",
        "\n",
        "plot_args = {\"alpha\": 0.5, \"bins\": 25, \"density\": False}\n",
        "plt.hist(probas[y_test==0], label=\"N\", color=\"r\", **plot_args)\n",
        "plt.hist(probas[y_test==1], label=\"P\", color=\"g\", **plot_args)\n",
        "plt.title(\"Prediction distribution\")\n",
        "plt.legend()\n",
        "plt.show()\n",
        "\n",
        "#plt.savefig(\"drive/MyDrive/Skyline_ábra.png\")"
      ],
      "metadata": {
        "id": "YntMZIqGeTo7",
        "colab": {
          "base_uri": "https://localhost:8080/",
          "height": 452
        },
        "outputId": "a8ef2a5a-fc48-43e9-f733-531463e8274f"
      },
      "execution_count": null,
      "outputs": [
        {
          "output_type": "display_data",
          "data": {
            "text/plain": [
              "<Figure size 640x480 with 1 Axes>"
            ],
            "image/png": "[encoded data removed]"
          },
          "metadata": {}
        }
      ]
    },
    {
      "cell_type": "markdown",
      "source": [
        "# Random Forest\n",
        "\n",
        "https://scikit-learn.org/stable/modules/generated/sklearn.ensemble.RandomForestClassifier.html\n",
        "\n",
        "\n",
        "\n",
        "```\n",
        "from sklearn.ensemble import RandomForestClassifier\n",
        "\n",
        "model = RandomForestClassifier(\n",
        "    n_estimators = 20,\n",
        "    verbose=0\n",
        ")\n",
        "```\n",
        "\n",
        "Legyen adott $n$ db $D_i$ döntési fa, ezek predikcióját az $x\\in X$ mintalemen jelölje $D_i(x) \\in \\{0,1\\}$. Az $n$ fa aggregált predikciója ekkor az\n",
        "$$ R(x) = \\frac{1}{n}\\sum_{i=1}^n D_i(x) $$\n",
        "_ensemble_ (hibrid) modell. Ez lényegében (megfelelő normalizálás után) az $n$ fa többségi szavazása (azt az osztályt mondjuk, amelyikre több szavazat érkezett a fáktól)\n",
        "\n",
        "Miért jó több modellt használni?\n",
        "* megfelelő konstrukció mellett csökkenti a túltanulást, stabilizálja a kimenetet;\n",
        "* sok _gyenge tanuló_ segítségével egy erős kimenetet kaphatunk.\n",
        "\n",
        "Jelen esetben a gyenge tanulók a döntési fák, és az ensemble modell az ún. random forest. Ennek két ötlete van:\n",
        "* több kis (sekély) fa használata a túltanulás elkerülése végett,\n",
        "* randomitás bevezetése a stabilitás érdekében: minden fa minden vágásában a feature-ök (oszlopok) egy random ($f$ feature esetén általában $\\sqrt{f}$ vagy $f/3$ darabot) halmazát látja csak.\n",
        "\n"
      ],
      "metadata": {
        "id": "YfNEMQ3ghhwF"
      }
    },
    {
      "cell_type": "markdown",
      "source": [
        "# Hiperparaméter optimalizálás\n",
        "\n",
        "[XKCD, 221](https://www.explainxkcd.com/wiki/index.php/221:_Random_Number): Random Number\n",
        "\n",
        "\n",
        "Keressük az optimális hiperparaméter-kombinációt.\n",
        "\n",
        "Módszer:\n",
        "* Keresztvalidálás: választunk egy `score` paramétert, ezen metrika mentén értékeljük ki a hiperparaméter-kombinációkat (a validációs halmazon)\n",
        "  * Teszt halmaz: a hiperparaméter optimalizálás után használjuk a modell végső kiértékelésére (nem vesz részt se a tanításban, se a hiperparaméter optimalizálásban)\n",
        "  * Holdout módszer: a modellező halmazt felosztjuk\n",
        "    * Validációs halmaz: a hiperparaméter optimalizálás során használjuk az adott hiperparaméter-kombináció kiértékelésére (de a tanításban nem vesz részt)\n",
        "    * Tanító halmaz: a tanításra használjuk, minden hiperparaméter-kombinációt ezen próbálunk ki\n",
        "  * KFold módszer: a modellező halmazt $k$ rétegre osztjuk, és minden hiperparaméter-kombinációt $k$-szor értékelünk ki (minden réteg pontosan egyszer lesz validációs halmaz)\n",
        "\n",
        "* Hiperparaméter kereső paradigmák:\n",
        "  * [Random search](https://scikit-learn.org/stable/modules/generated/sklearn.model_selection.RandomizedSearchCV.html): megadjuk a kipróbálandó hiperparaméterek egy _eloszlását_, és ezen eloszlásból sorsolunk $N$-szer, ahol $N$ az iterációk (kipróbált _random hiperparaméter-kombinációk_) száma\n",
        "    * Előny: az iterációk számával szabályozható a tanítás hossza\n",
        "    * Hátrány: kis iteráció esetén az eredmény nem feltétlen megbízható (kevés kombinációt láttunk)\n",
        "  * [Grid search](https://scikit-learn.org/stable/modules/generated/sklearn.model_selection.GridSearchCV.html): megadjuk a hiperparaméterek konkrét értékeit, és ezen _rács_ mentén értékeljük ki a modellt (minden rácsponton)\n",
        "    * Előny: _minden_ kombináció ki lesz próbálva, megbízható eredmény\n",
        "    * Hátrány: nagy paramétert-tér esetén (ha túl nagy a kombinációk száma) a tanítás lassú\n",
        "\n",
        "Megjegyzés: gyakran a kettőt együtt használják; grid search-ben megtaláljuk a hiperparaméterek optimális(nak tűnő) nagyságrendjét, és azon rácspont körül random search-csel keresünk egy modellt.\n",
        "\n",
        "\n",
        "\n",
        "```\n",
        "params = {\n",
        "    \"criterion\": [\"gini\", \"log_loss\"],\n",
        "    \"max_depth\": [3,4,5,6],\n",
        "    \"min_samples_split\": loguniform(0.01,1.0),\n",
        "    \"max_samples\": uniform(0.1, 0.9)\n",
        "}\n",
        "\n",
        "finder = RandomizedSearchCV(\n",
        "    estimator = model,\n",
        "    param_distributions=params,\n",
        "    n_iter = 10,\n",
        "    scoring=\"roc_auc\",\n",
        "    cv = [(train_idxs, validation_idxs)],\n",
        "    random_state=42,\n",
        "    verbose=3\n",
        ")\n",
        "```\n",
        "\n",
        "_(Érdeklődőknek: léteznek természetesen más paradigmák is, érdemes megnézni pl. a Bayes-i keresést, amire az `optuna` könyvtár kiváló API-t szolgáltat.)_"
      ],
      "metadata": {
        "id": "nTfMPkN5kZ62"
      }
    },
    {
      "cell_type": "markdown",
      "source": [
        "Random keresés során, ha egy folytonos paraméter nagyságrendjét keressük, akkor [egyenletes](https://docs.scipy.org/doc/scipy/reference/generated/scipy.stats.uniform.html#scipy.stats.uniform) helyett [log-egyenletes](https://docs.scipy.org/doc/scipy/reference/generated/scipy.stats.loguniform.html) eloszlást kell használni: ekkor az egyes nagyságrendek egyenlő mértékben lesznek kipróbálva:"
      ],
      "metadata": {
        "id": "PYXPk8g0r8MC"
      }
    },
    {
      "cell_type": "code",
      "source": [
        "dist = loguniform(0.001,1.0)\n",
        "sample = dist.rvs(1000)\n",
        "\n",
        "n = len(sample)\n",
        "for i in [0.01,0.1,1.0]:\n",
        "  print(i, sum(sample<i) / n, sep='\\t')\n",
        "\n",
        "fig, axs = plt.subplots(1,2, figsize=(16,6))\n",
        "axs[0].hist(sample, density=True)\n",
        "axs[1].hist(np.log(sample), density=True)\n",
        "fig.show()"
      ],
      "metadata": {
        "id": "EZCIMx1WtI1_",
        "colab": {
          "base_uri": "https://localhost:8080/",
          "height": 544
        },
        "outputId": "e2ee1548-6b4a-474f-e705-442c1f949be8"
      },
      "execution_count": null,
      "outputs": [
        {
          "output_type": "stream",
          "name": "stdout",
          "text": [
            "0.01\t0.333\n",
            "0.1\t0.654\n",
            "1.0\t1.0\n"
          ]
        },
        {
          "output_type": "display_data",
          "data": {
            "text/plain": [
              "<Figure size 1600x600 with 2 Axes>"
            ],
            "image/png": "[encoded data removed]"
          },
          "metadata": {}
        }
      ]
    },
    {
      "cell_type": "code",
      "source": [
        "u = uniform(0.001,1-0.001) #Így kell neki megmondani, hogy 0.001 és 1 között generáljon random számot\n",
        "sample = u.rvs(1000)\n",
        "\n",
        "plt.hist(sample, density=True)\n",
        "plt.show()"
      ],
      "metadata": {
        "id": "TLIDkj9xuGfZ",
        "colab": {
          "base_uri": "https://localhost:8080/",
          "height": 430
        },
        "outputId": "031bb50b-6c6f-4a80-dc44-b198f961122d"
      },
      "execution_count": null,
      "outputs": [
        {
          "output_type": "display_data",
          "data": {
            "text/plain": [
              "<Figure size 640x480 with 1 Axes>"
            ],
            "image/png": "[encoded data removed]"
          },
          "metadata": {}
        }
      ]
    },
    {
      "cell_type": "markdown",
      "source": [
        "# Teljesítmény mérés\n",
        "\n",
        "[XKCD, 726:](https://xkcd.com/726/) Seat selection\n",
        "\n",
        "Minden modell alapvetően az alábbi formába írható:\n",
        "$$ f: X ↦ [0,1], $$\n",
        "ahol $x\\in X$ esetén $f(x)$ egy lehetséges (bár statisztikailag helytelen) értelmezése\n",
        "$$ \\mathbb{P}(x\\in \\text{pozitív osztály}) ≈ f(x), $$\n",
        "vagyis $f(x)$ azt mondja meg, hogy az $x$ mintaelem milyen _valószínűséggel_ tartozik a pozitív osztályba. (Ez az $f(x)$ szokott lenni nálunk a `probas`.)\n",
        "\n",
        "**Következmény:** minden tanítás végső soron egy threshold választási kérdéshez vezet, ahol a végső predikció $\\alpha$ küszöbérték mellett\n",
        "$$ x\\in \\text{pozitív osztály} ⇔ f(x)>\\alpha. $$\n",
        "\n",
        "Konkrétan:\n",
        "```\n",
        "preds = (probas>threshold).astype(\"int\")\n",
        "```"
      ],
      "metadata": {
        "id": "ZFkJd3fvcuOY"
      }
    },
    {
      "cell_type": "code",
      "source": [
        "from sklearn.metrics import roc_curve, RocCurveDisplay\n",
        "from sklearn.metrics import confusion_matrix"
      ],
      "metadata": {
        "id": "B5yXIpivfv8E"
      },
      "execution_count": null,
      "outputs": []
    },
    {
      "cell_type": "code",
      "source": [
        "probas = best_model.predict_proba(X_test)\n",
        "probas"
      ],
      "metadata": {
        "id": "QOiTizdQsU7t",
        "colab": {
          "base_uri": "https://localhost:8080/"
        },
        "outputId": "e7adbc83-ea9e-49f8-bc4e-125bb2afafe1"
      },
      "execution_count": null,
      "outputs": [
        {
          "output_type": "execute_result",
          "data": {
            "text/plain": [
              "array([[0.30293589, 0.69706411],\n",
              "       [0.47315753, 0.52684247],\n",
              "       [0.49311504, 0.50688496],\n",
              "       ...,\n",
              "       [0.6561421 , 0.3438579 ],\n",
              "       [0.39694446, 0.60305554],\n",
              "       [0.36457703, 0.63542297]])"
            ]
          },
          "metadata": {},
          "execution_count": 7
        }
      ]
    },
    {
      "cell_type": "code",
      "source": [
        "probas = probas[:,1] # a pozitív osztályhoz tartozó értékek (score-ok)"
      ],
      "metadata": {
        "id": "_D-ini-fiFEl"
      },
      "execution_count": null,
      "outputs": []
    },
    {
      "cell_type": "code",
      "source": [
        "plot_args = {\"alpha\": 0.5, \"bins\": 25, \"density\": False}\n",
        "\n",
        "plt.hist(probas[y_test==0], label=\"N\", color=\"r\", **plot_args)\n",
        "plt.hist(probas[y_test==1], label=\"P\", color=\"g\", **plot_args)\n",
        "\n",
        "plt.axvline(0.5, color=\"black\", linestyle=\"--\", label=\"threshold\")\n",
        "\n",
        "plt.text(0.45,6, \"FN\", backgroundcolor=\"white\", fontweight=\"bold\")\n",
        "plt.text(0.52,6, \"FP\", backgroundcolor=\"white\", fontweight=\"bold\")\n",
        "plt.text(0.6,25, \"TP\", backgroundcolor=\"white\", fontweight=\"bold\")\n",
        "plt.text(0.4,25, \"TN\", backgroundcolor=\"white\", fontweight=\"bold\")\n",
        "\n",
        "plt.text(0.45,50, \"PN\", color=\"white\", backgroundcolor=\"black\", fontweight=\"bold\")\n",
        "plt.text(0.52,50, \"PP\", color=\"white\", backgroundcolor=\"black\", fontweight=\"bold\")\n",
        "\n",
        "plt.title(\"Prediction distribution\")\n",
        "plt.legend()\n",
        "plt.show()"
      ],
      "metadata": {
        "id": "fG8CP9dJhoMH",
        "colab": {
          "base_uri": "https://localhost:8080/",
          "height": 452
        },
        "outputId": "8711dafc-a44d-42fb-bd94-6325561ea0a3"
      },
      "execution_count": null,
      "outputs": [
        {
          "output_type": "display_data",
          "data": {
            "text/plain": [
              "<Figure size 640x480 with 1 Axes>"
            ],
            "image/png": "[encoded data removed]"
          },
          "metadata": {}
        }
      ]
    },
    {
      "cell_type": "code",
      "source": [
        "preds = (probas>0.5).astype(\"int\") # mi ennek a kódolásnak a neve?"
      ],
      "metadata": {
        "id": "FUf8D7k_u8ts"
      },
      "execution_count": null,
      "outputs": []
    },
    {
      "cell_type": "code",
      "source": [
        "confusion_matrix(y_test, preds)"
      ],
      "metadata": {
        "id": "Evjbc-uy7FO1",
        "colab": {
          "base_uri": "https://localhost:8080/"
        },
        "outputId": "6dfbe210-6083-467e-fbc8-2534364dd939"
      },
      "execution_count": null,
      "outputs": [
        {
          "output_type": "execute_result",
          "data": {
            "text/plain": [
              "array([[482, 115],\n",
              "       [105, 548]])"
            ]
          },
          "metadata": {},
          "execution_count": 11
        }
      ]
    },
    {
      "cell_type": "markdown",
      "source": [
        "## ROC-AUC görbe\n",
        "\n",
        "Emlékezzünk vissza a tévesztési mátrixra!\n",
        "\n",
        "<center>\n",
        "\n",
        ". | PN | PP |\n",
        "--- | :---: | :---: |\n",
        "N | TN | FP\n",
        "P | FN | TP\n",
        "\n",
        "</center>\n",
        "\n",
        "A legfontosabb metrika, amelyik **független a threshold választásától** a ROC-AUC score. Ez az alábbi két metrikát használja:\n",
        "\n",
        "\n",
        "* False positive rate: meg nem talált negatívok aránya $$ FPR = \\frac{FP}{N} $$\n",
        "* True positive rate (_recall_): megtalált pozitívok aránya $$ TPR = \\frac{TP}{P} $$\n",
        "\n",
        "Ha adott egy threshold, akkor a `probas`-ból tévesztési mátrixot lehet csinálni, és arra kiszámolni a fenti két metrikát. Minden 0 és 1 közötti thresholdra kiszámolva kapjuk a ROC-görbét:\n",
        "\n",
        "* ROC görbe: $$ \\text{threshold} \\mapsto (FPR,TPR) $$\n",
        "* ROC-AUC érték: a ROC-görbe alatti terület"
      ],
      "metadata": {
        "id": "saTM_ftgiagM"
      }
    },
    {
      "cell_type": "code",
      "source": [
        "fpr, tpr, thresholds = roc_curve(y_test, probas)"
      ],
      "metadata": {
        "id": "AcsFmxTEceUh"
      },
      "execution_count": null,
      "outputs": []
    },
    {
      "cell_type": "code",
      "source": [
        "pd.DataFrame().from_dict({\n",
        "    \"threshold\": thresholds,\n",
        "    \"False positive rate\": fpr,\n",
        "    \"True positive rate\": tpr\n",
        "}).sort_values(by=\"threshold\")"
      ],
      "metadata": {
        "id": "y0WWZj3vhXXo",
        "colab": {
          "base_uri": "https://localhost:8080/",
          "height": 424
        },
        "outputId": "ee17fec8-ac71-4e38-9f88-90b88ee478cd"
      },
      "execution_count": null,
      "outputs": [
        {
          "output_type": "execute_result",
          "data": {
            "text/plain": [
              "     threshold  False positive rate  True positive rate\n",
              "333   0.171854             1.000000            1.000000\n",
              "332   0.274927             0.963149            1.000000\n",
              "331   0.275534             0.963149            0.998469\n",
              "330   0.324150             0.864322            0.998469\n",
              "329   0.324322             0.864322            0.996937\n",
              "..         ...                  ...                 ...\n",
              "4     0.688218             0.001675            0.071975\n",
              "3     0.762551             0.001675            0.010720\n",
              "2     0.763597             0.000000            0.010720\n",
              "1     0.791746             0.000000            0.001531\n",
              "0     1.791746             0.000000            0.000000\n",
              "\n",
              "[334 rows x 3 columns]"
            ],
            "text/html": [
              "\n",
              "  <div id=\"df-6bd6090d-05c0-4f5d-ba93-06788c3e5090\">\n",
              "    <div class=\"colab-df-container\">\n",
              "      <div>\n",
              "<style scoped>\n",
              "    .dataframe tbody tr th:only-of-type {\n",
              "        vertical-align: middle;\n",
              "    }\n",
              "\n",
              "    .dataframe tbody tr th {\n",
              "        vertical-align: top;\n",
              "    }\n",
              "\n",
              "    .dataframe thead th {\n",
              "        text-align: right;\n",
              "    }\n",
              "</style>\n",
              "<table border=\"1\" class=\"dataframe\">\n",
              "  <thead>\n",
              "    <tr style=\"text-align: right;\">\n",
              "      <th></th>\n",
              "      <th>threshold</th>\n",
              "      <th>False positive rate</th>\n",
              "      <th>True positive rate</th>\n",
              "    </tr>\n",
              "  </thead>\n",
              "  <tbody>\n",
              "    <tr>\n",
              "      <th>333</th>\n",
              "      <td>0.171854</td>\n",
              "      <td>1.000000</td>\n",
              "      <td>1.000000</td>\n",
              "    </tr>\n",
              "    <tr>\n",
              "      <th>332</th>\n",
              "      <td>0.274927</td>\n",
              "      <td>0.963149</td>\n",
              "      <td>1.000000</td>\n",
              "    </tr>\n",
              "    <tr>\n",
              "      <th>331</th>\n",
              "      <td>0.275534</td>\n",
              "      <td>0.963149</td>\n",
              "      <td>0.998469</td>\n",
              "    </tr>\n",
              "    <tr>\n",
              "      <th>330</th>\n",
              "      <td>0.324150</td>\n",
              "      <td>0.864322</td>\n",
              "      <td>0.998469</td>\n",
              "    </tr>\n",
              "    <tr>\n",
              "      <th>329</th>\n",
              "      <td>0.324322</td>\n",
              "      <td>0.864322</td>\n",
              "      <td>0.996937</td>\n",
              "    </tr>\n",
              "    <tr>\n",
              "      <th>...</th>\n",
              "      <td>...</td>\n",
              "      <td>...</td>\n",
              "      <td>...</td>\n",
              "    </tr>\n",
              "    <tr>\n",
              "      <th>4</th>\n",
              "      <td>0.688218</td>\n",
              "      <td>0.001675</td>\n",
              "      <td>0.071975</td>\n",
              "    </tr>\n",
              "    <tr>\n",
              "      <th>3</th>\n",
              "      <td>0.762551</td>\n",
              "      <td>0.001675</td>\n",
              "      <td>0.010720</td>\n",
              "    </tr>\n",
              "    <tr>\n",
              "      <th>2</th>\n",
              "      <td>0.763597</td>\n",
              "      <td>0.000000</td>\n",
              "      <td>0.010720</td>\n",
              "    </tr>\n",
              "    <tr>\n",
              "      <th>1</th>\n",
              "      <td>0.791746</td>\n",
              "      <td>0.000000</td>\n",
              "      <td>0.001531</td>\n",
              "    </tr>\n",
              "    <tr>\n",
              "      <th>0</th>\n",
              "      <td>1.791746</td>\n",
              "      <td>0.000000</td>\n",
              "      <td>0.000000</td>\n",
              "    </tr>\n",
              "  </tbody>\n",
              "</table>\n",
              "<p>334 rows × 3 columns</p>\n",
              "</div>\n",
              "      <button class=\"colab-df-convert\" onclick=\"convertToInteractive('df-6bd6090d-05c0-4f5d-ba93-06788c3e5090')\"\n",
              "              title=\"Convert this dataframe to an interactive table.\"\n",
              "              style=\"display:none;\">\n",
              "        \n",
              "  <svg xmlns=\"http://www.w3.org/2000/svg\" height=\"24px\"viewBox=\"0 0 24 24\"\n",
              "       width=\"24px\">\n",
              "    <path d=\"M0 0h24v24H0V0z\" fill=\"none\"/>\n",
              "    <path d=\"M18.56 5.44l.94 2.06.94-2.06 2.06-.94-2.06-.94-.94-2.06-.94 2.06-2.06.94zm-11 1L8.5 8.5l.94-2.06 2.06-.94-2.06-.94L8.5 2.5l-.94 2.06-2.06.94zm10 10l.94 2.06.94-2.06 2.06-.94-2.06-.94-.94-2.06-.94 2.06-2.06.94z\"/><path d=\"M17.41 7.96l-1.37-1.37c-.4-.4-.92-.59-1.43-.59-.52 0-1.04.2-1.43.59L10.3 9.45l-7.72 7.72c-.78.78-.78 2.05 0 2.83L4 21.41c.39.39.9.59 1.41.59.51 0 1.02-.2 1.41-.59l7.78-7.78 2.81-2.81c.8-.78.8-2.07 0-2.86zM5.41 20L4 18.59l7.72-7.72 1.47 1.35L5.41 20z\"/>\n",
              "  </svg>\n",
              "      </button>\n",
              "      \n",
              "  <style>\n",
              "    .colab-df-container {\n",
              "      display:flex;\n",
              "      flex-wrap:wrap;\n",
              "      gap: 12px;\n",
              "    }\n",
              "\n",
              "    .colab-df-convert {\n",
              "      background-color: #E8F0FE;\n",
              "      border: none;\n",
              "      border-radius: 50%;\n",
              "      cursor: pointer;\n",
              "      display: none;\n",
              "      fill: #1967D2;\n",
              "      height: 32px;\n",
              "      padding: 0 0 0 0;\n",
              "      width: 32px;\n",
              "    }\n",
              "\n",
              "    .colab-df-convert:hover {\n",
              "      background-color: #E2EBFA;\n",
              "      box-shadow: 0px 1px 2px rgba(60, 64, 67, 0.3), 0px 1px 3px 1px rgba(60, 64, 67, 0.15);\n",
              "      fill: #174EA6;\n",
              "    }\n",
              "\n",
              "    [theme=dark] .colab-df-convert {\n",
              "      background-color: #3B4455;\n",
              "      fill: #D2E3FC;\n",
              "    }\n",
              "\n",
              "    [theme=dark] .colab-df-convert:hover {\n",
              "      background-color: #434B5C;\n",
              "      box-shadow: 0px 1px 3px 1px rgba(0, 0, 0, 0.15);\n",
              "      filter: drop-shadow(0px 1px 2px rgba(0, 0, 0, 0.3));\n",
              "      fill: #FFFFFF;\n",
              "    }\n",
              "  </style>\n",
              "\n",
              "      <script>\n",
              "        const buttonEl =\n",
              "          document.querySelector('#df-6bd6090d-05c0-4f5d-ba93-06788c3e5090 button.colab-df-convert');\n",
              "        buttonEl.style.display =\n",
              "          google.colab.kernel.accessAllowed ? 'block' : 'none';\n",
              "\n",
              "        async function convertToInteractive(key) {\n",
              "          const element = document.querySelector('#df-6bd6090d-05c0-4f5d-ba93-06788c3e5090');\n",
              "          const dataTable =\n",
              "            await google.colab.kernel.invokeFunction('convertToInteractive',\n",
              "                                                     [key], {});\n",
              "          if (!dataTable) return;\n",
              "\n",
              "          const docLinkHtml = 'Like what you see? Visit the ' +\n",
              "            '<a target=\"_blank\" href=https://colab.research.google.com/notebooks/data_table.ipynb>data table notebook</a>'\n",
              "            + ' to learn more about interactive tables.';\n",
              "          element.innerHTML = '';\n",
              "          dataTable['output_type'] = 'display_data';\n",
              "          await google.colab.output.renderOutput(dataTable, element);\n",
              "          const docLink = document.createElement('div');\n",
              "          docLink.innerHTML = docLinkHtml;\n",
              "          element.appendChild(docLink);\n",
              "        }\n",
              "      </script>\n",
              "    </div>\n",
              "  </div>\n",
              "  "
            ]
          },
          "metadata": {},
          "execution_count": 13
        }
      ]
    },
    {
      "cell_type": "code",
      "source": [
        "auc = roc_auc_score(y_test, probas)\n",
        "auc"
      ],
      "metadata": {
        "id": "F-rpx3CFceWy",
        "colab": {
          "base_uri": "https://localhost:8080/"
        },
        "outputId": "45cd2a6b-237f-459a-ec2e-c8cf85723830"
      },
      "execution_count": null,
      "outputs": [
        {
          "output_type": "execute_result",
          "data": {
            "text/plain": [
              "0.8917404788105919"
            ]
          },
          "metadata": {},
          "execution_count": 14
        }
      ]
    },
    {
      "cell_type": "code",
      "source": [
        "display = RocCurveDisplay(fpr=fpr, tpr=tpr, roc_auc=auc,\n",
        "                          estimator_name='catboost estimator')\n",
        "display.plot()\n",
        "plt.show()\n",
        "\n",
        "#plt.savefig(\"drive/MyDrive/ROC_görbe.png\")"
      ],
      "metadata": {
        "id": "lV_crgiFceSN",
        "colab": {
          "base_uri": "https://localhost:8080/",
          "height": 449
        },
        "outputId": "d12f4ca5-7b6f-41fa-a4af-f6a4c1b6a015"
      },
      "execution_count": null,
      "outputs": [
        {
          "output_type": "display_data",
          "data": {
            "text/plain": [
              "<Figure size 640x480 with 1 Axes>"
            ],
            "image/png": "[encoded data removed]"
          },
          "metadata": {}
        }
      ]
    },
    {
      "cell_type": "code",
      "source": [
        "probas = best_model.predict_proba(X_test)\n",
        "probas"
      ],
      "metadata": {
        "id": "ifL2oJ8_whL-",
        "colab": {
          "base_uri": "https://localhost:8080/"
        },
        "outputId": "e55b45cb-c152-4907-8145-02984fd86a13"
      },
      "execution_count": null,
      "outputs": [
        {
          "output_type": "execute_result",
          "data": {
            "text/plain": [
              "array([[0.30293589, 0.69706411],\n",
              "       [0.47315753, 0.52684247],\n",
              "       [0.49311504, 0.50688496],\n",
              "       ...,\n",
              "       [0.6561421 , 0.3438579 ],\n",
              "       [0.39694446, 0.60305554],\n",
              "       [0.36457703, 0.63542297]])"
            ]
          },
          "metadata": {},
          "execution_count": 16
        }
      ]
    },
    {
      "cell_type": "code",
      "source": [
        "roc_auc_score(y_test, probas[:,0]), roc_auc_score(y_test, probas[:,1])"
      ],
      "metadata": {
        "id": "zyJ9F2a2w00U",
        "colab": {
          "base_uri": "https://localhost:8080/"
        },
        "outputId": "1a264221-5753-4294-baa2-324caafa28e7"
      },
      "execution_count": null,
      "outputs": [
        {
          "output_type": "execute_result",
          "data": {
            "text/plain": [
              "(0.10825952118940799, 0.8917404788105919)"
            ]
          },
          "metadata": {},
          "execution_count": 17
        }
      ]
    },
    {
      "cell_type": "markdown",
      "source": [
        "## Threshold választás\n",
        "\n",
        "<center>\n",
        "\n",
        ". | PN | PP |\n",
        "--- | :---: | :---: |\n",
        "N | TN | FP\n",
        "P | FN | TP\n",
        "\n",
        "</center>\n",
        "\n",
        "* Precision: a pozitívnak prediktált osztály ,,tisztasága'' $$ PREC = \\frac{TP}{PP} $$\n",
        "* Recall: megtalált pozitívok aránya $$ REC = \\frac{TP}{P} $$\n",
        "\n",
        "* F1 score: a _precision_ és _recall_ súlyozott harmonikus közepe $$ F_1 = 2\\cdot \\frac{PREC \\cdot REC}{PREC + REC}$$\n",
        "\n",
        "\n",
        "**Fő kérdés:** Hogyan válasszunk thresholdot?\n",
        "\n",
        "Két természetes választás adódik.\n",
        "* $P/N$ arányra: ha $P$ elem tartozik pozitív osztályba, $N$ a negatívba, akkor egy triviális modell $P/(P+N)$ valószínűséggel sorsol valakit a pozitív osztályba, $N/(P+N)$-nel a negatívba. Ekkor a természetes választás $P/N$.\n",
        "* max F1 score: kiegyensúlyozza a precison és recall egymás elleni ,,harcát''"
      ],
      "metadata": {
        "id": "Y0TPF_UWnULg"
      }
    },
    {
      "cell_type": "code",
      "source": [
        "from sklearn.metrics import precision_recall_curve"
      ],
      "metadata": {
        "id": "zKxH-PeQceP3"
      },
      "execution_count": null,
      "outputs": []
    },
    {
      "cell_type": "code",
      "source": [
        "print(\"Class imbalance: \", y_test.sum() / len(y_test))"
      ],
      "metadata": {
        "id": "GI29DP56yuTA",
        "colab": {
          "base_uri": "https://localhost:8080/"
        },
        "outputId": "9f51938e-2dcc-4c75-fd81-0f4e745ac1ef"
      },
      "execution_count": null,
      "outputs": [
        {
          "output_type": "stream",
          "name": "stdout",
          "text": [
            "Class imbalance:  0.5224\n"
          ]
        }
      ]
    },
    {
      "cell_type": "code",
      "source": [
        "probas = best_model.predict_proba(X_test)[:,1]"
      ],
      "metadata": {
        "id": "JYWBnnZuw7zk"
      },
      "execution_count": null,
      "outputs": []
    },
    {
      "cell_type": "code",
      "source": [
        "precs, recs, thresholds = precision_recall_curve(y_test, probas)"
      ],
      "metadata": {
        "id": "jhCvvFdmceNY"
      },
      "execution_count": null,
      "outputs": []
    },
    {
      "cell_type": "code",
      "source": [
        "thresholds = list(thresholds) + [1.0]"
      ],
      "metadata": {
        "id": "trGXtJUbqsGt"
      },
      "execution_count": null,
      "outputs": []
    },
    {
      "cell_type": "code",
      "source": [
        "pd.DataFrame().from_dict({\n",
        "    \"threshold\": thresholds,\n",
        "    \"prec\": precs,\n",
        "    \"rec\": recs\n",
        "}).sort_values(by=\"threshold\")"
      ],
      "metadata": {
        "id": "v7b5uIEbqI6A",
        "colab": {
          "base_uri": "https://localhost:8080/",
          "height": 424
        },
        "outputId": "95051cd0-f25d-4070-db4c-d8fa321d2a1d"
      },
      "execution_count": null,
      "outputs": [
        {
          "output_type": "execute_result",
          "data": {
            "text/plain": [
              "      threshold      prec       rec\n",
              "0      0.171854  0.522400  1.000000\n",
              "1      0.194662  0.522818  1.000000\n",
              "2      0.209045  0.523237  1.000000\n",
              "3      0.221247  0.523657  1.000000\n",
              "4      0.223881  0.524077  1.000000\n",
              "...         ...       ...       ...\n",
              "1246   0.776422  1.000000  0.006126\n",
              "1247   0.789721  1.000000  0.004594\n",
              "1248   0.791007  1.000000  0.003063\n",
              "1249   0.791746  1.000000  0.001531\n",
              "1250   1.000000  1.000000  0.000000\n",
              "\n",
              "[1251 rows x 3 columns]"
            ],
            "text/html": [
              "\n",
              "  <div id=\"df-f244bd0a-2311-4dca-90b7-a583955fd60f\">\n",
              "    <div class=\"colab-df-container\">\n",
              "      <div>\n",
              "<style scoped>\n",
              "    .dataframe tbody tr th:only-of-type {\n",
              "        vertical-align: middle;\n",
              "    }\n",
              "\n",
              "    .dataframe tbody tr th {\n",
              "        vertical-align: top;\n",
              "    }\n",
              "\n",
              "    .dataframe thead th {\n",
              "        text-align: right;\n",
              "    }\n",
              "</style>\n",
              "<table border=\"1\" class=\"dataframe\">\n",
              "  <thead>\n",
              "    <tr style=\"text-align: right;\">\n",
              "      <th></th>\n",
              "      <th>threshold</th>\n",
              "      <th>prec</th>\n",
              "      <th>rec</th>\n",
              "    </tr>\n",
              "  </thead>\n",
              "  <tbody>\n",
              "    <tr>\n",
              "      <th>0</th>\n",
              "      <td>0.171854</td>\n",
              "      <td>0.522400</td>\n",
              "      <td>1.000000</td>\n",
              "    </tr>\n",
              "    <tr>\n",
              "      <th>1</th>\n",
              "      <td>0.194662</td>\n",
              "      <td>0.522818</td>\n",
              "      <td>1.000000</td>\n",
              "    </tr>\n",
              "    <tr>\n",
              "      <th>2</th>\n",
              "      <td>0.209045</td>\n",
              "      <td>0.523237</td>\n",
              "      <td>1.000000</td>\n",
              "    </tr>\n",
              "    <tr>\n",
              "      <th>3</th>\n",
              "      <td>0.221247</td>\n",
              "      <td>0.523657</td>\n",
              "      <td>1.000000</td>\n",
              "    </tr>\n",
              "    <tr>\n",
              "      <th>4</th>\n",
              "      <td>0.223881</td>\n",
              "      <td>0.524077</td>\n",
              "      <td>1.000000</td>\n",
              "    </tr>\n",
              "    <tr>\n",
              "      <th>...</th>\n",
              "      <td>...</td>\n",
              "      <td>...</td>\n",
              "      <td>...</td>\n",
              "    </tr>\n",
              "    <tr>\n",
              "      <th>1246</th>\n",
              "      <td>0.776422</td>\n",
              "      <td>1.000000</td>\n",
              "      <td>0.006126</td>\n",
              "    </tr>\n",
              "    <tr>\n",
              "      <th>1247</th>\n",
              "      <td>0.789721</td>\n",
              "      <td>1.000000</td>\n",
              "      <td>0.004594</td>\n",
              "    </tr>\n",
              "    <tr>\n",
              "      <th>1248</th>\n",
              "      <td>0.791007</td>\n",
              "      <td>1.000000</td>\n",
              "      <td>0.003063</td>\n",
              "    </tr>\n",
              "    <tr>\n",
              "      <th>1249</th>\n",
              "      <td>0.791746</td>\n",
              "      <td>1.000000</td>\n",
              "      <td>0.001531</td>\n",
              "    </tr>\n",
              "    <tr>\n",
              "      <th>1250</th>\n",
              "      <td>1.000000</td>\n",
              "      <td>1.000000</td>\n",
              "      <td>0.000000</td>\n",
              "    </tr>\n",
              "  </tbody>\n",
              "</table>\n",
              "<p>1251 rows × 3 columns</p>\n",
              "</div>\n",
              "      <button class=\"colab-df-convert\" onclick=\"convertToInteractive('df-f244bd0a-2311-4dca-90b7-a583955fd60f')\"\n",
              "              title=\"Convert this dataframe to an interactive table.\"\n",
              "              style=\"display:none;\">\n",
              "        \n",
              "  <svg xmlns=\"http://www.w3.org/2000/svg\" height=\"24px\"viewBox=\"0 0 24 24\"\n",
              "       width=\"24px\">\n",
              "    <path d=\"M0 0h24v24H0V0z\" fill=\"none\"/>\n",
              "    <path d=\"M18.56 5.44l.94 2.06.94-2.06 2.06-.94-2.06-.94-.94-2.06-.94 2.06-2.06.94zm-11 1L8.5 8.5l.94-2.06 2.06-.94-2.06-.94L8.5 2.5l-.94 2.06-2.06.94zm10 10l.94 2.06.94-2.06 2.06-.94-2.06-.94-.94-2.06-.94 2.06-2.06.94z\"/><path d=\"M17.41 7.96l-1.37-1.37c-.4-.4-.92-.59-1.43-.59-.52 0-1.04.2-1.43.59L10.3 9.45l-7.72 7.72c-.78.78-.78 2.05 0 2.83L4 21.41c.39.39.9.59 1.41.59.51 0 1.02-.2 1.41-.59l7.78-7.78 2.81-2.81c.8-.78.8-2.07 0-2.86zM5.41 20L4 18.59l7.72-7.72 1.47 1.35L5.41 20z\"/>\n",
              "  </svg>\n",
              "      </button>\n",
              "      \n",
              "  <style>\n",
              "    .colab-df-container {\n",
              "      display:flex;\n",
              "      flex-wrap:wrap;\n",
              "      gap: 12px;\n",
              "    }\n",
              "\n",
              "    .colab-df-convert {\n",
              "      background-color: #E8F0FE;\n",
              "      border: none;\n",
              "      border-radius: 50%;\n",
              "      cursor: pointer;\n",
              "      display: none;\n",
              "      fill: #1967D2;\n",
              "      height: 32px;\n",
              "      padding: 0 0 0 0;\n",
              "      width: 32px;\n",
              "    }\n",
              "\n",
              "    .colab-df-convert:hover {\n",
              "      background-color: #E2EBFA;\n",
              "      box-shadow: 0px 1px 2px rgba(60, 64, 67, 0.3), 0px 1px 3px 1px rgba(60, 64, 67, 0.15);\n",
              "      fill: #174EA6;\n",
              "    }\n",
              "\n",
              "    [theme=dark] .colab-df-convert {\n",
              "      background-color: #3B4455;\n",
              "      fill: #D2E3FC;\n",
              "    }\n",
              "\n",
              "    [theme=dark] .colab-df-convert:hover {\n",
              "      background-color: #434B5C;\n",
              "      box-shadow: 0px 1px 3px 1px rgba(0, 0, 0, 0.15);\n",
              "      filter: drop-shadow(0px 1px 2px rgba(0, 0, 0, 0.3));\n",
              "      fill: #FFFFFF;\n",
              "    }\n",
              "  </style>\n",
              "\n",
              "      <script>\n",
              "        const buttonEl =\n",
              "          document.querySelector('#df-f244bd0a-2311-4dca-90b7-a583955fd60f button.colab-df-convert');\n",
              "        buttonEl.style.display =\n",
              "          google.colab.kernel.accessAllowed ? 'block' : 'none';\n",
              "\n",
              "        async function convertToInteractive(key) {\n",
              "          const element = document.querySelector('#df-f244bd0a-2311-4dca-90b7-a583955fd60f');\n",
              "          const dataTable =\n",
              "            await google.colab.kernel.invokeFunction('convertToInteractive',\n",
              "                                                     [key], {});\n",
              "          if (!dataTable) return;\n",
              "\n",
              "          const docLinkHtml = 'Like what you see? Visit the ' +\n",
              "            '<a target=\"_blank\" href=https://colab.research.google.com/notebooks/data_table.ipynb>data table notebook</a>'\n",
              "            + ' to learn more about interactive tables.';\n",
              "          element.innerHTML = '';\n",
              "          dataTable['output_type'] = 'display_data';\n",
              "          await google.colab.output.renderOutput(dataTable, element);\n",
              "          const docLink = document.createElement('div');\n",
              "          docLink.innerHTML = docLinkHtml;\n",
              "          element.appendChild(docLink);\n",
              "        }\n",
              "      </script>\n",
              "    </div>\n",
              "  </div>\n",
              "  "
            ]
          },
          "metadata": {},
          "execution_count": 23
        }
      ]
    },
    {
      "cell_type": "code",
      "source": [
        "def harm_mean(a,b): #harm_mean: harmonikus közép\n",
        "  return 2 * a * b / (a + b)"
      ],
      "metadata": {
        "id": "VUg4sskUq8L9"
      },
      "execution_count": null,
      "outputs": []
    },
    {
      "cell_type": "code",
      "source": [
        "f1s = []\n",
        "for p,r in zip(precs, recs):\n",
        "  f1s.append( harm_mean(p,r) )"
      ],
      "metadata": {
        "id": "S4Qg3txJyRQW"
      },
      "execution_count": null,
      "outputs": []
    },
    {
      "cell_type": "markdown",
      "source": [
        "\n",
        "\n",
        "```\n",
        "f1s = list(map(lambda t: harm_mean(*t), zip(precs,recs)))\n",
        "```\n",
        "\n"
      ],
      "metadata": {
        "id": "nY9oNl_AycdQ"
      }
    },
    {
      "cell_type": "code",
      "source": [
        "max_idxs = np.argmax(f1s)\n",
        "thresholds[max_idxs]"
      ],
      "metadata": {
        "id": "wVcjV_rtrc8o",
        "colab": {
          "base_uri": "https://localhost:8080/"
        },
        "outputId": "3aeea5c5-33e8-4eed-d093-da3ede56d148"
      },
      "execution_count": null,
      "outputs": [
        {
          "output_type": "execute_result",
          "data": {
            "text/plain": [
              "0.5001156441724672"
            ]
          },
          "metadata": {},
          "execution_count": 31
        }
      ]
    },
    {
      "cell_type": "code",
      "source": [
        "plt.plot(thresholds, precs, label=\"prec\")\n",
        "plt.plot(thresholds, recs, label=\"rec\")\n",
        "plt.plot(thresholds, f1s, label=\"f1\")\n",
        "\n",
        "plt.axvline(thresholds[max_idxs], color=\"black\", linestyle=\"--\", label=\"max F1\")\n",
        "\n",
        "plt.legend()\n",
        "plt.show()"
      ],
      "metadata": {
        "id": "_acZPp0uqI2m",
        "colab": {
          "base_uri": "https://localhost:8080/",
          "height": 430
        },
        "outputId": "df94486c-ee47-4396-a152-411487398613"
      },
      "execution_count": null,
      "outputs": [
        {
          "output_type": "display_data",
          "data": {
            "text/plain": [
              "<Figure size 640x480 with 1 Axes>"
            ],
            "image/png": "[encoded data removed]"
          },
          "metadata": {}
        }
      ]
    },
    {
      "cell_type": "code",
      "source": [
        "plot_args = {\"alpha\": 0.5, \"bins\": 25, \"density\": False}\n",
        "\n",
        "plt.hist(probas[y_test==0], label=\"N\", color=\"r\", **plot_args)\n",
        "plt.hist(probas[y_test==1], label=\"P\", color=\"g\", **plot_args)\n",
        "plt.axvline(thresholds[max_idxs], color=\"black\", linestyle=\"--\", label=\"max F1\")\n",
        "\n",
        "plt.title(\"Prediction distribution\")\n",
        "plt.legend()\n",
        "plt.show()"
      ],
      "metadata": {
        "id": "E9j26Kk1zDh-",
        "colab": {
          "base_uri": "https://localhost:8080/",
          "height": 452
        },
        "outputId": "d580b88c-f3aa-4e4b-8f1d-ebcf5d42ca77"
      },
      "execution_count": null,
      "outputs": [
        {
          "output_type": "display_data",
          "data": {
            "text/plain": [
              "<Figure size 640x480 with 1 Axes>"
            ],
            "image/png": "[encoded data removed]"
          },
          "metadata": {}
        }
      ]
    },
    {
      "cell_type": "markdown",
      "source": [
        "# Gyakorlás\n",
        "\n",
        "[XKCD, 1739](https://www.explainxkcd.com/wiki/index.php/1739:_Fixing_Problems): Fixing problems\n",
        "\n",
        "## Metrikák\n",
        "\n",
        "1. Hogyan változik a precision és a recall, ahogy a thresholdot 0-ról 1-re növeljük? Hova tennéd a thresholdot, ha a pozitív osztály félreklasszifikálása (FN) lenne a nagyobb baj (pl rákos betegek diagnosztizálása)?\n",
        "1. Mekkora a precision és a recall, ha a threshold a két szélsőértékkel egyezik meg (azaz 0 vagy 1)? Hogyan függ ez össze a predikciók minimumával és maximumával? Milyen threshold értéktől kezdve nem változik ez a két mérőszám?\n",
        "1. A fenti szélsőértékek esetén mennyi az F1 score értéke?\n",
        "\n",
        "_Tökéletes modellnek_ nevezzük azt a klasszifikálót, amelyikre $f(x)=y(x)$ minden $x\\in X$-re, azaz a modell kimenete _teljesen_ megegyezik a célváltozóéval.\n",
        "1. Mennyi egy tökéletes modell precision és recall értéke? Mennyi az F1-score?\n",
        "1. Mennyi egy tökéletes modell ROC-AUC-je?\n",
        "\n",
        "Nevezzük _teljesen szeparáló modellenek_ (nem hivatalos elnevezés) azon modelleket, amelykre létezik olyan threshold, amelyikre nézve a modell _tökéletes_. Ez pontosan akkor teljesül, ha\n",
        "$$\\max\\{f(x) | x\\in N\\} < \\min\\{ f(x) | x\\in P\\}. $$\n",
        "Praktikusan ez azt jelenti, hogy a negatív osztály predikciói kisebbek a pozitív osztályra adott predikciókénál (a hisztogramon a két hupli elkülönül, szeparálható).\n",
        "1. Mennyi egy teljesen szeparáló modell maximális F1-scoreja? Mennyi azon threshold mellett a precision és recall?\n",
        "1. Eléri-e egy ilyen modell AUC-je az 1.0-et? Hogy néz majd ki nagyjából a ROC-görbe? Mit mondasz, az AUC ez alapján mit mér?\n",
        "\n",
        "\n",
        "\n",
        "## Random Forrest\n",
        "\n",
        "1. Illessz (hiperparaméter optimalizálás nélkül) egy [random forest modellt](https://scikit-learn.org/stable/modules/generated/sklearn.ensemble.RandomForestClassifier.html#sklearn.ensemble.RandomForestClassifier) az `X_modeling`-re, és értékeld ki az `X_test`-en ROC-AUC score-ral. Nézd meg, mi történik, ha a `verbose` értékét 1-re rakod! Melyik modell teljesítménye jobb: a (fent) hiperparaméter optimalizált, vagy a default értékekkel történt tanításé?\n",
        "1. A [RandomSearchCV](https://scikit-learn.org/stable/modules/generated/sklearn.model_selection.RandomizedSearchCV.html#sklearn.model_selection.RandomizedSearchCV)-t egészítsd ki a RandomForest lenti paramétereivel! Teljesítménymérésre használj 5-rétegű keresztvalidálást! Ennek beállítása egyszerű: `cv = [(train_idxs, validation_idxs)]` helyett `cv = 5`-at írj!  Paraméterek:\n",
        "  * `min_impurity_decrease`: a lehetséges értékeket a [0.001,1.0] intervallumból sorsold ki! Milyen eloszlást használsz?\n",
        "  * keresd ki, hogy melyik paraméter kontrollálja, hogy a fák az egyes vágások során a feature-ök hányadrészét látják, és a lehetséges értékeket tedd bele az optimalizálásba!\n",
        "\n",
        "3. Illessz [GridSearchCV](https://scikit-learn.org/stable/modules/generated/sklearn.model_selection.GridSearchCV.html#sklearn.model_selection.GridSearchCV)-t a fenti modellre! Az értékek megadása a következőképp történhet (eloszlás helyett lista):\n",
        "```\n",
        "model = RandomForestClassifier(\n",
        "    #inicializálás ...\n",
        ")\n",
        "params = {\n",
        "    \"criterion\": [\"gini\", \"log_loss\"],\n",
        "    \"max_depth\": [3,4,5,6],\n",
        "    \"min_samples_split\": [0.01,0.1,1.0],\n",
        "    \"max_samples\": [0.1,0.5,1.0],\n",
        "    # saját hiperparaméter-listák ...\n",
        "}\n",
        "finder = RandomizedSearchCV(\n",
        "    estimator = model,\n",
        "    param_grid = params,\n",
        "    scoring=\"roc_auc\",\n",
        "    cv = [(train_idxs, validation_idxs)],\n",
        "    random_state=42,\n",
        "    verbose=3\n",
        ")\n",
        "```\n",
        "Hány paraméter kombinációt próbál majd ki a `finder` a `fit` parancs során? Hányat próbálna ki, ha 3-rétegű keresztvalidálást használnál? Milyen beállítási lehetőségeid vannak még? Nézz rá az API-ra és tanítsd be a modellt!\n",
        "\n",
        "\n",
        "\n",
        "## Otthoni gyakorlás\n",
        "\n",
        "Ha szeretnél még gyakorolni,\n",
        "* válassz egy feladatot: klasszfikáció vagy regresszió,\n",
        "* végy egy tetszőleges adathalmazt: `titanic.csv`, de a `sklearn.datasets` modul is a segítségedre lehet,\n",
        "* válassz egy modellt a scikit-learn API-jából (figyelj, hogy a feladatnak megfelelő legyen),\n",
        "* ha szükséges, ez alapján végezz adatelőfeldolgozást,\n",
        "* válassz egy hiperparaméter optimalizálót, keresztvalidálást\n",
        "* és taníts be egy modellt,\n",
        "* végül az eredményeket írd ki!\n",
        "\n",
        "\n",
        "Ha bármikor elakadsz: Tech Support Cheat Sheet ([XKCD, 627](https://xkcd.com/627/))\n",
        "\n"
      ],
      "metadata": {
        "id": "IAclw6SxZ0-m"
      }
    },
    {
      "cell_type": "code",
      "source": [],
      "metadata": {
        "id": "EFMop7rSb17T"
      },
      "execution_count": null,
      "outputs": []
    },
    {
      "cell_type": "code",
      "source": [],
      "metadata": {
        "id": "7ssF4vS6b11P"
      },
      "execution_count": null,
      "outputs": []
    },
    {
      "cell_type": "markdown",
      "source": [
        "# Összefoglalás\n",
        "\n",
        "Mikor gyakoroltál eleget?\n",
        "* ha érted a különbséget a random és grid search között, és tudod használni a hozzájuk tartozó scikit-learn API-t;\n",
        "* ha magabiztosan ki tudsz értékelni egy modellt a predikciója alapján;\n",
        "* és ha érted a threshold választás lényegét."
      ],
      "metadata": {
        "id": "vQnoOTZM4Vwf"
      }
    },
    {
      "cell_type": "markdown",
      "source": [
        "# Házi feladat\n",
        "\n",
        "Beküldési határidő:\n",
        "\n",
        "- Első változat: április 13. 23:59:59\n",
        "- Utolsó változat: április 20. 23:59:59\n",
        "\n",
        "Beküldési útmutató:\n",
        "\n",
        "- Mikor végeztél, mindig futtasd le az újra a kódod, hogy biztos nem maradt-e benne hiba (olyan kódot, ami nem fut le, sajnos nem tudunk elfogadni). Ezt a következőképp teheted meg:\n",
        "1. Runtime / Restart and run all: újraindítja a sessiont, ha nincs bug a kódban, rendben lefut a végéig.\n",
        "2. A kimenetekkel együtt töltsd le a notebookot `.ipynb` formátumban a gépedre.\n",
        "3. A keletkezett `.ipnyb` fájlt töltsd fel a Teams megfelelő feladatához!"
      ],
      "metadata": {
        "id": "Bg65OOr-N7zC"
      }
    },
    {
      "cell_type": "markdown",
      "source": [
        "## Feladat\n",
        "\n",
        "**Hiperparaméter keresés és threshold választás**\n",
        "\n",
        "A házi feladat során **neurális hálóval** fogunk bináris klasszfikációt végezni. Vedd az órán is szereplő adathalmazt és keresztvalidációt:\n",
        "```\n",
        "X,y = make_classification(\n",
        "    n_samples = 5000,\n",
        "    n_features = 100,\n",
        "    n_informative = 95,\n",
        "    n_classes = 2\n",
        ")\n",
        "\n",
        "X = pd.DataFrame(X)\n",
        "X_modeling, X_test, y_modeling, y_test = train_test_split(X,y, test_size=0.25, random_state=42)\n",
        "\n",
        "X_modeling = X_modeling.reset_index(drop=True)\n",
        "train_idxs, validation_idxs = train_test_split(X_modeling.index, test_size=0.33, random_state=42)\n",
        "```\n",
        "\n",
        "Inicializáld az [MLPClassifiert](https://scikit-learn.org/stable/modules/generated/sklearn.neural_network.MLPClassifier.html#sklearn.neural_network.MLPClassifier) az alábbi módon:\n",
        "* legfeljebb 100 iteráción keresztül frissítse a súlyokat,\n",
        "* de legyen bekapcsolva az early_stopping (leállítja az adott tanulást, ha a validációs halmazon nem javul a teljesítmény valahány iteráción keresztül).\n",
        "\n",
        "```\n",
        "model = MLPClassifier(\n",
        "    max_iter = ...,\n",
        "    early_stopping = ...,\n",
        "    verbose = ...\n",
        ")\n",
        "```\n",
        "\n",
        "Végül végezz RandomSearch hiperparaméter optimalizálást az alábbi módon:\n",
        "* keresztvalidálásnak a `train_idxs, validation_idxs`-eket használd (holdout módszer),\n",
        "* a validációs halmazt ROC-AUC score-ral értékeld ki,\n",
        "* és legalább 10 hiperparaméter-kombinációt próbálj ki.\n",
        "\n",
        "```\n",
        "finder = RandomizedSearchCV(\n",
        "    ...\n",
        ")\n",
        "```\n",
        "\n",
        "A hiperparaméter-térbe mindenképp kerüljenek be a következő paraméterek (a lehetséges értékeket nézd ki az API-ból):\n",
        "* `learning_rate_init`:  learning rate értéke (figyelj az eloszlásra!),\n",
        "* `solver`: súly optimalizáló függvény,\n",
        "* `activation`: aktivációs réteg,\n",
        "* `hidden_layer_sizes`: a háló szerkezetét az alábbi módon adhatod meg: ha `hidden_layer_sizes = (5,10,5)`, akkor _3 belső_ (rejtett) réteged lesz, amelyeknek dimenzói 5, 10 és 5. Próbálj ki legalább 3 hálószerkezetet!\n",
        "* és még _legalább 1 szabadon választott_ hiperparaméter!\n",
        "\n",
        "```\n",
        "params = {\n",
        "    \"hidden_layer_sizes\": # saját\n",
        "    \"learning_rate_init\": # saját\n",
        "    \"solver\": ...\n",
        "    ...\n",
        "}\n",
        "```\n",
        "\n",
        "\n",
        "Értékeld ki a tanítást a teszt halmazon:\n",
        "* nézd meg a teszt AUC-t,\n",
        "* és válaszd ki a thresholdot a maximális F1-score alapján!\n",
        "\n",
        "Az eredményeid akár vizualizálhatod is.\n"
      ],
      "metadata": {
        "id": "MIL-FV66XJcF"
      }
    },
    {
      "cell_type": "code",
      "source": [
        "from sklearn.neural_network import MLPClassifier\n",
        "\n",
        "X,y = make_classification(\n",
        "    n_samples = 5000,\n",
        "    n_features = 100,\n",
        "    n_informative = 95,\n",
        "    n_classes = 2\n",
        ")\n",
        "\n",
        "X = pd.DataFrame(X)\n",
        "X_modeling, X_test, y_modeling, y_test = train_test_split(X,y, test_size=0.25, random_state=42)\n",
        "\n",
        "X_modeling = X_modeling.reset_index(drop=True)\n",
        "train_idxs, validation_idxs = train_test_split(X_modeling.index, test_size=0.33, random_state=42)"
      ],
      "metadata": {
        "id": "znJMMrlLSBL0"
      },
      "execution_count": null,
      "outputs": []
    },
    {
      "cell_type": "code",
      "source": [
        "model = MLPClassifier(\n",
        "    max_iter = 100,\n",
        "    early_stopping = True,\n",
        "    n_iter_no_change = 10, # Ha 10 iteráció után sincs javulás a validációs halmazon, akkor leáll\n",
        "    verbose = 0\n",
        ")"
      ],
      "metadata": {
        "id": "-cDNVtlGQoiL"
      },
      "execution_count": null,
      "outputs": []
    },
    {
      "cell_type": "code",
      "source": [
        "dist = loguniform(0.001,1.0) # Ahogy órán néztük, hogy nem egyenletes, hanem log-egyenletes eloszlást kell venni\n",
        "sample = dist.rvs(1000)\n",
        "\n",
        "params = {\n",
        "    \"hidden_layer_sizes\": [(5, 10, 5), (3, 5, 7), (10, 15, 20)], # Az egyik a feladatban szereplő hálószerkezet volt, a többit csak véletlenszerűen mondtam meg\n",
        "    \"learning_rate_init\": sample,\n",
        "    \"solver\": ['sgd', 'lbfgs', 'adam'], # Ezek a lehetséges solverek, próbálja ki mindet, és győzzön a legjobb\n",
        "    \"activation\": ['logistic', 'tanh', 'relu', 'identity'], # Hasonlóan itt is\n",
        "    \"alpha\": [0.001, 0.01, 0.1] # Ez lesz a szabadon választott hiperparaméter, és az értékeit most így állítottam be\n",
        "}"
      ],
      "metadata": {
        "id": "prmNjMV-eP0u"
      },
      "execution_count": null,
      "outputs": []
    },
    {
      "cell_type": "code",
      "source": [
        "finder = RandomizedSearchCV(\n",
        "    estimator = model,\n",
        "    param_distributions = params,\n",
        "    n_iter = 10,\n",
        "    scoring=\"roc_auc\",\n",
        "    cv = [(train_idxs, validation_idxs)],\n",
        "    random_state=42,\n",
        "    verbose=0\n",
        ")\n",
        "\n",
        "finder.fit(X_modeling, y_modeling)"
      ],
      "metadata": {
        "colab": {
          "base_uri": "https://localhost:8080/",
          "height": 534
        },
        "id": "SKMLRzV403q6",
        "outputId": "1542fab6-1a01-4f9b-d26b-81bd678ce2a9"
      },
      "execution_count": null,
      "outputs": [
        {
          "output_type": "stream",
          "name": "stderr",
          "text": [
            "/usr/local/lib/python3.9/dist-packages/sklearn/neural_network/_multilayer_perceptron.py:541: ConvergenceWarning: lbfgs failed to converge (status=1):\n",
            "STOP: TOTAL NO. of ITERATIONS REACHED LIMIT.\n",
            "\n",
            "Increase the number of iterations (max_iter) or scale the data as shown in:\n",
            "    https://scikit-learn.org/stable/modules/preprocessing.html\n",
            "  self.n_iter_ = _check_optimize_result(\"lbfgs\", opt_res, self.max_iter)\n",
            "/usr/local/lib/python3.9/dist-packages/sklearn/neural_network/_multilayer_perceptron.py:541: ConvergenceWarning: lbfgs failed to converge (status=1):\n",
            "STOP: TOTAL NO. of ITERATIONS REACHED LIMIT.\n",
            "\n",
            "Increase the number of iterations (max_iter) or scale the data as shown in:\n",
            "    https://scikit-learn.org/stable/modules/preprocessing.html\n",
            "  self.n_iter_ = _check_optimize_result(\"lbfgs\", opt_res, self.max_iter)\n",
            "/usr/local/lib/python3.9/dist-packages/sklearn/neural_network/_multilayer_perceptron.py:541: ConvergenceWarning: lbfgs failed to converge (status=1):\n",
            "STOP: TOTAL NO. of ITERATIONS REACHED LIMIT.\n",
            "\n",
            "Increase the number of iterations (max_iter) or scale the data as shown in:\n",
            "    https://scikit-learn.org/stable/modules/preprocessing.html\n",
            "  self.n_iter_ = _check_optimize_result(\"lbfgs\", opt_res, self.max_iter)\n",
            "/usr/local/lib/python3.9/dist-packages/sklearn/neural_network/_multilayer_perceptron.py:541: ConvergenceWarning: lbfgs failed to converge (status=1):\n",
            "STOP: TOTAL NO. of ITERATIONS REACHED LIMIT.\n",
            "\n",
            "Increase the number of iterations (max_iter) or scale the data as shown in:\n",
            "    https://scikit-learn.org/stable/modules/preprocessing.html\n",
            "  self.n_iter_ = _check_optimize_result(\"lbfgs\", opt_res, self.max_iter)\n"
          ]
        },
        {
          "output_type": "execute_result",
          "data": {
            "text/plain": [
              "RandomizedSearchCV(cv=[(Int64Index([ 994,  464, 3263, 2722, 3010, 2442, 1236, 3492, 3550,  212,\n",
              "            ...\n",
              "             466, 2169, 1638, 3092, 1095, 1130, 1294,  860, 3507, 3174],\n",
              "           dtype='int64', length=2512),\n",
              "                        Int64Index([2148, 1044, 3318,  439, 3515, 1849,   93, 1281, 3577, 1272,\n",
              "            ...\n",
              "            2860, 2474, 1258, 2984, 2273, 1702, 3657, 2015, 2715, 3150],\n",
              "           dtype='int64', length=1238))],\n",
              "                   estimator=MLPClassifier(early_stopping=True, ma...\n",
              "       0.03873634, 0.08669337, 0.00135505, 0.06295368, 0.25762227,\n",
              "       0.00214918, 0.04232948, 0.55421114, 0.05987395, 0.00395897,\n",
              "       0.10342258, 0.16177121, 0.73186832, 0.69412571, 0.03143593,\n",
              "       0.0618035 , 0.00243696, 0.00170492, 0.01528745, 0.19818859,\n",
              "       0.00152715, 0.12813685, 0.00127264, 0.00903053, 0.46112452,\n",
              "       0.01472779, 0.01131796, 0.00561483, 0.03850656, 0.00885521]),\n",
              "                                        'solver': ['sgd', 'lbfgs', 'adam']},\n",
              "                   random_state=42, scoring='roc_auc')"
            ],
            "text/html": [
              "<style>#sk-container-id-6 {color: black;background-color: white;}#sk-container-id-6 pre{padding: 0;}#sk-container-id-6 div.sk-toggleable {background-color: white;}#sk-container-id-6 label.sk-toggleable__label {cursor: pointer;display: block;width: 100%;margin-bottom: 0;padding: 0.3em;box-sizing: border-box;text-align: center;}#sk-container-id-6 label.sk-toggleable__label-arrow:before {content: \"▸\";float: left;margin-right: 0.25em;color: #696969;}#sk-container-id-6 label.sk-toggleable__label-arrow:hover:before {color: black;}#sk-container-id-6 div.sk-estimator:hover label.sk-toggleable__label-arrow:before {color: black;}#sk-container-id-6 div.sk-toggleable__content {max-height: 0;max-width: 0;overflow: hidden;text-align: left;background-color: #f0f8ff;}#sk-container-id-6 div.sk-toggleable__content pre {margin: 0.2em;color: black;border-radius: 0.25em;background-color: #f0f8ff;}#sk-container-id-6 input.sk-toggleable__control:checked~div.sk-toggleable__content {max-height: 200px;max-width: 100%;overflow: auto;}#sk-container-id-6 input.sk-toggleable__control:checked~label.sk-toggleable__label-arrow:before {content: \"▾\";}#sk-container-id-6 div.sk-estimator input.sk-toggleable__control:checked~label.sk-toggleable__label {background-color: #d4ebff;}#sk-container-id-6 div.sk-label input.sk-toggleable__control:checked~label.sk-toggleable__label {background-color: #d4ebff;}#sk-container-id-6 input.sk-hidden--visually {border: 0;clip: rect(1px 1px 1px 1px);clip: rect(1px, 1px, 1px, 1px);height: 1px;margin: -1px;overflow: hidden;padding: 0;position: absolute;width: 1px;}#sk-container-id-6 div.sk-estimator {font-family: monospace;background-color: #f0f8ff;border: 1px dotted black;border-radius: 0.25em;box-sizing: border-box;margin-bottom: 0.5em;}#sk-container-id-6 div.sk-estimator:hover {background-color: #d4ebff;}#sk-container-id-6 div.sk-parallel-item::after {content: \"\";width: 100%;border-bottom: 1px solid gray;flex-grow: 1;}#sk-container-id-6 div.sk-label:hover label.sk-toggleable__label {background-color: #d4ebff;}#sk-container-id-6 div.sk-serial::before {content: \"\";position: absolute;border-left: 1px solid gray;box-sizing: border-box;top: 0;bottom: 0;left: 50%;z-index: 0;}#sk-container-id-6 div.sk-serial {display: flex;flex-direction: column;align-items: center;background-color: white;padding-right: 0.2em;padding-left: 0.2em;position: relative;}#sk-container-id-6 div.sk-item {position: relative;z-index: 1;}#sk-container-id-6 div.sk-parallel {display: flex;align-items: stretch;justify-content: center;background-color: white;position: relative;}#sk-container-id-6 div.sk-item::before, #sk-container-id-6 div.sk-parallel-item::before {content: \"\";position: absolute;border-left: 1px solid gray;box-sizing: border-box;top: 0;bottom: 0;left: 50%;z-index: -1;}#sk-container-id-6 div.sk-parallel-item {display: flex;flex-direction: column;z-index: 1;position: relative;background-color: white;}#sk-container-id-6 div.sk-parallel-item:first-child::after {align-self: flex-end;width: 50%;}#sk-container-id-6 div.sk-parallel-item:last-child::after {align-self: flex-start;width: 50%;}#sk-container-id-6 div.sk-parallel-item:only-child::after {width: 0;}#sk-container-id-6 div.sk-dashed-wrapped {border: 1px dashed gray;margin: 0 0.4em 0.5em 0.4em;box-sizing: border-box;padding-bottom: 0.4em;background-color: white;}#sk-container-id-6 div.sk-label label {font-family: monospace;font-weight: bold;display: inline-block;line-height: 1.2em;}#sk-container-id-6 div.sk-label-container {text-align: center;}#sk-container-id-6 div.sk-container {/* jupyter's `normalize.less` sets `[hidden] { display: none; }` but bootstrap.min.css set `[hidden] { display: none !important; }` so we also need the `!important` here to be able to override the default hidden behavior on the sphinx rendered scikit-learn.org. See: https://github.com/scikit-learn/scikit-learn/issues/21755 */display: inline-block !important;position: relative;}#sk-container-id-6 div.sk-text-repr-fallback {display: none;}</style><div id=\"sk-container-id-6\" class=\"sk-top-container\"><div class=\"sk-text-repr-fallback\"><pre>RandomizedSearchCV(cv=[(Int64Index([ 994,  464, 3263, 2722, 3010, 2442, 1236, 3492, 3550,  212,\n",
              "            ...\n",
              "             466, 2169, 1638, 3092, 1095, 1130, 1294,  860, 3507, 3174],\n",
              "           dtype=&#x27;int64&#x27;, length=2512),\n",
              "                        Int64Index([2148, 1044, 3318,  439, 3515, 1849,   93, 1281, 3577, 1272,\n",
              "            ...\n",
              "            2860, 2474, 1258, 2984, 2273, 1702, 3657, 2015, 2715, 3150],\n",
              "           dtype=&#x27;int64&#x27;, length=1238))],\n",
              "                   estimator=MLPClassifier(early_stopping=True, ma...\n",
              "       0.03873634, 0.08669337, 0.00135505, 0.06295368, 0.25762227,\n",
              "       0.00214918, 0.04232948, 0.55421114, 0.05987395, 0.00395897,\n",
              "       0.10342258, 0.16177121, 0.73186832, 0.69412571, 0.03143593,\n",
              "       0.0618035 , 0.00243696, 0.00170492, 0.01528745, 0.19818859,\n",
              "       0.00152715, 0.12813685, 0.00127264, 0.00903053, 0.46112452,\n",
              "       0.01472779, 0.01131796, 0.00561483, 0.03850656, 0.00885521]),\n",
              "                                        &#x27;solver&#x27;: [&#x27;sgd&#x27;, &#x27;lbfgs&#x27;, &#x27;adam&#x27;]},\n",
              "                   random_state=42, scoring=&#x27;roc_auc&#x27;)</pre><b>In a Jupyter environment, please rerun this cell to show the HTML representation or trust the notebook. <br />On GitHub, the HTML representation is unable to render, please try loading this page with nbviewer.org.</b></div><div class=\"sk-container\" hidden><div class=\"sk-item sk-dashed-wrapped\"><div class=\"sk-label-container\"><div class=\"sk-label sk-toggleable\"><input class=\"sk-toggleable__control sk-hidden--visually\" id=\"sk-estimator-id-16\" type=\"checkbox\" ><label for=\"sk-estimator-id-16\" class=\"sk-toggleable__label sk-toggleable__label-arrow\">RandomizedSearchCV</label><div class=\"sk-toggleable__content\"><pre>RandomizedSearchCV(cv=[(Int64Index([ 994,  464, 3263, 2722, 3010, 2442, 1236, 3492, 3550,  212,\n",
              "            ...\n",
              "             466, 2169, 1638, 3092, 1095, 1130, 1294,  860, 3507, 3174],\n",
              "           dtype=&#x27;int64&#x27;, length=2512),\n",
              "                        Int64Index([2148, 1044, 3318,  439, 3515, 1849,   93, 1281, 3577, 1272,\n",
              "            ...\n",
              "            2860, 2474, 1258, 2984, 2273, 1702, 3657, 2015, 2715, 3150],\n",
              "           dtype=&#x27;int64&#x27;, length=1238))],\n",
              "                   estimator=MLPClassifier(early_stopping=True, ma...\n",
              "       0.03873634, 0.08669337, 0.00135505, 0.06295368, 0.25762227,\n",
              "       0.00214918, 0.04232948, 0.55421114, 0.05987395, 0.00395897,\n",
              "       0.10342258, 0.16177121, 0.73186832, 0.69412571, 0.03143593,\n",
              "       0.0618035 , 0.00243696, 0.00170492, 0.01528745, 0.19818859,\n",
              "       0.00152715, 0.12813685, 0.00127264, 0.00903053, 0.46112452,\n",
              "       0.01472779, 0.01131796, 0.00561483, 0.03850656, 0.00885521]),\n",
              "                                        &#x27;solver&#x27;: [&#x27;sgd&#x27;, &#x27;lbfgs&#x27;, &#x27;adam&#x27;]},\n",
              "                   random_state=42, scoring=&#x27;roc_auc&#x27;)</pre></div></div></div><div class=\"sk-parallel\"><div class=\"sk-parallel-item\"><div class=\"sk-item\"><div class=\"sk-label-container\"><div class=\"sk-label sk-toggleable\"><input class=\"sk-toggleable__control sk-hidden--visually\" id=\"sk-estimator-id-17\" type=\"checkbox\" ><label for=\"sk-estimator-id-17\" class=\"sk-toggleable__label sk-toggleable__label-arrow\">estimator: MLPClassifier</label><div class=\"sk-toggleable__content\"><pre>MLPClassifier(early_stopping=True, max_iter=100, verbose=0)</pre></div></div></div><div class=\"sk-serial\"><div class=\"sk-item\"><div class=\"sk-estimator sk-toggleable\"><input class=\"sk-toggleable__control sk-hidden--visually\" id=\"sk-estimator-id-18\" type=\"checkbox\" ><label for=\"sk-estimator-id-18\" class=\"sk-toggleable__label sk-toggleable__label-arrow\">MLPClassifier</label><div class=\"sk-toggleable__content\"><pre>MLPClassifier(early_stopping=True, max_iter=100, verbose=0)</pre></div></div></div></div></div></div></div></div></div></div>"
            ]
          },
          "metadata": {},
          "execution_count": 43
        }
      ]
    },
    {
      "cell_type": "code",
      "source": [
        "# A modell kiértékelése, az órán látottak mintájára\n",
        "\n",
        "best_model = finder.best_estimator_\n",
        "print(f\"Best params:\\t\\t\\t{finder.best_params_}\",\n",
        "      f\"Best score (validation):\\t{finder.best_score_:.4f} AUC\",\n",
        "      sep='\\n')\n",
        "\n",
        "probas = best_model.predict_proba(X_test)[:,1]\n",
        "print(f\"ROC-AUC score (test):\\t\\t{roc_auc_score(y_test, probas):.4f} AUC\")"
      ],
      "metadata": {
        "colab": {
          "base_uri": "https://localhost:8080/"
        },
        "id": "nGgQmA6W2mFb",
        "outputId": "a4b4e84a-9287-43bf-9998-8fab48075bd3"
      },
      "execution_count": null,
      "outputs": [
        {
          "output_type": "stream",
          "name": "stdout",
          "text": [
            "Best params:\t\t\t{'solver': 'lbfgs', 'learning_rate_init': 0.0017836536855058887, 'hidden_layer_sizes': (5, 10, 5), 'alpha': 0.001, 'activation': 'relu'}\n",
            "Best score (validation):\t0.9144 AUC\n",
            "ROC-AUC score (test):\t\t0.9394 AUC\n"
          ]
        }
      ]
    },
    {
      "cell_type": "code",
      "source": [
        "# Eredmények vizualizálása\n",
        "\n",
        "probas = best_model.predict_proba(X_test)[:,1]\n",
        "precs, recs, thresholds = precision_recall_curve(y_test, probas)\n",
        "\n",
        "thresholds = list(thresholds) + [1.0]\n",
        "\n",
        "pd.DataFrame().from_dict({\n",
        "    \"threshold\": thresholds,\n",
        "    \"prec\": precs,\n",
        "    \"rec\": recs\n",
        "}).sort_values(by=\"threshold\")\n",
        "\n",
        "f1s = []\n",
        "for p,r in zip(precs, recs):\n",
        "  f1s.append( harm_mean(p,r) )\n",
        "\n",
        "max_idxs = np.argmax(f1s)\n",
        "\n",
        "plt.plot(thresholds, precs, label=\"prec\")\n",
        "plt.plot(thresholds, recs, label=\"rec\")\n",
        "plt.plot(thresholds, f1s, label=\"f1\")\n",
        "\n",
        "plt.axvline(thresholds[max_idxs], color=\"black\", linestyle=\"--\", label=\"max F1\")\n",
        "\n",
        "plt.legend()\n",
        "plt.show()\n"
      ],
      "metadata": {
        "colab": {
          "base_uri": "https://localhost:8080/",
          "height": 430
        },
        "id": "KT3wJ-Jv4Kvy",
        "outputId": "5b1895ca-b627-4bed-cf24-61b8d7570ac1"
      },
      "execution_count": null,
      "outputs": [
        {
          "output_type": "display_data",
          "data": {
            "text/plain": [
              "<Figure size 640x480 with 1 Axes>"
            ],
            "image/png": "[encoded data removed]"
          },
          "metadata": {}
        }
      ]
    },
    {
      "cell_type": "code",
      "source": [
        "# ROC görbe ábrázolása az óraiak mintájára\n",
        "\n",
        "auc = roc_auc_score(y_test, probas)\n",
        "\n",
        "fpr, tpr, thresholds = roc_curve(y_test, probas)\n",
        "\n",
        "display = RocCurveDisplay(fpr=fpr, tpr=tpr, roc_auc=auc,\n",
        "                          estimator_name='MLPClassifier')\n",
        "display.plot()\n",
        "plt.show()\n"
      ],
      "metadata": {
        "colab": {
          "base_uri": "https://localhost:8080/",
          "height": 449
        },
        "id": "dqOB3MpI4t0U",
        "outputId": "d2c1390b-70d6-4ab7-8ee0-eab8f737a0bd"
      },
      "execution_count": null,
      "outputs": [
        {
          "output_type": "display_data",
          "data": {
            "text/plain": [
              "<Figure size 640x480 with 1 Axes>"
            ],
            "image/png": "[encoded data removed]"
          },
          "metadata": {}
        }
      ]
    }
  ],
  "metadata": {
    "colab": {
      "provenance": [],
      "collapsed_sections": [
        "5nZhKcvPAXIr"
      ]
    },
    "kernelspec": {
      "display_name": "Python 3 (ipykernel)",
      "language": "python",
      "name": "python3"
    },
    "language_info": {
      "codemirror_mode": {
        "name": "ipython",
        "version": 3
      },
      "file_extension": ".py",
      "mimetype": "text/x-python",
      "name": "python",
      "nbconvert_exporter": "python",
      "pygments_lexer": "ipython3",
      "version": "3.9.7"
    }
  },
  "nbformat": 4,
  "nbformat_minor": 0
}